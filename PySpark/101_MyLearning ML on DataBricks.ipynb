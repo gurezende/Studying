{
 "cells": [
  {
   "cell_type": "markdown",
   "metadata": {
    "application/vnd.databricks.v1+cell": {
     "cellMetadata": {},
     "inputWidgets": {},
     "nuid": "5fc06a2c-9240-492c-be48-cc38ed64209d",
     "showTitle": false,
     "title": ""
    }
   },
   "source": [
    "# Creating a ML Model with Apache MLlib"
   ]
  },
  {
   "cell_type": "code",
   "execution_count": null,
   "metadata": {
    "application/vnd.databricks.v1+cell": {
     "cellMetadata": {
      "byteLimit": 2048000,
      "rowLimit": 10000
     },
     "inputWidgets": {},
     "nuid": "57e62cd1-7143-4698-85f7-ac37157b41fa",
     "showTitle": true,
     "title": "Imports"
    },
    "pycharm": {
     "is_executing": true
    }
   },
   "outputs": [],
   "source": [
    "from pyspark.sql.functions import col\n",
    "from pyspark.ml.feature import UnivariateFeatureSelector\n",
    "from pyspark.ml.feature import RFormula\n",
    "from pyspark.ml.feature import StringIndexer, VectorAssembler\n",
    "from pyspark.ml import Pipeline\n",
    "from pyspark.ml.feature import OneHotEncoder\n",
    "from pyspark.ml.classification import LogisticRegression"
   ]
  },
  {
   "cell_type": "code",
   "execution_count": 0,
   "metadata": {
    "application/vnd.databricks.v1+cell": {
     "cellMetadata": {
      "byteLimit": 2048000,
      "rowLimit": 10000
     },
     "inputWidgets": {},
     "nuid": "bdd937d6-216a-4525-9d86-ec53841e66e9",
     "showTitle": false,
     "title": ""
    }
   },
   "outputs": [
    {
     "output_type": "display_data",
     "data": {
      "text/html": [
       "<style scoped>\n",
       "  .ansiout {\n",
       "    display: block;\n",
       "    unicode-bidi: embed;\n",
       "    white-space: pre-wrap;\n",
       "    word-wrap: break-word;\n",
       "    word-break: break-all;\n",
       "    font-family: \"Menlo\", \"Monaco\", \"Consolas\", \"Ubuntu Mono\", \"Source Code Pro\", monospace;\n",
       "    font-size: 13px;\n",
       "    color: #555;\n",
       "    margin-left: 4px;\n",
       "    line-height: 19px;\n",
       "  }\n",
       "</style>\n",
       "<div class=\"ansiout\"></div>"
      ]
     },
     "metadata": {
      "application/vnd.databricks.v1+output": {
       "addedWidgets": {},
       "arguments": {},
       "data": "<div class=\"ansiout\"></div>",
       "datasetInfos": [],
       "metadata": {},
       "removedWidgets": [],
       "type": "html"
      }
     }
    }
   ],
   "source": [
    "# Pulling a dataset\n",
    "from pyspark.sql.types import DoubleType, StringType, StructField, StructType\n",
    " \n",
    "schema = StructType([\n",
    "  StructField(\"age\", DoubleType(), False),\n",
    "  StructField(\"workclass\", StringType(), False),\n",
    "  StructField(\"fnlwgt\", DoubleType(), False),\n",
    "  StructField(\"education\", StringType(), False),\n",
    "  StructField(\"education_num\", DoubleType(), False),\n",
    "  StructField(\"marital_status\", StringType(), False),\n",
    "  StructField(\"occupation\", StringType(), False),\n",
    "  StructField(\"relationship\", StringType(), False),\n",
    "  StructField(\"race\", StringType(), False),\n",
    "  StructField(\"sex\", StringType(), False),\n",
    "  StructField(\"capital_gain\", DoubleType(), False),\n",
    "  StructField(\"capital_loss\", DoubleType(), False),\n",
    "  StructField(\"hours_per_week\", DoubleType(), False),\n",
    "  StructField(\"native_country\", StringType(), False),\n",
    "  StructField(\"income\", StringType(), False)\n",
    "])\n",
    " \n",
    "adults = spark.read.format(\"csv\").schema(schema).load(\"/databricks-datasets/adult/adult.data\")\n"
   ]
  },
  {
   "cell_type": "code",
   "execution_count": null,
   "metadata": {
    "application/vnd.databricks.v1+cell": {
     "cellMetadata": {
      "byteLimit": 2048000,
      "rowLimit": 10000
     },
     "inputWidgets": {},
     "nuid": "bb8920f4-2ef5-457a-b411-d89c996ea55b",
     "showTitle": false,
     "title": ""
    },
    "pycharm": {
     "is_executing": true
    }
   },
   "outputs": [],
   "source": [
    "display(adults.limit(10))"
   ]
  },
  {
   "cell_type": "code",
   "execution_count": 0,
   "metadata": {
    "application/vnd.databricks.v1+cell": {
     "cellMetadata": {
      "byteLimit": 2048000,
      "rowLimit": 10000
     },
     "inputWidgets": {},
     "nuid": "346cf2a5-bbcf-4749-92bf-dbaf8ea22e95",
     "showTitle": true,
     "title": "Deal with null values"
    }
   },
   "outputs": [
    {
     "output_type": "display_data",
     "data": {
      "text/html": [
       "<style scoped>\n",
       "  .ansiout {\n",
       "    display: block;\n",
       "    unicode-bidi: embed;\n",
       "    white-space: pre-wrap;\n",
       "    word-wrap: break-word;\n",
       "    word-break: break-all;\n",
       "    font-family: \"Menlo\", \"Monaco\", \"Consolas\", \"Ubuntu Mono\", \"Source Code Pro\", monospace;\n",
       "    font-size: 13px;\n",
       "    color: #555;\n",
       "    margin-left: 4px;\n",
       "    line-height: 19px;\n",
       "  }\n",
       "</style>\n",
       "<div class=\"ansiout\"></div>"
      ]
     },
     "metadata": {
      "application/vnd.databricks.v1+output": {
       "addedWidgets": {},
       "arguments": {},
       "data": "<div class=\"ansiout\"></div>",
       "datasetInfos": [],
       "metadata": {},
       "removedWidgets": [],
       "type": "html"
      }
     }
    }
   ],
   "source": [
    "adults = (\n",
    "  adults\n",
    "  .filter( (col('workclass') != ' ?') &\n",
    "          (col('education') != ' ?') &\n",
    "          (col('marital_status') != ' ?') &\n",
    "          (col('occupation') != ' ?') &\n",
    "          (col('relationship') != ' ?') &\n",
    "          (col('race') != ' ?') &\n",
    "          (col('sex') != ' ?') &\n",
    "          (col('native_country') != ' ?')\n",
    "          )\n",
    ")"
   ]
  },
  {
   "cell_type": "code",
   "execution_count": 0,
   "metadata": {
    "application/vnd.databricks.v1+cell": {
     "cellMetadata": {
      "byteLimit": 2048000,
      "rowLimit": 10000
     },
     "inputWidgets": {},
     "nuid": "a80e00c3-add1-4192-ab4d-ad96ceadfba4",
     "showTitle": true,
     "title": "Using Variable selector for Feature Engineering (cat)"
    }
   },
   "outputs": [
    {
     "output_type": "display_data",
     "data": {
      "text/html": [
       "<style scoped>\n",
       "  .ansiout {\n",
       "    display: block;\n",
       "    unicode-bidi: embed;\n",
       "    white-space: pre-wrap;\n",
       "    word-wrap: break-word;\n",
       "    word-break: break-all;\n",
       "    font-family: \"Menlo\", \"Monaco\", \"Consolas\", \"Ubuntu Mono\", \"Source Code Pro\", monospace;\n",
       "    font-size: 13px;\n",
       "    color: #555;\n",
       "    margin-left: 4px;\n",
       "    line-height: 19px;\n",
       "  }\n",
       "</style>\n",
       "<div class=\"ansiout\">Selected Features - Categorical\n",
       "[&#39;workclass&#39;, &#39;relationship&#39;, &#39;race&#39;, &#39;sex&#39;]\n",
       "</div>"
      ]
     },
     "metadata": {
      "application/vnd.databricks.v1+output": {
       "addedWidgets": {},
       "arguments": {},
       "data": "<div class=\"ansiout\">Selected Features - Categorical\n[&#39;workclass&#39;, &#39;relationship&#39;, &#39;race&#39;, &#39;sex&#39;]\n</div>",
       "datasetInfos": [],
       "metadata": {},
       "removedWidgets": [],
       "type": "html"
      }
     }
    }
   ],
   "source": [
    "# Adults cat only\n",
    "adults_cat = adults.select('workclass', 'education', 'marital_status', 'occupation', 'relationship','race', 'sex','native_country', 'income')\n",
    "\n",
    "# Creating a vector out of our dataset to be able to use Univariate Feature Selector\n",
    "formula=RFormula(formula= \"income ~ workclass + education + marital_status + occupation + relationship + race + sex + native_country\", \n",
    "                 featuresCol= \"features\", labelCol= \"label\")\n",
    "vector_df = formula.fit(adults_cat).transform(adults_cat)\n",
    "\n",
    "selector = UnivariateFeatureSelector(featuresCol='features', outputCol=\"selectedFeatures\", labelCol= 'label')\n",
    "selector.setFeatureType(\"categorical\").setLabelType(\"categorical\").setSelectionThreshold(4)\n",
    "model = selector.fit(vector_df)\n",
    "#model.selectedFeatures\n",
    "print('Selected Features - Categorical')\n",
    "print([name for i,name in enumerate(vector_df.columns) if i in model.selectedFeatures])"
   ]
  },
  {
   "cell_type": "code",
   "execution_count": 0,
   "metadata": {
    "application/vnd.databricks.v1+cell": {
     "cellMetadata": {
      "byteLimit": 2048000,
      "rowLimit": 10000
     },
     "inputWidgets": {},
     "nuid": "10b1bce4-10f2-4dd4-b31e-a429dc81b5c9",
     "showTitle": false,
     "title": ""
    }
   },
   "outputs": [
    {
     "output_type": "display_data",
     "data": {
      "text/html": [
       "<style scoped>\n",
       "  .ansiout {\n",
       "    display: block;\n",
       "    unicode-bidi: embed;\n",
       "    white-space: pre-wrap;\n",
       "    word-wrap: break-word;\n",
       "    word-break: break-all;\n",
       "    font-family: \"Menlo\", \"Monaco\", \"Consolas\", \"Ubuntu Mono\", \"Source Code Pro\", monospace;\n",
       "    font-size: 13px;\n",
       "    color: #555;\n",
       "    margin-left: 4px;\n",
       "    line-height: 19px;\n",
       "  }\n",
       "</style>\n",
       "<div class=\"ansiout\"></div>"
      ]
     },
     "metadata": {
      "application/vnd.databricks.v1+output": {
       "addedWidgets": {},
       "arguments": {},
       "data": "<div class=\"ansiout\"></div>",
       "datasetInfos": [],
       "metadata": {},
       "removedWidgets": [],
       "type": "html"
      }
     }
    }
   ],
   "source": [
    "# View Vectorized table\n",
    "#vector_df.select(\"features\", \"label\").show(truncate=False)"
   ]
  },
  {
   "cell_type": "code",
   "execution_count": 0,
   "metadata": {
    "application/vnd.databricks.v1+cell": {
     "cellMetadata": {
      "byteLimit": 2048000,
      "rowLimit": 10000
     },
     "inputWidgets": {},
     "nuid": "a37a2e43-0be4-4beb-aad4-428f03a8f263",
     "showTitle": true,
     "title": "Using Variable selector for Feature Engineering (num)"
    }
   },
   "outputs": [
    {
     "output_type": "display_data",
     "data": {
      "text/html": [
       "<style scoped>\n",
       "  .ansiout {\n",
       "    display: block;\n",
       "    unicode-bidi: embed;\n",
       "    white-space: pre-wrap;\n",
       "    word-wrap: break-word;\n",
       "    word-break: break-all;\n",
       "    font-family: \"Menlo\", \"Monaco\", \"Consolas\", \"Ubuntu Mono\", \"Source Code Pro\", monospace;\n",
       "    font-size: 13px;\n",
       "    color: #555;\n",
       "    margin-left: 4px;\n",
       "    line-height: 19px;\n",
       "  }\n",
       "</style>\n",
       "<div class=\"ansiout\">Selected Features - Numerical\n",
       "[&#39;age&#39;, &#39;fnlwgt&#39;, &#39;education_num&#39;, &#39;capital_gain&#39;, &#39;capital_loss&#39;, &#39;hours_per_week&#39;]\n",
       "</div>"
      ]
     },
     "metadata": {
      "application/vnd.databricks.v1+output": {
       "addedWidgets": {},
       "arguments": {},
       "data": "<div class=\"ansiout\">Selected Features - Numerical\n[&#39;age&#39;, &#39;fnlwgt&#39;, &#39;education_num&#39;, &#39;capital_gain&#39;, &#39;capital_loss&#39;, &#39;hours_per_week&#39;]\n</div>",
       "datasetInfos": [],
       "metadata": {},
       "removedWidgets": [],
       "type": "html"
      }
     }
    }
   ],
   "source": [
    "# Adults numerical only\n",
    "adults_num = adults.select('age', 'fnlwgt', 'education_num', 'capital_gain', 'capital_loss', 'hours_per_week','income')\n",
    "\n",
    "# Creating a vector out of our dataset to be able to use Univariate Feature Selector\n",
    "formula=RFormula(formula= \"income ~ age + fnlwgt + education_num + capital_gain + capital_loss + hours_per_week\", featuresCol= \"features\", labelCol= \"label\")\n",
    "vector_df = formula.fit(adults_num).transform(adults_num)\n",
    "\n",
    "# # Using Variable selector for Feature Engineering (num)\n",
    "selector = UnivariateFeatureSelector(featuresCol='features', outputCol=\"selectedFeatures\", labelCol= 'label')\n",
    "selector.setFeatureType(\"continuous\").setLabelType(\"categorical\").setSelectionThreshold(6)\n",
    "model = selector.fit(vector_df)\n",
    "#model.selectedFeatures\n",
    "print('Selected Features - Numerical')\n",
    "print([name for i,name in enumerate(vector_df.columns) if i in model.selectedFeatures])"
   ]
  },
  {
   "cell_type": "code",
   "execution_count": 0,
   "metadata": {
    "application/vnd.databricks.v1+cell": {
     "cellMetadata": {
      "byteLimit": 2048000,
      "rowLimit": 10000
     },
     "inputWidgets": {},
     "nuid": "778aadcd-73f7-41ab-80ca-1f29886522fd",
     "showTitle": true,
     "title": "Dataset with selected columns"
    }
   },
   "outputs": [
    {
     "output_type": "display_data",
     "data": {
      "text/html": [
       "<style scoped>\n",
       "  .ansiout {\n",
       "    display: block;\n",
       "    unicode-bidi: embed;\n",
       "    white-space: pre-wrap;\n",
       "    word-wrap: break-word;\n",
       "    word-break: break-all;\n",
       "    font-family: \"Menlo\", \"Monaco\", \"Consolas\", \"Ubuntu Mono\", \"Source Code Pro\", monospace;\n",
       "    font-size: 13px;\n",
       "    color: #555;\n",
       "    margin-left: 4px;\n",
       "    line-height: 19px;\n",
       "  }\n",
       "</style>\n",
       "<div class=\"ansiout\"></div>"
      ]
     },
     "metadata": {
      "application/vnd.databricks.v1+output": {
       "addedWidgets": {},
       "arguments": {},
       "data": "<div class=\"ansiout\"></div>",
       "datasetInfos": [],
       "metadata": {},
       "removedWidgets": [],
       "type": "html"
      }
     }
    }
   ],
   "source": [
    "df_sel = adults.select('workclass', 'occupation', 'race', 'sex', 'age', 'education_num', 'capital_gain', 'capital_loss', 'hours_per_week', 'fnlwgt', 'income')"
   ]
  },
  {
   "cell_type": "code",
   "execution_count": 0,
   "metadata": {
    "application/vnd.databricks.v1+cell": {
     "cellMetadata": {
      "byteLimit": 2048000,
      "rowLimit": 10000
     },
     "inputWidgets": {},
     "nuid": "984763ce-d5ef-4784-854c-a3eb7de5bb84",
     "showTitle": false,
     "title": ""
    }
   },
   "outputs": [
    {
     "output_type": "display_data",
     "data": {
      "text/html": [
       "<style scoped>\n",
       "  .ansiout {\n",
       "    display: block;\n",
       "    unicode-bidi: embed;\n",
       "    white-space: pre-wrap;\n",
       "    word-wrap: break-word;\n",
       "    word-break: break-all;\n",
       "    font-family: \"Menlo\", \"Monaco\", \"Consolas\", \"Ubuntu Mono\", \"Source Code Pro\", monospace;\n",
       "    font-size: 13px;\n",
       "    color: #555;\n",
       "    margin-left: 4px;\n",
       "    line-height: 19px;\n",
       "  }\n",
       "</style>\n",
       "<div class=\"ansiout\">+------+-----+\n",
       "income|count|\n",
       "+------+-----+\n",
       "  &gt;50K| 7508|\n",
       " &lt;=50K|22654|\n",
       "+------+-----+\n",
       "\n",
       "</div>"
      ]
     },
     "metadata": {
      "application/vnd.databricks.v1+output": {
       "addedWidgets": {},
       "arguments": {},
       "data": "<div class=\"ansiout\">+------+-----+\n|income|count|\n+------+-----+\n|  &gt;50K| 7508|\n| &lt;=50K|22654|\n+------+-----+\n\n</div>",
       "datasetInfos": [],
       "metadata": {},
       "removedWidgets": [],
       "type": "html"
      }
     }
    }
   ],
   "source": [
    "df_sel.groupBy('income').count().show()"
   ]
  },
  {
   "cell_type": "code",
   "execution_count": 0,
   "metadata": {
    "application/vnd.databricks.v1+cell": {
     "cellMetadata": {
      "byteLimit": 2048000,
      "rowLimit": 10000
     },
     "inputWidgets": {},
     "nuid": "a1555d3f-1f89-4da6-9ee1-d78a527da93c",
     "showTitle": true,
     "title": "Dummy transformation"
    }
   },
   "outputs": [
    {
     "output_type": "display_data",
     "data": {
      "text/html": [
       "<style scoped>\n",
       "  .ansiout {\n",
       "    display: block;\n",
       "    unicode-bidi: embed;\n",
       "    white-space: pre-wrap;\n",
       "    word-wrap: break-word;\n",
       "    word-break: break-all;\n",
       "    font-family: \"Menlo\", \"Monaco\", \"Consolas\", \"Ubuntu Mono\", \"Source Code Pro\", monospace;\n",
       "    font-size: 13px;\n",
       "    color: #555;\n",
       "    margin-left: 4px;\n",
       "    line-height: 19px;\n",
       "  }\n",
       "</style>\n",
       "<div class=\"ansiout\"></div>"
      ]
     },
     "metadata": {
      "application/vnd.databricks.v1+output": {
       "addedWidgets": {},
       "arguments": {},
       "data": "<div class=\"ansiout\"></div>",
       "datasetInfos": [],
       "metadata": {},
       "removedWidgets": [],
       "type": "html"
      }
     }
    }
   ],
   "source": [
    "# Columns to transform\n",
    "cat_cols = ['workclass', 'occupation', 'race', 'sex']\n",
    "\n",
    "# List of stages for Pipeline\n",
    "stages = []\n",
    "\n",
    "for column in cat_cols:\n",
    "    # Instance encoding with StringIndexer\n",
    "    stringIndexer = StringIndexer(inputCol=column, outputCol=column + \"Index\")\n",
    "    # Use OneHotEncoder to convert categorical variables into binary SparseVectors\n",
    "    encoder = OneHotEncoder(inputCols=[stringIndexer.getOutputCol()], outputCols=[column + \"classVec\"])\n",
    "    # Add stages.  These are not run here, but will run all at once later on.\n",
    "    stages += [stringIndexer, encoder]\n"
   ]
  },
  {
   "cell_type": "code",
   "execution_count": 0,
   "metadata": {
    "application/vnd.databricks.v1+cell": {
     "cellMetadata": {
      "byteLimit": 2048000,
      "rowLimit": 10000
     },
     "inputWidgets": {},
     "nuid": "265f1018-f8d9-4b0a-b861-50a0e957134d",
     "showTitle": true,
     "title": "Encoding the Label"
    }
   },
   "outputs": [
    {
     "output_type": "display_data",
     "data": {
      "text/html": [
       "<style scoped>\n",
       "  .ansiout {\n",
       "    display: block;\n",
       "    unicode-bidi: embed;\n",
       "    white-space: pre-wrap;\n",
       "    word-wrap: break-word;\n",
       "    word-break: break-all;\n",
       "    font-family: \"Menlo\", \"Monaco\", \"Consolas\", \"Ubuntu Mono\", \"Source Code Pro\", monospace;\n",
       "    font-size: 13px;\n",
       "    color: #555;\n",
       "    margin-left: 4px;\n",
       "    line-height: 19px;\n",
       "  }\n",
       "</style>\n",
       "<div class=\"ansiout\"></div>"
      ]
     },
     "metadata": {
      "application/vnd.databricks.v1+output": {
       "addedWidgets": {},
       "arguments": {},
       "data": "<div class=\"ansiout\"></div>",
       "datasetInfos": [],
       "metadata": {},
       "removedWidgets": [],
       "type": "html"
      }
     }
    }
   ],
   "source": [
    "# Convert label income into label indices using the StringIndexer\n",
    "label_encode = StringIndexer(inputCol=\"income\", outputCol=\"label\")\n",
    "\n",
    "# Add to the Pipeline stages\n",
    "stages += [label_encode]"
   ]
  },
  {
   "cell_type": "code",
   "execution_count": 0,
   "metadata": {
    "application/vnd.databricks.v1+cell": {
     "cellMetadata": {
      "byteLimit": 2048000,
      "rowLimit": 10000
     },
     "inputWidgets": {},
     "nuid": "8612db23-010c-4747-aead-10d115faad78",
     "showTitle": true,
     "title": "Adding the numeric features and applying transformations"
    }
   },
   "outputs": [
    {
     "output_type": "display_data",
     "data": {
      "text/html": [
       "<style scoped>\n",
       "  .ansiout {\n",
       "    display: block;\n",
       "    unicode-bidi: embed;\n",
       "    white-space: pre-wrap;\n",
       "    word-wrap: break-word;\n",
       "    word-break: break-all;\n",
       "    font-family: \"Menlo\", \"Monaco\", \"Consolas\", \"Ubuntu Mono\", \"Source Code Pro\", monospace;\n",
       "    font-size: 13px;\n",
       "    color: #555;\n",
       "    margin-left: 4px;\n",
       "    line-height: 19px;\n",
       "  }\n",
       "</style>\n",
       "<div class=\"ansiout\"></div>"
      ]
     },
     "metadata": {
      "application/vnd.databricks.v1+output": {
       "addedWidgets": {},
       "arguments": {},
       "data": "<div class=\"ansiout\"></div>",
       "datasetInfos": [],
       "metadata": {},
       "removedWidgets": [],
       "type": "html"
      }
     }
    }
   ],
   "source": [
    "# Transform all features into a vector using VectorAssembler\n",
    "#num_cols = ['age', 'education_num', 'capital_gain', 'capital_loss']\n",
    "num_cols = ['age', 'education_num', 'capital_gain', 'capital_loss', 'hours_per_week', 'fnlwgt']\n",
    "assembler_cols = [c + \"classVec\" for c in cat_cols] + num_cols\n",
    "assembler = VectorAssembler(inputCols=assembler_cols, outputCol=\"features\")\n",
    "stages += [assembler]"
   ]
  },
  {
   "cell_type": "code",
   "execution_count": 0,
   "metadata": {
    "application/vnd.databricks.v1+cell": {
     "cellMetadata": {
      "byteLimit": 2048000,
      "rowLimit": 10000
     },
     "inputWidgets": {},
     "nuid": "623b0389-fc1a-4e9d-8235-dd75bfd1eab6",
     "showTitle": true,
     "title": "Running Transformation Pipeline"
    }
   },
   "outputs": [
    {
     "output_type": "display_data",
     "data": {
      "text/html": [
       "<style scoped>\n",
       "  .ansiout {\n",
       "    display: block;\n",
       "    unicode-bidi: embed;\n",
       "    white-space: pre-wrap;\n",
       "    word-wrap: break-word;\n",
       "    word-break: break-all;\n",
       "    font-family: \"Menlo\", \"Monaco\", \"Consolas\", \"Ubuntu Mono\", \"Source Code Pro\", monospace;\n",
       "    font-size: 13px;\n",
       "    color: #555;\n",
       "    margin-left: 4px;\n",
       "    line-height: 19px;\n",
       "  }\n",
       "</style>\n",
       "<div class=\"ansiout\"></div>"
      ]
     },
     "metadata": {
      "application/vnd.databricks.v1+output": {
       "addedWidgets": {},
       "arguments": {},
       "data": "<div class=\"ansiout\"></div>",
       "datasetInfos": [],
       "metadata": {},
       "removedWidgets": [],
       "type": "html"
      }
     }
    }
   ],
   "source": [
    "pipe = Pipeline().setStages(stages)\n",
    "pipe_model = pipe.fit(df_sel)\n",
    "prepared_df = pipe_model.transform(df_sel)"
   ]
  },
  {
   "cell_type": "code",
   "execution_count": 0,
   "metadata": {
    "application/vnd.databricks.v1+cell": {
     "cellMetadata": {
      "byteLimit": 2048000,
      "rowLimit": 10000
     },
     "inputWidgets": {},
     "nuid": "fa9ffaef-6c96-4f3e-9d81-62b8d8abe00c",
     "showTitle": false,
     "title": ""
    }
   },
   "outputs": [
    {
     "output_type": "display_data",
     "data": {
      "text/html": [
       "<style scoped>\n",
       "  .table-result-container {\n",
       "    max-height: 300px;\n",
       "    overflow: auto;\n",
       "  }\n",
       "  table, th, td {\n",
       "    border: 1px solid black;\n",
       "    border-collapse: collapse;\n",
       "  }\n",
       "  th, td {\n",
       "    padding: 5px;\n",
       "  }\n",
       "  th {\n",
       "    text-align: left;\n",
       "  }\n",
       "</style><div class='table-result-container'><table class='table-result'><thead style='background-color: white'><tr><th>workclass</th><th>occupation</th><th>race</th><th>sex</th><th>age</th><th>education_num</th><th>capital_gain</th><th>capital_loss</th><th>income</th><th>workclassIndex</th><th>workclassclassVec</th><th>occupationIndex</th><th>occupationclassVec</th><th>raceIndex</th><th>raceclassVec</th><th>sexIndex</th><th>sexclassVec</th><th>label</th><th>features</th></tr></thead><tbody><tr><td> State-gov</td><td> Adm-clerical</td><td> White</td><td> Male</td><td>39.0</td><td>13.0</td><td>2174.0</td><td>0.0</td><td> <=50K</td><td>3.0</td><td>Map(vectorType -> sparse, length -> 6, indices -> List(3), values -> List(1.0))</td><td>3.0</td><td>Map(vectorType -> sparse, length -> 13, indices -> List(3), values -> List(1.0))</td><td>0.0</td><td>Map(vectorType -> sparse, length -> 4, indices -> List(0), values -> List(1.0))</td><td>0.0</td><td>Map(vectorType -> sparse, length -> 1, indices -> List(0), values -> List(1.0))</td><td>0.0</td><td>Map(vectorType -> sparse, length -> 28, indices -> List(3, 9, 19, 23, 24, 25, 26), values -> List(1.0, 1.0, 1.0, 1.0, 39.0, 13.0, 2174.0))</td></tr><tr><td> Self-emp-not-inc</td><td> Exec-managerial</td><td> White</td><td> Male</td><td>50.0</td><td>13.0</td><td>0.0</td><td>0.0</td><td> <=50K</td><td>1.0</td><td>Map(vectorType -> sparse, length -> 6, indices -> List(1), values -> List(1.0))</td><td>2.0</td><td>Map(vectorType -> sparse, length -> 13, indices -> List(2), values -> List(1.0))</td><td>0.0</td><td>Map(vectorType -> sparse, length -> 4, indices -> List(0), values -> List(1.0))</td><td>0.0</td><td>Map(vectorType -> sparse, length -> 1, indices -> List(0), values -> List(1.0))</td><td>0.0</td><td>Map(vectorType -> sparse, length -> 28, indices -> List(1, 8, 19, 23, 24, 25), values -> List(1.0, 1.0, 1.0, 1.0, 50.0, 13.0))</td></tr><tr><td> Private</td><td> Handlers-cleaners</td><td> White</td><td> Male</td><td>38.0</td><td>9.0</td><td>0.0</td><td>0.0</td><td> <=50K</td><td>0.0</td><td>Map(vectorType -> sparse, length -> 6, indices -> List(0), values -> List(1.0))</td><td>8.0</td><td>Map(vectorType -> sparse, length -> 13, indices -> List(8), values -> List(1.0))</td><td>0.0</td><td>Map(vectorType -> sparse, length -> 4, indices -> List(0), values -> List(1.0))</td><td>0.0</td><td>Map(vectorType -> sparse, length -> 1, indices -> List(0), values -> List(1.0))</td><td>0.0</td><td>Map(vectorType -> sparse, length -> 28, indices -> List(0, 14, 19, 23, 24, 25), values -> List(1.0, 1.0, 1.0, 1.0, 38.0, 9.0))</td></tr><tr><td> Private</td><td> Handlers-cleaners</td><td> Black</td><td> Male</td><td>53.0</td><td>7.0</td><td>0.0</td><td>0.0</td><td> <=50K</td><td>0.0</td><td>Map(vectorType -> sparse, length -> 6, indices -> List(0), values -> List(1.0))</td><td>8.0</td><td>Map(vectorType -> sparse, length -> 13, indices -> List(8), values -> List(1.0))</td><td>1.0</td><td>Map(vectorType -> sparse, length -> 4, indices -> List(1), values -> List(1.0))</td><td>0.0</td><td>Map(vectorType -> sparse, length -> 1, indices -> List(0), values -> List(1.0))</td><td>0.0</td><td>Map(vectorType -> sparse, length -> 28, indices -> List(0, 14, 20, 23, 24, 25), values -> List(1.0, 1.0, 1.0, 1.0, 53.0, 7.0))</td></tr><tr><td> Private</td><td> Prof-specialty</td><td> Black</td><td> Female</td><td>28.0</td><td>13.0</td><td>0.0</td><td>0.0</td><td> <=50K</td><td>0.0</td><td>Map(vectorType -> sparse, length -> 6, indices -> List(0), values -> List(1.0))</td><td>0.0</td><td>Map(vectorType -> sparse, length -> 13, indices -> List(0), values -> List(1.0))</td><td>1.0</td><td>Map(vectorType -> sparse, length -> 4, indices -> List(1), values -> List(1.0))</td><td>1.0</td><td>Map(vectorType -> sparse, length -> 1, indices -> List(), values -> List())</td><td>0.0</td><td>Map(vectorType -> sparse, length -> 28, indices -> List(0, 6, 20, 24, 25), values -> List(1.0, 1.0, 1.0, 28.0, 13.0))</td></tr></tbody></table></div>"
      ]
     },
     "metadata": {
      "application/vnd.databricks.v1+output": {
       "addedWidgets": {},
       "aggData": [],
       "aggError": "",
       "aggOverflow": false,
       "aggSchema": [],
       "aggSeriesLimitReached": false,
       "aggType": "",
       "arguments": {},
       "columnCustomDisplayInfos": {},
       "data": [
        [
         " State-gov",
         " Adm-clerical",
         " White",
         " Male",
         39.0,
         13.0,
         2174.0,
         0.0,
         " <=50K",
         3.0,
         {
          "indices": [
           3
          ],
          "length": 6,
          "values": [
           1.0
          ],
          "vectorType": "sparse"
         },
         3.0,
         {
          "indices": [
           3
          ],
          "length": 13,
          "values": [
           1.0
          ],
          "vectorType": "sparse"
         },
         0.0,
         {
          "indices": [
           0
          ],
          "length": 4,
          "values": [
           1.0
          ],
          "vectorType": "sparse"
         },
         0.0,
         {
          "indices": [
           0
          ],
          "length": 1,
          "values": [
           1.0
          ],
          "vectorType": "sparse"
         },
         0.0,
         {
          "indices": [
           3,
           9,
           19,
           23,
           24,
           25,
           26
          ],
          "length": 28,
          "values": [
           1.0,
           1.0,
           1.0,
           1.0,
           39.0,
           13.0,
           2174.0
          ],
          "vectorType": "sparse"
         }
        ],
        [
         " Self-emp-not-inc",
         " Exec-managerial",
         " White",
         " Male",
         50.0,
         13.0,
         0.0,
         0.0,
         " <=50K",
         1.0,
         {
          "indices": [
           1
          ],
          "length": 6,
          "values": [
           1.0
          ],
          "vectorType": "sparse"
         },
         2.0,
         {
          "indices": [
           2
          ],
          "length": 13,
          "values": [
           1.0
          ],
          "vectorType": "sparse"
         },
         0.0,
         {
          "indices": [
           0
          ],
          "length": 4,
          "values": [
           1.0
          ],
          "vectorType": "sparse"
         },
         0.0,
         {
          "indices": [
           0
          ],
          "length": 1,
          "values": [
           1.0
          ],
          "vectorType": "sparse"
         },
         0.0,
         {
          "indices": [
           1,
           8,
           19,
           23,
           24,
           25
          ],
          "length": 28,
          "values": [
           1.0,
           1.0,
           1.0,
           1.0,
           50.0,
           13.0
          ],
          "vectorType": "sparse"
         }
        ],
        [
         " Private",
         " Handlers-cleaners",
         " White",
         " Male",
         38.0,
         9.0,
         0.0,
         0.0,
         " <=50K",
         0.0,
         {
          "indices": [
           0
          ],
          "length": 6,
          "values": [
           1.0
          ],
          "vectorType": "sparse"
         },
         8.0,
         {
          "indices": [
           8
          ],
          "length": 13,
          "values": [
           1.0
          ],
          "vectorType": "sparse"
         },
         0.0,
         {
          "indices": [
           0
          ],
          "length": 4,
          "values": [
           1.0
          ],
          "vectorType": "sparse"
         },
         0.0,
         {
          "indices": [
           0
          ],
          "length": 1,
          "values": [
           1.0
          ],
          "vectorType": "sparse"
         },
         0.0,
         {
          "indices": [
           0,
           14,
           19,
           23,
           24,
           25
          ],
          "length": 28,
          "values": [
           1.0,
           1.0,
           1.0,
           1.0,
           38.0,
           9.0
          ],
          "vectorType": "sparse"
         }
        ],
        [
         " Private",
         " Handlers-cleaners",
         " Black",
         " Male",
         53.0,
         7.0,
         0.0,
         0.0,
         " <=50K",
         0.0,
         {
          "indices": [
           0
          ],
          "length": 6,
          "values": [
           1.0
          ],
          "vectorType": "sparse"
         },
         8.0,
         {
          "indices": [
           8
          ],
          "length": 13,
          "values": [
           1.0
          ],
          "vectorType": "sparse"
         },
         1.0,
         {
          "indices": [
           1
          ],
          "length": 4,
          "values": [
           1.0
          ],
          "vectorType": "sparse"
         },
         0.0,
         {
          "indices": [
           0
          ],
          "length": 1,
          "values": [
           1.0
          ],
          "vectorType": "sparse"
         },
         0.0,
         {
          "indices": [
           0,
           14,
           20,
           23,
           24,
           25
          ],
          "length": 28,
          "values": [
           1.0,
           1.0,
           1.0,
           1.0,
           53.0,
           7.0
          ],
          "vectorType": "sparse"
         }
        ],
        [
         " Private",
         " Prof-specialty",
         " Black",
         " Female",
         28.0,
         13.0,
         0.0,
         0.0,
         " <=50K",
         0.0,
         {
          "indices": [
           0
          ],
          "length": 6,
          "values": [
           1.0
          ],
          "vectorType": "sparse"
         },
         0.0,
         {
          "indices": [
           0
          ],
          "length": 13,
          "values": [
           1.0
          ],
          "vectorType": "sparse"
         },
         1.0,
         {
          "indices": [
           1
          ],
          "length": 4,
          "values": [
           1.0
          ],
          "vectorType": "sparse"
         },
         1.0,
         {
          "indices": [],
          "length": 1,
          "values": [],
          "vectorType": "sparse"
         },
         0.0,
         {
          "indices": [
           0,
           6,
           20,
           24,
           25
          ],
          "length": 28,
          "values": [
           1.0,
           1.0,
           1.0,
           28.0,
           13.0
          ],
          "vectorType": "sparse"
         }
        ]
       ],
       "datasetInfos": [],
       "dbfsResultPath": null,
       "isJsonSchema": true,
       "metadata": {},
       "overflow": false,
       "plotOptions": {
        "customPlotOptions": {},
        "displayType": "table",
        "pivotAggregation": null,
        "pivotColumns": null,
        "xColumns": null,
        "yColumns": null
       },
       "removedWidgets": [],
       "schema": [
        {
         "metadata": "{}",
         "name": "workclass",
         "type": "\"string\""
        },
        {
         "metadata": "{}",
         "name": "occupation",
         "type": "\"string\""
        },
        {
         "metadata": "{}",
         "name": "race",
         "type": "\"string\""
        },
        {
         "metadata": "{}",
         "name": "sex",
         "type": "\"string\""
        },
        {
         "metadata": "{}",
         "name": "age",
         "type": "\"double\""
        },
        {
         "metadata": "{}",
         "name": "education_num",
         "type": "\"double\""
        },
        {
         "metadata": "{}",
         "name": "capital_gain",
         "type": "\"double\""
        },
        {
         "metadata": "{}",
         "name": "capital_loss",
         "type": "\"double\""
        },
        {
         "metadata": "{}",
         "name": "income",
         "type": "\"string\""
        },
        {
         "metadata": "{\"ml_attr\":{\"vals\":[\" Private\",\" Self-emp-not-inc\",\" Local-gov\",\" State-gov\",\" Self-emp-inc\",\" Federal-gov\",\" Without-pay\"],\"type\":\"nominal\",\"name\":\"workclassIndex\"}}",
         "name": "workclassIndex",
         "type": "\"double\""
        },
        {
         "metadata": "{\"ml_attr\":{\"attrs\":{\"binary\":[{\"idx\":0,\"name\":\" Private\"},{\"idx\":1,\"name\":\" Self-emp-not-inc\"},{\"idx\":2,\"name\":\" Local-gov\"},{\"idx\":3,\"name\":\" State-gov\"},{\"idx\":4,\"name\":\" Self-emp-inc\"},{\"idx\":5,\"name\":\" Federal-gov\"}]},\"num_attrs\":6}}",
         "name": "workclassclassVec",
         "type": "{\"type\":\"udt\",\"class\":\"org.apache.spark.ml.linalg.VectorUDT\",\"pyClass\":\"pyspark.ml.linalg.VectorUDT\",\"sqlType\":{\"type\":\"struct\",\"fields\":[{\"name\":\"type\",\"type\":\"byte\",\"nullable\":false,\"metadata\":{}},{\"name\":\"size\",\"type\":\"integer\",\"nullable\":true,\"metadata\":{}},{\"name\":\"indices\",\"type\":{\"type\":\"array\",\"elementType\":\"integer\",\"containsNull\":false},\"nullable\":true,\"metadata\":{}},{\"name\":\"values\",\"type\":{\"type\":\"array\",\"elementType\":\"double\",\"containsNull\":false},\"nullable\":true,\"metadata\":{}}]}}"
        },
        {
         "metadata": "{\"ml_attr\":{\"vals\":[\" Prof-specialty\",\" Craft-repair\",\" Exec-managerial\",\" Adm-clerical\",\" Sales\",\" Other-service\",\" Machine-op-inspct\",\" Transport-moving\",\" Handlers-cleaners\",\" Farming-fishing\",\" Tech-support\",\" Protective-serv\",\" Priv-house-serv\",\" Armed-Forces\"],\"type\":\"nominal\",\"name\":\"occupationIndex\"}}",
         "name": "occupationIndex",
         "type": "\"double\""
        },
        {
         "metadata": "{\"ml_attr\":{\"attrs\":{\"binary\":[{\"idx\":0,\"name\":\" Prof-specialty\"},{\"idx\":1,\"name\":\" Craft-repair\"},{\"idx\":2,\"name\":\" Exec-managerial\"},{\"idx\":3,\"name\":\" Adm-clerical\"},{\"idx\":4,\"name\":\" Sales\"},{\"idx\":5,\"name\":\" Other-service\"},{\"idx\":6,\"name\":\" Machine-op-inspct\"},{\"idx\":7,\"name\":\" Transport-moving\"},{\"idx\":8,\"name\":\" Handlers-cleaners\"},{\"idx\":9,\"name\":\" Farming-fishing\"},{\"idx\":10,\"name\":\" Tech-support\"},{\"idx\":11,\"name\":\" Protective-serv\"},{\"idx\":12,\"name\":\" Priv-house-serv\"}]},\"num_attrs\":13}}",
         "name": "occupationclassVec",
         "type": "{\"type\":\"udt\",\"class\":\"org.apache.spark.ml.linalg.VectorUDT\",\"pyClass\":\"pyspark.ml.linalg.VectorUDT\",\"sqlType\":{\"type\":\"struct\",\"fields\":[{\"name\":\"type\",\"type\":\"byte\",\"nullable\":false,\"metadata\":{}},{\"name\":\"size\",\"type\":\"integer\",\"nullable\":true,\"metadata\":{}},{\"name\":\"indices\",\"type\":{\"type\":\"array\",\"elementType\":\"integer\",\"containsNull\":false},\"nullable\":true,\"metadata\":{}},{\"name\":\"values\",\"type\":{\"type\":\"array\",\"elementType\":\"double\",\"containsNull\":false},\"nullable\":true,\"metadata\":{}}]}}"
        },
        {
         "metadata": "{\"ml_attr\":{\"vals\":[\" White\",\" Black\",\" Asian-Pac-Islander\",\" Amer-Indian-Eskimo\",\" Other\"],\"type\":\"nominal\",\"name\":\"raceIndex\"}}",
         "name": "raceIndex",
         "type": "\"double\""
        },
        {
         "metadata": "{\"ml_attr\":{\"attrs\":{\"binary\":[{\"idx\":0,\"name\":\" White\"},{\"idx\":1,\"name\":\" Black\"},{\"idx\":2,\"name\":\" Asian-Pac-Islander\"},{\"idx\":3,\"name\":\" Amer-Indian-Eskimo\"}]},\"num_attrs\":4}}",
         "name": "raceclassVec",
         "type": "{\"type\":\"udt\",\"class\":\"org.apache.spark.ml.linalg.VectorUDT\",\"pyClass\":\"pyspark.ml.linalg.VectorUDT\",\"sqlType\":{\"type\":\"struct\",\"fields\":[{\"name\":\"type\",\"type\":\"byte\",\"nullable\":false,\"metadata\":{}},{\"name\":\"size\",\"type\":\"integer\",\"nullable\":true,\"metadata\":{}},{\"name\":\"indices\",\"type\":{\"type\":\"array\",\"elementType\":\"integer\",\"containsNull\":false},\"nullable\":true,\"metadata\":{}},{\"name\":\"values\",\"type\":{\"type\":\"array\",\"elementType\":\"double\",\"containsNull\":false},\"nullable\":true,\"metadata\":{}}]}}"
        },
        {
         "metadata": "{\"ml_attr\":{\"vals\":[\" Male\",\" Female\"],\"type\":\"nominal\",\"name\":\"sexIndex\"}}",
         "name": "sexIndex",
         "type": "\"double\""
        },
        {
         "metadata": "{\"ml_attr\":{\"attrs\":{\"binary\":[{\"idx\":0,\"name\":\" Male\"}]},\"num_attrs\":1}}",
         "name": "sexclassVec",
         "type": "{\"type\":\"udt\",\"class\":\"org.apache.spark.ml.linalg.VectorUDT\",\"pyClass\":\"pyspark.ml.linalg.VectorUDT\",\"sqlType\":{\"type\":\"struct\",\"fields\":[{\"name\":\"type\",\"type\":\"byte\",\"nullable\":false,\"metadata\":{}},{\"name\":\"size\",\"type\":\"integer\",\"nullable\":true,\"metadata\":{}},{\"name\":\"indices\",\"type\":{\"type\":\"array\",\"elementType\":\"integer\",\"containsNull\":false},\"nullable\":true,\"metadata\":{}},{\"name\":\"values\",\"type\":{\"type\":\"array\",\"elementType\":\"double\",\"containsNull\":false},\"nullable\":true,\"metadata\":{}}]}}"
        },
        {
         "metadata": "{\"ml_attr\":{\"vals\":[\" <=50K\",\" >50K\"],\"type\":\"nominal\",\"name\":\"label\"}}",
         "name": "label",
         "type": "\"double\""
        },
        {
         "metadata": "{\"ml_attr\":{\"attrs\":{\"numeric\":[{\"idx\":24,\"name\":\"age\"},{\"idx\":25,\"name\":\"education_num\"},{\"idx\":26,\"name\":\"capital_gain\"},{\"idx\":27,\"name\":\"capital_loss\"}],\"binary\":[{\"idx\":0,\"name\":\"workclassclassVec_ Private\"},{\"idx\":1,\"name\":\"workclassclassVec_ Self-emp-not-inc\"},{\"idx\":2,\"name\":\"workclassclassVec_ Local-gov\"},{\"idx\":3,\"name\":\"workclassclassVec_ State-gov\"},{\"idx\":4,\"name\":\"workclassclassVec_ Self-emp-inc\"},{\"idx\":5,\"name\":\"workclassclassVec_ Federal-gov\"},{\"idx\":6,\"name\":\"occupationclassVec_ Prof-specialty\"},{\"idx\":7,\"name\":\"occupationclassVec_ Craft-repair\"},{\"idx\":8,\"name\":\"occupationclassVec_ Exec-managerial\"},{\"idx\":9,\"name\":\"occupationclassVec_ Adm-clerical\"},{\"idx\":10,\"name\":\"occupationclassVec_ Sales\"},{\"idx\":11,\"name\":\"occupationclassVec_ Other-service\"},{\"idx\":12,\"name\":\"occupationclassVec_ Machine-op-inspct\"},{\"idx\":13,\"name\":\"occupationclassVec_ Transport-moving\"},{\"idx\":14,\"name\":\"occupationclassVec_ Handlers-cleaners\"},{\"idx\":15,\"name\":\"occupationclassVec_ Farming-fishing\"},{\"idx\":16,\"name\":\"occupationclassVec_ Tech-support\"},{\"idx\":17,\"name\":\"occupationclassVec_ Protective-serv\"},{\"idx\":18,\"name\":\"occupationclassVec_ Priv-house-serv\"},{\"idx\":19,\"name\":\"raceclassVec_ White\"},{\"idx\":20,\"name\":\"raceclassVec_ Black\"},{\"idx\":21,\"name\":\"raceclassVec_ Asian-Pac-Islander\"},{\"idx\":22,\"name\":\"raceclassVec_ Amer-Indian-Eskimo\"},{\"idx\":23,\"name\":\"sexclassVec_ Male\"}]},\"num_attrs\":28}}",
         "name": "features",
         "type": "{\"type\":\"udt\",\"class\":\"org.apache.spark.ml.linalg.VectorUDT\",\"pyClass\":\"pyspark.ml.linalg.VectorUDT\",\"sqlType\":{\"type\":\"struct\",\"fields\":[{\"name\":\"type\",\"type\":\"byte\",\"nullable\":false,\"metadata\":{}},{\"name\":\"size\",\"type\":\"integer\",\"nullable\":true,\"metadata\":{}},{\"name\":\"indices\",\"type\":{\"type\":\"array\",\"elementType\":\"integer\",\"containsNull\":false},\"nullable\":true,\"metadata\":{}},{\"name\":\"values\",\"type\":{\"type\":\"array\",\"elementType\":\"double\",\"containsNull\":false},\"nullable\":true,\"metadata\":{}}]}}"
        }
       ],
       "type": "table"
      }
     }
    }
   ],
   "source": [
    "display(prepared_df.limit(5))"
   ]
  },
  {
   "cell_type": "code",
   "execution_count": 0,
   "metadata": {
    "application/vnd.databricks.v1+cell": {
     "cellMetadata": {
      "byteLimit": 2048000,
      "rowLimit": 10000
     },
     "inputWidgets": {},
     "nuid": "5b64cd8c-1919-40c9-b66d-b9d61b27b933",
     "showTitle": true,
     "title": "Train Test Split"
    }
   },
   "outputs": [
    {
     "output_type": "display_data",
     "data": {
      "text/html": [
       "<style scoped>\n",
       "  .ansiout {\n",
       "    display: block;\n",
       "    unicode-bidi: embed;\n",
       "    white-space: pre-wrap;\n",
       "    word-wrap: break-word;\n",
       "    word-break: break-all;\n",
       "    font-family: \"Menlo\", \"Monaco\", \"Consolas\", \"Ubuntu Mono\", \"Source Code Pro\", monospace;\n",
       "    font-size: 13px;\n",
       "    color: #555;\n",
       "    margin-left: 4px;\n",
       "    line-height: 19px;\n",
       "  }\n",
       "</style>\n",
       "<div class=\"ansiout\">21174\n",
       "8988\n",
       "</div>"
      ]
     },
     "metadata": {
      "application/vnd.databricks.v1+output": {
       "addedWidgets": {},
       "arguments": {},
       "data": "<div class=\"ansiout\">21174\n8988\n</div>",
       "datasetInfos": [],
       "metadata": {},
       "removedWidgets": [],
       "type": "html"
      }
     }
    }
   ],
   "source": [
    "### Randomly split data into training and test sets. set seed for reproducibility\n",
    "(train, test) = prepared_df.randomSplit([0.7, 0.3], seed=42)\n",
    "print(train.count())\n",
    "print(test.count())"
   ]
  },
  {
   "cell_type": "code",
   "execution_count": 0,
   "metadata": {
    "application/vnd.databricks.v1+cell": {
     "cellMetadata": {
      "byteLimit": 2048000,
      "rowLimit": 10000
     },
     "inputWidgets": {},
     "nuid": "fc5abce1-06dd-4ae1-8da0-e04e2007619b",
     "showTitle": false,
     "title": ""
    }
   },
   "outputs": [
    {
     "output_type": "display_data",
     "data": {
      "text/html": [
       "<style scoped>\n",
       "  .table-result-container {\n",
       "    max-height: 300px;\n",
       "    overflow: auto;\n",
       "  }\n",
       "  table, th, td {\n",
       "    border: 1px solid black;\n",
       "    border-collapse: collapse;\n",
       "  }\n",
       "  th, td {\n",
       "    padding: 5px;\n",
       "  }\n",
       "  th {\n",
       "    text-align: left;\n",
       "  }\n",
       "</style><div class='table-result-container'><table class='table-result'><thead style='background-color: white'><tr><th>workclass</th><th>occupation</th><th>race</th><th>sex</th><th>age</th><th>education_num</th><th>capital_gain</th><th>capital_loss</th><th>income</th><th>workclassIndex</th><th>workclassclassVec</th><th>occupationIndex</th><th>occupationclassVec</th><th>raceIndex</th><th>raceclassVec</th><th>sexIndex</th><th>sexclassVec</th><th>label</th><th>features</th></tr></thead><tbody><tr><td> Federal-gov</td><td> Adm-clerical</td><td> Amer-Indian-Eskimo</td><td> Male</td><td>46.0</td><td>9.0</td><td>0.0</td><td>0.0</td><td> <=50K</td><td>5.0</td><td>Map(vectorType -> sparse, length -> 6, indices -> List(5), values -> List(1.0))</td><td>3.0</td><td>Map(vectorType -> sparse, length -> 13, indices -> List(3), values -> List(1.0))</td><td>3.0</td><td>Map(vectorType -> sparse, length -> 4, indices -> List(3), values -> List(1.0))</td><td>0.0</td><td>Map(vectorType -> sparse, length -> 1, indices -> List(0), values -> List(1.0))</td><td>0.0</td><td>Map(vectorType -> sparse, length -> 28, indices -> List(5, 9, 22, 23, 24, 25), values -> List(1.0, 1.0, 1.0, 1.0, 46.0, 9.0))</td></tr><tr><td> Federal-gov</td><td> Adm-clerical</td><td> Asian-Pac-Islander</td><td> Female</td><td>33.0</td><td>10.0</td><td>0.0</td><td>0.0</td><td> <=50K</td><td>5.0</td><td>Map(vectorType -> sparse, length -> 6, indices -> List(5), values -> List(1.0))</td><td>3.0</td><td>Map(vectorType -> sparse, length -> 13, indices -> List(3), values -> List(1.0))</td><td>2.0</td><td>Map(vectorType -> sparse, length -> 4, indices -> List(2), values -> List(1.0))</td><td>1.0</td><td>Map(vectorType -> sparse, length -> 1, indices -> List(), values -> List())</td><td>0.0</td><td>Map(vectorType -> sparse, length -> 28, indices -> List(5, 9, 21, 24, 25), values -> List(1.0, 1.0, 1.0, 33.0, 10.0))</td></tr></tbody></table></div>"
      ]
     },
     "metadata": {
      "application/vnd.databricks.v1+output": {
       "addedWidgets": {},
       "aggData": [],
       "aggError": "",
       "aggOverflow": false,
       "aggSchema": [],
       "aggSeriesLimitReached": false,
       "aggType": "",
       "arguments": {},
       "columnCustomDisplayInfos": {},
       "data": [
        [
         " Federal-gov",
         " Adm-clerical",
         " Amer-Indian-Eskimo",
         " Male",
         46.0,
         9.0,
         0.0,
         0.0,
         " <=50K",
         5.0,
         {
          "indices": [
           5
          ],
          "length": 6,
          "values": [
           1.0
          ],
          "vectorType": "sparse"
         },
         3.0,
         {
          "indices": [
           3
          ],
          "length": 13,
          "values": [
           1.0
          ],
          "vectorType": "sparse"
         },
         3.0,
         {
          "indices": [
           3
          ],
          "length": 4,
          "values": [
           1.0
          ],
          "vectorType": "sparse"
         },
         0.0,
         {
          "indices": [
           0
          ],
          "length": 1,
          "values": [
           1.0
          ],
          "vectorType": "sparse"
         },
         0.0,
         {
          "indices": [
           5,
           9,
           22,
           23,
           24,
           25
          ],
          "length": 28,
          "values": [
           1.0,
           1.0,
           1.0,
           1.0,
           46.0,
           9.0
          ],
          "vectorType": "sparse"
         }
        ],
        [
         " Federal-gov",
         " Adm-clerical",
         " Asian-Pac-Islander",
         " Female",
         33.0,
         10.0,
         0.0,
         0.0,
         " <=50K",
         5.0,
         {
          "indices": [
           5
          ],
          "length": 6,
          "values": [
           1.0
          ],
          "vectorType": "sparse"
         },
         3.0,
         {
          "indices": [
           3
          ],
          "length": 13,
          "values": [
           1.0
          ],
          "vectorType": "sparse"
         },
         2.0,
         {
          "indices": [
           2
          ],
          "length": 4,
          "values": [
           1.0
          ],
          "vectorType": "sparse"
         },
         1.0,
         {
          "indices": [],
          "length": 1,
          "values": [],
          "vectorType": "sparse"
         },
         0.0,
         {
          "indices": [
           5,
           9,
           21,
           24,
           25
          ],
          "length": 28,
          "values": [
           1.0,
           1.0,
           1.0,
           33.0,
           10.0
          ],
          "vectorType": "sparse"
         }
        ]
       ],
       "datasetInfos": [],
       "dbfsResultPath": null,
       "isJsonSchema": true,
       "metadata": {},
       "overflow": false,
       "plotOptions": {
        "customPlotOptions": {},
        "displayType": "table",
        "pivotAggregation": null,
        "pivotColumns": null,
        "xColumns": null,
        "yColumns": null
       },
       "removedWidgets": [],
       "schema": [
        {
         "metadata": "{}",
         "name": "workclass",
         "type": "\"string\""
        },
        {
         "metadata": "{}",
         "name": "occupation",
         "type": "\"string\""
        },
        {
         "metadata": "{}",
         "name": "race",
         "type": "\"string\""
        },
        {
         "metadata": "{}",
         "name": "sex",
         "type": "\"string\""
        },
        {
         "metadata": "{}",
         "name": "age",
         "type": "\"double\""
        },
        {
         "metadata": "{}",
         "name": "education_num",
         "type": "\"double\""
        },
        {
         "metadata": "{}",
         "name": "capital_gain",
         "type": "\"double\""
        },
        {
         "metadata": "{}",
         "name": "capital_loss",
         "type": "\"double\""
        },
        {
         "metadata": "{}",
         "name": "income",
         "type": "\"string\""
        },
        {
         "metadata": "{\"ml_attr\":{\"vals\":[\" Private\",\" Self-emp-not-inc\",\" Local-gov\",\" State-gov\",\" Self-emp-inc\",\" Federal-gov\",\" Without-pay\"],\"type\":\"nominal\",\"name\":\"workclassIndex\"}}",
         "name": "workclassIndex",
         "type": "\"double\""
        },
        {
         "metadata": "{\"ml_attr\":{\"attrs\":{\"binary\":[{\"idx\":0,\"name\":\" Private\"},{\"idx\":1,\"name\":\" Self-emp-not-inc\"},{\"idx\":2,\"name\":\" Local-gov\"},{\"idx\":3,\"name\":\" State-gov\"},{\"idx\":4,\"name\":\" Self-emp-inc\"},{\"idx\":5,\"name\":\" Federal-gov\"}]},\"num_attrs\":6}}",
         "name": "workclassclassVec",
         "type": "{\"type\":\"udt\",\"class\":\"org.apache.spark.ml.linalg.VectorUDT\",\"pyClass\":\"pyspark.ml.linalg.VectorUDT\",\"sqlType\":{\"type\":\"struct\",\"fields\":[{\"name\":\"type\",\"type\":\"byte\",\"nullable\":false,\"metadata\":{}},{\"name\":\"size\",\"type\":\"integer\",\"nullable\":true,\"metadata\":{}},{\"name\":\"indices\",\"type\":{\"type\":\"array\",\"elementType\":\"integer\",\"containsNull\":false},\"nullable\":true,\"metadata\":{}},{\"name\":\"values\",\"type\":{\"type\":\"array\",\"elementType\":\"double\",\"containsNull\":false},\"nullable\":true,\"metadata\":{}}]}}"
        },
        {
         "metadata": "{\"ml_attr\":{\"vals\":[\" Prof-specialty\",\" Craft-repair\",\" Exec-managerial\",\" Adm-clerical\",\" Sales\",\" Other-service\",\" Machine-op-inspct\",\" Transport-moving\",\" Handlers-cleaners\",\" Farming-fishing\",\" Tech-support\",\" Protective-serv\",\" Priv-house-serv\",\" Armed-Forces\"],\"type\":\"nominal\",\"name\":\"occupationIndex\"}}",
         "name": "occupationIndex",
         "type": "\"double\""
        },
        {
         "metadata": "{\"ml_attr\":{\"attrs\":{\"binary\":[{\"idx\":0,\"name\":\" Prof-specialty\"},{\"idx\":1,\"name\":\" Craft-repair\"},{\"idx\":2,\"name\":\" Exec-managerial\"},{\"idx\":3,\"name\":\" Adm-clerical\"},{\"idx\":4,\"name\":\" Sales\"},{\"idx\":5,\"name\":\" Other-service\"},{\"idx\":6,\"name\":\" Machine-op-inspct\"},{\"idx\":7,\"name\":\" Transport-moving\"},{\"idx\":8,\"name\":\" Handlers-cleaners\"},{\"idx\":9,\"name\":\" Farming-fishing\"},{\"idx\":10,\"name\":\" Tech-support\"},{\"idx\":11,\"name\":\" Protective-serv\"},{\"idx\":12,\"name\":\" Priv-house-serv\"}]},\"num_attrs\":13}}",
         "name": "occupationclassVec",
         "type": "{\"type\":\"udt\",\"class\":\"org.apache.spark.ml.linalg.VectorUDT\",\"pyClass\":\"pyspark.ml.linalg.VectorUDT\",\"sqlType\":{\"type\":\"struct\",\"fields\":[{\"name\":\"type\",\"type\":\"byte\",\"nullable\":false,\"metadata\":{}},{\"name\":\"size\",\"type\":\"integer\",\"nullable\":true,\"metadata\":{}},{\"name\":\"indices\",\"type\":{\"type\":\"array\",\"elementType\":\"integer\",\"containsNull\":false},\"nullable\":true,\"metadata\":{}},{\"name\":\"values\",\"type\":{\"type\":\"array\",\"elementType\":\"double\",\"containsNull\":false},\"nullable\":true,\"metadata\":{}}]}}"
        },
        {
         "metadata": "{\"ml_attr\":{\"vals\":[\" White\",\" Black\",\" Asian-Pac-Islander\",\" Amer-Indian-Eskimo\",\" Other\"],\"type\":\"nominal\",\"name\":\"raceIndex\"}}",
         "name": "raceIndex",
         "type": "\"double\""
        },
        {
         "metadata": "{\"ml_attr\":{\"attrs\":{\"binary\":[{\"idx\":0,\"name\":\" White\"},{\"idx\":1,\"name\":\" Black\"},{\"idx\":2,\"name\":\" Asian-Pac-Islander\"},{\"idx\":3,\"name\":\" Amer-Indian-Eskimo\"}]},\"num_attrs\":4}}",
         "name": "raceclassVec",
         "type": "{\"type\":\"udt\",\"class\":\"org.apache.spark.ml.linalg.VectorUDT\",\"pyClass\":\"pyspark.ml.linalg.VectorUDT\",\"sqlType\":{\"type\":\"struct\",\"fields\":[{\"name\":\"type\",\"type\":\"byte\",\"nullable\":false,\"metadata\":{}},{\"name\":\"size\",\"type\":\"integer\",\"nullable\":true,\"metadata\":{}},{\"name\":\"indices\",\"type\":{\"type\":\"array\",\"elementType\":\"integer\",\"containsNull\":false},\"nullable\":true,\"metadata\":{}},{\"name\":\"values\",\"type\":{\"type\":\"array\",\"elementType\":\"double\",\"containsNull\":false},\"nullable\":true,\"metadata\":{}}]}}"
        },
        {
         "metadata": "{\"ml_attr\":{\"vals\":[\" Male\",\" Female\"],\"type\":\"nominal\",\"name\":\"sexIndex\"}}",
         "name": "sexIndex",
         "type": "\"double\""
        },
        {
         "metadata": "{\"ml_attr\":{\"attrs\":{\"binary\":[{\"idx\":0,\"name\":\" Male\"}]},\"num_attrs\":1}}",
         "name": "sexclassVec",
         "type": "{\"type\":\"udt\",\"class\":\"org.apache.spark.ml.linalg.VectorUDT\",\"pyClass\":\"pyspark.ml.linalg.VectorUDT\",\"sqlType\":{\"type\":\"struct\",\"fields\":[{\"name\":\"type\",\"type\":\"byte\",\"nullable\":false,\"metadata\":{}},{\"name\":\"size\",\"type\":\"integer\",\"nullable\":true,\"metadata\":{}},{\"name\":\"indices\",\"type\":{\"type\":\"array\",\"elementType\":\"integer\",\"containsNull\":false},\"nullable\":true,\"metadata\":{}},{\"name\":\"values\",\"type\":{\"type\":\"array\",\"elementType\":\"double\",\"containsNull\":false},\"nullable\":true,\"metadata\":{}}]}}"
        },
        {
         "metadata": "{\"ml_attr\":{\"vals\":[\" <=50K\",\" >50K\"],\"type\":\"nominal\",\"name\":\"label\"}}",
         "name": "label",
         "type": "\"double\""
        },
        {
         "metadata": "{\"ml_attr\":{\"attrs\":{\"numeric\":[{\"idx\":24,\"name\":\"age\"},{\"idx\":25,\"name\":\"education_num\"},{\"idx\":26,\"name\":\"capital_gain\"},{\"idx\":27,\"name\":\"capital_loss\"}],\"binary\":[{\"idx\":0,\"name\":\"workclassclassVec_ Private\"},{\"idx\":1,\"name\":\"workclassclassVec_ Self-emp-not-inc\"},{\"idx\":2,\"name\":\"workclassclassVec_ Local-gov\"},{\"idx\":3,\"name\":\"workclassclassVec_ State-gov\"},{\"idx\":4,\"name\":\"workclassclassVec_ Self-emp-inc\"},{\"idx\":5,\"name\":\"workclassclassVec_ Federal-gov\"},{\"idx\":6,\"name\":\"occupationclassVec_ Prof-specialty\"},{\"idx\":7,\"name\":\"occupationclassVec_ Craft-repair\"},{\"idx\":8,\"name\":\"occupationclassVec_ Exec-managerial\"},{\"idx\":9,\"name\":\"occupationclassVec_ Adm-clerical\"},{\"idx\":10,\"name\":\"occupationclassVec_ Sales\"},{\"idx\":11,\"name\":\"occupationclassVec_ Other-service\"},{\"idx\":12,\"name\":\"occupationclassVec_ Machine-op-inspct\"},{\"idx\":13,\"name\":\"occupationclassVec_ Transport-moving\"},{\"idx\":14,\"name\":\"occupationclassVec_ Handlers-cleaners\"},{\"idx\":15,\"name\":\"occupationclassVec_ Farming-fishing\"},{\"idx\":16,\"name\":\"occupationclassVec_ Tech-support\"},{\"idx\":17,\"name\":\"occupationclassVec_ Protective-serv\"},{\"idx\":18,\"name\":\"occupationclassVec_ Priv-house-serv\"},{\"idx\":19,\"name\":\"raceclassVec_ White\"},{\"idx\":20,\"name\":\"raceclassVec_ Black\"},{\"idx\":21,\"name\":\"raceclassVec_ Asian-Pac-Islander\"},{\"idx\":22,\"name\":\"raceclassVec_ Amer-Indian-Eskimo\"},{\"idx\":23,\"name\":\"sexclassVec_ Male\"}]},\"num_attrs\":28}}",
         "name": "features",
         "type": "{\"type\":\"udt\",\"class\":\"org.apache.spark.ml.linalg.VectorUDT\",\"pyClass\":\"pyspark.ml.linalg.VectorUDT\",\"sqlType\":{\"type\":\"struct\",\"fields\":[{\"name\":\"type\",\"type\":\"byte\",\"nullable\":false,\"metadata\":{}},{\"name\":\"size\",\"type\":\"integer\",\"nullable\":true,\"metadata\":{}},{\"name\":\"indices\",\"type\":{\"type\":\"array\",\"elementType\":\"integer\",\"containsNull\":false},\"nullable\":true,\"metadata\":{}},{\"name\":\"values\",\"type\":{\"type\":\"array\",\"elementType\":\"double\",\"containsNull\":false},\"nullable\":true,\"metadata\":{}}]}}"
        }
       ],
       "type": "table"
      }
     }
    }
   ],
   "source": [
    "display(train.limit(2))"
   ]
  },
  {
   "cell_type": "code",
   "execution_count": null,
   "metadata": {
    "application/vnd.databricks.v1+cell": {
     "cellMetadata": {
      "byteLimit": 2048000,
      "rowLimit": 10000
     },
     "inputWidgets": {},
     "nuid": "d85ec49a-750f-4a8e-9a1d-51db344e0ec5",
     "showTitle": false,
     "title": ""
    },
    "pycharm": {
     "is_executing": true
    }
   },
   "outputs": [],
   "source": [
    "# Fit model to prepped data\n",
    "lrModel = LogisticRegression(labelCol= 'label', featuresCol='features', maxIter= 10).fit(train)\n",
    " \n",
    "# predictions\n",
    "predictions = lrModel.transform(test)\n",
    "preds = predictions.select(\"label\", \"prediction\", \"probability\")\n",
    "# ROC for training data\n",
    "#display(lrModel, prepared_df, \"ROC\")\n",
    "#display(preds)"
   ]
  },
  {
   "cell_type": "code",
   "execution_count": 0,
   "metadata": {
    "application/vnd.databricks.v1+cell": {
     "cellMetadata": {
      "byteLimit": 2048000,
      "rowLimit": 10000
     },
     "inputWidgets": {},
     "nuid": "4bf7f2ae-1a3e-4724-ba56-e40841f82b71",
     "showTitle": true,
     "title": "Confusion Matrix"
    }
   },
   "outputs": [
    {
     "output_type": "display_data",
     "data": {
      "text/html": [
       "<style scoped>\n",
       "  .table-result-container {\n",
       "    max-height: 300px;\n",
       "    overflow: auto;\n",
       "  }\n",
       "  table, th, td {\n",
       "    border: 1px solid black;\n",
       "    border-collapse: collapse;\n",
       "  }\n",
       "  th, td {\n",
       "    padding: 5px;\n",
       "  }\n",
       "  th {\n",
       "    text-align: left;\n",
       "  }\n",
       "</style><div class='table-result-container'><table class='table-result'><thead style='background-color: white'><tr><th>label_prediction</th><th>0.0</th><th>1.0</th></tr></thead><tbody><tr><td>1.0</td><td>1151</td><td>1075</td></tr><tr><td>0.0</td><td>6324</td><td>438</td></tr></tbody></table></div>"
      ]
     },
     "metadata": {
      "application/vnd.databricks.v1+output": {
       "addedWidgets": {},
       "aggData": [],
       "aggError": "",
       "aggOverflow": false,
       "aggSchema": [],
       "aggSeriesLimitReached": false,
       "aggType": "",
       "arguments": {},
       "columnCustomDisplayInfos": {},
       "data": [
        [
         "1.0",
         1151,
         1075
        ],
        [
         "0.0",
         6324,
         438
        ]
       ],
       "datasetInfos": [],
       "dbfsResultPath": null,
       "isJsonSchema": true,
       "metadata": {},
       "overflow": false,
       "plotOptions": {
        "customPlotOptions": {},
        "displayType": "table",
        "pivotAggregation": null,
        "pivotColumns": null,
        "xColumns": null,
        "yColumns": null
       },
       "removedWidgets": [],
       "schema": [
        {
         "metadata": "{}",
         "name": "label_prediction",
         "type": "\"string\""
        },
        {
         "metadata": "{}",
         "name": "0.0",
         "type": "\"long\""
        },
        {
         "metadata": "{}",
         "name": "1.0",
         "type": "\"long\""
        }
       ],
       "type": "table"
      }
     }
    }
   ],
   "source": [
    "# Confusion Matrix\n",
    "display(\n",
    "  preds.crosstab('label', 'prediction')\n",
    ")"
   ]
  },
  {
   "cell_type": "code",
   "execution_count": 0,
   "metadata": {
    "application/vnd.databricks.v1+cell": {
     "cellMetadata": {
      "byteLimit": 2048000,
      "rowLimit": 10000
     },
     "inputWidgets": {},
     "nuid": "84f465c0-a162-4b5f-92a9-e861797da10e",
     "showTitle": false,
     "title": ""
    }
   },
   "outputs": [
    {
     "output_type": "display_data",
     "data": {
      "text/html": [
       "<style scoped>\n",
       "  .ansiout {\n",
       "    display: block;\n",
       "    unicode-bidi: embed;\n",
       "    white-space: pre-wrap;\n",
       "    word-wrap: break-word;\n",
       "    word-break: break-all;\n",
       "    font-family: \"Menlo\", \"Monaco\", \"Consolas\", \"Ubuntu Mono\", \"Source Code Pro\", monospace;\n",
       "    font-size: 13px;\n",
       "    color: #555;\n",
       "    margin-left: 4px;\n",
       "    line-height: 19px;\n",
       "  }\n",
       "</style>\n",
       "<div class=\"ansiout\">Precision: 0.7105089226701917\n",
       "Recall: 0.4829290206648697\n",
       "Specificity: 0.935226264418811\n",
       "</div>"
      ]
     },
     "metadata": {
      "application/vnd.databricks.v1+output": {
       "addedWidgets": {},
       "arguments": {},
       "data": "<div class=\"ansiout\">Precision: 0.7105089226701917\nRecall: 0.4829290206648697\nSpecificity: 0.935226264418811\n</div>",
       "datasetInfos": [],
       "metadata": {},
       "removedWidgets": [],
       "type": "html"
      }
     }
    }
   ],
   "source": [
    "print(f'Precision: {1075/(1075+438)}')\n",
    "print(f'Recall: {1075/(1075+1151)}')\n",
    "print(f'Specificity: {6324/(6324+438)}')"
   ]
  },
  {
   "cell_type": "code",
   "execution_count": 0,
   "metadata": {
    "application/vnd.databricks.v1+cell": {
     "cellMetadata": {
      "byteLimit": 2048000,
      "rowLimit": 10000
     },
     "inputWidgets": {},
     "nuid": "b1282d5f-9d80-47eb-8199-bdb1b38d519c",
     "showTitle": false,
     "title": ""
    }
   },
   "outputs": [
    {
     "output_type": "display_data",
     "data": {
      "text/html": [
       "<style scoped>\n",
       "  .ansiout {\n",
       "    display: block;\n",
       "    unicode-bidi: embed;\n",
       "    white-space: pre-wrap;\n",
       "    word-wrap: break-word;\n",
       "    word-break: break-all;\n",
       "    font-family: \"Menlo\", \"Monaco\", \"Consolas\", \"Ubuntu Mono\", \"Source Code Pro\", monospace;\n",
       "    font-size: 13px;\n",
       "    color: #555;\n",
       "    margin-left: 4px;\n",
       "    line-height: 19px;\n",
       "  }\n",
       "</style>\n",
       "<div class=\"ansiout\">Out[392]: 0.8571733221112022</div>"
      ]
     },
     "metadata": {
      "application/vnd.databricks.v1+output": {
       "addedWidgets": {},
       "arguments": {},
       "data": "<div class=\"ansiout\">Out[392]: 0.8571733221112022</div>",
       "datasetInfos": [],
       "metadata": {},
       "removedWidgets": [],
       "type": "html"
      }
     }
    }
   ],
   "source": [
    "from pyspark.ml.evaluation import BinaryClassificationEvaluator\n",
    "\n",
    "# Evaluate model\n",
    "evaluator = BinaryClassificationEvaluator()\n",
    "evaluator.evaluate(predictions)"
   ]
  },
  {
   "cell_type": "code",
   "execution_count": 0,
   "metadata": {
    "application/vnd.databricks.v1+cell": {
     "cellMetadata": {
      "byteLimit": 2048000,
      "rowLimit": 10000
     },
     "inputWidgets": {},
     "nuid": "d2142308-aeda-41fa-95fe-59d58653f8c5",
     "showTitle": true,
     "title": "Improving the model"
    }
   },
   "outputs": [
    {
     "output_type": "display_data",
     "data": {
      "text/html": [
       "<style scoped>\n",
       "  .ansiout {\n",
       "    display: block;\n",
       "    unicode-bidi: embed;\n",
       "    white-space: pre-wrap;\n",
       "    word-wrap: break-word;\n",
       "    word-break: break-all;\n",
       "    font-family: \"Menlo\", \"Monaco\", \"Consolas\", \"Ubuntu Mono\", \"Source Code Pro\", monospace;\n",
       "    font-size: 13px;\n",
       "    color: #555;\n",
       "    margin-left: 4px;\n",
       "    line-height: 19px;\n",
       "  }\n",
       "</style>\n",
       "<div class=\"ansiout\"></div>"
      ]
     },
     "metadata": {
      "application/vnd.databricks.v1+output": {
       "addedWidgets": {},
       "arguments": {},
       "data": "<div class=\"ansiout\"></div>",
       "datasetInfos": [],
       "metadata": {},
       "removedWidgets": [],
       "type": "html"
      }
     }
    }
   ],
   "source": [
    "from pyspark.ml.tuning import ParamGridBuilder, CrossValidator\n",
    " \n",
    "logit = LogisticRegression(labelCol=\"label\", featuresCol=\"features\", maxIter=10)\n",
    "\n",
    "# Create ParamGrid for Cross Validation\n",
    "paramGrid = (ParamGridBuilder()\n",
    "             .addGrid(logit.regParam, [0.01, 0.5, 2.0])\n",
    "             .addGrid(logit.threshold, [0.35, 0.38])\n",
    "             .build())"
   ]
  },
  {
   "cell_type": "code",
   "execution_count": 0,
   "metadata": {
    "application/vnd.databricks.v1+cell": {
     "cellMetadata": {
      "byteLimit": 2048000,
      "rowLimit": 10000
     },
     "inputWidgets": {},
     "nuid": "c131b39b-ee98-4800-85e7-71416ab049f4",
     "showTitle": false,
     "title": ""
    }
   },
   "outputs": [
    {
     "output_type": "display_data",
     "data": {
      "text/html": [
       "<style scoped>\n",
       "  .ansiout {\n",
       "    display: block;\n",
       "    unicode-bidi: embed;\n",
       "    white-space: pre-wrap;\n",
       "    word-wrap: break-word;\n",
       "    word-break: break-all;\n",
       "    font-family: \"Menlo\", \"Monaco\", \"Consolas\", \"Ubuntu Mono\", \"Source Code Pro\", monospace;\n",
       "    font-size: 13px;\n",
       "    color: #555;\n",
       "    margin-left: 4px;\n",
       "    line-height: 19px;\n",
       "  }\n",
       "</style>\n",
       "<div class=\"ansiout\">cutoff: 0.35\n",
       "regParam: 0.01\n",
       "</div>"
      ]
     },
     "metadata": {
      "application/vnd.databricks.v1+output": {
       "addedWidgets": {},
       "arguments": {},
       "data": "<div class=\"ansiout\">cutoff: 0.35\nregParam: 0.01\n</div>",
       "datasetInfos": [],
       "metadata": {},
       "removedWidgets": [],
       "type": "html"
      }
     }
    },
    {
     "output_type": "display_data",
     "data": {
      "text/html": [
       "<style scoped>\n",
       "  .table-result-container {\n",
       "    max-height: 300px;\n",
       "    overflow: auto;\n",
       "  }\n",
       "  table, th, td {\n",
       "    border: 1px solid black;\n",
       "    border-collapse: collapse;\n",
       "  }\n",
       "  th, td {\n",
       "    padding: 5px;\n",
       "  }\n",
       "  th {\n",
       "    text-align: left;\n",
       "  }\n",
       "</style><div class='table-result-container'><table class='table-result'><thead style='background-color: white'><tr><th>label_prediction</th><th>0.0</th><th>1.0</th></tr></thead><tbody><tr><td>1.0</td><td>762</td><td>1449</td></tr><tr><td>0.0</td><td>5819</td><td>958</td></tr></tbody></table></div>"
      ]
     },
     "metadata": {
      "application/vnd.databricks.v1+output": {
       "addedWidgets": {},
       "aggData": [],
       "aggError": "",
       "aggOverflow": false,
       "aggSchema": [],
       "aggSeriesLimitReached": false,
       "aggType": "",
       "arguments": {},
       "columnCustomDisplayInfos": {},
       "data": [
        [
         "1.0",
         762,
         1449
        ],
        [
         "0.0",
         5819,
         958
        ]
       ],
       "datasetInfos": [],
       "dbfsResultPath": null,
       "isJsonSchema": true,
       "metadata": {},
       "overflow": false,
       "plotOptions": {
        "customPlotOptions": {},
        "displayType": "table",
        "pivotAggregation": null,
        "pivotColumns": null,
        "xColumns": null,
        "yColumns": null
       },
       "removedWidgets": [],
       "schema": [
        {
         "metadata": "{}",
         "name": "label_prediction",
         "type": "\"string\""
        },
        {
         "metadata": "{}",
         "name": "0.0",
         "type": "\"long\""
        },
        {
         "metadata": "{}",
         "name": "1.0",
         "type": "\"long\""
        }
       ],
       "type": "table"
      }
     }
    }
   ],
   "source": [
    "# Create 5-fold CrossValidator\n",
    "cv = CrossValidator(estimator=logit, estimatorParamMaps=paramGrid, evaluator=evaluator, numFolds=5)\n",
    " \n",
    "# Run cross validations\n",
    "cv_model = cv.fit(train)\n",
    "\n",
    "print('cutoff:', cv_model.bestModel.getThreshold())\n",
    "print('regParam:', cv_model.bestModel.getRegParam())\n",
    "\n",
    "# Predictions\n",
    "preds2 = cv_model.bestModel.transform(test)\n",
    "\n",
    "# Confusion Matrix\n",
    "display(\n",
    "  preds2.crosstab('label', 'prediction')\n",
    ")\n"
   ]
  },
  {
   "cell_type": "code",
   "execution_count": 0,
   "metadata": {
    "application/vnd.databricks.v1+cell": {
     "cellMetadata": {
      "byteLimit": 2048000,
      "rowLimit": 10000
     },
     "inputWidgets": {},
     "nuid": "75a45cb7-9165-43a5-9893-42c22bac24f2",
     "showTitle": false,
     "title": ""
    }
   },
   "outputs": [
    {
     "output_type": "display_data",
     "data": {
      "text/html": [
       "<style scoped>\n",
       "  .table-result-container {\n",
       "    max-height: 300px;\n",
       "    overflow: auto;\n",
       "  }\n",
       "  table, th, td {\n",
       "    border: 1px solid black;\n",
       "    border-collapse: collapse;\n",
       "  }\n",
       "  th, td {\n",
       "    padding: 5px;\n",
       "  }\n",
       "  th {\n",
       "    text-align: left;\n",
       "  }\n",
       "</style><div class='table-result-container'><table class='table-result'><thead style='background-color: white'><tr><th>label_prediction</th><th>0.0</th><th>1.0</th></tr></thead><tbody><tr><td>1.0</td><td>762</td><td>1449</td></tr><tr><td>0.0</td><td>5819</td><td>958</td></tr></tbody></table></div>"
      ]
     },
     "metadata": {
      "application/vnd.databricks.v1+output": {
       "addedWidgets": {},
       "aggData": [],
       "aggError": "",
       "aggOverflow": false,
       "aggSchema": [],
       "aggSeriesLimitReached": false,
       "aggType": "",
       "arguments": {},
       "columnCustomDisplayInfos": {},
       "data": [
        [
         "1.0",
         762,
         1449
        ],
        [
         "0.0",
         5819,
         958
        ]
       ],
       "datasetInfos": [],
       "dbfsResultPath": null,
       "isJsonSchema": true,
       "metadata": {},
       "overflow": false,
       "plotOptions": {
        "customPlotOptions": {},
        "displayType": "table",
        "pivotAggregation": null,
        "pivotColumns": null,
        "xColumns": null,
        "yColumns": null
       },
       "removedWidgets": [],
       "schema": [
        {
         "metadata": "{}",
         "name": "label_prediction",
         "type": "\"string\""
        },
        {
         "metadata": "{}",
         "name": "0.0",
         "type": "\"long\""
        },
        {
         "metadata": "{}",
         "name": "1.0",
         "type": "\"long\""
        }
       ],
       "type": "table"
      }
     }
    }
   ],
   "source": [
    "# Predictions\n",
    "preds2 = cv_model.bestModel.transform(test)\n",
    "\n",
    "# Confusion Matrix\n",
    "display(\n",
    "  preds2.crosstab('label', 'prediction')\n",
    ")"
   ]
  },
  {
   "cell_type": "code",
   "execution_count": 0,
   "metadata": {
    "application/vnd.databricks.v1+cell": {
     "cellMetadata": {
      "byteLimit": 2048000,
      "rowLimit": 10000
     },
     "inputWidgets": {},
     "nuid": "fba5a1c7-3f74-45d2-8e57-151c5643ff94",
     "showTitle": false,
     "title": ""
    }
   },
   "outputs": [
    {
     "output_type": "display_data",
     "data": {
      "text/html": [
       "<style scoped>\n",
       "  .table-result-container {\n",
       "    max-height: 300px;\n",
       "    overflow: auto;\n",
       "  }\n",
       "  table, th, td {\n",
       "    border: 1px solid black;\n",
       "    border-collapse: collapse;\n",
       "  }\n",
       "  th, td {\n",
       "    padding: 5px;\n",
       "  }\n",
       "  th {\n",
       "    text-align: left;\n",
       "  }\n",
       "</style><div class='table-result-container'><table class='table-result'><thead style='background-color: white'><tr><th>label_prediction</th><th>0.0</th><th>1.0</th></tr></thead><tbody><tr><td>1.0</td><td>825</td><td>1386</td></tr><tr><td>0.0</td><td>5967</td><td>810</td></tr></tbody></table></div>"
      ]
     },
     "metadata": {
      "application/vnd.databricks.v1+output": {
       "addedWidgets": {},
       "aggData": [],
       "aggError": "",
       "aggOverflow": false,
       "aggSchema": [],
       "aggSeriesLimitReached": false,
       "aggType": "",
       "arguments": {},
       "columnCustomDisplayInfos": {},
       "data": [
        [
         "1.0",
         825,
         1386
        ],
        [
         "0.0",
         5967,
         810
        ]
       ],
       "datasetInfos": [],
       "dbfsResultPath": null,
       "isJsonSchema": true,
       "metadata": {},
       "overflow": false,
       "plotOptions": {
        "customPlotOptions": {},
        "displayType": "table",
        "pivotAggregation": null,
        "pivotColumns": null,
        "xColumns": null,
        "yColumns": null
       },
       "removedWidgets": [],
       "schema": [
        {
         "metadata": "{}",
         "name": "label_prediction",
         "type": "\"string\""
        },
        {
         "metadata": "{}",
         "name": "0.0",
         "type": "\"long\""
        },
        {
         "metadata": "{}",
         "name": "1.0",
         "type": "\"long\""
        }
       ],
       "type": "table"
      }
     }
    }
   ],
   "source": [
    "logit = LogisticRegression(labelCol=\"label\", featuresCol=\"features\", threshold=0.38, maxIter=100)\n",
    "log_fit = logit.fit(train)\n",
    "\n",
    "# Make predictions on test data using the transform() method.\n",
    "preds2 = log_fit.transform(test)\n",
    "\n",
    "# Confusion Matrix\n",
    "display(\n",
    "  preds2.crosstab('label', 'prediction')\n",
    ")"
   ]
  },
  {
   "cell_type": "code",
   "execution_count": 0,
   "metadata": {
    "application/vnd.databricks.v1+cell": {
     "cellMetadata": {
      "byteLimit": 2048000,
      "rowLimit": 10000
     },
     "inputWidgets": {},
     "nuid": "f8bccca6-aa49-4ca7-93f5-8d85ea141214",
     "showTitle": false,
     "title": ""
    }
   },
   "outputs": [
    {
     "output_type": "display_data",
     "data": {
      "text/html": [
       "<style scoped>\n",
       "  .ansiout {\n",
       "    display: block;\n",
       "    unicode-bidi: embed;\n",
       "    white-space: pre-wrap;\n",
       "    word-wrap: break-word;\n",
       "    word-break: break-all;\n",
       "    font-family: \"Menlo\", \"Monaco\", \"Consolas\", \"Ubuntu Mono\", \"Source Code Pro\", monospace;\n",
       "    font-size: 13px;\n",
       "    color: #555;\n",
       "    margin-left: 4px;\n",
       "    line-height: 19px;\n",
       "  }\n",
       "</style>\n",
       "<div class=\"ansiout\">Precision: 0.6311475409836066\n",
       "Recall: 0.6268656716417911\n",
       "Specificity: 0.8804780876494024\n",
       "</div>"
      ]
     },
     "metadata": {
      "application/vnd.databricks.v1+output": {
       "addedWidgets": {},
       "arguments": {},
       "data": "<div class=\"ansiout\">Precision: 0.6311475409836066\nRecall: 0.6268656716417911\nSpecificity: 0.8804780876494024\n</div>",
       "datasetInfos": [],
       "metadata": {},
       "removedWidgets": [],
       "type": "html"
      }
     }
    }
   ],
   "source": [
    "print(f'Precision: {1386/(1386+810)}')\n",
    "print(f'Recall: {1386/(1386+825)}')\n",
    "print(f'Specificity: {5967/(5967+810)}')"
   ]
  },
  {
   "cell_type": "code",
   "execution_count": 0,
   "metadata": {
    "application/vnd.databricks.v1+cell": {
     "cellMetadata": {
      "byteLimit": 2048000,
      "rowLimit": 10000
     },
     "inputWidgets": {},
     "nuid": "6dcab0ae-cc26-4167-807e-4694dbdbdb08",
     "showTitle": false,
     "title": ""
    }
   },
   "outputs": [
    {
     "output_type": "display_data",
     "data": {
      "text/html": [
       "<style scoped>\n",
       "  .table-result-container {\n",
       "    max-height: 300px;\n",
       "    overflow: auto;\n",
       "  }\n",
       "  table, th, td {\n",
       "    border: 1px solid black;\n",
       "    border-collapse: collapse;\n",
       "  }\n",
       "  th, td {\n",
       "    padding: 5px;\n",
       "  }\n",
       "  th {\n",
       "    text-align: left;\n",
       "  }\n",
       "</style><div class='table-result-container'><table class='table-result'><thead style='background-color: white'><tr><th>False Positive Rate</th><th>True Positive Rate</th><th>Threshold</th></tr></thead><tbody><tr><td>0.0</td><td>0.0</td><td>0.999999999999956</td></tr><tr><td>0.0</td><td>0.043478260869565216</td><td>0.999999999999956</td></tr><tr><td>0.0</td><td>0.08695652173913043</td><td>0.9987407842466588</td></tr><tr><td>0.0</td><td>0.13043478260869565</td><td>0.9825766224890088</td></tr><tr><td>0.0</td><td>0.17391304347826086</td><td>0.959326987098154</td></tr><tr><td>0.0</td><td>0.21739130434782608</td><td>0.9419623279672807</td></tr><tr><td>0.0</td><td>0.2608695652173913</td><td>0.8809799010330135</td></tr><tr><td>0.0</td><td>0.30434782608695654</td><td>0.7568368228697316</td></tr><tr><td>0.01098901098901099</td><td>0.30434782608695654</td><td>0.723099060638785</td></tr><tr><td>0.01098901098901099</td><td>0.34782608695652173</td><td>0.7219955581238138</td></tr><tr><td>0.01098901098901099</td><td>0.391304347826087</td><td>0.6692866859373948</td></tr><tr><td>0.02197802197802198</td><td>0.391304347826087</td><td>0.639246073117977</td></tr><tr><td>0.03296703296703297</td><td>0.391304347826087</td><td>0.6293080343724617</td></tr><tr><td>0.04395604395604396</td><td>0.391304347826087</td><td>0.6084344179001318</td></tr><tr><td>0.04395604395604396</td><td>0.43478260869565216</td><td>0.5914819763169461</td></tr><tr><td>0.054945054945054944</td><td>0.43478260869565216</td><td>0.5852909189645215</td></tr><tr><td>0.06593406593406594</td><td>0.43478260869565216</td><td>0.5779759722895434</td></tr><tr><td>0.07692307692307693</td><td>0.43478260869565216</td><td>0.5251448600980128</td></tr><tr><td>0.08791208791208792</td><td>0.43478260869565216</td><td>0.5187956940298357</td></tr><tr><td>0.0989010989010989</td><td>0.43478260869565216</td><td>0.515987980002137</td></tr><tr><td>0.0989010989010989</td><td>0.4782608695652174</td><td>0.5155654441746587</td></tr><tr><td>0.10989010989010989</td><td>0.4782608695652174</td><td>0.4408354957945506</td></tr><tr><td>0.10989010989010989</td><td>0.5217391304347826</td><td>0.4363056165832818</td></tr><tr><td>0.10989010989010989</td><td>0.5652173913043478</td><td>0.4257421797687575</td></tr><tr><td>0.10989010989010989</td><td>0.6086956521739131</td><td>0.4044349746443965</td></tr><tr><td>0.12087912087912088</td><td>0.6086956521739131</td><td>0.39530133108619847</td></tr><tr><td>0.13186813186813187</td><td>0.6086956521739131</td><td>0.3557132587916656</td></tr><tr><td>0.14285714285714285</td><td>0.6086956521739131</td><td>0.3360233321341213</td></tr><tr><td>0.15384615384615385</td><td>0.6086956521739131</td><td>0.3183620359481253</td></tr><tr><td>0.16483516483516483</td><td>0.6086956521739131</td><td>0.3174247013840984</td></tr><tr><td>0.17582417582417584</td><td>0.6086956521739131</td><td>0.3137783887873936</td></tr><tr><td>0.18681318681318682</td><td>0.6086956521739131</td><td>0.31292873486612893</td></tr><tr><td>0.1978021978021978</td><td>0.6086956521739131</td><td>0.2905277866584367</td></tr><tr><td>0.2087912087912088</td><td>0.6086956521739131</td><td>0.2826451991104474</td></tr><tr><td>0.21978021978021978</td><td>0.6086956521739131</td><td>0.2522480814914937</td></tr><tr><td>0.23076923076923078</td><td>0.6086956521739131</td><td>0.24386095041188038</td></tr><tr><td>0.24175824175824176</td><td>0.6086956521739131</td><td>0.23086807341067317</td></tr><tr><td>0.25274725274725274</td><td>0.6086956521739131</td><td>0.22695393432651845</td></tr><tr><td>0.26373626373626374</td><td>0.6086956521739131</td><td>0.22129705731427873</td></tr><tr><td>0.27472527472527475</td><td>0.6086956521739131</td><td>0.21206410165880651</td></tr><tr><td>0.2857142857142857</td><td>0.6086956521739131</td><td>0.2095148849409798</td></tr><tr><td>0.2857142857142857</td><td>0.6521739130434783</td><td>0.20907897897537397</td></tr><tr><td>0.2857142857142857</td><td>0.6956521739130435</td><td>0.2083893632210907</td></tr><tr><td>0.2967032967032967</td><td>0.6956521739130435</td><td>0.20111511310977126</td></tr><tr><td>0.3076923076923077</td><td>0.6956521739130435</td><td>0.19982166936627288</td></tr><tr><td>0.3076923076923077</td><td>0.7391304347826086</td><td>0.19864391143996707</td></tr><tr><td>0.31868131868131866</td><td>0.7391304347826086</td><td>0.19129873909635486</td></tr><tr><td>0.32967032967032966</td><td>0.7391304347826086</td><td>0.17345977020289838</td></tr><tr><td>0.34065934065934067</td><td>0.7391304347826086</td><td>0.17226144073009297</td></tr><tr><td>0.3516483516483517</td><td>0.7391304347826086</td><td>0.16761196725547578</td></tr><tr><td>0.3516483516483517</td><td>0.782608695652174</td><td>0.16517871877574786</td></tr><tr><td>0.3626373626373626</td><td>0.782608695652174</td><td>0.16497229101181232</td></tr><tr><td>0.37362637362637363</td><td>0.782608695652174</td><td>0.15267052759080002</td></tr><tr><td>0.37362637362637363</td><td>0.8260869565217391</td><td>0.15138834754994845</td></tr><tr><td>0.38461538461538464</td><td>0.8260869565217391</td><td>0.15062964067707252</td></tr><tr><td>0.3956043956043956</td><td>0.8260869565217391</td><td>0.14668825589366474</td></tr><tr><td>0.4065934065934066</td><td>0.8260869565217391</td><td>0.1456235239852225</td></tr><tr><td>0.4175824175824176</td><td>0.8260869565217391</td><td>0.14498826873848225</td></tr><tr><td>0.42857142857142855</td><td>0.8260869565217391</td><td>0.1417391342165838</td></tr><tr><td>0.43956043956043955</td><td>0.8260869565217391</td><td>0.1415993795085978</td></tr><tr><td>0.45054945054945056</td><td>0.8260869565217391</td><td>0.13982563253579994</td></tr><tr><td>0.46153846153846156</td><td>0.8260869565217391</td><td>0.1321043796258622</td></tr><tr><td>0.4725274725274725</td><td>0.8260869565217391</td><td>0.13176185909606397</td></tr><tr><td>0.4835164835164835</td><td>0.8260869565217391</td><td>0.12678649197014824</td></tr><tr><td>0.4945054945054945</td><td>0.8260869565217391</td><td>0.12497315264483966</td></tr><tr><td>0.5054945054945055</td><td>0.8260869565217391</td><td>0.11798584349735464</td></tr><tr><td>0.5164835164835165</td><td>0.8260869565217391</td><td>0.11388506243590435</td></tr><tr><td>0.5274725274725275</td><td>0.8260869565217391</td><td>0.10618873461231115</td></tr><tr><td>0.5384615384615384</td><td>0.8260869565217391</td><td>0.10437115909204497</td></tr><tr><td>0.5494505494505495</td><td>0.8260869565217391</td><td>0.10385611599049571</td></tr><tr><td>0.5604395604395604</td><td>0.8260869565217391</td><td>0.1034601028285842</td></tr><tr><td>0.5714285714285714</td><td>0.8260869565217391</td><td>0.09969302305506267</td></tr><tr><td>0.5714285714285714</td><td>0.8695652173913043</td><td>0.09730660768680821</td></tr><tr><td>0.5824175824175825</td><td>0.8695652173913043</td><td>0.0914688745808766</td></tr><tr><td>0.5934065934065934</td><td>0.8695652173913043</td><td>0.08609675445504639</td></tr><tr><td>0.6043956043956044</td><td>0.8695652173913043</td><td>0.08321217678122828</td></tr><tr><td>0.6153846153846154</td><td>0.8695652173913043</td><td>0.08262989666961496</td></tr><tr><td>0.6153846153846154</td><td>0.9130434782608695</td><td>0.08167657023596786</td></tr><tr><td>0.6263736263736264</td><td>0.9130434782608695</td><td>0.07272781776608739</td></tr><tr><td>0.6373626373626373</td><td>0.9130434782608695</td><td>0.0688029565013697</td></tr><tr><td>0.6483516483516484</td><td>0.9130434782608695</td><td>0.06861362571790997</td></tr><tr><td>0.6593406593406593</td><td>0.9130434782608695</td><td>0.06759818382910454</td></tr><tr><td>0.6703296703296703</td><td>0.9130434782608695</td><td>0.0662447514223532</td></tr><tr><td>0.6813186813186813</td><td>0.9130434782608695</td><td>0.06543997826736103</td></tr><tr><td>0.6923076923076923</td><td>0.9130434782608695</td><td>0.06432537306331676</td></tr><tr><td>0.7032967032967034</td><td>0.9130434782608695</td><td>0.06364033123026613</td></tr><tr><td>0.7142857142857143</td><td>0.9130434782608695</td><td>0.061484045105983376</td></tr><tr><td>0.7252747252747253</td><td>0.9130434782608695</td><td>0.05996982894938718</td></tr><tr><td>0.7362637362637363</td><td>0.9130434782608695</td><td>0.05444162556073062</td></tr><tr><td>0.7362637362637363</td><td>0.9565217391304348</td><td>0.05300335801538203</td></tr><tr><td>0.7472527472527473</td><td>0.9565217391304348</td><td>0.052738932711505426</td></tr><tr><td>0.7582417582417582</td><td>0.9565217391304348</td><td>0.0525347593481682</td></tr><tr><td>0.7692307692307693</td><td>0.9565217391304348</td><td>0.04955422457683978</td></tr><tr><td>0.7802197802197802</td><td>0.9565217391304348</td><td>0.04703304638561956</td></tr><tr><td>0.7912087912087912</td><td>0.9565217391304348</td><td>0.04294078233917542</td></tr><tr><td>0.8021978021978022</td><td>0.9565217391304348</td><td>0.03862193511930567</td></tr><tr><td>0.8131868131868132</td><td>0.9565217391304348</td><td>0.037975688378797834</td></tr><tr><td>0.8241758241758241</td><td>0.9565217391304348</td><td>0.03704885483367304</td></tr><tr><td>0.8351648351648352</td><td>0.9565217391304348</td><td>0.035975184492276435</td></tr><tr><td>0.8351648351648352</td><td>1.0</td><td>0.034956742948473285</td></tr><tr><td>0.8461538461538461</td><td>1.0</td><td>0.03442687384405474</td></tr><tr><td>0.8571428571428571</td><td>1.0</td><td>0.03386583876093274</td></tr><tr><td>0.8681318681318682</td><td>1.0</td><td>0.03058098423891442</td></tr><tr><td>0.8791208791208791</td><td>1.0</td><td>0.02886806122476293</td></tr><tr><td>0.8901098901098901</td><td>1.0</td><td>0.025565189728528614</td></tr><tr><td>0.9010989010989011</td><td>1.0</td><td>0.025283436597406728</td></tr><tr><td>0.9120879120879121</td><td>1.0</td><td>0.024747747919150354</td></tr><tr><td>0.9230769230769231</td><td>1.0</td><td>0.021453229825399656</td></tr><tr><td>0.9340659340659341</td><td>1.0</td><td>0.017915157700929663</td></tr><tr><td>0.945054945054945</td><td>1.0</td><td>0.012714925319036952</td></tr><tr><td>0.9560439560439561</td><td>1.0</td><td>0.009600260684243245</td></tr><tr><td>0.967032967032967</td><td>1.0</td><td>0.009038298957458224</td></tr><tr><td>0.978021978021978</td><td>1.0</td><td>0.00662825065648831</td></tr><tr><td>0.989010989010989</td><td>1.0</td><td>0.005393578511183383</td></tr><tr><td>1.0</td><td>1.0</td><td>5.011585852809919E-5</td></tr><tr><td>1.0</td><td>1.0</td><td>5.011585852809919E-5</td></tr></tbody></table></div>"
      ]
     },
     "metadata": {
      "application/vnd.databricks.v1+output": {
       "addedWidgets": {},
       "aggData": [],
       "aggError": "",
       "aggOverflow": false,
       "aggSchema": [],
       "aggSeriesLimitReached": false,
       "aggType": "",
       "arguments": {},
       "columnCustomDisplayInfos": {},
       "data": [
        [
         0.0,
         0.0,
         0.999999999999956
        ],
        [
         0.0,
         0.043478260869565216,
         0.999999999999956
        ],
        [
         0.0,
         0.08695652173913043,
         0.9987407842466588
        ],
        [
         0.0,
         0.13043478260869565,
         0.9825766224890088
        ],
        [
         0.0,
         0.17391304347826086,
         0.959326987098154
        ],
        [
         0.0,
         0.21739130434782608,
         0.9419623279672807
        ],
        [
         0.0,
         0.2608695652173913,
         0.8809799010330135
        ],
        [
         0.0,
         0.30434782608695654,
         0.7568368228697316
        ],
        [
         0.01098901098901099,
         0.30434782608695654,
         0.723099060638785
        ],
        [
         0.01098901098901099,
         0.34782608695652173,
         0.7219955581238138
        ],
        [
         0.01098901098901099,
         0.391304347826087,
         0.6692866859373948
        ],
        [
         0.02197802197802198,
         0.391304347826087,
         0.639246073117977
        ],
        [
         0.03296703296703297,
         0.391304347826087,
         0.6293080343724617
        ],
        [
         0.04395604395604396,
         0.391304347826087,
         0.6084344179001318
        ],
        [
         0.04395604395604396,
         0.43478260869565216,
         0.5914819763169461
        ],
        [
         0.054945054945054944,
         0.43478260869565216,
         0.5852909189645215
        ],
        [
         0.06593406593406594,
         0.43478260869565216,
         0.5779759722895434
        ],
        [
         0.07692307692307693,
         0.43478260869565216,
         0.5251448600980128
        ],
        [
         0.08791208791208792,
         0.43478260869565216,
         0.5187956940298357
        ],
        [
         0.0989010989010989,
         0.43478260869565216,
         0.515987980002137
        ],
        [
         0.0989010989010989,
         0.4782608695652174,
         0.5155654441746587
        ],
        [
         0.10989010989010989,
         0.4782608695652174,
         0.4408354957945506
        ],
        [
         0.10989010989010989,
         0.5217391304347826,
         0.4363056165832818
        ],
        [
         0.10989010989010989,
         0.5652173913043478,
         0.4257421797687575
        ],
        [
         0.10989010989010989,
         0.6086956521739131,
         0.4044349746443965
        ],
        [
         0.12087912087912088,
         0.6086956521739131,
         0.39530133108619847
        ],
        [
         0.13186813186813187,
         0.6086956521739131,
         0.3557132587916656
        ],
        [
         0.14285714285714285,
         0.6086956521739131,
         0.3360233321341213
        ],
        [
         0.15384615384615385,
         0.6086956521739131,
         0.3183620359481253
        ],
        [
         0.16483516483516483,
         0.6086956521739131,
         0.3174247013840984
        ],
        [
         0.17582417582417584,
         0.6086956521739131,
         0.3137783887873936
        ],
        [
         0.18681318681318682,
         0.6086956521739131,
         0.31292873486612893
        ],
        [
         0.1978021978021978,
         0.6086956521739131,
         0.2905277866584367
        ],
        [
         0.2087912087912088,
         0.6086956521739131,
         0.2826451991104474
        ],
        [
         0.21978021978021978,
         0.6086956521739131,
         0.2522480814914937
        ],
        [
         0.23076923076923078,
         0.6086956521739131,
         0.24386095041188038
        ],
        [
         0.24175824175824176,
         0.6086956521739131,
         0.23086807341067317
        ],
        [
         0.25274725274725274,
         0.6086956521739131,
         0.22695393432651845
        ],
        [
         0.26373626373626374,
         0.6086956521739131,
         0.22129705731427873
        ],
        [
         0.27472527472527475,
         0.6086956521739131,
         0.21206410165880651
        ],
        [
         0.2857142857142857,
         0.6086956521739131,
         0.2095148849409798
        ],
        [
         0.2857142857142857,
         0.6521739130434783,
         0.20907897897537397
        ],
        [
         0.2857142857142857,
         0.6956521739130435,
         0.2083893632210907
        ],
        [
         0.2967032967032967,
         0.6956521739130435,
         0.20111511310977126
        ],
        [
         0.3076923076923077,
         0.6956521739130435,
         0.19982166936627288
        ],
        [
         0.3076923076923077,
         0.7391304347826086,
         0.19864391143996707
        ],
        [
         0.31868131868131866,
         0.7391304347826086,
         0.19129873909635486
        ],
        [
         0.32967032967032966,
         0.7391304347826086,
         0.17345977020289838
        ],
        [
         0.34065934065934067,
         0.7391304347826086,
         0.17226144073009297
        ],
        [
         0.3516483516483517,
         0.7391304347826086,
         0.16761196725547578
        ],
        [
         0.3516483516483517,
         0.782608695652174,
         0.16517871877574786
        ],
        [
         0.3626373626373626,
         0.782608695652174,
         0.16497229101181232
        ],
        [
         0.37362637362637363,
         0.782608695652174,
         0.15267052759080002
        ],
        [
         0.37362637362637363,
         0.8260869565217391,
         0.15138834754994845
        ],
        [
         0.38461538461538464,
         0.8260869565217391,
         0.15062964067707252
        ],
        [
         0.3956043956043956,
         0.8260869565217391,
         0.14668825589366474
        ],
        [
         0.4065934065934066,
         0.8260869565217391,
         0.1456235239852225
        ],
        [
         0.4175824175824176,
         0.8260869565217391,
         0.14498826873848225
        ],
        [
         0.42857142857142855,
         0.8260869565217391,
         0.1417391342165838
        ],
        [
         0.43956043956043955,
         0.8260869565217391,
         0.1415993795085978
        ],
        [
         0.45054945054945056,
         0.8260869565217391,
         0.13982563253579994
        ],
        [
         0.46153846153846156,
         0.8260869565217391,
         0.1321043796258622
        ],
        [
         0.4725274725274725,
         0.8260869565217391,
         0.13176185909606397
        ],
        [
         0.4835164835164835,
         0.8260869565217391,
         0.12678649197014824
        ],
        [
         0.4945054945054945,
         0.8260869565217391,
         0.12497315264483966
        ],
        [
         0.5054945054945055,
         0.8260869565217391,
         0.11798584349735464
        ],
        [
         0.5164835164835165,
         0.8260869565217391,
         0.11388506243590435
        ],
        [
         0.5274725274725275,
         0.8260869565217391,
         0.10618873461231115
        ],
        [
         0.5384615384615384,
         0.8260869565217391,
         0.10437115909204497
        ],
        [
         0.5494505494505495,
         0.8260869565217391,
         0.10385611599049571
        ],
        [
         0.5604395604395604,
         0.8260869565217391,
         0.1034601028285842
        ],
        [
         0.5714285714285714,
         0.8260869565217391,
         0.09969302305506267
        ],
        [
         0.5714285714285714,
         0.8695652173913043,
         0.09730660768680821
        ],
        [
         0.5824175824175825,
         0.8695652173913043,
         0.0914688745808766
        ],
        [
         0.5934065934065934,
         0.8695652173913043,
         0.08609675445504639
        ],
        [
         0.6043956043956044,
         0.8695652173913043,
         0.08321217678122828
        ],
        [
         0.6153846153846154,
         0.8695652173913043,
         0.08262989666961496
        ],
        [
         0.6153846153846154,
         0.9130434782608695,
         0.08167657023596786
        ],
        [
         0.6263736263736264,
         0.9130434782608695,
         0.07272781776608739
        ],
        [
         0.6373626373626373,
         0.9130434782608695,
         0.0688029565013697
        ],
        [
         0.6483516483516484,
         0.9130434782608695,
         0.06861362571790997
        ],
        [
         0.6593406593406593,
         0.9130434782608695,
         0.06759818382910454
        ],
        [
         0.6703296703296703,
         0.9130434782608695,
         0.0662447514223532
        ],
        [
         0.6813186813186813,
         0.9130434782608695,
         0.06543997826736103
        ],
        [
         0.6923076923076923,
         0.9130434782608695,
         0.06432537306331676
        ],
        [
         0.7032967032967034,
         0.9130434782608695,
         0.06364033123026613
        ],
        [
         0.7142857142857143,
         0.9130434782608695,
         0.061484045105983376
        ],
        [
         0.7252747252747253,
         0.9130434782608695,
         0.05996982894938718
        ],
        [
         0.7362637362637363,
         0.9130434782608695,
         0.05444162556073062
        ],
        [
         0.7362637362637363,
         0.9565217391304348,
         0.05300335801538203
        ],
        [
         0.7472527472527473,
         0.9565217391304348,
         0.052738932711505426
        ],
        [
         0.7582417582417582,
         0.9565217391304348,
         0.0525347593481682
        ],
        [
         0.7692307692307693,
         0.9565217391304348,
         0.04955422457683978
        ],
        [
         0.7802197802197802,
         0.9565217391304348,
         0.04703304638561956
        ],
        [
         0.7912087912087912,
         0.9565217391304348,
         0.04294078233917542
        ],
        [
         0.8021978021978022,
         0.9565217391304348,
         0.03862193511930567
        ],
        [
         0.8131868131868132,
         0.9565217391304348,
         0.037975688378797834
        ],
        [
         0.8241758241758241,
         0.9565217391304348,
         0.03704885483367304
        ],
        [
         0.8351648351648352,
         0.9565217391304348,
         0.035975184492276435
        ],
        [
         0.8351648351648352,
         1.0,
         0.034956742948473285
        ],
        [
         0.8461538461538461,
         1.0,
         0.03442687384405474
        ],
        [
         0.8571428571428571,
         1.0,
         0.03386583876093274
        ],
        [
         0.8681318681318682,
         1.0,
         0.03058098423891442
        ],
        [
         0.8791208791208791,
         1.0,
         0.02886806122476293
        ],
        [
         0.8901098901098901,
         1.0,
         0.025565189728528614
        ],
        [
         0.9010989010989011,
         1.0,
         0.025283436597406728
        ],
        [
         0.9120879120879121,
         1.0,
         0.024747747919150354
        ],
        [
         0.9230769230769231,
         1.0,
         0.021453229825399656
        ],
        [
         0.9340659340659341,
         1.0,
         0.017915157700929663
        ],
        [
         0.945054945054945,
         1.0,
         0.012714925319036952
        ],
        [
         0.9560439560439561,
         1.0,
         0.009600260684243245
        ],
        [
         0.967032967032967,
         1.0,
         0.009038298957458224
        ],
        [
         0.978021978021978,
         1.0,
         0.00662825065648831
        ],
        [
         0.989010989010989,
         1.0,
         0.005393578511183383
        ],
        [
         1.0,
         1.0,
         5.011585852809919E-5
        ],
        [
         1.0,
         1.0,
         5.011585852809919E-5
        ]
       ],
       "datasetInfos": [],
       "dbfsResultPath": null,
       "isJsonSchema": true,
       "metadata": {},
       "overflow": false,
       "plotOptions": {
        "customPlotOptions": {},
        "displayType": "ROC",
        "pivotAggregation": null,
        "pivotColumns": null,
        "xColumns": [],
        "yColumns": [
         "False Positive Rate",
         "True Positive Rate",
         "Threshold"
        ]
       },
       "removedWidgets": [],
       "schema": [
        {
         "metadata": "{}",
         "name": "False Positive Rate",
         "type": "\"double\""
        },
        {
         "metadata": "{}",
         "name": "True Positive Rate",
         "type": "\"double\""
        },
        {
         "metadata": "{}",
         "name": "Threshold",
         "type": "\"double\""
        }
       ],
       "type": "table"
      }
     }
    }
   ],
   "source": [
    "display(log_fit, test, 'ROC')"
   ]
  },
  {
   "cell_type": "code",
   "execution_count": 0,
   "metadata": {
    "application/vnd.databricks.v1+cell": {
     "cellMetadata": {
      "byteLimit": 2048000,
      "rowLimit": 10000
     },
     "inputWidgets": {},
     "nuid": "50c419cc-13b5-4042-a46f-d63fb1dd32bb",
     "showTitle": true,
     "title": "Evaluate Tuned Model"
    }
   },
   "outputs": [
    {
     "output_type": "display_data",
     "data": {
      "text/html": [
       "<style scoped>\n",
       "  .ansiout {\n",
       "    display: block;\n",
       "    unicode-bidi: embed;\n",
       "    white-space: pre-wrap;\n",
       "    word-wrap: break-word;\n",
       "    word-break: break-all;\n",
       "    font-family: \"Menlo\", \"Monaco\", \"Consolas\", \"Ubuntu Mono\", \"Source Code Pro\", monospace;\n",
       "    font-size: 13px;\n",
       "    color: #555;\n",
       "    margin-left: 4px;\n",
       "    line-height: 19px;\n",
       "  }\n",
       "</style>\n",
       "<div class=\"ansiout\">Out[398]: 0.8571733221112022</div>"
      ]
     },
     "metadata": {
      "application/vnd.databricks.v1+output": {
       "addedWidgets": {},
       "arguments": {},
       "data": "<div class=\"ansiout\">Out[398]: 0.8571733221112022</div>",
       "datasetInfos": [],
       "metadata": {},
       "removedWidgets": [],
       "type": "html"
      }
     }
    }
   ],
   "source": [
    "# Evaluate model\n",
    "evaluator2 = BinaryClassificationEvaluator()\n",
    "evaluator2.evaluate(preds2)"
   ]
  },
  {
   "cell_type": "code",
   "execution_count": 0,
   "metadata": {
    "application/vnd.databricks.v1+cell": {
     "cellMetadata": {
      "byteLimit": 2048000,
      "rowLimit": 10000
     },
     "inputWidgets": {},
     "nuid": "064e7ae9-0428-490a-8c92-8f0846a252c9",
     "showTitle": false,
     "title": ""
    }
   },
   "outputs": [
    {
     "output_type": "display_data",
     "data": {
      "text/html": [
       "<style scoped>\n",
       "  .ansiout {\n",
       "    display: block;\n",
       "    unicode-bidi: embed;\n",
       "    white-space: pre-wrap;\n",
       "    word-wrap: break-word;\n",
       "    word-break: break-all;\n",
       "    font-family: \"Menlo\", \"Monaco\", \"Consolas\", \"Ubuntu Mono\", \"Source Code Pro\", monospace;\n",
       "    font-size: 13px;\n",
       "    color: #555;\n",
       "    margin-left: 4px;\n",
       "    line-height: 19px;\n",
       "  }\n",
       "</style>\n",
       "<div class=\"ansiout\">Model Intercept:  -7.328993408348296\n",
       "</div>"
      ]
     },
     "metadata": {
      "application/vnd.databricks.v1+output": {
       "addedWidgets": {},
       "arguments": {},
       "data": "<div class=\"ansiout\">Model Intercept:  -7.328993408348296\n</div>",
       "datasetInfos": [],
       "metadata": {},
       "removedWidgets": [],
       "type": "html"
      }
     }
    },
    {
     "output_type": "display_data",
     "data": {
      "text/html": [
       "<style scoped>\n",
       "  .table-result-container {\n",
       "    max-height: 300px;\n",
       "    overflow: auto;\n",
       "  }\n",
       "  table, th, td {\n",
       "    border: 1px solid black;\n",
       "    border-collapse: collapse;\n",
       "  }\n",
       "  th, td {\n",
       "    padding: 5px;\n",
       "  }\n",
       "  th {\n",
       "    text-align: left;\n",
       "  }\n",
       "</style><div class='table-result-container'><table class='table-result'><thead style='background-color: white'><tr><th>Feature Weight</th></tr></thead><tbody><tr><td>0.03628843425803948</td></tr><tr><td>-0.19365458488705958</td></tr><tr><td>-0.04423602098978061</td></tr><tr><td>-0.2675410076677062</td></tr><tr><td>0.558401966412394</td></tr><tr><td>0.4519237539665536</td></tr><tr><td>0.41976282915709817</td></tr><tr><td>0.05094372783641256</td></tr><tr><td>0.873648525133189</td></tr><tr><td>-0.04948698320095461</td></tr><tr><td>0.22929716613242068</td></tr><tr><td>-1.085764025142562</td></tr><tr><td>-0.19959612193583753</td></tr><tr><td>0.01737878721932532</td></tr><tr><td>-0.9038636571626866</td></tr><tr><td>-0.9169878743295969</td></tr><tr><td>0.5938759111423421</td></tr><tr><td>0.6908251299158557</td></tr><tr><td>-3.5306442101148505</td></tr><tr><td>0.3924216489469339</td></tr><tr><td>0.012596788480846027</td></tr><tr><td>0.31823376753025845</td></tr><tr><td>-0.4611034796321542</td></tr><tr><td>1.3113532057577504</td></tr><tr><td>0.040005067604040476</td></tr><tr><td>0.2647743799229223</td></tr><tr><td>3.298483128250588E-4</td></tr><tr><td>6.623690097281697E-4</td></tr></tbody></table></div>"
      ]
     },
     "metadata": {
      "application/vnd.databricks.v1+output": {
       "addedWidgets": {},
       "aggData": [],
       "aggError": "",
       "aggOverflow": false,
       "aggSchema": [],
       "aggSeriesLimitReached": false,
       "aggType": "",
       "arguments": {},
       "columnCustomDisplayInfos": {},
       "data": [
        [
         0.03628843425803948
        ],
        [
         -0.19365458488705958
        ],
        [
         -0.04423602098978061
        ],
        [
         -0.2675410076677062
        ],
        [
         0.558401966412394
        ],
        [
         0.4519237539665536
        ],
        [
         0.41976282915709817
        ],
        [
         0.05094372783641256
        ],
        [
         0.873648525133189
        ],
        [
         -0.04948698320095461
        ],
        [
         0.22929716613242068
        ],
        [
         -1.085764025142562
        ],
        [
         -0.19959612193583753
        ],
        [
         0.01737878721932532
        ],
        [
         -0.9038636571626866
        ],
        [
         -0.9169878743295969
        ],
        [
         0.5938759111423421
        ],
        [
         0.6908251299158557
        ],
        [
         -3.5306442101148505
        ],
        [
         0.3924216489469339
        ],
        [
         0.012596788480846027
        ],
        [
         0.31823376753025845
        ],
        [
         -0.4611034796321542
        ],
        [
         1.3113532057577504
        ],
        [
         0.040005067604040476
        ],
        [
         0.2647743799229223
        ],
        [
         3.298483128250588E-4
        ],
        [
         6.623690097281697E-4
        ]
       ],
       "datasetInfos": [],
       "dbfsResultPath": null,
       "isJsonSchema": true,
       "metadata": {},
       "overflow": false,
       "plotOptions": {
        "customPlotOptions": {},
        "displayType": "table",
        "pivotAggregation": null,
        "pivotColumns": null,
        "xColumns": null,
        "yColumns": null
       },
       "removedWidgets": [],
       "schema": [
        {
         "metadata": "{}",
         "name": "Feature Weight",
         "type": "\"double\""
        }
       ],
       "type": "table"
      }
     }
    }
   ],
   "source": [
    "print('Model Intercept: ', lrModel.intercept)\n",
    "\n",
    "weights = lrModel.coefficients\n",
    "weights = [(float(w),) for w in weights]  # convert numpy type to float, and to tuple\n",
    "weightsDF = spark.createDataFrame(weights, [\"Feature Weight\"])\n",
    "display(weightsDF)"
   ]
  },
  {
   "cell_type": "code",
   "execution_count": 0,
   "metadata": {
    "application/vnd.databricks.v1+cell": {
     "cellMetadata": {},
     "inputWidgets": {},
     "nuid": "5108473f-d077-4d5e-bf3c-a492e15c5a04",
     "showTitle": false,
     "title": ""
    }
   },
   "outputs": [],
   "source": []
  }
 ],
 "metadata": {
  "application/vnd.databricks.v1+notebook": {
   "dashboards": [],
   "language": "python",
   "notebookMetadata": {
    "mostRecentlyExecutedCommandWithImplicitDF": {
     "commandId": -1,
     "dataframes": [
      "_sqldf"
     ]
    },
    "pythonIndentUnit": 2
   },
   "notebookName": "101_MyLearning ML on DataBricks",
   "widgets": {}
  }
 },
 "nbformat": 4,
 "nbformat_minor": 0
}
