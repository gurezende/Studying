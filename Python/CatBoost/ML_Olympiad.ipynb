{
 "nbformat": 4,
 "nbformat_minor": 0,
 "metadata": {
  "colab": {
   "provenance": []
  },
  "kernelspec": {
   "name": "python3",
   "display_name": "Python 3"
  },
  "language_info": {
   "name": "python"
  }
 },
 "cells": [
  {
   "cell_type": "markdown",
   "source": [
    "# ML Olympiad - Kaggle competition\n",
    "**Objetivo**: Os competidores terão que criar modelos para predizer qual o agente causador da síndrome respiratória aguda grave com base nos dados e sintomas dos pacientes."
   ],
   "metadata": {
    "id": "S6oDVbm-pbOP"
   }
  },
  {
   "cell_type": "markdown",
   "source": [
    "# Imports"
   ],
   "metadata": {
    "id": "fIeEyQU1p3fO"
   }
  },
  {
   "cell_type": "code",
   "execution_count": null,
   "metadata": {
    "id": "ZOM0j9rmpYcf",
    "pycharm": {
     "is_executing": true
    }
   },
   "outputs": [],
   "source": [
    "import struct\n",
    "\n",
    "# Basics\n",
    "import pandas as pd\n",
    "import numpy as np\n",
    "\n",
    "# Visualization\n",
    "import matplotlib.pyplot as plt\n",
    "plt.style.use('ggplot')\n",
    "import seaborn as sns\n",
    "import plotly.express as px\n",
    "\n",
    "# CatBoost\n",
    "from catboost import CatBoostClassifier\n",
    "from catboost import Pool\n",
    "\n",
    "from sklearn.neighbors import KNeighborsClassifier\n",
    "\n",
    "# Train test\n",
    "from sklearn.model_selection import train_test_split\n",
    "\n",
    "# Metrics\n",
    "from sklearn.metrics import confusion_matrix, f1_score, accuracy_score\n",
    "\n",
    "# MLXtend - Apriori\n",
    "import mlxtend.frequent_patterns\n",
    "from mlxtend.preprocessing import TransactionEncoder\n",
    "from mlxtend.frequent_patterns import association_rules\n",
    "# Model explaination\n",
    "import shap"
   ]
  },
  {
   "cell_type": "markdown",
   "source": [
    "# Dataset Load"
   ],
   "metadata": {
    "id": "2NdB1reap8fZ"
   }
  },
  {
   "cell_type": "code",
   "source": [
    "file_path = 'C:/Users/1770858/Desktop/ml-olympiad-ensure-healthy-lives/train.csv'\n",
    "df = pd.read_csv(file_path)\n",
    "# Remove mostly NAs\n",
    "df.drop([964116, 1162729, 848580, 1108616, 434934, 286956], axis=0, inplace=True)\n",
    "df= df.reset_index(drop=True)\n",
    "\n",
    "to_drop = ((df == 9).sum(axis=1) / 76).to_frame().rename(columns={0: 'missing'}).reset_index()\n",
    "to_drop = to_drop.query('missing > 0.4')['index'].to_list()\n",
    "df.drop(to_drop, axis=0, inplace=True)\n",
    "df= df.reset_index(drop=True)"
   ],
   "metadata": {
    "colab": {
     "base_uri": "https://localhost:8080/"
    },
    "id": "JZO-d3-cp7nb",
    "outputId": "89168f8e-257c-4d7a-9997-0a3cdbad99f6"
   },
   "execution_count": 2,
   "outputs": [
    {
     "name": "stderr",
     "output_type": "stream",
     "text": [
      "Columns (10) have mixed types. Specify dtype option on import or set low_memory=False.\n"
     ]
    }
   ]
  },
  {
   "cell_type": "code",
   "source": [
    "# Data information\n",
    "df.info()"
   ],
   "metadata": {
    "colab": {
     "base_uri": "https://localhost:8080/"
    },
    "id": "Cew5Hd94qu5V",
    "outputId": "71dfe107-caca-40c0-c986-d5beb50ecea6"
   },
   "execution_count": 64,
   "outputs": [
    {
     "name": "stdout",
     "output_type": "stream",
     "text": [
      "<class 'pandas.core.frame.DataFrame'>\n",
      "RangeIndex: 1300645 entries, 0 to 1300644\n",
      "Data columns (total 76 columns):\n",
      " #   Column      Non-Null Count    Dtype  \n",
      "---  ------      --------------    -----  \n",
      " 0   SEM_NOT     1300645 non-null  int64  \n",
      " 1   SEM_PRI     1300645 non-null  int64  \n",
      " 2   SG_UF_NOT   1300645 non-null  object \n",
      " 3   ID_REGIONA  1152995 non-null  object \n",
      " 4   CO_REGIONA  1152995 non-null  float64\n",
      " 5   ID_MUNICIP  1300645 non-null  object \n",
      " 6   CO_MUN_NOT  1300645 non-null  int64  \n",
      " 7   CS_SEXO     1300645 non-null  object \n",
      " 8   NU_IDADE_N  1300645 non-null  int64  \n",
      " 9   TP_IDADE    1300645 non-null  int64  \n",
      " 10  COD_IDADE   1300645 non-null  object \n",
      " 11  CS_GESTANT  1300645 non-null  int64  \n",
      " 12  CS_RACA     1300645 non-null  int64  \n",
      " 13  CS_ESCOL_N  845584 non-null   float64\n",
      " 14  SG_UF       1300409 non-null  object \n",
      " 15  CS_ZONA     1165820 non-null  float64\n",
      " 16  SURTO_SG    78730 non-null    float64\n",
      " 17  NOSOCOMIAL  1099143 non-null  float64\n",
      " 18  AVE_SUINO   1080730 non-null  float64\n",
      " 19  FEBRE       1069275 non-null  float64\n",
      " 20  TOSSE       1128560 non-null  float64\n",
      " 21  GARGANTA    904080 non-null   float64\n",
      " 22  DISPNEIA    1124595 non-null  float64\n",
      " 23  DESC_RESP   1039390 non-null  float64\n",
      " 24  SATURACAO   1077023 non-null  float64\n",
      " 25  DIARREIA    886422 non-null   float64\n",
      " 26  VOMITO      877892 non-null   float64\n",
      " 27  OUTRO_SIN   905366 non-null   float64\n",
      " 28  OUTRO_DES   396425 non-null   object \n",
      " 29  PUERPERA    447192 non-null   float64\n",
      " 30  FATOR_RISC  1300645 non-null  int64  \n",
      " 31  CARDIOPATI  580629 non-null   float64\n",
      " 32  HEMATOLOGI  447948 non-null   float64\n",
      " 33  SIND_DOWN   446504 non-null   float64\n",
      " 34  HEPATICA    446354 non-null   float64\n",
      " 35  ASMA        458726 non-null   float64\n",
      " 36  DIABETES    538513 non-null   float64\n",
      " 37  NEUROLOGIC  461455 non-null   float64\n",
      " 38  PNEUMOPATI  460847 non-null   float64\n",
      " 39  IMUNODEPRE  453704 non-null   float64\n",
      " 40  RENAL       456241 non-null   float64\n",
      " 41  OBESIDADE   472188 non-null   float64\n",
      " 42  OBES_IMC    14093 non-null    object \n",
      " 43  OUT_MORBI   551437 non-null   float64\n",
      " 44  MORB_DESC   317295 non-null   object \n",
      " 45  VACINA      915854 non-null   float64\n",
      " 46  MAE_VAC     18299 non-null    float64\n",
      " 47  M_AMAMENTA  15402 non-null    float64\n",
      " 48  ANTIVIRAL   1076299 non-null  float64\n",
      " 49  TP_ANTIVIR  32729 non-null    float64\n",
      " 50  HOSPITAL    1274164 non-null  float64\n",
      " 51  UTI         1138159 non-null  float64\n",
      " 52  SUPORT_VEN  1135690 non-null  float64\n",
      " 53  RAIOX_RES   768583 non-null   float64\n",
      " 54  RAIOX_OUT   46003 non-null    object \n",
      " 55  AMOSTRA     1256485 non-null  float64\n",
      " 56  TP_AMOSTRA  1182621 non-null  float64\n",
      " 57  OUT_AMOST   106191 non-null   object \n",
      " 58  CLASSI_FIN  1300645 non-null  int64  \n",
      " 59  HISTO_VGM   1300645 non-null  int64  \n",
      " 60  PAC_COCBO   28947 non-null    object \n",
      " 61  PAC_DSCBO   28947 non-null    object \n",
      " 62  OUT_ANIM    1163 non-null     object \n",
      " 63  DOR_ABD     861606 non-null   float64\n",
      " 64  FADIGA      910657 non-null   float64\n",
      " 65  PERD_OLFT   866521 non-null   float64\n",
      " 66  PERD_PALA   866002 non-null   float64\n",
      " 67  TOMO_RES    845113 non-null   float64\n",
      " 68  TOMO_OUT    37795 non-null    object \n",
      " 69  VACINA_COV  1051330 non-null  float64\n",
      " 70  DOSE_1_COV  1300645 non-null  int64  \n",
      " 71  DOSE_2_COV  1300645 non-null  int64  \n",
      " 72  DOSE_REF    1300645 non-null  int64  \n",
      " 73  FNT_IN_COV  1051733 non-null  float64\n",
      " 74  DELTA_UTI   1300645 non-null  int64  \n",
      " 75  ID          1300645 non-null  object \n",
      "dtypes: float64(46), int64(14), object(16)\n",
      "memory usage: 754.2+ MB\n"
     ]
    }
   ]
  },
  {
   "cell_type": "code",
   "source": [
    "# View data header\n",
    "df.head()"
   ],
   "metadata": {
    "colab": {
     "base_uri": "https://localhost:8080/",
     "height": 0
    },
    "id": "DJsh4FN6q0ox",
    "outputId": "e1996122-dca0-4d39-a13c-85fc5e3892f2"
   },
   "execution_count": 65,
   "outputs": [
    {
     "data": {
      "text/plain": "   SEM_NOT  SEM_PRI SG_UF_NOT           ID_REGIONA  CO_REGIONA  \\\n0       38       37        RS              005 CRS      1608.0   \n1       46       46        MS    NRS DE PONTA PORA      1972.0   \n2       18       17        CE     1 CRES FORTALEZA      1519.0   \n3        4        3        SP  GVE VII SANTO ANDRE      1332.0   \n4       12       11        MG             JANUARIA      1470.0   \n\n          ID_MUNICIP  CO_MUN_NOT CS_SEXO  NU_IDADE_N  TP_IDADE  ... PERD_PALA  \\\n0      CAXIAS DO SUL      430510       M          73         3  ...       NaN   \n1         PONTA PORA      500660       M          27         3  ...       2.0   \n2          FORTALEZA      230440       F           2         3  ...       2.0   \n3               MAUA      352940       F          71         3  ...       2.0   \n4  SAO JOAO DA PONTE      316240       F          91         3  ...       2.0   \n\n   TOMO_RES  TOMO_OUT  VACINA_COV DOSE_1_COV  DOSE_2_COV  DOSE_REF  \\\n0       NaN       NaN         2.0          0           0         0   \n1       NaN       NaN         9.0          0           0         0   \n2       6.0       NaN         1.0          1           1         0   \n3       6.0       NaN         1.0          1           1         0   \n4       NaN       NaN         2.0          0           0         0   \n\n   FNT_IN_COV  DELTA_UTI                                    ID  \n0         1.0         -1  87360a9a-5516-4b0c-9c76-faceb759e97b  \n1         1.0         -1  e5532e89-f7e8-4239-991b-16cf3c3a5be6  \n2         2.0         -1  dbaa33c2-d374-48d7-a0f3-f0775550b1a4  \n3         2.0         -1  ecbf8128-42a7-4668-be28-905b6168578d  \n4         1.0         -1  4b74f720-bd35-42b0-8590-127985c79653  \n\n[5 rows x 76 columns]",
      "text/html": "<div>\n<style scoped>\n    .dataframe tbody tr th:only-of-type {\n        vertical-align: middle;\n    }\n\n    .dataframe tbody tr th {\n        vertical-align: top;\n    }\n\n    .dataframe thead th {\n        text-align: right;\n    }\n</style>\n<table border=\"1\" class=\"dataframe\">\n  <thead>\n    <tr style=\"text-align: right;\">\n      <th></th>\n      <th>SEM_NOT</th>\n      <th>SEM_PRI</th>\n      <th>SG_UF_NOT</th>\n      <th>ID_REGIONA</th>\n      <th>CO_REGIONA</th>\n      <th>ID_MUNICIP</th>\n      <th>CO_MUN_NOT</th>\n      <th>CS_SEXO</th>\n      <th>NU_IDADE_N</th>\n      <th>TP_IDADE</th>\n      <th>...</th>\n      <th>PERD_PALA</th>\n      <th>TOMO_RES</th>\n      <th>TOMO_OUT</th>\n      <th>VACINA_COV</th>\n      <th>DOSE_1_COV</th>\n      <th>DOSE_2_COV</th>\n      <th>DOSE_REF</th>\n      <th>FNT_IN_COV</th>\n      <th>DELTA_UTI</th>\n      <th>ID</th>\n    </tr>\n  </thead>\n  <tbody>\n    <tr>\n      <th>0</th>\n      <td>38</td>\n      <td>37</td>\n      <td>RS</td>\n      <td>005 CRS</td>\n      <td>1608.0</td>\n      <td>CAXIAS DO SUL</td>\n      <td>430510</td>\n      <td>M</td>\n      <td>73</td>\n      <td>3</td>\n      <td>...</td>\n      <td>NaN</td>\n      <td>NaN</td>\n      <td>NaN</td>\n      <td>2.0</td>\n      <td>0</td>\n      <td>0</td>\n      <td>0</td>\n      <td>1.0</td>\n      <td>-1</td>\n      <td>87360a9a-5516-4b0c-9c76-faceb759e97b</td>\n    </tr>\n    <tr>\n      <th>1</th>\n      <td>46</td>\n      <td>46</td>\n      <td>MS</td>\n      <td>NRS DE PONTA PORA</td>\n      <td>1972.0</td>\n      <td>PONTA PORA</td>\n      <td>500660</td>\n      <td>M</td>\n      <td>27</td>\n      <td>3</td>\n      <td>...</td>\n      <td>2.0</td>\n      <td>NaN</td>\n      <td>NaN</td>\n      <td>9.0</td>\n      <td>0</td>\n      <td>0</td>\n      <td>0</td>\n      <td>1.0</td>\n      <td>-1</td>\n      <td>e5532e89-f7e8-4239-991b-16cf3c3a5be6</td>\n    </tr>\n    <tr>\n      <th>2</th>\n      <td>18</td>\n      <td>17</td>\n      <td>CE</td>\n      <td>1 CRES FORTALEZA</td>\n      <td>1519.0</td>\n      <td>FORTALEZA</td>\n      <td>230440</td>\n      <td>F</td>\n      <td>2</td>\n      <td>3</td>\n      <td>...</td>\n      <td>2.0</td>\n      <td>6.0</td>\n      <td>NaN</td>\n      <td>1.0</td>\n      <td>1</td>\n      <td>1</td>\n      <td>0</td>\n      <td>2.0</td>\n      <td>-1</td>\n      <td>dbaa33c2-d374-48d7-a0f3-f0775550b1a4</td>\n    </tr>\n    <tr>\n      <th>3</th>\n      <td>4</td>\n      <td>3</td>\n      <td>SP</td>\n      <td>GVE VII SANTO ANDRE</td>\n      <td>1332.0</td>\n      <td>MAUA</td>\n      <td>352940</td>\n      <td>F</td>\n      <td>71</td>\n      <td>3</td>\n      <td>...</td>\n      <td>2.0</td>\n      <td>6.0</td>\n      <td>NaN</td>\n      <td>1.0</td>\n      <td>1</td>\n      <td>1</td>\n      <td>0</td>\n      <td>2.0</td>\n      <td>-1</td>\n      <td>ecbf8128-42a7-4668-be28-905b6168578d</td>\n    </tr>\n    <tr>\n      <th>4</th>\n      <td>12</td>\n      <td>11</td>\n      <td>MG</td>\n      <td>JANUARIA</td>\n      <td>1470.0</td>\n      <td>SAO JOAO DA PONTE</td>\n      <td>316240</td>\n      <td>F</td>\n      <td>91</td>\n      <td>3</td>\n      <td>...</td>\n      <td>2.0</td>\n      <td>NaN</td>\n      <td>NaN</td>\n      <td>2.0</td>\n      <td>0</td>\n      <td>0</td>\n      <td>0</td>\n      <td>1.0</td>\n      <td>-1</td>\n      <td>4b74f720-bd35-42b0-8590-127985c79653</td>\n    </tr>\n  </tbody>\n</table>\n<p>5 rows × 76 columns</p>\n</div>"
     },
     "execution_count": 65,
     "metadata": {},
     "output_type": "execute_result"
    }
   ]
  },
  {
   "cell_type": "markdown",
   "source": [
    "# Exploratory Data Analysis\n",
    "Let's explore the data and start looking at where the disease happens more, based on location, simptoms, etc.\n",
    "Our goal with this project is to classify the type of the respiratory disease  `CLASSI_FIN` target variable."
   ],
   "metadata": {
    "id": "FLAIcFq85Y3l"
   }
  },
  {
   "cell_type": "markdown",
   "source": [
    "#### **Target Variable Exploration**\n",
    "Most of the cases are related to Covid. 66%, followed by 29% not specified."
   ],
   "metadata": {
    "id": "RbJWXVuKNx6v"
   }
  },
  {
   "cell_type": "code",
   "source": [
    "# Let's have a look at our target variable\n",
    "df.CLASSI_FIN.unique()"
   ],
   "metadata": {
    "colab": {
     "base_uri": "https://localhost:8080/"
    },
    "id": "N9fWEqOO8jtf",
    "outputId": "bba5ea00-e342-4bfe-ed70-afa53c9686f9"
   },
   "execution_count": 84,
   "outputs": [
    {
     "output_type": "execute_result",
     "data": {
      "text/plain": [
       "array([4, 5, 1, 2, 3])"
      ]
     },
     "metadata": {},
     "execution_count": 84
    }
   ]
  },
  {
   "cell_type": "markdown",
   "source": [
    "There are 5 kinds of classification, being:\n",
    "* *1 = \"SRAG by Influenza\"* \n",
    "* *2 = \"SRAG by other respiratory virus\"* \n",
    "* *3 = \"SRAG by another agent\"* \n",
    "* *4 = \"SRAG not specified\"* \n",
    "* *5 = SRAG from COVID*. \n",
    "\n",
    "But the data is very unbalanced, as we can see below."
   ],
   "metadata": {
    "id": "PeieFTEV-p5k"
   }
  },
  {
   "cell_type": "code",
   "source": [
    "# Map names to target variable\n",
    "df['srag'] = df.CLASSI_FIN.map({1:'influenza', 2: 'othr virus', 3: 'othr agent', 4: 'not specif', 5: 'COVID'})"
   ],
   "metadata": {
    "id": "mC7N5vffss3x"
   },
   "execution_count": 66,
   "outputs": []
  },
  {
   "cell_type": "code",
   "source": [
    "print('Disease final classification % :')\n",
    "print(df.srag.value_counts(normalize=True, dropna=False).round(3))\n",
    "print('\\n------\\n')\n",
    "\n",
    "# Plot bars\n",
    "sns.countplot(data= df,\n",
    "              x= 'srag');"
   ],
   "metadata": {
    "colab": {
     "base_uri": "https://localhost:8080/",
     "height": 0
    },
    "id": "cw4Mru_h9Szd",
    "outputId": "a9b930ec-ec4f-49e9-f7d2-6bb9127145d3"
   },
   "execution_count": 67,
   "outputs": [
    {
     "name": "stdout",
     "output_type": "stream",
     "text": [
      "Disease final classification % :\n",
      "COVID         0.667\n",
      "not specif    0.292\n",
      "othr virus    0.024\n",
      "influenza     0.012\n",
      "othr agent    0.005\n",
      "Name: srag, dtype: float64\n",
      "\n",
      "------\n",
      "\n"
     ]
    },
    {
     "data": {
      "text/plain": "<Figure size 640x480 with 1 Axes>",
      "image/png": "[encoded data removed]"
     },
     "metadata": {},
     "output_type": "display_data"
    }
   ]
  },
  {
   "cell_type": "markdown",
   "source": [
    "Next, we can see the top categories from each categorical variable. We're not list all the simptoms variables because those are mostly coded as 1=Yes, 2=No, 9=NA"
   ],
   "metadata": {
    "id": "S0C72ir7jhEC"
   }
  },
  {
   "cell_type": "code",
   "source": [
    "# Stats descriptions of some variables\n",
    "df.describe(include= 'object').T"
   ],
   "metadata": {
    "colab": {
     "base_uri": "https://localhost:8080/",
     "height": 0
    },
    "id": "b6X2y0vLrP1S",
    "outputId": "e517e5b3-e9f2-4fcb-c0ef-1acf66610a36"
   },
   "execution_count": 68,
   "outputs": [
    {
     "data": {
      "text/plain": "              count   unique                                   top    freq\nSG_UF_NOT   1300645       27                                    SP  381673\nID_REGIONA  1152995      311                         GVE I CAPITAL  114650\nID_MUNICIP  1300645     2863                             SAO PAULO  114650\nCS_SEXO     1300645        3                                     M  697078\nCOD_IDADE   1300645      327                                  3001   22319\nSG_UF       1300409       27                                    SP  379748\nOUTRO_DES    396425    85045                              CEFALEIA   33488\nOBES_IMC      14093      473                                    30    1655\nMORB_DESC    317295    78100                                   HAS   84588\nRAIOX_OUT     46003    11260                             SEM LAUDO    3165\nOUT_AMOST    106191     2020                          TESTE RAPIDO   15615\nPAC_COCBO     28947     1198                                   XXX    4057\nPAC_DSCBO     28947     1197                         NAO INFORMADO    4057\nOUT_ANIM       1163      181                              CACHORRO     531\nTOMO_OUT      37795    10370                           VIDRO FOSCO    2563\nID          1300645  1300645  87360a9a-5516-4b0c-9c76-faceb759e97b       1\nsrag        1300645        5                                 COVID  867361",
      "text/html": "<div>\n<style scoped>\n    .dataframe tbody tr th:only-of-type {\n        vertical-align: middle;\n    }\n\n    .dataframe tbody tr th {\n        vertical-align: top;\n    }\n\n    .dataframe thead th {\n        text-align: right;\n    }\n</style>\n<table border=\"1\" class=\"dataframe\">\n  <thead>\n    <tr style=\"text-align: right;\">\n      <th></th>\n      <th>count</th>\n      <th>unique</th>\n      <th>top</th>\n      <th>freq</th>\n    </tr>\n  </thead>\n  <tbody>\n    <tr>\n      <th>SG_UF_NOT</th>\n      <td>1300645</td>\n      <td>27</td>\n      <td>SP</td>\n      <td>381673</td>\n    </tr>\n    <tr>\n      <th>ID_REGIONA</th>\n      <td>1152995</td>\n      <td>311</td>\n      <td>GVE I CAPITAL</td>\n      <td>114650</td>\n    </tr>\n    <tr>\n      <th>ID_MUNICIP</th>\n      <td>1300645</td>\n      <td>2863</td>\n      <td>SAO PAULO</td>\n      <td>114650</td>\n    </tr>\n    <tr>\n      <th>CS_SEXO</th>\n      <td>1300645</td>\n      <td>3</td>\n      <td>M</td>\n      <td>697078</td>\n    </tr>\n    <tr>\n      <th>COD_IDADE</th>\n      <td>1300645</td>\n      <td>327</td>\n      <td>3001</td>\n      <td>22319</td>\n    </tr>\n    <tr>\n      <th>SG_UF</th>\n      <td>1300409</td>\n      <td>27</td>\n      <td>SP</td>\n      <td>379748</td>\n    </tr>\n    <tr>\n      <th>OUTRO_DES</th>\n      <td>396425</td>\n      <td>85045</td>\n      <td>CEFALEIA</td>\n      <td>33488</td>\n    </tr>\n    <tr>\n      <th>OBES_IMC</th>\n      <td>14093</td>\n      <td>473</td>\n      <td>30</td>\n      <td>1655</td>\n    </tr>\n    <tr>\n      <th>MORB_DESC</th>\n      <td>317295</td>\n      <td>78100</td>\n      <td>HAS</td>\n      <td>84588</td>\n    </tr>\n    <tr>\n      <th>RAIOX_OUT</th>\n      <td>46003</td>\n      <td>11260</td>\n      <td>SEM LAUDO</td>\n      <td>3165</td>\n    </tr>\n    <tr>\n      <th>OUT_AMOST</th>\n      <td>106191</td>\n      <td>2020</td>\n      <td>TESTE RAPIDO</td>\n      <td>15615</td>\n    </tr>\n    <tr>\n      <th>PAC_COCBO</th>\n      <td>28947</td>\n      <td>1198</td>\n      <td>XXX</td>\n      <td>4057</td>\n    </tr>\n    <tr>\n      <th>PAC_DSCBO</th>\n      <td>28947</td>\n      <td>1197</td>\n      <td>NAO INFORMADO</td>\n      <td>4057</td>\n    </tr>\n    <tr>\n      <th>OUT_ANIM</th>\n      <td>1163</td>\n      <td>181</td>\n      <td>CACHORRO</td>\n      <td>531</td>\n    </tr>\n    <tr>\n      <th>TOMO_OUT</th>\n      <td>37795</td>\n      <td>10370</td>\n      <td>VIDRO FOSCO</td>\n      <td>2563</td>\n    </tr>\n    <tr>\n      <th>ID</th>\n      <td>1300645</td>\n      <td>1300645</td>\n      <td>87360a9a-5516-4b0c-9c76-faceb759e97b</td>\n      <td>1</td>\n    </tr>\n    <tr>\n      <th>srag</th>\n      <td>1300645</td>\n      <td>5</td>\n      <td>COVID</td>\n      <td>867361</td>\n    </tr>\n  </tbody>\n</table>\n</div>"
     },
     "execution_count": 68,
     "metadata": {},
     "output_type": "execute_result"
    }
   ]
  },
  {
   "cell_type": "markdown",
   "source": [
    "#### **Does the UF influence the Final classification?**\n",
    "Most of the states are reporting the RSV as related mainly to Covid (top reason). The only state that the largest group is different is PE, where the most classified reason is \"4. Not specified\""
   ],
   "metadata": {
    "id": "j33W15Dnkc4-"
   }
  },
  {
   "cell_type": "code",
   "source": [
    "# Group by state of the notification and got the largest group.\n",
    "( df\n",
    " .groupby('SG_UF_NOT')\n",
    " .CLASSI_FIN.value_counts()\n",
    " .groupby('SG_UF_NOT').nlargest(1)   \n",
    ")"
   ],
   "metadata": {
    "colab": {
     "base_uri": "https://localhost:8080/"
    },
    "id": "SJgpxrN-6yqW",
    "outputId": "bc1fc8cc-c394-4282-b968-80c4bde2b981"
   },
   "execution_count": null,
   "outputs": [
    {
     "output_type": "execute_result",
     "data": {
      "text/plain": [
       "SG_UF_NOT  SG_UF_NOT  CLASSI_FIN\n",
       "AC         AC         5               2012\n",
       "AL         AL         5               9727\n",
       "AM         AM         5              13165\n",
       "AP         AP         5               2397\n",
       "BA         BA         5              32962\n",
       "CE         CE         5              30084\n",
       "DF         DF         5              19187\n",
       "ES         ES         5               5406\n",
       "GO         GO         5              36224\n",
       "MA         MA         5               9820\n",
       "MG         MG         5              98530\n",
       "MS         MS         5              15256\n",
       "MT         MT         5              15655\n",
       "PA         PA         5              19677\n",
       "PB         PB         5              12423\n",
       "PE         PE         4              16130\n",
       "PI         PI         5               9068\n",
       "PR         PR         5              67564\n",
       "RJ         RJ         5              71402\n",
       "RN         RN         5               8773\n",
       "RO         RO         5               7095\n",
       "RR         RR         5               1976\n",
       "RS         RS         5              57837\n",
       "SC         SC         5              38591\n",
       "SE         SE         5               7895\n",
       "SP         SP         5             254738\n",
       "TO         TO         5               4987\n",
       "Name: CLASSI_FIN, dtype: int64"
      ]
     },
     "metadata": {},
     "execution_count": 44
    }
   ]
  },
  {
   "cell_type": "markdown",
   "source": [
    "#### **Where are we seeing more diseases notified?**\n",
    "The cases are following the size of the population. The more the state is populated, the more cases are reported."
   ],
   "metadata": {
    "id": "cKkVhfiRmx5s"
   }
  },
  {
   "cell_type": "code",
   "source": [
    "# scrap population density from the web\n",
    "dens_pop = pd.read_html('https://pt.wikipedia.org/wiki/Lista_de_unidades_federativas_do_Brasil_por_densidade_demogr%C3%A1fica')[1]"
   ],
   "metadata": {
    "id": "tJhdAyn1nDrq"
   },
   "execution_count": null,
   "outputs": []
  },
  {
   "cell_type": "code",
   "source": [
    "dens_pop = dens_pop[['Unidade federativa', 'População (projeção 2019)', 'Densidade demográfica (projeção 2019)']].copy()\n",
    "dens_pop.columns = ['estado', 'populacao', 'densidade']\n",
    "dens_pop['SG_UF_NOT'] = str.split('DF, RJ, SP, AL, SE, PE, ES, SC, PB, RN, CE, PR, RS, MG, BA, MA, GO, PI, MS, RO, PA, AP, TO, AC, MT, RR, AM', sep=', ')\n",
    "dens_pop['populacao'] = dens_pop.populacao.apply(lambda x: x.replace('.', '', 1) if len(x) > 7 else x)\n",
    "dens_pop = dens_pop.astype({'populacao': 'float'})"
   ],
   "metadata": {
    "id": "BojhB5be5Yl8"
   },
   "execution_count": null,
   "outputs": []
  },
  {
   "cell_type": "code",
   "source": [
    "# Cases by state add population density\n",
    "cases_by_state = df.groupby('SG_UF_NOT').CLASSI_FIN.count().reset_index().sort_values(by='CLASSI_FIN')\n",
    "cases_by_state = cases_by_state.merge(dens_pop, on='SG_UF_NOT')"
   ],
   "metadata": {
    "id": "yfM8t4Rm8usL"
   },
   "execution_count": null,
   "outputs": []
  },
  {
   "cell_type": "code",
   "source": [
    "cases_by_state['pct_pop_sick'] = cases_by_state.CLASSI_FIN/cases_by_state.populacao"
   ],
   "metadata": {
    "id": "P1GwjBciE4yj"
   },
   "execution_count": null,
   "outputs": []
  },
  {
   "cell_type": "code",
   "source": [
    "cases_by_state"
   ],
   "metadata": {
    "colab": {
     "base_uri": "https://localhost:8080/",
     "height": 896
    },
    "id": "Jhi3ymFXFyZf",
    "outputId": "54f2a5d4-6102-4ce1-e404-29087f78e0a6"
   },
   "execution_count": null,
   "outputs": [
    {
     "output_type": "execute_result",
     "data": {
      "text/plain": [
       "   SG_UF_NOT  CLASSI_FIN               estado  populacao  densidade  \\\n",
       "0         RR        2560              Roraima    605.761        270   \n",
       "1         AP        3230                Amapá    845.731        594   \n",
       "2         AC        3563                 Acre    881.935        537   \n",
       "3         TO        7693            Tocantins   1572.866        566   \n",
       "4         RO        9131             Rondônia   1777.225        747   \n",
       "5         ES        9724       Espírito Santo   4018.650       8722   \n",
       "6         PI       11780                Piauí   3273.227       1301   \n",
       "7         RN       12068  Rio Grande do Norte   3506.853       6641   \n",
       "8         SE       13355              Sergipe   2298.696      10483   \n",
       "9         MA       13658             Maranhão   7075.181       2146   \n",
       "10        AL       14076              Alagoas   3337.357      11986   \n",
       "11        MT       17103          Mato Grosso   3484.466        386   \n",
       "12        AM       18541             Amazonas   4144.597        266   \n",
       "13        PB       19174              Paraíba   4018.127       7116   \n",
       "14        MS       25111   Mato Grosso do Sul   2778.986        778   \n",
       "15        PA       26116                 Pará   8602.865        691   \n",
       "16        DF       29754     Distrito Federal   3015.268      52341   \n",
       "17        PE       32646           Pernambuco   9557.071       9745   \n",
       "18        GO       45174                Goiás   7018.354       2063   \n",
       "19        CE       45787                Ceará   9132.078       6133   \n",
       "20        BA       51785                Bahia  14873.064       2634   \n",
       "21        SC       54975       Santa Catarina   7164.788       7484   \n",
       "22        RS       77927    Rio Grande do Sul  11377.239       4039   \n",
       "23        RJ      104547       Rio de Janeiro  17264.943      39462   \n",
       "24        PR      110754               Paraná  11433.957       5737   \n",
       "25        MG      159010         Minas Gerais  21168.791       3609   \n",
       "26        SP      381738            São Paulo  45919.049      18499   \n",
       "\n",
       "    pct_pop_sick  \n",
       "0       4.226089  \n",
       "1       3.819181  \n",
       "2       4.039980  \n",
       "3       4.891071  \n",
       "4       5.137785  \n",
       "5       2.419718  \n",
       "6       3.598895  \n",
       "7       3.441262  \n",
       "8       5.809816  \n",
       "9       1.930410  \n",
       "10      4.217709  \n",
       "11      4.908356  \n",
       "12      4.473535  \n",
       "13      4.771875  \n",
       "14      9.036030  \n",
       "15      3.035733  \n",
       "16      9.867780  \n",
       "17      3.415900  \n",
       "18      6.436552  \n",
       "19      5.013864  \n",
       "20      3.481798  \n",
       "21      7.672942  \n",
       "22      6.849377  \n",
       "23      6.055450  \n",
       "24      9.686410  \n",
       "25      7.511530  \n",
       "26      8.313282  "
      ],
      "text/html": [
       "\n",
       "  <div id=\"df-52443820-c2ee-40a9-8d51-cc718ab04d65\">\n",
       "    <div class=\"colab-df-container\">\n",
       "      <div>\n",
       "<style scoped>\n",
       "    .dataframe tbody tr th:only-of-type {\n",
       "        vertical-align: middle;\n",
       "    }\n",
       "\n",
       "    .dataframe tbody tr th {\n",
       "        vertical-align: top;\n",
       "    }\n",
       "\n",
       "    .dataframe thead th {\n",
       "        text-align: right;\n",
       "    }\n",
       "</style>\n",
       "<table border=\"1\" class=\"dataframe\">\n",
       "  <thead>\n",
       "    <tr style=\"text-align: right;\">\n",
       "      <th></th>\n",
       "      <th>SG_UF_NOT</th>\n",
       "      <th>CLASSI_FIN</th>\n",
       "      <th>estado</th>\n",
       "      <th>populacao</th>\n",
       "      <th>densidade</th>\n",
       "      <th>pct_pop_sick</th>\n",
       "    </tr>\n",
       "  </thead>\n",
       "  <tbody>\n",
       "    <tr>\n",
       "      <th>0</th>\n",
       "      <td>RR</td>\n",
       "      <td>2560</td>\n",
       "      <td>Roraima</td>\n",
       "      <td>605.761</td>\n",
       "      <td>270</td>\n",
       "      <td>4.226089</td>\n",
       "    </tr>\n",
       "    <tr>\n",
       "      <th>1</th>\n",
       "      <td>AP</td>\n",
       "      <td>3230</td>\n",
       "      <td>Amapá</td>\n",
       "      <td>845.731</td>\n",
       "      <td>594</td>\n",
       "      <td>3.819181</td>\n",
       "    </tr>\n",
       "    <tr>\n",
       "      <th>2</th>\n",
       "      <td>AC</td>\n",
       "      <td>3563</td>\n",
       "      <td>Acre</td>\n",
       "      <td>881.935</td>\n",
       "      <td>537</td>\n",
       "      <td>4.039980</td>\n",
       "    </tr>\n",
       "    <tr>\n",
       "      <th>3</th>\n",
       "      <td>TO</td>\n",
       "      <td>7693</td>\n",
       "      <td>Tocantins</td>\n",
       "      <td>1572.866</td>\n",
       "      <td>566</td>\n",
       "      <td>4.891071</td>\n",
       "    </tr>\n",
       "    <tr>\n",
       "      <th>4</th>\n",
       "      <td>RO</td>\n",
       "      <td>9131</td>\n",
       "      <td>Rondônia</td>\n",
       "      <td>1777.225</td>\n",
       "      <td>747</td>\n",
       "      <td>5.137785</td>\n",
       "    </tr>\n",
       "    <tr>\n",
       "      <th>5</th>\n",
       "      <td>ES</td>\n",
       "      <td>9724</td>\n",
       "      <td>Espírito Santo</td>\n",
       "      <td>4018.650</td>\n",
       "      <td>8722</td>\n",
       "      <td>2.419718</td>\n",
       "    </tr>\n",
       "    <tr>\n",
       "      <th>6</th>\n",
       "      <td>PI</td>\n",
       "      <td>11780</td>\n",
       "      <td>Piauí</td>\n",
       "      <td>3273.227</td>\n",
       "      <td>1301</td>\n",
       "      <td>3.598895</td>\n",
       "    </tr>\n",
       "    <tr>\n",
       "      <th>7</th>\n",
       "      <td>RN</td>\n",
       "      <td>12068</td>\n",
       "      <td>Rio Grande do Norte</td>\n",
       "      <td>3506.853</td>\n",
       "      <td>6641</td>\n",
       "      <td>3.441262</td>\n",
       "    </tr>\n",
       "    <tr>\n",
       "      <th>8</th>\n",
       "      <td>SE</td>\n",
       "      <td>13355</td>\n",
       "      <td>Sergipe</td>\n",
       "      <td>2298.696</td>\n",
       "      <td>10483</td>\n",
       "      <td>5.809816</td>\n",
       "    </tr>\n",
       "    <tr>\n",
       "      <th>9</th>\n",
       "      <td>MA</td>\n",
       "      <td>13658</td>\n",
       "      <td>Maranhão</td>\n",
       "      <td>7075.181</td>\n",
       "      <td>2146</td>\n",
       "      <td>1.930410</td>\n",
       "    </tr>\n",
       "    <tr>\n",
       "      <th>10</th>\n",
       "      <td>AL</td>\n",
       "      <td>14076</td>\n",
       "      <td>Alagoas</td>\n",
       "      <td>3337.357</td>\n",
       "      <td>11986</td>\n",
       "      <td>4.217709</td>\n",
       "    </tr>\n",
       "    <tr>\n",
       "      <th>11</th>\n",
       "      <td>MT</td>\n",
       "      <td>17103</td>\n",
       "      <td>Mato Grosso</td>\n",
       "      <td>3484.466</td>\n",
       "      <td>386</td>\n",
       "      <td>4.908356</td>\n",
       "    </tr>\n",
       "    <tr>\n",
       "      <th>12</th>\n",
       "      <td>AM</td>\n",
       "      <td>18541</td>\n",
       "      <td>Amazonas</td>\n",
       "      <td>4144.597</td>\n",
       "      <td>266</td>\n",
       "      <td>4.473535</td>\n",
       "    </tr>\n",
       "    <tr>\n",
       "      <th>13</th>\n",
       "      <td>PB</td>\n",
       "      <td>19174</td>\n",
       "      <td>Paraíba</td>\n",
       "      <td>4018.127</td>\n",
       "      <td>7116</td>\n",
       "      <td>4.771875</td>\n",
       "    </tr>\n",
       "    <tr>\n",
       "      <th>14</th>\n",
       "      <td>MS</td>\n",
       "      <td>25111</td>\n",
       "      <td>Mato Grosso do Sul</td>\n",
       "      <td>2778.986</td>\n",
       "      <td>778</td>\n",
       "      <td>9.036030</td>\n",
       "    </tr>\n",
       "    <tr>\n",
       "      <th>15</th>\n",
       "      <td>PA</td>\n",
       "      <td>26116</td>\n",
       "      <td>Pará</td>\n",
       "      <td>8602.865</td>\n",
       "      <td>691</td>\n",
       "      <td>3.035733</td>\n",
       "    </tr>\n",
       "    <tr>\n",
       "      <th>16</th>\n",
       "      <td>DF</td>\n",
       "      <td>29754</td>\n",
       "      <td>Distrito Federal</td>\n",
       "      <td>3015.268</td>\n",
       "      <td>52341</td>\n",
       "      <td>9.867780</td>\n",
       "    </tr>\n",
       "    <tr>\n",
       "      <th>17</th>\n",
       "      <td>PE</td>\n",
       "      <td>32646</td>\n",
       "      <td>Pernambuco</td>\n",
       "      <td>9557.071</td>\n",
       "      <td>9745</td>\n",
       "      <td>3.415900</td>\n",
       "    </tr>\n",
       "    <tr>\n",
       "      <th>18</th>\n",
       "      <td>GO</td>\n",
       "      <td>45174</td>\n",
       "      <td>Goiás</td>\n",
       "      <td>7018.354</td>\n",
       "      <td>2063</td>\n",
       "      <td>6.436552</td>\n",
       "    </tr>\n",
       "    <tr>\n",
       "      <th>19</th>\n",
       "      <td>CE</td>\n",
       "      <td>45787</td>\n",
       "      <td>Ceará</td>\n",
       "      <td>9132.078</td>\n",
       "      <td>6133</td>\n",
       "      <td>5.013864</td>\n",
       "    </tr>\n",
       "    <tr>\n",
       "      <th>20</th>\n",
       "      <td>BA</td>\n",
       "      <td>51785</td>\n",
       "      <td>Bahia</td>\n",
       "      <td>14873.064</td>\n",
       "      <td>2634</td>\n",
       "      <td>3.481798</td>\n",
       "    </tr>\n",
       "    <tr>\n",
       "      <th>21</th>\n",
       "      <td>SC</td>\n",
       "      <td>54975</td>\n",
       "      <td>Santa Catarina</td>\n",
       "      <td>7164.788</td>\n",
       "      <td>7484</td>\n",
       "      <td>7.672942</td>\n",
       "    </tr>\n",
       "    <tr>\n",
       "      <th>22</th>\n",
       "      <td>RS</td>\n",
       "      <td>77927</td>\n",
       "      <td>Rio Grande do Sul</td>\n",
       "      <td>11377.239</td>\n",
       "      <td>4039</td>\n",
       "      <td>6.849377</td>\n",
       "    </tr>\n",
       "    <tr>\n",
       "      <th>23</th>\n",
       "      <td>RJ</td>\n",
       "      <td>104547</td>\n",
       "      <td>Rio de Janeiro</td>\n",
       "      <td>17264.943</td>\n",
       "      <td>39462</td>\n",
       "      <td>6.055450</td>\n",
       "    </tr>\n",
       "    <tr>\n",
       "      <th>24</th>\n",
       "      <td>PR</td>\n",
       "      <td>110754</td>\n",
       "      <td>Paraná</td>\n",
       "      <td>11433.957</td>\n",
       "      <td>5737</td>\n",
       "      <td>9.686410</td>\n",
       "    </tr>\n",
       "    <tr>\n",
       "      <th>25</th>\n",
       "      <td>MG</td>\n",
       "      <td>159010</td>\n",
       "      <td>Minas Gerais</td>\n",
       "      <td>21168.791</td>\n",
       "      <td>3609</td>\n",
       "      <td>7.511530</td>\n",
       "    </tr>\n",
       "    <tr>\n",
       "      <th>26</th>\n",
       "      <td>SP</td>\n",
       "      <td>381738</td>\n",
       "      <td>São Paulo</td>\n",
       "      <td>45919.049</td>\n",
       "      <td>18499</td>\n",
       "      <td>8.313282</td>\n",
       "    </tr>\n",
       "  </tbody>\n",
       "</table>\n",
       "</div>\n",
       "      <button class=\"colab-df-convert\" onclick=\"convertToInteractive('df-52443820-c2ee-40a9-8d51-cc718ab04d65')\"\n",
       "              title=\"Convert this dataframe to an interactive table.\"\n",
       "              style=\"display:none;\">\n",
       "        \n",
       "  <svg xmlns=\"http://www.w3.org/2000/svg\" height=\"24px\"viewBox=\"0 0 24 24\"\n",
       "       width=\"24px\">\n",
       "    <path d=\"M0 0h24v24H0V0z\" fill=\"none\"/>\n",
       "    <path d=\"M18.56 5.44l.94 2.06.94-2.06 2.06-.94-2.06-.94-.94-2.06-.94 2.06-2.06.94zm-11 1L8.5 8.5l.94-2.06 2.06-.94-2.06-.94L8.5 2.5l-.94 2.06-2.06.94zm10 10l.94 2.06.94-2.06 2.06-.94-2.06-.94-.94-2.06-.94 2.06-2.06.94z\"/><path d=\"M17.41 7.96l-1.37-1.37c-.4-.4-.92-.59-1.43-.59-.52 0-1.04.2-1.43.59L10.3 9.45l-7.72 7.72c-.78.78-.78 2.05 0 2.83L4 21.41c.39.39.9.59 1.41.59.51 0 1.02-.2 1.41-.59l7.78-7.78 2.81-2.81c.8-.78.8-2.07 0-2.86zM5.41 20L4 18.59l7.72-7.72 1.47 1.35L5.41 20z\"/>\n",
       "  </svg>\n",
       "      </button>\n",
       "      \n",
       "  <style>\n",
       "    .colab-df-container {\n",
       "      display:flex;\n",
       "      flex-wrap:wrap;\n",
       "      gap: 12px;\n",
       "    }\n",
       "\n",
       "    .colab-df-convert {\n",
       "      background-color: #E8F0FE;\n",
       "      border: none;\n",
       "      border-radius: 50%;\n",
       "      cursor: pointer;\n",
       "      display: none;\n",
       "      fill: #1967D2;\n",
       "      height: 32px;\n",
       "      padding: 0 0 0 0;\n",
       "      width: 32px;\n",
       "    }\n",
       "\n",
       "    .colab-df-convert:hover {\n",
       "      background-color: #E2EBFA;\n",
       "      box-shadow: 0px 1px 2px rgba(60, 64, 67, 0.3), 0px 1px 3px 1px rgba(60, 64, 67, 0.15);\n",
       "      fill: #174EA6;\n",
       "    }\n",
       "\n",
       "    [theme=dark] .colab-df-convert {\n",
       "      background-color: #3B4455;\n",
       "      fill: #D2E3FC;\n",
       "    }\n",
       "\n",
       "    [theme=dark] .colab-df-convert:hover {\n",
       "      background-color: #434B5C;\n",
       "      box-shadow: 0px 1px 3px 1px rgba(0, 0, 0, 0.15);\n",
       "      filter: drop-shadow(0px 1px 2px rgba(0, 0, 0, 0.3));\n",
       "      fill: #FFFFFF;\n",
       "    }\n",
       "  </style>\n",
       "\n",
       "      <script>\n",
       "        const buttonEl =\n",
       "          document.querySelector('#df-52443820-c2ee-40a9-8d51-cc718ab04d65 button.colab-df-convert');\n",
       "        buttonEl.style.display =\n",
       "          google.colab.kernel.accessAllowed ? 'block' : 'none';\n",
       "\n",
       "        async function convertToInteractive(key) {\n",
       "          const element = document.querySelector('#df-52443820-c2ee-40a9-8d51-cc718ab04d65');\n",
       "          const dataTable =\n",
       "            await google.colab.kernel.invokeFunction('convertToInteractive',\n",
       "                                                     [key], {});\n",
       "          if (!dataTable) return;\n",
       "\n",
       "          const docLinkHtml = 'Like what you see? Visit the ' +\n",
       "            '<a target=\"_blank\" href=https://colab.research.google.com/notebooks/data_table.ipynb>data table notebook</a>'\n",
       "            + ' to learn more about interactive tables.';\n",
       "          element.innerHTML = '';\n",
       "          dataTable['output_type'] = 'display_data';\n",
       "          await google.colab.output.renderOutput(dataTable, element);\n",
       "          const docLink = document.createElement('div');\n",
       "          docLink.innerHTML = docLinkHtml;\n",
       "          element.appendChild(docLink);\n",
       "        }\n",
       "      </script>\n",
       "    </div>\n",
       "  </div>\n",
       "  "
      ]
     },
     "metadata": {},
     "execution_count": 144
    }
   ]
  },
  {
   "cell_type": "code",
   "source": [
    "import plotly.graph_objects as go\n",
    "from plotly.subplots import make_subplots\n",
    "\n",
    "# Create the Subplots area with 2 rows and 2 columns (4 plots)\n",
    "fig = make_subplots(rows=2, cols=2,\n",
    "                    #Graph Types\n",
    "                    specs=[ [{'type': 'xy'}, {'type': 'xy'}],\n",
    "                            [{'type': 'xy'}, {'type': 'xy'}] ],\n",
    "                            \n",
    "                    # Titles for each graphic\n",
    "                    subplot_titles=(\"| CASES by STATE\", \"| % Population Sick by State\", \n",
    "                                    \"| CASES by POPULATION\", \"| % Pop Sick by Densidade\"    ))\n",
    "\n",
    "\n",
    "# Title for the Dashboard\n",
    "fig.update_layout(height=800, width=1400, title_text=\"VISUALIZATIONS : Cases by State\")\n",
    "fig.update_layout(showlegend=False)\n",
    "\n",
    "\n",
    "# Plot 1 | Cases by state\n",
    "fig.add_trace(go.Bar(x= cases_by_state['SG_UF_NOT'], y=cases_by_state['CLASSI_FIN'], name='(State, Cases)'),\n",
    "              row=1, col=1)\n",
    "\n",
    "# Plot 2 | Pct sick by state\n",
    "fig.add_trace(go.Bar(x= cases_by_state['SG_UF_NOT'], y=cases_by_state['pct_pop_sick'], name='(State, %Cases)'),\n",
    "              row=1, col=2)\n",
    "\n",
    "\n",
    "# Plot 3 | Cases by Population\n",
    "fig.add_trace(go.Scatter(x= cases_by_state['populacao'], y=cases_by_state['CLASSI_FIN'], \n",
    "                         mode='markers', marker=dict(size=10, opacity=.5),\n",
    "                         name='(Pop, Cases)'),\n",
    "              row=2, col=1)\n",
    "\n",
    "\n",
    "# Plot 4 | Density by Pop Sick\n",
    "fig.add_trace(go.Scatter(x= cases_by_state['densidade'], y=cases_by_state['pct_pop_sick'], \n",
    "                         mode='markers', marker=dict(size=10, opacity=.5),\n",
    "                         name='(Pop, %Cases)'),\n",
    "              row=2, col=2)\n",
    "\n",
    "fig.show()"
   ],
   "metadata": {
    "colab": {
     "base_uri": "https://localhost:8080/",
     "height": 817
    },
    "id": "q53CrZiP9Mht",
    "outputId": "a9d43a08-b00f-4fa6-b929-a43a57b32dd6"
   },
   "execution_count": null,
   "outputs": [
    {
     "output_type": "display_data",
     "data": {
      "text/html": [
       "<html>\n",
       "<head><meta charset=\"utf-8\" /></head>\n",
       "<body>\n",
       "    <div>            <script src=\"https://cdnjs.cloudflare.com/ajax/libs/mathjax/2.7.5/MathJax.js?config=TeX-AMS-MML_SVG\"></script><script type=\"text/javascript\">if (window.MathJax) {MathJax.Hub.Config({SVG: {font: \"STIX-Web\"}});}</script>                <script type=\"text/javascript\">window.PlotlyConfig = {MathJaxConfig: 'local'};</script>\n",
       "        <script src=\"https://cdn.plot.ly/plotly-2.8.3.min.js\"></script>                <div id=\"2c908531-4f3d-4aab-bf27-4371b2c4dc85\" class=\"plotly-graph-div\" style=\"height:800px; width:1400px;\"></div>            <script type=\"text/javascript\">                                    window.PLOTLYENV=window.PLOTLYENV || {};                                    if (document.getElementById(\"2c908531-4f3d-4aab-bf27-4371b2c4dc85\")) {                    Plotly.newPlot(                        \"2c908531-4f3d-4aab-bf27-4371b2c4dc85\",                        [{\"name\":\"(State, Cases)\",\"x\":[\"RR\",\"AP\",\"AC\",\"TO\",\"RO\",\"ES\",\"PI\",\"RN\",\"SE\",\"MA\",\"AL\",\"MT\",\"AM\",\"PB\",\"MS\",\"PA\",\"DF\",\"PE\",\"GO\",\"CE\",\"BA\",\"SC\",\"RS\",\"RJ\",\"PR\",\"MG\",\"SP\"],\"y\":[2560,3230,3563,7693,9131,9724,11780,12068,13355,13658,14076,17103,18541,19174,25111,26116,29754,32646,45174,45787,51785,54975,77927,104547,110754,159010,381738],\"type\":\"bar\",\"xaxis\":\"x\",\"yaxis\":\"y\"},{\"name\":\"(State, %Cases)\",\"x\":[\"RR\",\"AP\",\"AC\",\"TO\",\"RO\",\"ES\",\"PI\",\"RN\",\"SE\",\"MA\",\"AL\",\"MT\",\"AM\",\"PB\",\"MS\",\"PA\",\"DF\",\"PE\",\"GO\",\"CE\",\"BA\",\"SC\",\"RS\",\"RJ\",\"PR\",\"MG\",\"SP\"],\"y\":[4.226089167179795,3.819181276315992,4.039980270654867,4.891071458089882,5.137785030032776,2.4197180645241563,3.598894913185062,3.4412620089864046,5.809815652004441,1.9304099782040913,4.21770880370305,4.908356115399031,4.473535062636971,4.771875055218514,9.036029688526678,3.0357328634123633,9.867779580455203,3.4159001225375434,6.43655193226218,5.013864314343351,3.481797698174364,7.6729416139039985,6.849377076459412,6.055450052745613,9.686410400179046,7.511529590896334,8.313281923586876],\"type\":\"bar\",\"xaxis\":\"x2\",\"yaxis\":\"y2\"},{\"marker\":{\"opacity\":0.5,\"size\":10},\"mode\":\"markers\",\"name\":\"(Pop, Cases)\",\"x\":[605.761,845.731,881.935,1572.866,1777.225,4018.65,3273.227,3506.853,2298.696,7075.181,3337.357,3484.466,4144.597,4018.127,2778.986,8602.865,3015.268,9557.071,7018.354,9132.078,14873.064,7164.788,11377.239,17264.943,11433.957,21168.791,45919.049],\"y\":[2560,3230,3563,7693,9131,9724,11780,12068,13355,13658,14076,17103,18541,19174,25111,26116,29754,32646,45174,45787,51785,54975,77927,104547,110754,159010,381738],\"type\":\"scatter\",\"xaxis\":\"x3\",\"yaxis\":\"y3\"},{\"marker\":{\"opacity\":0.5,\"size\":10},\"mode\":\"markers\",\"name\":\"(Pop, %Cases)\",\"x\":[270,594,537,566,747,8722,1301,6641,10483,2146,11986,386,266,7116,778,691,52341,9745,2063,6133,2634,7484,4039,39462,5737,3609,18499],\"y\":[4.226089167179795,3.819181276315992,4.039980270654867,4.891071458089882,5.137785030032776,2.4197180645241563,3.598894913185062,3.4412620089864046,5.809815652004441,1.9304099782040913,4.21770880370305,4.908356115399031,4.473535062636971,4.771875055218514,9.036029688526678,3.0357328634123633,9.867779580455203,3.4159001225375434,6.43655193226218,5.013864314343351,3.481797698174364,7.6729416139039985,6.849377076459412,6.055450052745613,9.686410400179046,7.511529590896334,8.313281923586876],\"type\":\"scatter\",\"xaxis\":\"x4\",\"yaxis\":\"y4\"}],                        {\"template\":{\"data\":{\"bar\":[{\"error_x\":{\"color\":\"#2a3f5f\"},\"error_y\":{\"color\":\"#2a3f5f\"},\"marker\":{\"line\":{\"color\":\"#E5ECF6\",\"width\":0.5},\"pattern\":{\"fillmode\":\"overlay\",\"size\":10,\"solidity\":0.2}},\"type\":\"bar\"}],\"barpolar\":[{\"marker\":{\"line\":{\"color\":\"#E5ECF6\",\"width\":0.5},\"pattern\":{\"fillmode\":\"overlay\",\"size\":10,\"solidity\":0.2}},\"type\":\"barpolar\"}],\"carpet\":[{\"aaxis\":{\"endlinecolor\":\"#2a3f5f\",\"gridcolor\":\"white\",\"linecolor\":\"white\",\"minorgridcolor\":\"white\",\"startlinecolor\":\"#2a3f5f\"},\"baxis\":{\"endlinecolor\":\"#2a3f5f\",\"gridcolor\":\"white\",\"linecolor\":\"white\",\"minorgridcolor\":\"white\",\"startlinecolor\":\"#2a3f5f\"},\"type\":\"carpet\"}],\"choropleth\":[{\"colorbar\":{\"outlinewidth\":0,\"ticks\":\"\"},\"type\":\"choropleth\"}],\"contour\":[{\"colorbar\":{\"outlinewidth\":0,\"ticks\":\"\"},\"colorscale\":[[0.0,\"#0d0887\"],[0.1111111111111111,\"#46039f\"],[0.2222222222222222,\"#7201a8\"],[0.3333333333333333,\"#9c179e\"],[0.4444444444444444,\"#bd3786\"],[0.5555555555555556,\"#d8576b\"],[0.6666666666666666,\"#ed7953\"],[0.7777777777777778,\"#fb9f3a\"],[0.8888888888888888,\"#fdca26\"],[1.0,\"#f0f921\"]],\"type\":\"contour\"}],\"contourcarpet\":[{\"colorbar\":{\"outlinewidth\":0,\"ticks\":\"\"},\"type\":\"contourcarpet\"}],\"heatmap\":[{\"colorbar\":{\"outlinewidth\":0,\"ticks\":\"\"},\"colorscale\":[[0.0,\"#0d0887\"],[0.1111111111111111,\"#46039f\"],[0.2222222222222222,\"#7201a8\"],[0.3333333333333333,\"#9c179e\"],[0.4444444444444444,\"#bd3786\"],[0.5555555555555556,\"#d8576b\"],[0.6666666666666666,\"#ed7953\"],[0.7777777777777778,\"#fb9f3a\"],[0.8888888888888888,\"#fdca26\"],[1.0,\"#f0f921\"]],\"type\":\"heatmap\"}],\"heatmapgl\":[{\"colorbar\":{\"outlinewidth\":0,\"ticks\":\"\"},\"colorscale\":[[0.0,\"#0d0887\"],[0.1111111111111111,\"#46039f\"],[0.2222222222222222,\"#7201a8\"],[0.3333333333333333,\"#9c179e\"],[0.4444444444444444,\"#bd3786\"],[0.5555555555555556,\"#d8576b\"],[0.6666666666666666,\"#ed7953\"],[0.7777777777777778,\"#fb9f3a\"],[0.8888888888888888,\"#fdca26\"],[1.0,\"#f0f921\"]],\"type\":\"heatmapgl\"}],\"histogram\":[{\"marker\":{\"pattern\":{\"fillmode\":\"overlay\",\"size\":10,\"solidity\":0.2}},\"type\":\"histogram\"}],\"histogram2d\":[{\"colorbar\":{\"outlinewidth\":0,\"ticks\":\"\"},\"colorscale\":[[0.0,\"#0d0887\"],[0.1111111111111111,\"#46039f\"],[0.2222222222222222,\"#7201a8\"],[0.3333333333333333,\"#9c179e\"],[0.4444444444444444,\"#bd3786\"],[0.5555555555555556,\"#d8576b\"],[0.6666666666666666,\"#ed7953\"],[0.7777777777777778,\"#fb9f3a\"],[0.8888888888888888,\"#fdca26\"],[1.0,\"#f0f921\"]],\"type\":\"histogram2d\"}],\"histogram2dcontour\":[{\"colorbar\":{\"outlinewidth\":0,\"ticks\":\"\"},\"colorscale\":[[0.0,\"#0d0887\"],[0.1111111111111111,\"#46039f\"],[0.2222222222222222,\"#7201a8\"],[0.3333333333333333,\"#9c179e\"],[0.4444444444444444,\"#bd3786\"],[0.5555555555555556,\"#d8576b\"],[0.6666666666666666,\"#ed7953\"],[0.7777777777777778,\"#fb9f3a\"],[0.8888888888888888,\"#fdca26\"],[1.0,\"#f0f921\"]],\"type\":\"histogram2dcontour\"}],\"mesh3d\":[{\"colorbar\":{\"outlinewidth\":0,\"ticks\":\"\"},\"type\":\"mesh3d\"}],\"parcoords\":[{\"line\":{\"colorbar\":{\"outlinewidth\":0,\"ticks\":\"\"}},\"type\":\"parcoords\"}],\"pie\":[{\"automargin\":true,\"type\":\"pie\"}],\"scatter\":[{\"marker\":{\"colorbar\":{\"outlinewidth\":0,\"ticks\":\"\"}},\"type\":\"scatter\"}],\"scatter3d\":[{\"line\":{\"colorbar\":{\"outlinewidth\":0,\"ticks\":\"\"}},\"marker\":{\"colorbar\":{\"outlinewidth\":0,\"ticks\":\"\"}},\"type\":\"scatter3d\"}],\"scattercarpet\":[{\"marker\":{\"colorbar\":{\"outlinewidth\":0,\"ticks\":\"\"}},\"type\":\"scattercarpet\"}],\"scattergeo\":[{\"marker\":{\"colorbar\":{\"outlinewidth\":0,\"ticks\":\"\"}},\"type\":\"scattergeo\"}],\"scattergl\":[{\"marker\":{\"colorbar\":{\"outlinewidth\":0,\"ticks\":\"\"}},\"type\":\"scattergl\"}],\"scattermapbox\":[{\"marker\":{\"colorbar\":{\"outlinewidth\":0,\"ticks\":\"\"}},\"type\":\"scattermapbox\"}],\"scatterpolar\":[{\"marker\":{\"colorbar\":{\"outlinewidth\":0,\"ticks\":\"\"}},\"type\":\"scatterpolar\"}],\"scatterpolargl\":[{\"marker\":{\"colorbar\":{\"outlinewidth\":0,\"ticks\":\"\"}},\"type\":\"scatterpolargl\"}],\"scatterternary\":[{\"marker\":{\"colorbar\":{\"outlinewidth\":0,\"ticks\":\"\"}},\"type\":\"scatterternary\"}],\"surface\":[{\"colorbar\":{\"outlinewidth\":0,\"ticks\":\"\"},\"colorscale\":[[0.0,\"#0d0887\"],[0.1111111111111111,\"#46039f\"],[0.2222222222222222,\"#7201a8\"],[0.3333333333333333,\"#9c179e\"],[0.4444444444444444,\"#bd3786\"],[0.5555555555555556,\"#d8576b\"],[0.6666666666666666,\"#ed7953\"],[0.7777777777777778,\"#fb9f3a\"],[0.8888888888888888,\"#fdca26\"],[1.0,\"#f0f921\"]],\"type\":\"surface\"}],\"table\":[{\"cells\":{\"fill\":{\"color\":\"#EBF0F8\"},\"line\":{\"color\":\"white\"}},\"header\":{\"fill\":{\"color\":\"#C8D4E3\"},\"line\":{\"color\":\"white\"}},\"type\":\"table\"}]},\"layout\":{\"annotationdefaults\":{\"arrowcolor\":\"#2a3f5f\",\"arrowhead\":0,\"arrowwidth\":1},\"autotypenumbers\":\"strict\",\"coloraxis\":{\"colorbar\":{\"outlinewidth\":0,\"ticks\":\"\"}},\"colorscale\":{\"diverging\":[[0,\"#8e0152\"],[0.1,\"#c51b7d\"],[0.2,\"#de77ae\"],[0.3,\"#f1b6da\"],[0.4,\"#fde0ef\"],[0.5,\"#f7f7f7\"],[0.6,\"#e6f5d0\"],[0.7,\"#b8e186\"],[0.8,\"#7fbc41\"],[0.9,\"#4d9221\"],[1,\"#276419\"]],\"sequential\":[[0.0,\"#0d0887\"],[0.1111111111111111,\"#46039f\"],[0.2222222222222222,\"#7201a8\"],[0.3333333333333333,\"#9c179e\"],[0.4444444444444444,\"#bd3786\"],[0.5555555555555556,\"#d8576b\"],[0.6666666666666666,\"#ed7953\"],[0.7777777777777778,\"#fb9f3a\"],[0.8888888888888888,\"#fdca26\"],[1.0,\"#f0f921\"]],\"sequentialminus\":[[0.0,\"#0d0887\"],[0.1111111111111111,\"#46039f\"],[0.2222222222222222,\"#7201a8\"],[0.3333333333333333,\"#9c179e\"],[0.4444444444444444,\"#bd3786\"],[0.5555555555555556,\"#d8576b\"],[0.6666666666666666,\"#ed7953\"],[0.7777777777777778,\"#fb9f3a\"],[0.8888888888888888,\"#fdca26\"],[1.0,\"#f0f921\"]]},\"colorway\":[\"#636efa\",\"#EF553B\",\"#00cc96\",\"#ab63fa\",\"#FFA15A\",\"#19d3f3\",\"#FF6692\",\"#B6E880\",\"#FF97FF\",\"#FECB52\"],\"font\":{\"color\":\"#2a3f5f\"},\"geo\":{\"bgcolor\":\"white\",\"lakecolor\":\"white\",\"landcolor\":\"#E5ECF6\",\"showlakes\":true,\"showland\":true,\"subunitcolor\":\"white\"},\"hoverlabel\":{\"align\":\"left\"},\"hovermode\":\"closest\",\"mapbox\":{\"style\":\"light\"},\"paper_bgcolor\":\"white\",\"plot_bgcolor\":\"#E5ECF6\",\"polar\":{\"angularaxis\":{\"gridcolor\":\"white\",\"linecolor\":\"white\",\"ticks\":\"\"},\"bgcolor\":\"#E5ECF6\",\"radialaxis\":{\"gridcolor\":\"white\",\"linecolor\":\"white\",\"ticks\":\"\"}},\"scene\":{\"xaxis\":{\"backgroundcolor\":\"#E5ECF6\",\"gridcolor\":\"white\",\"gridwidth\":2,\"linecolor\":\"white\",\"showbackground\":true,\"ticks\":\"\",\"zerolinecolor\":\"white\"},\"yaxis\":{\"backgroundcolor\":\"#E5ECF6\",\"gridcolor\":\"white\",\"gridwidth\":2,\"linecolor\":\"white\",\"showbackground\":true,\"ticks\":\"\",\"zerolinecolor\":\"white\"},\"zaxis\":{\"backgroundcolor\":\"#E5ECF6\",\"gridcolor\":\"white\",\"gridwidth\":2,\"linecolor\":\"white\",\"showbackground\":true,\"ticks\":\"\",\"zerolinecolor\":\"white\"}},\"shapedefaults\":{\"line\":{\"color\":\"#2a3f5f\"}},\"ternary\":{\"aaxis\":{\"gridcolor\":\"white\",\"linecolor\":\"white\",\"ticks\":\"\"},\"baxis\":{\"gridcolor\":\"white\",\"linecolor\":\"white\",\"ticks\":\"\"},\"bgcolor\":\"#E5ECF6\",\"caxis\":{\"gridcolor\":\"white\",\"linecolor\":\"white\",\"ticks\":\"\"}},\"title\":{\"x\":0.05},\"xaxis\":{\"automargin\":true,\"gridcolor\":\"white\",\"linecolor\":\"white\",\"ticks\":\"\",\"title\":{\"standoff\":15},\"zerolinecolor\":\"white\",\"zerolinewidth\":2},\"yaxis\":{\"automargin\":true,\"gridcolor\":\"white\",\"linecolor\":\"white\",\"ticks\":\"\",\"title\":{\"standoff\":15},\"zerolinecolor\":\"white\",\"zerolinewidth\":2}}},\"xaxis\":{\"anchor\":\"y\",\"domain\":[0.0,0.45]},\"yaxis\":{\"anchor\":\"x\",\"domain\":[0.625,1.0]},\"xaxis2\":{\"anchor\":\"y2\",\"domain\":[0.55,1.0]},\"yaxis2\":{\"anchor\":\"x2\",\"domain\":[0.625,1.0]},\"xaxis3\":{\"anchor\":\"y3\",\"domain\":[0.0,0.45]},\"yaxis3\":{\"anchor\":\"x3\",\"domain\":[0.0,0.375]},\"xaxis4\":{\"anchor\":\"y4\",\"domain\":[0.55,1.0]},\"yaxis4\":{\"anchor\":\"x4\",\"domain\":[0.0,0.375]},\"annotations\":[{\"font\":{\"size\":16},\"showarrow\":false,\"text\":\"| CASES by STATE\",\"x\":0.225,\"xanchor\":\"center\",\"xref\":\"paper\",\"y\":1.0,\"yanchor\":\"bottom\",\"yref\":\"paper\"},{\"font\":{\"size\":16},\"showarrow\":false,\"text\":\"| % Population Sick by State\",\"x\":0.775,\"xanchor\":\"center\",\"xref\":\"paper\",\"y\":1.0,\"yanchor\":\"bottom\",\"yref\":\"paper\"},{\"font\":{\"size\":16},\"showarrow\":false,\"text\":\"| CASES by POPULATION\",\"x\":0.225,\"xanchor\":\"center\",\"xref\":\"paper\",\"y\":0.375,\"yanchor\":\"bottom\",\"yref\":\"paper\"},{\"font\":{\"size\":16},\"showarrow\":false,\"text\":\"| % Pop Sick by Densidade\",\"x\":0.775,\"xanchor\":\"center\",\"xref\":\"paper\",\"y\":0.375,\"yanchor\":\"bottom\",\"yref\":\"paper\"}],\"title\":{\"text\":\"VISUALIZATIONS : Cases by State\"},\"height\":800,\"width\":1400,\"showlegend\":false},                        {\"responsive\": true}                    ).then(function(){\n",
       "                            \n",
       "var gd = document.getElementById('2c908531-4f3d-4aab-bf27-4371b2c4dc85');\n",
       "var x = new MutationObserver(function (mutations, observer) {{\n",
       "        var display = window.getComputedStyle(gd).display;\n",
       "        if (!display || display === 'none') {{\n",
       "            console.log([gd, 'removed!']);\n",
       "            Plotly.purge(gd);\n",
       "            observer.disconnect();\n",
       "        }}\n",
       "}});\n",
       "\n",
       "// Listen for the removal of the full notebook cells\n",
       "var notebookContainer = gd.closest('#notebook-container');\n",
       "if (notebookContainer) {{\n",
       "    x.observe(notebookContainer, {childList: true});\n",
       "}}\n",
       "\n",
       "// Listen for the clearing of the current output cell\n",
       "var outputEl = gd.closest('.output');\n",
       "if (outputEl) {{\n",
       "    x.observe(outputEl, {childList: true});\n",
       "}}\n",
       "\n",
       "                        })                };                            </script>        </div>\n",
       "</body>\n",
       "</html>"
      ]
     },
     "metadata": {}
    }
   ]
  },
  {
   "cell_type": "markdown",
   "source": [
    "#### **Sex influence anything?**\n",
    "The distributions are similar. The men are slightly more risked to report group 5 (COVID)."
   ],
   "metadata": {
    "id": "ePc9VO7UPVJn"
   }
  },
  {
   "cell_type": "code",
   "source": [
    "class_by_sex = df.query('CS_SEXO != \"I\"').groupby('CS_SEXO').CLASSI_FIN.value_counts().to_frame().rename(columns={'CLASSI_FIN': 'class_ct'}).reset_index()\n",
    "#Plot\n",
    "plt.figure(figsize=(18,8))\n",
    "sns.barplot(data=class_by_sex, x= 'CLASSI_FIN', y= 'class_ct', hue= 'CS_SEXO');"
   ],
   "metadata": {
    "colab": {
     "base_uri": "https://localhost:8080/",
     "height": 537
    },
    "id": "OJQdnfOEPZsi",
    "outputId": "d1d43ffe-deca-4b8e-bda7-48af48f32bd8"
   },
   "execution_count": null,
   "outputs": [
    {
     "output_type": "display_data",
     "data": {
      "text/plain": [
       "<Figure size 1296x576 with 1 Axes>"
      ],
      "image/png": "[encoded data removed]"
     },
     "metadata": {}
    }
   ]
  },
  {
   "cell_type": "markdown",
   "source": [
    "### Person used Influenza Antiviral?\n",
    "97% of people affected with Influenza used it."
   ],
   "metadata": {
    "collapsed": false
   }
  },
  {
   "cell_type": "code",
   "execution_count": 69,
   "outputs": [
    {
     "data": {
      "text/plain": "srag        TP_ANTIVIR\nCOVID       1.0           0.747471\n            3.0           0.238913\n            2.0           0.013616\ninfluenza   1.0           0.974535\n            3.0           0.020895\n            2.0           0.004571\nnot specif  1.0           0.932063\n            3.0           0.061015\n            2.0           0.006922\nothr agent  1.0           0.920455\n            3.0           0.068182\n            2.0           0.011364\nothr virus  1.0           0.972477\n            3.0           0.022211\n            2.0           0.005311\nName: TP_ANTIVIR, dtype: float64"
     },
     "execution_count": 69,
     "metadata": {},
     "output_type": "execute_result"
    }
   ],
   "source": [
    "df.groupby('srag').TP_ANTIVIR.value_counts(normalize=True)"
   ],
   "metadata": {
    "collapsed": false
   }
  },
  {
   "cell_type": "markdown",
   "source": [
    "# Selecting the variables for the first model"
   ],
   "metadata": {
    "id": "xJawSLxKrFyx"
   }
  },
  {
   "cell_type": "code",
   "source": [
    "# Select columns to keep\n",
    "cols_to_keep = ['ID', 'CLASSI_FIN', 'SEM_NOT', 'SEM_PRI', 'SG_UF_NOT', 'CS_SEXO', 'NU_IDADE_N', 'TP_IDADE', 'NOSOCOMIAL', 'FEBRE', 'TOSSE', 'GARGANTA',\n",
    "       'DISPNEIA', 'DESC_RESP', 'SATURACAO', 'DIARREIA', 'VOMITO', 'OUTRO_SIN', 'OUTRO_DES', 'PUERPERA', 'FATOR_RISC', 'CARDIOPATI', 'HEMATOLOGI',\n",
    "       'SIND_DOWN', 'HEPATICA', 'ASMA', 'DIABETES', 'NEUROLOGIC', 'PNEUMOPATI', 'IMUNODEPRE', 'RENAL', 'OBESIDADE', 'OUT_MORBI', 'MORB_DESC',\n",
    "       'VACINA', 'UTI', 'SUPORT_VEN', 'HISTO_VGM','DOR_ABD', 'FADIGA', 'PERD_OLFT', 'PERD_PALA', 'TOMO_RES', 'VACINA_COV','DOSE_2_COV', 'DOSE_REF']\n",
    "\n",
    "# Slice dataset\n",
    "df_model = df[cols_to_keep].copy()"
   ],
   "metadata": {
    "id": "a_J2H6kHrKLd"
   },
   "execution_count": 63,
   "outputs": []
  },
  {
   "cell_type": "code",
   "source": [
    "# Correcting IDADE\n",
    "# Tipo 1 = dia, tipo 2 = Mês, 3= Ano\n",
    "df_model['NU_IDADE_N'] = np.select( [df_model.TP_IDADE == 1, df_model.TP_IDADE == 2, df_model.TP_IDADE == 3],\n",
    "                                    [round(df_model.NU_IDADE_N/365), round(df_model.NU_IDADE_N/12), df_model.NU_IDADE_N] )\n",
    "df_model.drop('TP_IDADE', axis=1, inplace=True)"
   ],
   "metadata": {
    "id": "hKQCRHrJrTVc"
   },
   "execution_count": 64,
   "outputs": []
  },
  {
   "cell_type": "code",
   "source": [
    "df_model.shape"
   ],
   "metadata": {
    "colab": {
     "base_uri": "https://localhost:8080/"
    },
    "id": "-FshC4wl1unc",
    "outputId": "1790a57e-2921-47b8-e93f-805f4fcb65e7"
   },
   "execution_count": 65,
   "outputs": [
    {
     "data": {
      "text/plain": "(1300980, 45)"
     },
     "execution_count": 65,
     "metadata": {},
     "output_type": "execute_result"
    }
   ]
  },
  {
   "cell_type": "code",
   "source": [
    "cols_to_drop = ['ID', 'CLASSI_FIN', 'SEM_NOT', 'SEM_PRI', 'SG_UF_NOT', 'NU_IDADE_N', 'OUTRO_DES', 'MORB_DESC']\n",
    "pd.DataFrame({\n",
    "    'variable': df_model.drop(cols_to_drop, axis=1).columns,\n",
    "    'unique values': df_model.drop(cols_to_drop, axis=1).nunique(),\n",
    "    'values': [df[x].unique() for x in df_model.drop(cols_to_drop, axis=1).columns]\n",
    "})"
   ],
   "metadata": {
    "colab": {
     "base_uri": "https://localhost:8080/",
     "height": 1000
    },
    "id": "OloqndD2wTh_",
    "outputId": "fcf5f985-aebe-4c4b-ac4c-62d3557aaf5c"
   },
   "execution_count": 66,
   "outputs": [
    {
     "data": {
      "text/plain": "              variable  unique values  \\\nCS_SEXO        CS_SEXO              3   \nNOSOCOMIAL  NOSOCOMIAL              3   \nFEBRE            FEBRE              3   \nTOSSE            TOSSE              3   \nGARGANTA      GARGANTA              3   \nDISPNEIA      DISPNEIA              3   \nDESC_RESP    DESC_RESP              3   \nSATURACAO    SATURACAO              3   \nDIARREIA      DIARREIA              3   \nVOMITO          VOMITO              3   \nOUTRO_SIN    OUTRO_SIN              3   \nPUERPERA      PUERPERA              3   \nFATOR_RISC  FATOR_RISC              2   \nCARDIOPATI  CARDIOPATI              3   \nHEMATOLOGI  HEMATOLOGI              3   \nSIND_DOWN    SIND_DOWN              3   \nHEPATICA      HEPATICA              3   \nASMA              ASMA              3   \nDIABETES      DIABETES              3   \nNEUROLOGIC  NEUROLOGIC              3   \nPNEUMOPATI  PNEUMOPATI              3   \nIMUNODEPRE  IMUNODEPRE              3   \nRENAL            RENAL              3   \nOBESIDADE    OBESIDADE              3   \nOUT_MORBI    OUT_MORBI              3   \nVACINA          VACINA              3   \nUTI                UTI              3   \nSUPORT_VEN  SUPORT_VEN              4   \nHISTO_VGM    HISTO_VGM              4   \nDOR_ABD        DOR_ABD              3   \nFADIGA          FADIGA              3   \nPERD_OLFT    PERD_OLFT              3   \nPERD_PALA    PERD_PALA              3   \nTOMO_RES      TOMO_RES              7   \nVACINA_COV  VACINA_COV              3   \nDOSE_2_COV  DOSE_2_COV              2   \nDOSE_REF      DOSE_REF              2   \n\n                                              values  \nCS_SEXO                                    [M, F, I]  \nNOSOCOMIAL                      [2.0, nan, 9.0, 1.0]  \nFEBRE                           [nan, 1.0, 2.0, 9.0]  \nTOSSE                           [nan, 1.0, 2.0, 9.0]  \nGARGANTA                        [nan, 1.0, 2.0, 9.0]  \nDISPNEIA                        [nan, 2.0, 1.0, 9.0]  \nDESC_RESP                       [nan, 2.0, 1.0, 9.0]  \nSATURACAO                       [nan, 2.0, 1.0, 9.0]  \nDIARREIA                        [nan, 2.0, 1.0, 9.0]  \nVOMITO                          [nan, 2.0, 9.0, 1.0]  \nOUTRO_SIN                       [nan, 2.0, 1.0, 9.0]  \nPUERPERA                        [nan, 2.0, 9.0, 1.0]  \nFATOR_RISC                                    [1, 2]  \nCARDIOPATI                      [nan, 1.0, 2.0, 9.0]  \nHEMATOLOGI                      [nan, 2.0, 9.0, 1.0]  \nSIND_DOWN                       [nan, 2.0, 9.0, 1.0]  \nHEPATICA                        [nan, 2.0, 9.0, 1.0]  \nASMA                            [nan, 2.0, 1.0, 9.0]  \nDIABETES                        [nan, 1.0, 2.0, 9.0]  \nNEUROLOGIC                      [1.0, nan, 2.0, 9.0]  \nPNEUMOPATI                      [nan, 2.0, 1.0, 9.0]  \nIMUNODEPRE                      [nan, 2.0, 9.0, 1.0]  \nRENAL                           [nan, 2.0, 1.0, 9.0]  \nOBESIDADE                       [nan, 2.0, 1.0, 9.0]  \nOUT_MORBI                       [1.0, nan, 2.0, 9.0]  \nVACINA                          [2.0, nan, 1.0, 9.0]  \nUTI                             [2.0, nan, 1.0, 9.0]  \nSUPORT_VEN                 [2.0, 3.0, 1.0, nan, 9.0]  \nHISTO_VGM                               [0, 2, 9, 1]  \nDOR_ABD                         [nan, 2.0, 9.0, 1.0]  \nFADIGA                          [nan, 2.0, 1.0, 9.0]  \nPERD_OLFT                       [nan, 2.0, 9.0, 1.0]  \nPERD_PALA                       [nan, 2.0, 1.0, 9.0]  \nTOMO_RES    [nan, 6.0, 1.0, 3.0, 5.0, 9.0, 2.0, 4.0]  \nVACINA_COV                      [2.0, 9.0, 1.0, nan]  \nDOSE_2_COV                                    [0, 1]  \nDOSE_REF                                      [0, 1]  ",
      "text/html": "<div>\n<style scoped>\n    .dataframe tbody tr th:only-of-type {\n        vertical-align: middle;\n    }\n\n    .dataframe tbody tr th {\n        vertical-align: top;\n    }\n\n    .dataframe thead th {\n        text-align: right;\n    }\n</style>\n<table border=\"1\" class=\"dataframe\">\n  <thead>\n    <tr style=\"text-align: right;\">\n      <th></th>\n      <th>variable</th>\n      <th>unique values</th>\n      <th>values</th>\n    </tr>\n  </thead>\n  <tbody>\n    <tr>\n      <th>CS_SEXO</th>\n      <td>CS_SEXO</td>\n      <td>3</td>\n      <td>[M, F, I]</td>\n    </tr>\n    <tr>\n      <th>NOSOCOMIAL</th>\n      <td>NOSOCOMIAL</td>\n      <td>3</td>\n      <td>[2.0, nan, 9.0, 1.0]</td>\n    </tr>\n    <tr>\n      <th>FEBRE</th>\n      <td>FEBRE</td>\n      <td>3</td>\n      <td>[nan, 1.0, 2.0, 9.0]</td>\n    </tr>\n    <tr>\n      <th>TOSSE</th>\n      <td>TOSSE</td>\n      <td>3</td>\n      <td>[nan, 1.0, 2.0, 9.0]</td>\n    </tr>\n    <tr>\n      <th>GARGANTA</th>\n      <td>GARGANTA</td>\n      <td>3</td>\n      <td>[nan, 1.0, 2.0, 9.0]</td>\n    </tr>\n    <tr>\n      <th>DISPNEIA</th>\n      <td>DISPNEIA</td>\n      <td>3</td>\n      <td>[nan, 2.0, 1.0, 9.0]</td>\n    </tr>\n    <tr>\n      <th>DESC_RESP</th>\n      <td>DESC_RESP</td>\n      <td>3</td>\n      <td>[nan, 2.0, 1.0, 9.0]</td>\n    </tr>\n    <tr>\n      <th>SATURACAO</th>\n      <td>SATURACAO</td>\n      <td>3</td>\n      <td>[nan, 2.0, 1.0, 9.0]</td>\n    </tr>\n    <tr>\n      <th>DIARREIA</th>\n      <td>DIARREIA</td>\n      <td>3</td>\n      <td>[nan, 2.0, 1.0, 9.0]</td>\n    </tr>\n    <tr>\n      <th>VOMITO</th>\n      <td>VOMITO</td>\n      <td>3</td>\n      <td>[nan, 2.0, 9.0, 1.0]</td>\n    </tr>\n    <tr>\n      <th>OUTRO_SIN</th>\n      <td>OUTRO_SIN</td>\n      <td>3</td>\n      <td>[nan, 2.0, 1.0, 9.0]</td>\n    </tr>\n    <tr>\n      <th>PUERPERA</th>\n      <td>PUERPERA</td>\n      <td>3</td>\n      <td>[nan, 2.0, 9.0, 1.0]</td>\n    </tr>\n    <tr>\n      <th>FATOR_RISC</th>\n      <td>FATOR_RISC</td>\n      <td>2</td>\n      <td>[1, 2]</td>\n    </tr>\n    <tr>\n      <th>CARDIOPATI</th>\n      <td>CARDIOPATI</td>\n      <td>3</td>\n      <td>[nan, 1.0, 2.0, 9.0]</td>\n    </tr>\n    <tr>\n      <th>HEMATOLOGI</th>\n      <td>HEMATOLOGI</td>\n      <td>3</td>\n      <td>[nan, 2.0, 9.0, 1.0]</td>\n    </tr>\n    <tr>\n      <th>SIND_DOWN</th>\n      <td>SIND_DOWN</td>\n      <td>3</td>\n      <td>[nan, 2.0, 9.0, 1.0]</td>\n    </tr>\n    <tr>\n      <th>HEPATICA</th>\n      <td>HEPATICA</td>\n      <td>3</td>\n      <td>[nan, 2.0, 9.0, 1.0]</td>\n    </tr>\n    <tr>\n      <th>ASMA</th>\n      <td>ASMA</td>\n      <td>3</td>\n      <td>[nan, 2.0, 1.0, 9.0]</td>\n    </tr>\n    <tr>\n      <th>DIABETES</th>\n      <td>DIABETES</td>\n      <td>3</td>\n      <td>[nan, 1.0, 2.0, 9.0]</td>\n    </tr>\n    <tr>\n      <th>NEUROLOGIC</th>\n      <td>NEUROLOGIC</td>\n      <td>3</td>\n      <td>[1.0, nan, 2.0, 9.0]</td>\n    </tr>\n    <tr>\n      <th>PNEUMOPATI</th>\n      <td>PNEUMOPATI</td>\n      <td>3</td>\n      <td>[nan, 2.0, 1.0, 9.0]</td>\n    </tr>\n    <tr>\n      <th>IMUNODEPRE</th>\n      <td>IMUNODEPRE</td>\n      <td>3</td>\n      <td>[nan, 2.0, 9.0, 1.0]</td>\n    </tr>\n    <tr>\n      <th>RENAL</th>\n      <td>RENAL</td>\n      <td>3</td>\n      <td>[nan, 2.0, 1.0, 9.0]</td>\n    </tr>\n    <tr>\n      <th>OBESIDADE</th>\n      <td>OBESIDADE</td>\n      <td>3</td>\n      <td>[nan, 2.0, 1.0, 9.0]</td>\n    </tr>\n    <tr>\n      <th>OUT_MORBI</th>\n      <td>OUT_MORBI</td>\n      <td>3</td>\n      <td>[1.0, nan, 2.0, 9.0]</td>\n    </tr>\n    <tr>\n      <th>VACINA</th>\n      <td>VACINA</td>\n      <td>3</td>\n      <td>[2.0, nan, 1.0, 9.0]</td>\n    </tr>\n    <tr>\n      <th>UTI</th>\n      <td>UTI</td>\n      <td>3</td>\n      <td>[2.0, nan, 1.0, 9.0]</td>\n    </tr>\n    <tr>\n      <th>SUPORT_VEN</th>\n      <td>SUPORT_VEN</td>\n      <td>4</td>\n      <td>[2.0, 3.0, 1.0, nan, 9.0]</td>\n    </tr>\n    <tr>\n      <th>HISTO_VGM</th>\n      <td>HISTO_VGM</td>\n      <td>4</td>\n      <td>[0, 2, 9, 1]</td>\n    </tr>\n    <tr>\n      <th>DOR_ABD</th>\n      <td>DOR_ABD</td>\n      <td>3</td>\n      <td>[nan, 2.0, 9.0, 1.0]</td>\n    </tr>\n    <tr>\n      <th>FADIGA</th>\n      <td>FADIGA</td>\n      <td>3</td>\n      <td>[nan, 2.0, 1.0, 9.0]</td>\n    </tr>\n    <tr>\n      <th>PERD_OLFT</th>\n      <td>PERD_OLFT</td>\n      <td>3</td>\n      <td>[nan, 2.0, 9.0, 1.0]</td>\n    </tr>\n    <tr>\n      <th>PERD_PALA</th>\n      <td>PERD_PALA</td>\n      <td>3</td>\n      <td>[nan, 2.0, 1.0, 9.0]</td>\n    </tr>\n    <tr>\n      <th>TOMO_RES</th>\n      <td>TOMO_RES</td>\n      <td>7</td>\n      <td>[nan, 6.0, 1.0, 3.0, 5.0, 9.0, 2.0, 4.0]</td>\n    </tr>\n    <tr>\n      <th>VACINA_COV</th>\n      <td>VACINA_COV</td>\n      <td>3</td>\n      <td>[2.0, 9.0, 1.0, nan]</td>\n    </tr>\n    <tr>\n      <th>DOSE_2_COV</th>\n      <td>DOSE_2_COV</td>\n      <td>2</td>\n      <td>[0, 1]</td>\n    </tr>\n    <tr>\n      <th>DOSE_REF</th>\n      <td>DOSE_REF</td>\n      <td>2</td>\n      <td>[0, 1]</td>\n    </tr>\n  </tbody>\n</table>\n</div>"
     },
     "execution_count": 66,
     "metadata": {},
     "output_type": "execute_result"
    }
   ]
  },
  {
   "cell_type": "markdown",
   "source": [
    "# Missing Values"
   ],
   "metadata": {
    "id": "iRcSM2qKS_6J"
   }
  },
  {
   "cell_type": "markdown",
   "source": [
    "For an initial model since the missing values are marked as category #9, we will replace the NAs with 9 and run the model."
   ],
   "metadata": {
    "id": "7DY_jS4rHiI7"
   }
  },
  {
   "cell_type": "code",
   "source": [
    "# Checking for missing data\n",
    "df_model.isnull().sum().sort_values(ascending=False).head(50)"
   ],
   "metadata": {
    "id": "8irmIitQRkxv"
   },
   "execution_count": null,
   "outputs": []
  },
  {
   "cell_type": "code",
   "source": [
    "# Replacing the NAs with 9\n",
    "df_model = df_model.fillna('9')\n",
    "\n",
    "# Check again for NAs\n",
    "#df_model.isnull().sum().sort_values(ascending=False).head(50)"
   ],
   "metadata": {
    "id": "XkihpL_TgxSr"
   },
   "execution_count": 67,
   "outputs": []
  },
  {
   "cell_type": "code",
   "source": [
    "# Columns to Categories for modeling\n",
    "\n",
    "num_col = ['NOSOCOMIAL', 'FEBRE', 'TOSSE', 'GARGANTA', 'CLASSI_FIN',\n",
    "       'DISPNEIA', 'DESC_RESP', 'SATURACAO', 'DIARREIA', 'VOMITO', 'OUTRO_SIN', 'PUERPERA', 'FATOR_RISC', 'CARDIOPATI', 'HEMATOLOGI',\n",
    "       'SIND_DOWN', 'HEPATICA', 'ASMA', 'DIABETES', 'NEUROLOGIC', 'PNEUMOPATI', 'IMUNODEPRE', 'RENAL', 'OBESIDADE', 'OUT_MORBI',\n",
    "       'VACINA', 'UTI', 'SUPORT_VEN', 'HISTO_VGM','DOR_ABD', 'FADIGA', 'PERD_OLFT', 'PERD_PALA', 'TOMO_RES', 'VACINA_COV','DOSE_2_COV', 'DOSE_REF']\n",
    "\n",
    "col_types = ['SG_UF_NOT', 'CS_SEXO','NOSOCOMIAL', 'FEBRE', 'TOSSE', 'GARGANTA', 'OUTRO_DES', 'MORB_DESC', 'CLASSI_FIN',\n",
    "       'DISPNEIA', 'DESC_RESP', 'SATURACAO', 'DIARREIA', 'VOMITO', 'OUTRO_SIN', 'PUERPERA', 'FATOR_RISC', 'CARDIOPATI', 'HEMATOLOGI',\n",
    "       'SIND_DOWN', 'HEPATICA', 'ASMA', 'DIABETES', 'NEUROLOGIC', 'PNEUMOPATI', 'IMUNODEPRE', 'RENAL', 'OBESIDADE', 'OUT_MORBI',\n",
    "       'VACINA', 'UTI', 'SUPORT_VEN', 'HISTO_VGM','DOR_ABD', 'FADIGA', 'PERD_OLFT', 'PERD_PALA', 'TOMO_RES', 'VACINA_COV','DOSE_2_COV', 'DOSE_REF']\n",
    "\n",
    "# Assign as categorical\n",
    "df_model[num_col] = df_model[num_col].astype('int')\n",
    "df_model[col_types] = df_model[col_types].astype('category')\n",
    "df_model.dtypes"
   ],
   "metadata": {
    "id": "a05E33BZH0E-"
   },
   "execution_count": 17,
   "outputs": [
    {
     "data": {
      "text/plain": "ID              object\nCLASSI_FIN    category\nSEM_NOT          int64\nSEM_PRI          int64\nSG_UF_NOT     category\nCS_SEXO       category\nNU_IDADE_N     float64\nNOSOCOMIAL    category\nFEBRE         category\nTOSSE         category\nGARGANTA      category\nDISPNEIA      category\nDESC_RESP     category\nSATURACAO     category\nDIARREIA      category\nVOMITO        category\nOUTRO_SIN     category\nOUTRO_DES     category\nPUERPERA      category\nFATOR_RISC    category\nCARDIOPATI    category\nHEMATOLOGI    category\nSIND_DOWN     category\nHEPATICA      category\nASMA          category\nDIABETES      category\nNEUROLOGIC    category\nPNEUMOPATI    category\nIMUNODEPRE    category\nRENAL         category\nOBESIDADE     category\nOUT_MORBI     category\nMORB_DESC     category\nVACINA        category\nUTI           category\nSUPORT_VEN    category\nHISTO_VGM     category\nDOR_ABD       category\nFADIGA        category\nPERD_OLFT     category\nPERD_PALA     category\nTOMO_RES      category\nVACINA_COV    category\nDOSE_2_COV    category\nDOSE_REF      category\ndtype: object"
     },
     "execution_count": 17,
     "metadata": {},
     "output_type": "execute_result"
    }
   ]
  },
  {
   "cell_type": "code",
   "execution_count": 58,
   "outputs": [],
   "source": [
    "#df.isna().sum(axis=1)/76"
   ],
   "metadata": {
    "collapsed": false
   }
  },
  {
   "cell_type": "code",
   "execution_count": 34,
   "outputs": [
    {
     "data": {
      "text/plain": "CLASSI_FIN  CLASSI_FIN  OUTRO_DES               \n1           1           CORIZA                        890\n                        CEFALEIA                      335\n                        MIALGIA                       288\n                        CORIZA,CEFALEIA               208\n                        INAPETENCIA                    75\n2           2           CORIZA                       4009\n                        CONGESTAO NASAL               348\n                        OBSTRUCAO NASAL               319\n                        CORIZA E OBSTRUCAO NASAL      260\n                        CEFALEIA                      134\n3           3           CORIZA                        196\n                        ASSINTOMATICO                 143\n                        CEFALEIA                       87\n                        DOR TORACICA                   71\n                        MIALGIA                        59\n4           4           CORIZA                      15305\n                        CEFALEIA                     5544\n                        MIALGIA                      3628\n                        DOR TORACICA                 2466\n                        INAPETENCIA                  1835\n5           5           CEFALEIA                    27394\n                        MIALGIA                     25018\n                        CORIZA                      11395\n                        ASTENIA                      8849\n                        INAPETENCIA                  6011\nName: OUTRO_DES, dtype: int64"
     },
     "execution_count": 34,
     "metadata": {},
     "output_type": "execute_result"
    }
   ],
   "source": [
    "df.groupby('CLASSI_FIN').OUTRO_DES.value_counts().groupby('CLASSI_FIN').nlargest(5)"
   ],
   "metadata": {
    "collapsed": false
   }
  },
  {
   "cell_type": "markdown",
   "source": [
    "# Train Test Split"
   ],
   "metadata": {
    "id": "W19lT-2UIWX9"
   }
  },
  {
   "cell_type": "code",
   "source": [
    "# X and y\n",
    "X = df_model.drop(['ID', 'CLASSI_FIN'], axis=1)\n",
    "y= df_model.CLASSI_FIN"
   ],
   "metadata": {
    "id": "KqahxqTYIcn_"
   },
   "execution_count": 18,
   "outputs": []
  },
  {
   "cell_type": "code",
   "source": [
    "# Train test split\n",
    "X_train, X_test, y_train, y_test = train_test_split(X, y, test_size=0.93, stratify=y, random_state=42)\n",
    "\n",
    "print(f'Train shapes: {X_train.shape} | {y_train.shape}')\n",
    "print(f'Test shapes: {X_test.shape} | {y_test.shape}')"
   ],
   "metadata": {
    "colab": {
     "base_uri": "https://localhost:8080/"
    },
    "id": "wfuRVE89IRVV",
    "outputId": "3d015ef3-1714-41cc-a00f-850df3e92e45"
   },
   "execution_count": 19,
   "outputs": [
    {
     "name": "stdout",
     "output_type": "stream",
     "text": [
      "Train shapes: (91068, 43) | (91068,)\n",
      "Test shapes: (1209912, 43) | (1209912,)\n"
     ]
    }
   ]
  },
  {
   "cell_type": "markdown",
   "source": [
    "# CatBoost Baseline Model"
   ],
   "metadata": {
    "id": "MFyoHqGsIs5Q"
   }
  },
  {
   "cell_type": "code",
   "source": [
    "# Find categorical features indices for training\n",
    "cat_features = X.select_dtypes(include=['object', 'category']).columns.values\n",
    "#cat_features"
   ],
   "metadata": {
    "colab": {
     "base_uri": "https://localhost:8080/"
    },
    "id": "TiZdMkjYJOsW",
    "outputId": "7749f77f-a446-41e9-b9cc-95ca573e7334"
   },
   "execution_count": 20,
   "outputs": []
  },
  {
   "cell_type": "code",
   "source": [
    "# Creating a Pool for training and validation sets\n",
    "train_pool = Pool( data=X_train, label=y_train, cat_features=cat_features)\n",
    "#test_pool = Pool( data=X_test, label=y_test, cat_features=cat_features)"
   ],
   "metadata": {
    "id": "jio6Ak1mIo7O"
   },
   "execution_count": 21,
   "outputs": []
  },
  {
   "cell_type": "code",
   "source": [
    "# Fit\n",
    "model = CatBoostClassifier(iterations=500)\n",
    "model.fit(train_pool, verbose=20)"
   ],
   "metadata": {
    "colab": {
     "base_uri": "https://localhost:8080/"
    },
    "id": "6MctlkpNIw3Q",
    "outputId": "1baf3157-dd0a-4fb0-845e-c96e8fbbf4b0",
    "pycharm": {
     "is_executing": true
    }
   },
   "execution_count": null,
   "outputs": []
  },
  {
   "cell_type": "code",
   "source": [
    "# Predict\n",
    "preds = model.predict(X_test)\n",
    "accuracy_score(y_test, preds)"
   ],
   "metadata": {
    "colab": {
     "base_uri": "https://localhost:8080/"
    },
    "id": "ymicQu5nMC9V",
    "outputId": "6301df6e-257d-4d55-b631-ec1fbe15b2a7"
   },
   "execution_count": 62,
   "outputs": [
    {
     "data": {
      "text/plain": "0.7840239620732747"
     },
     "execution_count": 62,
     "metadata": {},
     "output_type": "execute_result"
    }
   ]
  },
  {
   "cell_type": "code",
   "execution_count": 52,
   "outputs": [
    {
     "data": {
      "text/plain": "array([[  1822,    192,      0,   8679,   3841],\n       [    35,   6301,      0,  21035,   1865],\n       [    19,     51,     50,   3158,   2242],\n       [  1617,   5035,      6, 202772, 144351],\n       [   556,    944,      5,  73321, 732015]], dtype=int64)"
     },
     "execution_count": 52,
     "metadata": {},
     "output_type": "execute_result"
    }
   ],
   "source": [
    "confusion_matrix(y_test, preds)"
   ],
   "metadata": {
    "collapsed": false
   }
  },
  {
   "cell_type": "markdown",
   "source": [
    "# Model 2"
   ],
   "metadata": {
    "collapsed": false
   }
  },
  {
   "cell_type": "code",
   "execution_count": 3,
   "outputs": [],
   "source": [
    "# Select columns to keep\n",
    "cols_to_keep = ['ID', 'CLASSI_FIN', 'SEM_NOT', 'SEM_PRI', 'SG_UF_NOT', 'CS_SEXO', 'NU_IDADE_N', 'TP_IDADE',\n",
    "                'NOSOCOMIAL', 'FEBRE', 'TOSSE', 'GARGANTA', 'TP_ANTIVIR','DISPNEIA', 'DESC_RESP', 'SATURACAO',\n",
    "                'DIARREIA', 'VOMITO', 'OUTRO_SIN', 'OUTRO_DES', 'PUERPERA','FATOR_RISC', 'CARDIOPATI', 'HEMATOLOGI',\n",
    "                'SIND_DOWN', 'HEPATICA', 'ASMA', 'DIABETES', 'NEUROLOGIC', 'PNEUMOPATI', 'IMUNODEPRE', 'RENAL',\n",
    "                'OBESIDADE', 'OUT_MORBI', 'MORB_DESC','VACINA', 'UTI', 'SUPORT_VEN', 'HISTO_VGM',\n",
    "                 'DOR_ABD', 'FADIGA', 'PERD_OLFT', 'PERD_PALA', 'TOMO_RES','VACINA_COV', 'DOSE_2_COV', 'DOSE_REF']\n",
    "\n",
    "# Slice dataset\n",
    "df_model = df[cols_to_keep].copy()\n",
    "# Correcting IDADE\n",
    "# Tipo 1 = dia, tipo 2 = Mês, 3= Ano\n",
    "df_model['NU_IDADE_N'] = np.select([df_model.TP_IDADE == 1, df_model.TP_IDADE == 2, df_model.TP_IDADE == 3],\n",
    "                                   [round(df_model.NU_IDADE_N / 365), round(df_model.NU_IDADE_N / 12),\n",
    "                                    df_model.NU_IDADE_N])\n",
    "df_model.drop('TP_IDADE', axis=1, inplace=True)"
   ],
   "metadata": {
    "collapsed": false
   }
  },
  {
   "cell_type": "code",
   "execution_count": 4,
   "outputs": [
    {
     "ename": "NameError",
     "evalue": "name 'symptoms' is not defined",
     "output_type": "error",
     "traceback": [
      "\u001B[1;31m---------------------------------------------------------------------------\u001B[0m",
      "\u001B[1;31mNameError\u001B[0m                                 Traceback (most recent call last)",
      "Cell \u001B[1;32mIn[4], line 2\u001B[0m\n\u001B[0;32m      1\u001B[0m \u001B[38;5;66;03m# Add variables for together symptoms for each SRAG\u001B[39;00m\n\u001B[1;32m----> 2\u001B[0m df_model[\u001B[38;5;124m'\u001B[39m\u001B[38;5;124minfluenza_symp\u001B[39m\u001B[38;5;124m'\u001B[39m] \u001B[38;5;241m=\u001B[39m \u001B[43msymptoms\u001B[49m(df_model, srag\u001B[38;5;241m=\u001B[39m\u001B[38;5;124m'\u001B[39m\u001B[38;5;124minfluenza\u001B[39m\u001B[38;5;124m'\u001B[39m)\n\u001B[0;32m      3\u001B[0m df_model[\u001B[38;5;124m'\u001B[39m\u001B[38;5;124mother_agent_symp\u001B[39m\u001B[38;5;124m'\u001B[39m] \u001B[38;5;241m=\u001B[39m symptoms(df_model, srag\u001B[38;5;241m=\u001B[39m\u001B[38;5;124m'\u001B[39m\u001B[38;5;124mother_agent\u001B[39m\u001B[38;5;124m'\u001B[39m)\n\u001B[0;32m      4\u001B[0m df_model[\u001B[38;5;124m'\u001B[39m\u001B[38;5;124mother_virus_symp\u001B[39m\u001B[38;5;124m'\u001B[39m] \u001B[38;5;241m=\u001B[39m symptoms(df_model, srag\u001B[38;5;241m=\u001B[39m\u001B[38;5;124m'\u001B[39m\u001B[38;5;124mother_virus\u001B[39m\u001B[38;5;124m'\u001B[39m)\n",
      "\u001B[1;31mNameError\u001B[0m: name 'symptoms' is not defined"
     ]
    }
   ],
   "source": [
    "# Add variables for together symptoms for each SRAG\n",
    "df_model['influenza_symp'] = symptoms(df_model, srag='influenza')\n",
    "df_model['other_agent_symp'] = symptoms(df_model, srag='other_agent')\n",
    "df_model['other_virus_symp'] = symptoms(df_model, srag='other_virus')\n",
    "df_model['not_spec_symp'] = symptoms(df_model, srag='not_specific')\n",
    "df_model['covid_symp'] = symptoms(df_model, srag='covid')\n",
    "# Olfato e Paladar\n",
    "df_model['OLF_PLD'] = np.where(df_model.PERD_OLFT == 1, np.where(df_model.PERD_PALA == 1, 1, 0),0)"
   ],
   "metadata": {
    "collapsed": false
   }
  },
  {
   "cell_type": "code",
   "execution_count": 5,
   "outputs": [],
   "source": [
    "# Columns to Categories for modeling\n",
    "\n",
    "num_col = ['NOSOCOMIAL', 'FEBRE', 'TOSSE', 'GARGANTA', 'CLASSI_FIN', 'TP_ANTIVIR',\n",
    "       'DISPNEIA', 'DESC_RESP', 'SATURACAO', 'DIARREIA', 'VOMITO', 'OUTRO_SIN', 'PUERPERA', 'FATOR_RISC', 'CARDIOPATI', 'HEMATOLOGI',\n",
    "       'SIND_DOWN', 'HEPATICA', 'ASMA', 'DIABETES', 'NEUROLOGIC', 'PNEUMOPATI', 'IMUNODEPRE', 'RENAL', 'OBESIDADE', 'OUT_MORBI',\n",
    "       'VACINA', 'UTI', 'SUPORT_VEN', 'HISTO_VGM','DOR_ABD', 'FADIGA', 'PERD_OLFT', 'PERD_PALA', 'TOMO_RES', 'VACINA_COV','DOSE_2_COV', 'DOSE_REF']\n",
    "\n",
    "col_types = ['SG_UF_NOT', 'CS_SEXO','NOSOCOMIAL', 'FEBRE', 'TOSSE', 'GARGANTA', 'OUTRO_DES', 'MORB_DESC', 'CLASSI_FIN', 'TP_ANTIVIR',\n",
    "       'DISPNEIA', 'DESC_RESP', 'SATURACAO', 'DIARREIA', 'VOMITO', 'OUTRO_SIN', 'PUERPERA', 'FATOR_RISC', 'CARDIOPATI', 'HEMATOLOGI',\n",
    "       'SIND_DOWN', 'HEPATICA', 'ASMA', 'DIABETES', 'NEUROLOGIC', 'PNEUMOPATI', 'IMUNODEPRE', 'RENAL', 'OBESIDADE', 'OUT_MORBI',\n",
    "       'VACINA', 'UTI', 'SUPORT_VEN', 'HISTO_VGM','DOR_ABD', 'FADIGA', 'PERD_OLFT', 'PERD_PALA', 'TOMO_RES', 'VACINA_COV','DOSE_2_COV', 'DOSE_REF']\n",
    "\n",
    "\n",
    "# Calculating time between first symptoms and notification\n",
    "# df_model['time_to_sick'] = np.where( df_model.SEM_NOT > 10,\n",
    "#                                        (df_model.SEM_NOT - df_model.SEM_PRI),\n",
    "#                                        np.where(df_model.SEM_PRI > 42,\n",
    "#                                        (df_model.SEM_NOT+52 - df_model.SEM_PRI),\n",
    "#                                        (df_model.SEM_NOT - df_model.SEM_PRI)) )"
   ],
   "metadata": {
    "collapsed": false
   }
  },
  {
   "cell_type": "code",
   "execution_count": 91,
   "outputs": [],
   "source": [
    "#from sklearn.manifold import TSNE"
   ],
   "metadata": {
    "collapsed": false
   }
  },
  {
   "cell_type": "code",
   "execution_count": 108,
   "outputs": [],
   "source": [
    "#sne = TSNE(n_components=2, perplexity=5).fit_transform(X_train.select_dtypes('number').dropna())"
   ],
   "metadata": {
    "collapsed": false
   }
  },
  {
   "cell_type": "code",
   "execution_count": 109,
   "outputs": [
    {
     "data": {
      "text/plain": "<Figure size 1080x576 with 1 Axes>",
      "image/png": "[encoded data removed]"
     },
     "metadata": {
      "needs_background": "light"
     },
     "output_type": "display_data"
    }
   ],
   "source": [
    "'''1 = Influenza | 2 = other respiratory virus” | 3 = another agent”\n",
    "4 = “SRAG not specified” |5 =  COVID.'''\n",
    "#sne2 = pd.DataFrame(sne).assign(classi=y_train.values)\n",
    "#plt.figure(figsize=(15,8))\n",
    "#sns.scatterplot(data=sne2, x=0, y=1, hue='classi');"
   ],
   "metadata": {
    "collapsed": false
   }
  },
  {
   "cell_type": "code",
   "execution_count": 6,
   "outputs": [],
   "source": [
    "# Replacing the NAs with 9\n",
    "df_model = df_model.fillna('9')\n",
    "\n",
    "# Assign as categorical\n",
    "df_model[num_col] = df_model[num_col].astype('int')\n",
    "df_model[col_types] = df_model[col_types].astype('category')"
   ],
   "metadata": {
    "collapsed": false
   }
  },
  {
   "cell_type": "code",
   "execution_count": 7,
   "outputs": [],
   "source": [
    "df_model.to_csv('to_model.csv', index=False)"
   ],
   "metadata": {
    "collapsed": false
   }
  },
  {
   "cell_type": "markdown",
   "source": [
    " Running KNearest Neighbors only on Symptoms to see if it would help to replace the symptoms by a classification"
   ],
   "metadata": {
    "collapsed": false
   }
  },
  {
   "cell_type": "code",
   "execution_count": 12,
   "outputs": [
    {
     "data": {
      "text/plain": "KNeighborsClassifier()"
     },
     "execution_count": 12,
     "metadata": {},
     "output_type": "execute_result"
    }
   ],
   "source": [
    "#knn = KNeighborsClassifier(n_neighbors=5)\n",
    "#X_knn = X_train[['CS_SEXO', 'NOSOCOMIAL', 'FEBRE', 'TOSSE', 'GARGANTA', 'DISPNEIA', 'DESC_RESP',\n",
    "#       'SATURACAO', 'DIARREIA', 'VOMITO', 'OUTRO_SIN', 'OUTRO_DES', 'PUERPERA','FATOR_RISC', 'CARDIOPATI', 'HEMATOLOGI', 'SIND_DOWN', 'HEPATICA',\n",
    "#       'ASMA', 'DIABETES', 'NEUROLOGIC', 'PNEUMOPATI', 'IMUNODEPRE', 'RENAL', 'OBESIDADE', 'OUT_MORBI', 'MORB_DESC', 'VACINA', 'UTI', 'SUPORT_VEN',\n",
    "#       'HISTO_VGM', 'DOR_ABD', 'FADIGA', 'PERD_OLFT', 'PERD_PALA']].copy()\n",
    "\n",
    "#X_knn['CS_SEXO'] = X_knn.CS_SEXO.cat.codes\n",
    "#X_knn['MORB_DESC'] = X_knn.MORB_DESC.cat.codes\n",
    "#X_knn['OUTRO_DES'] = X_knn.OUTRO_DES.cat.codes\n",
    "\n",
    "# Fit\n",
    "#knn.fit(X_knn, y_train)"
   ],
   "metadata": {
    "collapsed": false
   }
  },
  {
   "cell_type": "code",
   "execution_count": null,
   "outputs": [],
   "source": [
    "#performance = pd.DataFrame({'y_true': y_train.head(1000),\n",
    "#                            'knn_pred': knn.predict(X_knn.head(1000))})\n",
    "\n",
    "#confusion_matrix(performance.y_true, performance.knn_pred)"
   ],
   "metadata": {
    "collapsed": false,
    "pycharm": {
     "is_executing": true
    }
   }
  },
  {
   "cell_type": "code",
   "execution_count": 125,
   "outputs": [
    {
     "data": {
      "text/plain": "<Figure size 576x1080 with 1 Axes>",
      "image/png": "[encoded data removed]"
     },
     "metadata": {
      "needs_background": "light"
     },
     "output_type": "display_data"
    }
   ],
   "source": [
    "plt.figure(figsize=(8,15))\n",
    "sns.barplot(y= test.columns, x=model.feature_importances_.sort_values);"
   ],
   "metadata": {
    "collapsed": false
   }
  },
  {
   "cell_type": "code",
   "execution_count": 76,
   "outputs": [
    {
     "name": "stdout",
     "output_type": "stream",
     "text": [
      "Train shapes: (780387, 34) | (780387,)\n",
      "Test shapes: (520258, 34) | (520258,)\n"
     ]
    }
   ],
   "source": [
    "drop_cols = str.split('ID, CLASSI_FIN, SIND_DOWN, FATOR_RISC, CARDIOPATI, HEPATICA, HEMATOLOGI, RENAL, PERD_OLFT, '\n",
    "                      'PERD_PALA, HISTO_VGM, NEUROLOGIC, IMUNODEPRE, CS_SEXO, PUERPERA, DIABETES, PNEUMOPATI, OUT_MORBI', sep=', ')\n",
    "# X and y\n",
    "X = df_model.drop(drop_cols, axis=1)\n",
    "y= df_model.CLASSI_FIN\n",
    "\n",
    "# Train test split\n",
    "X_train, X_test, y_train, y_test = train_test_split(X, y, test_size=0.40, stratify=y, random_state=12)\n",
    "\n",
    "print(f'Train shapes: {X_train.shape} | {y_train.shape}')\n",
    "print(f'Test shapes: {X_test.shape} | {y_test.shape}')"
   ],
   "metadata": {
    "collapsed": false
   }
  },
  {
   "cell_type": "code",
   "execution_count": 77,
   "outputs": [],
   "source": [
    "# Find categorical features indices for training\n",
    "cat_features = X.select_dtypes(include=['object', 'category']).columns.values\n",
    "#cat_features\n",
    "# Creating a Pool for training and validation sets\n",
    "train_pool = Pool(data=X_train, label=y_train, cat_features=cat_features)\n",
    "test_pool = Pool( data=X_test, label=y_test, cat_features=cat_features)"
   ],
   "metadata": {
    "collapsed": false
   }
  },
  {
   "cell_type": "code",
   "execution_count": 80,
   "outputs": [
    {
     "name": "stdout",
     "output_type": "stream",
     "text": [
      "0:\tlearn: 0.9988125\ttest: 0.9993169\tbest: 0.9993169 (0)\ttotal: 23.9s\tremaining: 3h 18m 23s\n",
      "50:\tlearn: 0.5224599\ttest: 0.5251928\tbest: 0.5251928 (50)\ttotal: 13m 19s\tremaining: 1h 57m 16s\n",
      "100:\tlearn: 0.5094184\ttest: 0.5139551\tbest: 0.5139551 (100)\ttotal: 26m 17s\tremaining: 1h 43m 52s\n",
      "150:\tlearn: 0.5028090\ttest: 0.5091091\tbest: 0.5091091 (150)\ttotal: 38m 57s\tremaining: 1h 30m 3s\n",
      "200:\tlearn: 0.4978464\ttest: 0.5058563\tbest: 0.5058563 (200)\ttotal: 51m 26s\tremaining: 1h 16m 31s\n",
      "250:\tlearn: 0.4941641\ttest: 0.5038954\tbest: 0.5038954 (250)\ttotal: 1h 3m 40s\tremaining: 1h 3m 9s\n",
      "300:\tlearn: 0.4914553\ttest: 0.5027252\tbest: 0.5027252 (300)\ttotal: 1h 15m 47s\tremaining: 50m 6s\n",
      "350:\tlearn: 0.4891703\ttest: 0.5018316\tbest: 0.5018316 (350)\ttotal: 1h 27m 37s\tremaining: 37m 11s\n",
      "400:\tlearn: 0.4870208\ttest: 0.5011398\tbest: 0.5011398 (400)\ttotal: 1h 39m 55s\tremaining: 24m 40s\n",
      "450:\tlearn: 0.4846125\ttest: 0.5003749\tbest: 0.5003749 (450)\ttotal: 1h 52m 6s\tremaining: 12m 10s\n",
      "499:\tlearn: 0.4825026\ttest: 0.4998473\tbest: 0.4998473 (499)\ttotal: 2h 4m 9s\tremaining: 0us\n",
      "\n",
      "bestTest = 0.4998472597\n",
      "bestIteration = 499\n",
      "\n"
     ]
    },
    {
     "data": {
      "text/plain": "<catboost.core.CatBoostClassifier at 0x19d4e4a9430>"
     },
     "execution_count": 80,
     "metadata": {},
     "output_type": "execute_result"
    }
   ],
   "source": [
    "# Fit\n",
    "model = CatBoostClassifier(iterations=500, learning_rate=0.34)\n",
    "model.fit(train_pool, eval_set= test_pool, early_stopping_rounds=20, use_best_model=True, verbose=50)"
   ],
   "metadata": {
    "collapsed": false
   }
  },
  {
   "cell_type": "code",
   "execution_count": 81,
   "outputs": [
    {
     "data": {
      "text/plain": "0.7907615067908614"
     },
     "execution_count": 81,
     "metadata": {},
     "output_type": "execute_result"
    }
   ],
   "source": [
    "# Predict\n",
    "preds = model.predict(X_test)\n",
    "accuracy_score(y_test, preds)"
   ],
   "metadata": {
    "collapsed": false
   }
  },
  {
   "cell_type": "code",
   "execution_count": 82,
   "outputs": [
    {
     "data": {
      "text/plain": "array([[  1279,     89,      3,   3382,   1497],\n       [    20,   3071,      2,   8712,    770],\n       [    15,     24,    140,   1324,    871],\n       [   633,   1965,     49,  90261,  59207],\n       [   189,    399,     27,  29680, 316649]], dtype=int64)"
     },
     "execution_count": 82,
     "metadata": {},
     "output_type": "execute_result"
    }
   ],
   "source": [
    "confusion_matrix(y_test, preds)"
   ],
   "metadata": {
    "collapsed": false
   }
  },
  {
   "cell_type": "markdown",
   "source": [
    "### Model Explanation"
   ],
   "metadata": {
    "collapsed": false
   }
  },
  {
   "cell_type": "code",
   "execution_count": 9,
   "outputs": [],
   "source": [
    "from_file = CatBoostClassifier()\n",
    "m = from_file.load_model('model.salvo')"
   ],
   "metadata": {
    "collapsed": false
   }
  },
  {
   "cell_type": "code",
   "execution_count": 104,
   "outputs": [],
   "source": [
    "explainer = shap.TreeExplainer(model)\n",
    "shap_values = explainer.shap_values(X)"
   ],
   "metadata": {
    "collapsed": false
   }
  },
  {
   "cell_type": "code",
   "execution_count": 106,
   "outputs": [
    {
     "data": {
      "text/plain": "<Figure size 800x950 with 1 Axes>",
      "image/png": "[encoded data removed]"
     },
     "metadata": {},
     "output_type": "display_data"
    }
   ],
   "source": [
    "# summarize the effects of all the features\n",
    "shap.summary_plot(shap_values, X)"
   ],
   "metadata": {
    "collapsed": false
   }
  },
  {
   "cell_type": "markdown",
   "source": [
    "# Predictions for Competition"
   ],
   "metadata": {
    "collapsed": false
   }
  },
  {
   "cell_type": "code",
   "source": [
    "# Load test dataset\n",
    "file_path = 'C:/Users/1770858/Desktop/ml-olympiad-ensure-healthy-lives/test.csv'\n",
    "df_test = pd.read_csv(file_path)"
   ],
   "metadata": {
    "colab": {
     "base_uri": "https://localhost:8080/",
     "height": 190
    },
    "id": "f08PtHL8RzRR",
    "outputId": "0aae455d-89bb-45e6-a32a-9b59f126a1a7"
   },
   "execution_count": 83,
   "outputs": [
    {
     "name": "stderr",
     "output_type": "stream",
     "text": [
      "Columns (10) have mixed types. Specify dtype option on import or set low_memory=False.\n"
     ]
    }
   ]
  },
  {
   "cell_type": "code",
   "source": [
    "# Select columns to keep\n",
    "cols_to_keep = ['SEM_NOT', 'SEM_PRI', 'SG_UF_NOT', 'CS_SEXO', 'NU_IDADE_N', 'TP_IDADE', 'NOSOCOMIAL', 'FEBRE', 'TOSSE', 'GARGANTA', 'TP_ANTIVIR',\n",
    "       'DISPNEIA', 'DESC_RESP', 'SATURACAO', 'DIARREIA', 'VOMITO', 'OUTRO_SIN', 'OUTRO_DES', 'PUERPERA', 'FATOR_RISC', 'CARDIOPATI', 'HEMATOLOGI',\n",
    "       'SIND_DOWN', 'HEPATICA', 'ASMA', 'DIABETES', 'NEUROLOGIC', 'PNEUMOPATI', 'IMUNODEPRE', 'RENAL', 'OBESIDADE', 'OUT_MORBI', 'MORB_DESC',\n",
    "       'VACINA', 'UTI', 'SUPORT_VEN', 'HISTO_VGM','DOR_ABD', 'FADIGA', 'PERD_OLFT', 'PERD_PALA', 'TOMO_RES', 'VACINA_COV','DOSE_2_COV', 'DOSE_REF']\n",
    "\n",
    "# Slice dataset\n",
    "test = df_test[cols_to_keep].copy()\n",
    "\n",
    "# Correcting IDADE\n",
    "# Tipo 1 = dia, tipo 2 = Mês, 3= Ano\n",
    "test['NU_IDADE_N'] = np.select( [test.TP_IDADE == 1, test.TP_IDADE == 2, test.TP_IDADE == 3],\n",
    "                                [round(test.NU_IDADE_N/365), round(test.NU_IDADE_N/12), test.NU_IDADE_N] )\n",
    "test.drop('TP_IDADE', axis=1, inplace=True)\n",
    "\n",
    "test['influenza_symp'] = symptoms(test, srag='influenza')\n",
    "test['other_agent_symp'] = symptoms(test, srag='other_agent')\n",
    "test['other_virus_symp'] = symptoms(test, srag='other_virus')\n",
    "test['not_spec_symp'] = symptoms(test, srag='not_specific')\n",
    "test['covid_symp'] = symptoms(test, srag='covid')\n",
    "\n",
    "# Olfato e Paladar\n",
    "test['OLF_PLD'] = np.where(test.PERD_OLFT == 1, np.where(test.PERD_PALA == 1, 1, 0),0)\n",
    "\n",
    "# Replacing the NAs with 9\n",
    "test = test.fillna('9')\n",
    "\n",
    "# Columns to Categories for modeling\n",
    "\n",
    "num_col = ['NOSOCOMIAL', 'FEBRE', 'TOSSE', 'GARGANTA', \n",
    "       'DISPNEIA', 'DESC_RESP', 'SATURACAO', 'DIARREIA', 'VOMITO', 'OUTRO_SIN', 'PUERPERA', 'FATOR_RISC', 'CARDIOPATI', 'HEMATOLOGI',\n",
    "       'SIND_DOWN', 'HEPATICA', 'ASMA', 'DIABETES', 'NEUROLOGIC', 'PNEUMOPATI', 'IMUNODEPRE', 'RENAL', 'OBESIDADE', 'OUT_MORBI', 'TP_ANTIVIR',\n",
    "       'VACINA', 'UTI', 'SUPORT_VEN', 'HISTO_VGM','DOR_ABD', 'FADIGA', 'PERD_OLFT', 'PERD_PALA', 'TOMO_RES', 'VACINA_COV','DOSE_2_COV', 'DOSE_REF']\n",
    "\n",
    "col_types = ['SG_UF_NOT', 'CS_SEXO','NOSOCOMIAL', 'FEBRE', 'TOSSE', 'GARGANTA', 'OUTRO_DES', 'MORB_DESC', 'TP_ANTIVIR',\n",
    "       'DISPNEIA', 'DESC_RESP', 'SATURACAO', 'DIARREIA', 'VOMITO', 'OUTRO_SIN', 'PUERPERA', 'FATOR_RISC', 'CARDIOPATI', 'HEMATOLOGI',\n",
    "       'SIND_DOWN', 'HEPATICA', 'ASMA', 'DIABETES', 'NEUROLOGIC', 'PNEUMOPATI', 'IMUNODEPRE', 'RENAL', 'OBESIDADE', 'OUT_MORBI',\n",
    "       'VACINA', 'UTI', 'SUPORT_VEN', 'HISTO_VGM','DOR_ABD', 'FADIGA', 'PERD_OLFT', 'PERD_PALA', 'TOMO_RES', 'VACINA_COV','DOSE_2_COV', 'DOSE_REF']\n",
    "\n",
    "# Assign as categorical\n",
    "test[num_col] = test[num_col].astype('int')\n",
    "test[col_types] = test[col_types].astype('category')\n",
    "drop_cols = str.split('SIND_DOWN, FATOR_RISC, CARDIOPATI, HEPATICA, HEMATOLOGI, RENAL, PERD_OLFT, '\n",
    "                      'PERD_PALA, HISTO_VGM, NEUROLOGIC, IMUNODEPRE, CS_SEXO, PUERPERA, DIABETES, PNEUMOPATI, OUT_MORBI', sep=', ')\n",
    "test.drop(drop_cols, axis=1, inplace=True)"
   ],
   "metadata": {
    "colab": {
     "base_uri": "https://localhost:8080/",
     "height": 246
    },
    "id": "E5vqw-N8RXMO",
    "outputId": "cd9dffaa-0252-4075-ccdd-eb32d258a615"
   },
   "execution_count": 84,
   "outputs": []
  },
  {
   "cell_type": "code",
   "source": [
    "# Prediction\n",
    "preds_submission = model.predict(test)"
   ],
   "metadata": {
    "id": "LYSVXp9nQbMC"
   },
   "execution_count": 85,
   "outputs": []
  },
  {
   "cell_type": "code",
   "source": [
    "# Submission file\n",
    "pd.DataFrame({\n",
    "    'ID': df_test.ID,\n",
    "    'CLASSI_FIN': preds_submission.flatten()\n",
    "}).to_csv('submission_grs_v6.csv', index=False)"
   ],
   "metadata": {
    "id": "ci5Px9oESLp6"
   },
   "execution_count": 86,
   "outputs": []
  },
  {
   "cell_type": "markdown",
   "source": [
    "## Associations between symptoms"
   ],
   "metadata": {
    "collapsed": false
   }
  },
  {
   "cell_type": "code",
   "execution_count": 147,
   "outputs": [],
   "source": [
    "df_apriori = X_train.drop(['SG_UF_NOT', 'MORB_DESC', 'TOMO_RES', 'OUTRO_SIN', 'OUTRO_DES', 'NU_IDADE_N', 'time_to_sick', 'TP_ANTIVIR'], axis=1).copy()\n",
    "df_apriori['CS_SEXO'] = df_apriori.CS_SEXO.factorize()[0]\n",
    "df_apriori['SUPORT_VEN'] = df_apriori.SUPORT_VEN.replace({'3.0': 0, 3:0, '2.0':1, '1.0':1})\n",
    "df_apriori.replace({'9':0, '9.0':0, 9:0, '2':0, 2:0, '1':1, '0':0}, inplace=True)"
   ],
   "metadata": {
    "collapsed": false
   }
  },
  {
   "cell_type": "code",
   "execution_count": 148,
   "outputs": [
    {
     "data": {
      "text/plain": "        CS_SEXO  NOSOCOMIAL  FEBRE  TOSSE  GARGANTA  DISPNEIA  DESC_RESP  \\\n744318        0         0.0    1.0    1.0       1.0       0.0        0.0   \n486136        0         0.0    0.0    1.0       0.0       0.0        1.0   \n813106        0         0.0    0.0    1.0       0.0       1.0        0.0   \n999383        0         0.0    0.0    0.0       1.0       0.0        1.0   \n589061        0         0.0    1.0    0.0       1.0       1.0        0.0   \n...         ...         ...    ...    ...       ...       ...        ...   \n570406        0         0.0    1.0    1.0       0.0       0.0        1.0   \n309390        1         0.0    1.0    1.0       0.0       1.0        1.0   \n879570        1         0.0    1.0    1.0       0.0       1.0        1.0   \n704471        0         0.0    0.0    0.0       0.0       1.0        1.0   \n498296        0         0.0    1.0    0.0       0.0       1.0        1.0   \n\n        SATURACAO  DIARREIA  VOMITO  ...  UTI  SUPORT_VEN  HISTO_VGM  DOR_ABD  \\\n744318        1.0       1.0     1.0  ...  0.0         0.0          0      0.0   \n486136        1.0       0.0     0.0  ...  0.0         0.0          0      0.0   \n813106        0.0       0.0     0.0  ...  0.0         0.0          0      0.0   \n999383        0.0       0.0     0.0  ...  0.0         0.0          0      0.0   \n589061        0.0       0.0     0.0  ...  0.0         0.0          0      0.0   \n...           ...       ...     ...  ...  ...         ...        ...      ...   \n570406        1.0       0.0     0.0  ...  0.0         0.0          0      0.0   \n309390        1.0       0.0     0.0  ...  0.0         0.0          0      0.0   \n879570        1.0       0.0     0.0  ...  1.0         1.0          0      0.0   \n704471        1.0       0.0     0.0  ...  0.0         0.0          0      0.0   \n498296        1.0       1.0     1.0  ...  1.0         1.0          0      0.0   \n\n        FADIGA  PERD_OLFT  PERD_PALA  VACINA_COV  DOSE_2_COV  DOSE_REF  \n744318     0.0        0.0        0.0         0.0           0         0  \n486136     1.0        1.0        1.0         0.0           0         0  \n813106     0.0        0.0        0.0         0.0           0         0  \n999383     0.0        1.0        0.0         0.0           0         0  \n589061     0.0        1.0        1.0         0.0           0         0  \n...        ...        ...        ...         ...         ...       ...  \n570406     0.0        0.0        0.0         1.0           1         0  \n309390     0.0        0.0        0.0         1.0           1         0  \n879570     0.0        0.0        0.0         0.0           0         0  \n704471     0.0        0.0        0.0         1.0           0         0  \n498296     1.0        1.0        1.0         0.0           0         0  \n\n[91068 rows x 35 columns]",
      "text/html": "<div>\n<style scoped>\n    .dataframe tbody tr th:only-of-type {\n        vertical-align: middle;\n    }\n\n    .dataframe tbody tr th {\n        vertical-align: top;\n    }\n\n    .dataframe thead th {\n        text-align: right;\n    }\n</style>\n<table border=\"1\" class=\"dataframe\">\n  <thead>\n    <tr style=\"text-align: right;\">\n      <th></th>\n      <th>CS_SEXO</th>\n      <th>NOSOCOMIAL</th>\n      <th>FEBRE</th>\n      <th>TOSSE</th>\n      <th>GARGANTA</th>\n      <th>DISPNEIA</th>\n      <th>DESC_RESP</th>\n      <th>SATURACAO</th>\n      <th>DIARREIA</th>\n      <th>VOMITO</th>\n      <th>...</th>\n      <th>UTI</th>\n      <th>SUPORT_VEN</th>\n      <th>HISTO_VGM</th>\n      <th>DOR_ABD</th>\n      <th>FADIGA</th>\n      <th>PERD_OLFT</th>\n      <th>PERD_PALA</th>\n      <th>VACINA_COV</th>\n      <th>DOSE_2_COV</th>\n      <th>DOSE_REF</th>\n    </tr>\n  </thead>\n  <tbody>\n    <tr>\n      <th>744318</th>\n      <td>0</td>\n      <td>0.0</td>\n      <td>1.0</td>\n      <td>1.0</td>\n      <td>1.0</td>\n      <td>0.0</td>\n      <td>0.0</td>\n      <td>1.0</td>\n      <td>1.0</td>\n      <td>1.0</td>\n      <td>...</td>\n      <td>0.0</td>\n      <td>0.0</td>\n      <td>0</td>\n      <td>0.0</td>\n      <td>0.0</td>\n      <td>0.0</td>\n      <td>0.0</td>\n      <td>0.0</td>\n      <td>0</td>\n      <td>0</td>\n    </tr>\n    <tr>\n      <th>486136</th>\n      <td>0</td>\n      <td>0.0</td>\n      <td>0.0</td>\n      <td>1.0</td>\n      <td>0.0</td>\n      <td>0.0</td>\n      <td>1.0</td>\n      <td>1.0</td>\n      <td>0.0</td>\n      <td>0.0</td>\n      <td>...</td>\n      <td>0.0</td>\n      <td>0.0</td>\n      <td>0</td>\n      <td>0.0</td>\n      <td>1.0</td>\n      <td>1.0</td>\n      <td>1.0</td>\n      <td>0.0</td>\n      <td>0</td>\n      <td>0</td>\n    </tr>\n    <tr>\n      <th>813106</th>\n      <td>0</td>\n      <td>0.0</td>\n      <td>0.0</td>\n      <td>1.0</td>\n      <td>0.0</td>\n      <td>1.0</td>\n      <td>0.0</td>\n      <td>0.0</td>\n      <td>0.0</td>\n      <td>0.0</td>\n      <td>...</td>\n      <td>0.0</td>\n      <td>0.0</td>\n      <td>0</td>\n      <td>0.0</td>\n      <td>0.0</td>\n      <td>0.0</td>\n      <td>0.0</td>\n      <td>0.0</td>\n      <td>0</td>\n      <td>0</td>\n    </tr>\n    <tr>\n      <th>999383</th>\n      <td>0</td>\n      <td>0.0</td>\n      <td>0.0</td>\n      <td>0.0</td>\n      <td>1.0</td>\n      <td>0.0</td>\n      <td>1.0</td>\n      <td>0.0</td>\n      <td>0.0</td>\n      <td>0.0</td>\n      <td>...</td>\n      <td>0.0</td>\n      <td>0.0</td>\n      <td>0</td>\n      <td>0.0</td>\n      <td>0.0</td>\n      <td>1.0</td>\n      <td>0.0</td>\n      <td>0.0</td>\n      <td>0</td>\n      <td>0</td>\n    </tr>\n    <tr>\n      <th>589061</th>\n      <td>0</td>\n      <td>0.0</td>\n      <td>1.0</td>\n      <td>0.0</td>\n      <td>1.0</td>\n      <td>1.0</td>\n      <td>0.0</td>\n      <td>0.0</td>\n      <td>0.0</td>\n      <td>0.0</td>\n      <td>...</td>\n      <td>0.0</td>\n      <td>0.0</td>\n      <td>0</td>\n      <td>0.0</td>\n      <td>0.0</td>\n      <td>1.0</td>\n      <td>1.0</td>\n      <td>0.0</td>\n      <td>0</td>\n      <td>0</td>\n    </tr>\n    <tr>\n      <th>...</th>\n      <td>...</td>\n      <td>...</td>\n      <td>...</td>\n      <td>...</td>\n      <td>...</td>\n      <td>...</td>\n      <td>...</td>\n      <td>...</td>\n      <td>...</td>\n      <td>...</td>\n      <td>...</td>\n      <td>...</td>\n      <td>...</td>\n      <td>...</td>\n      <td>...</td>\n      <td>...</td>\n      <td>...</td>\n      <td>...</td>\n      <td>...</td>\n      <td>...</td>\n      <td>...</td>\n    </tr>\n    <tr>\n      <th>570406</th>\n      <td>0</td>\n      <td>0.0</td>\n      <td>1.0</td>\n      <td>1.0</td>\n      <td>0.0</td>\n      <td>0.0</td>\n      <td>1.0</td>\n      <td>1.0</td>\n      <td>0.0</td>\n      <td>0.0</td>\n      <td>...</td>\n      <td>0.0</td>\n      <td>0.0</td>\n      <td>0</td>\n      <td>0.0</td>\n      <td>0.0</td>\n      <td>0.0</td>\n      <td>0.0</td>\n      <td>1.0</td>\n      <td>1</td>\n      <td>0</td>\n    </tr>\n    <tr>\n      <th>309390</th>\n      <td>1</td>\n      <td>0.0</td>\n      <td>1.0</td>\n      <td>1.0</td>\n      <td>0.0</td>\n      <td>1.0</td>\n      <td>1.0</td>\n      <td>1.0</td>\n      <td>0.0</td>\n      <td>0.0</td>\n      <td>...</td>\n      <td>0.0</td>\n      <td>0.0</td>\n      <td>0</td>\n      <td>0.0</td>\n      <td>0.0</td>\n      <td>0.0</td>\n      <td>0.0</td>\n      <td>1.0</td>\n      <td>1</td>\n      <td>0</td>\n    </tr>\n    <tr>\n      <th>879570</th>\n      <td>1</td>\n      <td>0.0</td>\n      <td>1.0</td>\n      <td>1.0</td>\n      <td>0.0</td>\n      <td>1.0</td>\n      <td>1.0</td>\n      <td>1.0</td>\n      <td>0.0</td>\n      <td>0.0</td>\n      <td>...</td>\n      <td>1.0</td>\n      <td>1.0</td>\n      <td>0</td>\n      <td>0.0</td>\n      <td>0.0</td>\n      <td>0.0</td>\n      <td>0.0</td>\n      <td>0.0</td>\n      <td>0</td>\n      <td>0</td>\n    </tr>\n    <tr>\n      <th>704471</th>\n      <td>0</td>\n      <td>0.0</td>\n      <td>0.0</td>\n      <td>0.0</td>\n      <td>0.0</td>\n      <td>1.0</td>\n      <td>1.0</td>\n      <td>1.0</td>\n      <td>0.0</td>\n      <td>0.0</td>\n      <td>...</td>\n      <td>0.0</td>\n      <td>0.0</td>\n      <td>0</td>\n      <td>0.0</td>\n      <td>0.0</td>\n      <td>0.0</td>\n      <td>0.0</td>\n      <td>1.0</td>\n      <td>0</td>\n      <td>0</td>\n    </tr>\n    <tr>\n      <th>498296</th>\n      <td>0</td>\n      <td>0.0</td>\n      <td>1.0</td>\n      <td>0.0</td>\n      <td>0.0</td>\n      <td>1.0</td>\n      <td>1.0</td>\n      <td>1.0</td>\n      <td>1.0</td>\n      <td>1.0</td>\n      <td>...</td>\n      <td>1.0</td>\n      <td>1.0</td>\n      <td>0</td>\n      <td>0.0</td>\n      <td>1.0</td>\n      <td>1.0</td>\n      <td>1.0</td>\n      <td>0.0</td>\n      <td>0</td>\n      <td>0</td>\n    </tr>\n  </tbody>\n</table>\n<p>91068 rows × 35 columns</p>\n</div>"
     },
     "execution_count": 148,
     "metadata": {},
     "output_type": "execute_result"
    }
   ],
   "source": [
    "df_apriori"
   ],
   "metadata": {
    "collapsed": false
   }
  },
  {
   "cell_type": "code",
   "execution_count": 149,
   "outputs": [],
   "source": [
    "# Add SRAG classification\n",
    "df_apriori['y_'] = y_train"
   ],
   "metadata": {
    "collapsed": false
   }
  },
  {
   "cell_type": "code",
   "execution_count": 64,
   "outputs": [],
   "source": [
    "# Instance\n",
    "#encoder = TransactionEncoder()\n",
    "\n",
    "# fit the TransactionEncoder\n",
    "#encode_arr = encoder.fit(orders_listed['UPC Desc'])\n",
    "\n",
    "# do the transformation\n",
    "#orders_1hot = encoder.transform(orders_listed['UPC Desc'])"
   ],
   "metadata": {
    "collapsed": false
   }
  },
  {
   "cell_type": "code",
   "execution_count": 150,
   "outputs": [],
   "source": [
    "# Associations for COVID\n",
    "covid = df_apriori.query('y_ == 5').drop('y_', axis=1)\n",
    "not_specific = df_apriori.query('y_ == 4').drop('y_', axis=1)\n",
    "other_agent = df_apriori.query('y_ == 3').drop('y_', axis=1)\n",
    "other_virus = df_apriori.query('y_ == 2').drop('y_', axis=1)\n",
    "influenza = df_apriori.query('y_ == 1').drop('y_', axis=1)"
   ],
   "metadata": {
    "collapsed": false
   }
  },
  {
   "cell_type": "code",
   "execution_count": 66,
   "outputs": [],
   "source": [
    "#encode_df=pd.DataFrame(covid, columns=covid.columns)\n",
    "#encode_df"
   ],
   "metadata": {
    "collapsed": false
   }
  },
  {
   "cell_type": "code",
   "execution_count": null,
   "outputs": [],
   "source": [
    "# Calculating Support\n",
    "prods_sup=mlxtend.frequent_patterns.apriori(covid,\n",
    "                                            min_support=0.05,\n",
    "                                            max_len=5,\n",
    "                                            use_colnames=True)\n",
    "\n",
    "\n",
    "sup_covid = prods_sup.sort_values(by='support', ascending=False).head(10).reset_index(drop=True)"
   ],
   "metadata": {
    "collapsed": false,
    "pycharm": {
     "is_executing": true
    }
   }
  },
  {
   "cell_type": "code",
   "execution_count": 154,
   "outputs": [
    {
     "data": {
      "text/plain": "                               antecedents  \\\n1115                           (PERD_OLFT)   \n1114                    (PERD_PALA, FEBRE)   \n1113                    (FEBRE, PERD_OLFT)   \n1116                           (PERD_PALA)   \n1923                 (DISPNEIA, PERD_OLFT)   \n1926                           (PERD_PALA)   \n2277                (SATURACAO, PERD_OLFT)   \n2280                           (PERD_PALA)   \n1927                           (PERD_OLFT)   \n1922                 (DISPNEIA, PERD_PALA)   \n2281                           (PERD_OLFT)   \n2276                (SATURACAO, PERD_PALA)   \n1538                    (TOSSE, PERD_PALA)   \n1543                           (PERD_OLFT)   \n1539                    (TOSSE, PERD_OLFT)   \n1542                           (PERD_PALA)   \n276                            (PERD_PALA)   \n277                            (PERD_OLFT)   \n15059             (CARDIOPATI, VACINA_COV)   \n15042  (SATURACAO, DOSE_2_COV, FATOR_RISC)   \n\n                               consequents  antecedent support  \\\n1115                    (PERD_PALA, FEBRE)            0.089167   \n1114                           (PERD_OLFT)            0.065208   \n1113                           (PERD_PALA)            0.064022   \n1116                    (FEBRE, PERD_OLFT)            0.090863   \n1923                           (PERD_PALA)            0.067118   \n1926                 (DISPNEIA, PERD_OLFT)            0.090863   \n2277                           (PERD_PALA)            0.063512   \n2280                (SATURACAO, PERD_OLFT)            0.090863   \n1927                 (DISPNEIA, PERD_PALA)            0.089167   \n1922                           (PERD_OLFT)            0.068468   \n2281                (SATURACAO, PERD_PALA)            0.089167   \n2276                           (PERD_OLFT)            0.064829   \n1538                           (PERD_OLFT)            0.076701   \n1543                    (TOSSE, PERD_PALA)            0.089167   \n1539                           (PERD_PALA)            0.075730   \n1542                    (TOSSE, PERD_OLFT)            0.090863   \n276                            (PERD_OLFT)            0.090863   \n277                            (PERD_PALA)            0.089167   \n15059  (SATURACAO, DOSE_2_COV, FATOR_RISC)            0.113883   \n15042             (CARDIOPATI, VACINA_COV)            0.092509   \n\n       consequent support   support  confidence      lift  leverage  \\\n1115             0.065208  0.051046    0.572484  8.779387  0.045232   \n1114             0.089167  0.051046    0.782828  8.779387  0.045232   \n1113             0.090863  0.051046    0.797325  8.775055  0.045229   \n1116             0.064022  0.051046    0.561798  8.775055  0.045229   \n1923             0.090863  0.053385    0.795388  8.753732  0.047286   \n1926             0.067118  0.053385    0.587532  8.753732  0.047286   \n2277             0.090863  0.050470    0.794659  8.745714  0.044699   \n2280             0.063512  0.050470    0.555455  8.745714  0.044699   \n1927             0.068468  0.053385    0.598707  8.744323  0.047280   \n1922             0.089167  0.053385    0.779702  8.744323  0.047280   \n2281             0.064829  0.050470    0.566020  8.730975  0.044690   \n2276             0.089167  0.050470    0.778512  8.730975  0.044690   \n1538             0.089167  0.059593    0.776943  8.713382  0.052753   \n1543             0.076701  0.059593    0.668329  8.713382  0.052753   \n1539             0.090863  0.059593    0.786910  8.660433  0.052712   \n1542             0.075730  0.059593    0.655854  8.660433  0.052712   \n276              0.089167  0.069275    0.762414  8.550440  0.061173   \n277              0.090863  0.069275    0.776916  8.550440  0.061173   \n15059            0.092509  0.053533    0.470069  5.081318  0.042998   \n15042            0.113883  0.053533    0.578676  5.081318  0.042998   \n\n       conviction  \n1115     2.186566  \n1114     4.194070  \n1113     4.485693  \n1116     2.135949  \n1923     4.443218  \n1926     2.261706  \n2277     4.427453  \n2280     2.106622  \n1927     2.321328  \n1922     4.134547  \n2281     2.154873  \n2276     4.112329  \n1538     4.083409  \n1543     2.783776  \n1539     4.266452  \n1542     2.685689  \n276      3.833698  \n277      4.075313  \n15059    1.712471  \n15042    2.103171  ",
      "text/html": "<div>\n<style scoped>\n    .dataframe tbody tr th:only-of-type {\n        vertical-align: middle;\n    }\n\n    .dataframe tbody tr th {\n        vertical-align: top;\n    }\n\n    .dataframe thead th {\n        text-align: right;\n    }\n</style>\n<table border=\"1\" class=\"dataframe\">\n  <thead>\n    <tr style=\"text-align: right;\">\n      <th></th>\n      <th>antecedents</th>\n      <th>consequents</th>\n      <th>antecedent support</th>\n      <th>consequent support</th>\n      <th>support</th>\n      <th>confidence</th>\n      <th>lift</th>\n      <th>leverage</th>\n      <th>conviction</th>\n    </tr>\n  </thead>\n  <tbody>\n    <tr>\n      <th>1115</th>\n      <td>(PERD_OLFT)</td>\n      <td>(PERD_PALA, FEBRE)</td>\n      <td>0.089167</td>\n      <td>0.065208</td>\n      <td>0.051046</td>\n      <td>0.572484</td>\n      <td>8.779387</td>\n      <td>0.045232</td>\n      <td>2.186566</td>\n    </tr>\n    <tr>\n      <th>1114</th>\n      <td>(PERD_PALA, FEBRE)</td>\n      <td>(PERD_OLFT)</td>\n      <td>0.065208</td>\n      <td>0.089167</td>\n      <td>0.051046</td>\n      <td>0.782828</td>\n      <td>8.779387</td>\n      <td>0.045232</td>\n      <td>4.194070</td>\n    </tr>\n    <tr>\n      <th>1113</th>\n      <td>(FEBRE, PERD_OLFT)</td>\n      <td>(PERD_PALA)</td>\n      <td>0.064022</td>\n      <td>0.090863</td>\n      <td>0.051046</td>\n      <td>0.797325</td>\n      <td>8.775055</td>\n      <td>0.045229</td>\n      <td>4.485693</td>\n    </tr>\n    <tr>\n      <th>1116</th>\n      <td>(PERD_PALA)</td>\n      <td>(FEBRE, PERD_OLFT)</td>\n      <td>0.090863</td>\n      <td>0.064022</td>\n      <td>0.051046</td>\n      <td>0.561798</td>\n      <td>8.775055</td>\n      <td>0.045229</td>\n      <td>2.135949</td>\n    </tr>\n    <tr>\n      <th>1923</th>\n      <td>(DISPNEIA, PERD_OLFT)</td>\n      <td>(PERD_PALA)</td>\n      <td>0.067118</td>\n      <td>0.090863</td>\n      <td>0.053385</td>\n      <td>0.795388</td>\n      <td>8.753732</td>\n      <td>0.047286</td>\n      <td>4.443218</td>\n    </tr>\n    <tr>\n      <th>1926</th>\n      <td>(PERD_PALA)</td>\n      <td>(DISPNEIA, PERD_OLFT)</td>\n      <td>0.090863</td>\n      <td>0.067118</td>\n      <td>0.053385</td>\n      <td>0.587532</td>\n      <td>8.753732</td>\n      <td>0.047286</td>\n      <td>2.261706</td>\n    </tr>\n    <tr>\n      <th>2277</th>\n      <td>(SATURACAO, PERD_OLFT)</td>\n      <td>(PERD_PALA)</td>\n      <td>0.063512</td>\n      <td>0.090863</td>\n      <td>0.050470</td>\n      <td>0.794659</td>\n      <td>8.745714</td>\n      <td>0.044699</td>\n      <td>4.427453</td>\n    </tr>\n    <tr>\n      <th>2280</th>\n      <td>(PERD_PALA)</td>\n      <td>(SATURACAO, PERD_OLFT)</td>\n      <td>0.090863</td>\n      <td>0.063512</td>\n      <td>0.050470</td>\n      <td>0.555455</td>\n      <td>8.745714</td>\n      <td>0.044699</td>\n      <td>2.106622</td>\n    </tr>\n    <tr>\n      <th>1927</th>\n      <td>(PERD_OLFT)</td>\n      <td>(DISPNEIA, PERD_PALA)</td>\n      <td>0.089167</td>\n      <td>0.068468</td>\n      <td>0.053385</td>\n      <td>0.598707</td>\n      <td>8.744323</td>\n      <td>0.047280</td>\n      <td>2.321328</td>\n    </tr>\n    <tr>\n      <th>1922</th>\n      <td>(DISPNEIA, PERD_PALA)</td>\n      <td>(PERD_OLFT)</td>\n      <td>0.068468</td>\n      <td>0.089167</td>\n      <td>0.053385</td>\n      <td>0.779702</td>\n      <td>8.744323</td>\n      <td>0.047280</td>\n      <td>4.134547</td>\n    </tr>\n    <tr>\n      <th>2281</th>\n      <td>(PERD_OLFT)</td>\n      <td>(SATURACAO, PERD_PALA)</td>\n      <td>0.089167</td>\n      <td>0.064829</td>\n      <td>0.050470</td>\n      <td>0.566020</td>\n      <td>8.730975</td>\n      <td>0.044690</td>\n      <td>2.154873</td>\n    </tr>\n    <tr>\n      <th>2276</th>\n      <td>(SATURACAO, PERD_PALA)</td>\n      <td>(PERD_OLFT)</td>\n      <td>0.064829</td>\n      <td>0.089167</td>\n      <td>0.050470</td>\n      <td>0.778512</td>\n      <td>8.730975</td>\n      <td>0.044690</td>\n      <td>4.112329</td>\n    </tr>\n    <tr>\n      <th>1538</th>\n      <td>(TOSSE, PERD_PALA)</td>\n      <td>(PERD_OLFT)</td>\n      <td>0.076701</td>\n      <td>0.089167</td>\n      <td>0.059593</td>\n      <td>0.776943</td>\n      <td>8.713382</td>\n      <td>0.052753</td>\n      <td>4.083409</td>\n    </tr>\n    <tr>\n      <th>1543</th>\n      <td>(PERD_OLFT)</td>\n      <td>(TOSSE, PERD_PALA)</td>\n      <td>0.089167</td>\n      <td>0.076701</td>\n      <td>0.059593</td>\n      <td>0.668329</td>\n      <td>8.713382</td>\n      <td>0.052753</td>\n      <td>2.783776</td>\n    </tr>\n    <tr>\n      <th>1539</th>\n      <td>(TOSSE, PERD_OLFT)</td>\n      <td>(PERD_PALA)</td>\n      <td>0.075730</td>\n      <td>0.090863</td>\n      <td>0.059593</td>\n      <td>0.786910</td>\n      <td>8.660433</td>\n      <td>0.052712</td>\n      <td>4.266452</td>\n    </tr>\n    <tr>\n      <th>1542</th>\n      <td>(PERD_PALA)</td>\n      <td>(TOSSE, PERD_OLFT)</td>\n      <td>0.090863</td>\n      <td>0.075730</td>\n      <td>0.059593</td>\n      <td>0.655854</td>\n      <td>8.660433</td>\n      <td>0.052712</td>\n      <td>2.685689</td>\n    </tr>\n    <tr>\n      <th>276</th>\n      <td>(PERD_PALA)</td>\n      <td>(PERD_OLFT)</td>\n      <td>0.090863</td>\n      <td>0.089167</td>\n      <td>0.069275</td>\n      <td>0.762414</td>\n      <td>8.550440</td>\n      <td>0.061173</td>\n      <td>3.833698</td>\n    </tr>\n    <tr>\n      <th>277</th>\n      <td>(PERD_OLFT)</td>\n      <td>(PERD_PALA)</td>\n      <td>0.089167</td>\n      <td>0.090863</td>\n      <td>0.069275</td>\n      <td>0.776916</td>\n      <td>8.550440</td>\n      <td>0.061173</td>\n      <td>4.075313</td>\n    </tr>\n    <tr>\n      <th>15059</th>\n      <td>(CARDIOPATI, VACINA_COV)</td>\n      <td>(SATURACAO, DOSE_2_COV, FATOR_RISC)</td>\n      <td>0.113883</td>\n      <td>0.092509</td>\n      <td>0.053533</td>\n      <td>0.470069</td>\n      <td>5.081318</td>\n      <td>0.042998</td>\n      <td>1.712471</td>\n    </tr>\n    <tr>\n      <th>15042</th>\n      <td>(SATURACAO, DOSE_2_COV, FATOR_RISC)</td>\n      <td>(CARDIOPATI, VACINA_COV)</td>\n      <td>0.092509</td>\n      <td>0.113883</td>\n      <td>0.053533</td>\n      <td>0.578676</td>\n      <td>5.081318</td>\n      <td>0.042998</td>\n      <td>2.103171</td>\n    </tr>\n  </tbody>\n</table>\n</div>"
     },
     "execution_count": 154,
     "metadata": {},
     "output_type": "execute_result"
    }
   ],
   "source": [
    "rules = association_rules(prods_sup, metric=\"lift\", min_threshold=0.05)\n",
    "\n",
    "rules = rules.sort_values(by='lift', ascending=False).head(20)\n",
    "\n",
    "rules.head(20)"
   ],
   "metadata": {
    "collapsed": false
   }
  },
  {
   "cell_type": "markdown",
   "source": [
    "For SRAG *COVID*, the top associated symptoms are: PERD_OLFT, PERD_PALA, FEBRE, DISPNEIA."
   ],
   "metadata": {
    "collapsed": false
   }
  },
  {
   "cell_type": "code",
   "execution_count": 129,
   "outputs": [
    {
     "name": "stderr",
     "output_type": "stream",
     "text": [
      "C:\\Users\\1770858\\AppData\\Roaming\\Python\\Python38\\site-packages\\mlxtend\\frequent_patterns\\fpcommon.py:111: DeprecationWarning: DataFrames with non-bool types result in worse computationalperformance and their support might be discontinued in the future.Please use a DataFrame with bool type\n",
      "  warnings.warn(\n"
     ]
    },
    {
     "data": {
      "text/plain": "                                antecedents  \\\n1990                       (UTI, DESC_RESP)   \n1995                           (SUPORT_VEN)   \n1798                        (UTI, DISPNEIA)   \n1803                           (SUPORT_VEN)   \n19169    (DESC_RESP, OUT_MORBI, VACINA_COV)   \n19172               (SATURACAO, DOSE_2_COV)   \n9217               (CARDIOPATI, DOSE_2_COV)   \n19555    (DIABETES, VACINA_COV, FATOR_RISC)   \n9220                 (DIABETES, VACINA_COV)   \n19552  (CARDIOPATI, DOSE_2_COV, FATOR_RISC)   \n19566              (CARDIOPATI, DOSE_2_COV)   \n19569                (DIABETES, VACINA_COV)   \n9219                 (DIABETES, DOSE_2_COV)   \n19567              (CARDIOPATI, VACINA_COV)   \n19568                (DIABETES, DOSE_2_COV)   \n9218               (CARDIOPATI, VACINA_COV)   \n19554    (DIABETES, DOSE_2_COV, FATOR_RISC)   \n19553  (CARDIOPATI, VACINA_COV, FATOR_RISC)   \n19389                  (FADIGA, DOSE_2_COV)   \n19372   (DESC_RESP, VACINA_COV, FATOR_RISC)   \n\n                                consequents  antecedent support  \\\n1990                           (SUPORT_VEN)            0.144424   \n1995                       (UTI, DESC_RESP)            0.090494   \n1798                           (SUPORT_VEN)            0.171846   \n1803                        (UTI, DISPNEIA)            0.090494   \n19169               (SATURACAO, DOSE_2_COV)            0.063071   \n19172    (DESC_RESP, OUT_MORBI, VACINA_COV)            0.220293   \n9217                 (DIABETES, VACINA_COV)            0.137112   \n19555              (CARDIOPATI, DOSE_2_COV)            0.103291   \n9220               (CARDIOPATI, DOSE_2_COV)            0.103291   \n19552                (DIABETES, VACINA_COV)            0.137112   \n19566    (DIABETES, VACINA_COV, FATOR_RISC)            0.137112   \n19569  (CARDIOPATI, DOSE_2_COV, FATOR_RISC)            0.103291   \n9219               (CARDIOPATI, VACINA_COV)            0.089580   \n19567    (DIABETES, DOSE_2_COV, FATOR_RISC)            0.158135   \n19568  (CARDIOPATI, VACINA_COV, FATOR_RISC)            0.089580   \n9218                 (DIABETES, DOSE_2_COV)            0.158135   \n19554              (CARDIOPATI, VACINA_COV)            0.089580   \n19553                (DIABETES, DOSE_2_COV)            0.158135   \n19389   (DESC_RESP, VACINA_COV, FATOR_RISC)            0.096892   \n19372                  (FADIGA, DOSE_2_COV)            0.173675   \n\n       consequent support   support  confidence      lift  leverage  \\\n1990             0.090494  0.052102    0.360759  3.986575  0.039033   \n1995             0.144424  0.052102    0.575758  3.986575  0.039033   \n1798             0.090494  0.058501    0.340426  3.761874  0.042950   \n1803             0.171846  0.058501    0.646465  3.761874  0.042950   \n19169            0.220293  0.052102    0.826087  3.749955  0.038208   \n19172            0.063071  0.052102    0.236515  3.749955  0.038208   \n9217             0.103291  0.051188    0.373333  3.614395  0.037026   \n19555            0.137112  0.051188    0.495575  3.614395  0.037026   \n9220             0.137112  0.051188    0.495575  3.614395  0.037026   \n19552            0.103291  0.051188    0.373333  3.614395  0.037026   \n19566            0.103291  0.051188    0.373333  3.614395  0.037026   \n19569            0.137112  0.051188    0.495575  3.614395  0.037026   \n9219             0.158135  0.051188    0.571429  3.613543  0.037023   \n19567            0.089580  0.051188    0.323699  3.613543  0.037023   \n19568            0.158135  0.051188    0.571429  3.613543  0.037023   \n9218             0.089580  0.051188    0.323699  3.613543  0.037023   \n19554            0.158135  0.051188    0.571429  3.613543  0.037023   \n19553            0.089580  0.051188    0.323699  3.613543  0.037023   \n19389            0.173675  0.060329    0.622642  3.585104  0.043501   \n19372            0.096892  0.060329    0.347368  3.585104  0.043501   \n\n       conviction  \n1990     1.422792  \n1995     2.016715  \n1798     1.378929  \n1803     2.342492  \n19169    4.483318  \n19172    1.227173  \n9217     1.430919  \n19555    1.710639  \n9220     1.710639  \n19552    1.430919  \n19566    1.430919  \n19569    1.710639  \n9219     1.964351  \n19567    1.346177  \n19568    1.964351  \n9218     1.346177  \n19554    1.964351  \n19553    1.346177  \n19389    2.189762  \n19372    1.383794  ",
      "text/html": "<div>\n<style scoped>\n    .dataframe tbody tr th:only-of-type {\n        vertical-align: middle;\n    }\n\n    .dataframe tbody tr th {\n        vertical-align: top;\n    }\n\n    .dataframe thead th {\n        text-align: right;\n    }\n</style>\n<table border=\"1\" class=\"dataframe\">\n  <thead>\n    <tr style=\"text-align: right;\">\n      <th></th>\n      <th>antecedents</th>\n      <th>consequents</th>\n      <th>antecedent support</th>\n      <th>consequent support</th>\n      <th>support</th>\n      <th>confidence</th>\n      <th>lift</th>\n      <th>leverage</th>\n      <th>conviction</th>\n    </tr>\n  </thead>\n  <tbody>\n    <tr>\n      <th>1990</th>\n      <td>(UTI, DESC_RESP)</td>\n      <td>(SUPORT_VEN)</td>\n      <td>0.144424</td>\n      <td>0.090494</td>\n      <td>0.052102</td>\n      <td>0.360759</td>\n      <td>3.986575</td>\n      <td>0.039033</td>\n      <td>1.422792</td>\n    </tr>\n    <tr>\n      <th>1995</th>\n      <td>(SUPORT_VEN)</td>\n      <td>(UTI, DESC_RESP)</td>\n      <td>0.090494</td>\n      <td>0.144424</td>\n      <td>0.052102</td>\n      <td>0.575758</td>\n      <td>3.986575</td>\n      <td>0.039033</td>\n      <td>2.016715</td>\n    </tr>\n    <tr>\n      <th>1798</th>\n      <td>(UTI, DISPNEIA)</td>\n      <td>(SUPORT_VEN)</td>\n      <td>0.171846</td>\n      <td>0.090494</td>\n      <td>0.058501</td>\n      <td>0.340426</td>\n      <td>3.761874</td>\n      <td>0.042950</td>\n      <td>1.378929</td>\n    </tr>\n    <tr>\n      <th>1803</th>\n      <td>(SUPORT_VEN)</td>\n      <td>(UTI, DISPNEIA)</td>\n      <td>0.090494</td>\n      <td>0.171846</td>\n      <td>0.058501</td>\n      <td>0.646465</td>\n      <td>3.761874</td>\n      <td>0.042950</td>\n      <td>2.342492</td>\n    </tr>\n    <tr>\n      <th>19169</th>\n      <td>(DESC_RESP, OUT_MORBI, VACINA_COV)</td>\n      <td>(SATURACAO, DOSE_2_COV)</td>\n      <td>0.063071</td>\n      <td>0.220293</td>\n      <td>0.052102</td>\n      <td>0.826087</td>\n      <td>3.749955</td>\n      <td>0.038208</td>\n      <td>4.483318</td>\n    </tr>\n    <tr>\n      <th>19172</th>\n      <td>(SATURACAO, DOSE_2_COV)</td>\n      <td>(DESC_RESP, OUT_MORBI, VACINA_COV)</td>\n      <td>0.220293</td>\n      <td>0.063071</td>\n      <td>0.052102</td>\n      <td>0.236515</td>\n      <td>3.749955</td>\n      <td>0.038208</td>\n      <td>1.227173</td>\n    </tr>\n    <tr>\n      <th>9217</th>\n      <td>(CARDIOPATI, DOSE_2_COV)</td>\n      <td>(DIABETES, VACINA_COV)</td>\n      <td>0.137112</td>\n      <td>0.103291</td>\n      <td>0.051188</td>\n      <td>0.373333</td>\n      <td>3.614395</td>\n      <td>0.037026</td>\n      <td>1.430919</td>\n    </tr>\n    <tr>\n      <th>19555</th>\n      <td>(DIABETES, VACINA_COV, FATOR_RISC)</td>\n      <td>(CARDIOPATI, DOSE_2_COV)</td>\n      <td>0.103291</td>\n      <td>0.137112</td>\n      <td>0.051188</td>\n      <td>0.495575</td>\n      <td>3.614395</td>\n      <td>0.037026</td>\n      <td>1.710639</td>\n    </tr>\n    <tr>\n      <th>9220</th>\n      <td>(DIABETES, VACINA_COV)</td>\n      <td>(CARDIOPATI, DOSE_2_COV)</td>\n      <td>0.103291</td>\n      <td>0.137112</td>\n      <td>0.051188</td>\n      <td>0.495575</td>\n      <td>3.614395</td>\n      <td>0.037026</td>\n      <td>1.710639</td>\n    </tr>\n    <tr>\n      <th>19552</th>\n      <td>(CARDIOPATI, DOSE_2_COV, FATOR_RISC)</td>\n      <td>(DIABETES, VACINA_COV)</td>\n      <td>0.137112</td>\n      <td>0.103291</td>\n      <td>0.051188</td>\n      <td>0.373333</td>\n      <td>3.614395</td>\n      <td>0.037026</td>\n      <td>1.430919</td>\n    </tr>\n    <tr>\n      <th>19566</th>\n      <td>(CARDIOPATI, DOSE_2_COV)</td>\n      <td>(DIABETES, VACINA_COV, FATOR_RISC)</td>\n      <td>0.137112</td>\n      <td>0.103291</td>\n      <td>0.051188</td>\n      <td>0.373333</td>\n      <td>3.614395</td>\n      <td>0.037026</td>\n      <td>1.430919</td>\n    </tr>\n    <tr>\n      <th>19569</th>\n      <td>(DIABETES, VACINA_COV)</td>\n      <td>(CARDIOPATI, DOSE_2_COV, FATOR_RISC)</td>\n      <td>0.103291</td>\n      <td>0.137112</td>\n      <td>0.051188</td>\n      <td>0.495575</td>\n      <td>3.614395</td>\n      <td>0.037026</td>\n      <td>1.710639</td>\n    </tr>\n    <tr>\n      <th>9219</th>\n      <td>(DIABETES, DOSE_2_COV)</td>\n      <td>(CARDIOPATI, VACINA_COV)</td>\n      <td>0.089580</td>\n      <td>0.158135</td>\n      <td>0.051188</td>\n      <td>0.571429</td>\n      <td>3.613543</td>\n      <td>0.037023</td>\n      <td>1.964351</td>\n    </tr>\n    <tr>\n      <th>19567</th>\n      <td>(CARDIOPATI, VACINA_COV)</td>\n      <td>(DIABETES, DOSE_2_COV, FATOR_RISC)</td>\n      <td>0.158135</td>\n      <td>0.089580</td>\n      <td>0.051188</td>\n      <td>0.323699</td>\n      <td>3.613543</td>\n      <td>0.037023</td>\n      <td>1.346177</td>\n    </tr>\n    <tr>\n      <th>19568</th>\n      <td>(DIABETES, DOSE_2_COV)</td>\n      <td>(CARDIOPATI, VACINA_COV, FATOR_RISC)</td>\n      <td>0.089580</td>\n      <td>0.158135</td>\n      <td>0.051188</td>\n      <td>0.571429</td>\n      <td>3.613543</td>\n      <td>0.037023</td>\n      <td>1.964351</td>\n    </tr>\n    <tr>\n      <th>9218</th>\n      <td>(CARDIOPATI, VACINA_COV)</td>\n      <td>(DIABETES, DOSE_2_COV)</td>\n      <td>0.158135</td>\n      <td>0.089580</td>\n      <td>0.051188</td>\n      <td>0.323699</td>\n      <td>3.613543</td>\n      <td>0.037023</td>\n      <td>1.346177</td>\n    </tr>\n    <tr>\n      <th>19554</th>\n      <td>(DIABETES, DOSE_2_COV, FATOR_RISC)</td>\n      <td>(CARDIOPATI, VACINA_COV)</td>\n      <td>0.089580</td>\n      <td>0.158135</td>\n      <td>0.051188</td>\n      <td>0.571429</td>\n      <td>3.613543</td>\n      <td>0.037023</td>\n      <td>1.964351</td>\n    </tr>\n    <tr>\n      <th>19553</th>\n      <td>(CARDIOPATI, VACINA_COV, FATOR_RISC)</td>\n      <td>(DIABETES, DOSE_2_COV)</td>\n      <td>0.158135</td>\n      <td>0.089580</td>\n      <td>0.051188</td>\n      <td>0.323699</td>\n      <td>3.613543</td>\n      <td>0.037023</td>\n      <td>1.346177</td>\n    </tr>\n    <tr>\n      <th>19389</th>\n      <td>(FADIGA, DOSE_2_COV)</td>\n      <td>(DESC_RESP, VACINA_COV, FATOR_RISC)</td>\n      <td>0.096892</td>\n      <td>0.173675</td>\n      <td>0.060329</td>\n      <td>0.622642</td>\n      <td>3.585104</td>\n      <td>0.043501</td>\n      <td>2.189762</td>\n    </tr>\n    <tr>\n      <th>19372</th>\n      <td>(DESC_RESP, VACINA_COV, FATOR_RISC)</td>\n      <td>(FADIGA, DOSE_2_COV)</td>\n      <td>0.173675</td>\n      <td>0.096892</td>\n      <td>0.060329</td>\n      <td>0.347368</td>\n      <td>3.585104</td>\n      <td>0.043501</td>\n      <td>1.383794</td>\n    </tr>\n  </tbody>\n</table>\n</div>"
     },
     "execution_count": 129,
     "metadata": {},
     "output_type": "execute_result"
    }
   ],
   "source": [
    "# Calculating Support\n",
    "prods_sup=mlxtend.frequent_patterns.apriori(influenza,\n",
    "                                            min_support=0.05,\n",
    "                                            max_len=5,\n",
    "                                            use_colnames=True)\n",
    "sup_influenza = prods_sup.sort_values(by='support', ascending=False).head(10).reset_index(drop=True)\n",
    "# Create association Rules\n",
    "rules = association_rules(prods_sup, metric=\"lift\", min_threshold=0.05)\n",
    "# Sort association Rules\n",
    "rules = rules.sort_values(by='lift', ascending=False).head(20)\n",
    "# Print\n",
    "rules.head(20)"
   ],
   "metadata": {
    "collapsed": false
   }
  },
  {
   "cell_type": "markdown",
   "source": [
    "For SRAG *Influenza*, the top associated symptoms are: UTI, SUPORT_VEN, DESC_RESP, FADIGA, DISPNEIA, DIABETES, CARDIOPATI."
   ],
   "metadata": {
    "collapsed": false
   }
  },
  {
   "cell_type": "code",
   "execution_count": 130,
   "outputs": [
    {
     "name": "stderr",
     "output_type": "stream",
     "text": [
      "C:\\Users\\1770858\\AppData\\Roaming\\Python\\Python38\\site-packages\\mlxtend\\frequent_patterns\\fpcommon.py:111: DeprecationWarning: DataFrames with non-bool types result in worse computationalperformance and their support might be discontinued in the future.Please use a DataFrame with bool type\n",
      "  warnings.warn(\n"
     ]
    },
    {
     "data": {
      "text/plain": "                  antecedents              consequents  antecedent support  \\\n655    (DISPNEIA, VACINA_COV)             (DOSE_2_COV)            0.066788   \n658              (DOSE_2_COV)   (DISPNEIA, VACINA_COV)            0.075420   \n563              (VACINA_COV)      (TOSSE, DOSE_2_COV)            0.099955   \n558       (TOSSE, DOSE_2_COV)             (VACINA_COV)            0.060427   \n654    (DISPNEIA, DOSE_2_COV)             (VACINA_COV)            0.052249   \n659              (VACINA_COV)   (DISPNEIA, DOSE_2_COV)            0.099955   \n130              (DOSE_2_COV)             (VACINA_COV)            0.075420   \n131              (VACINA_COV)             (DOSE_2_COV)            0.099955   \n562              (DOSE_2_COV)      (TOSSE, VACINA_COV)            0.075420   \n559       (TOSSE, VACINA_COV)             (DOSE_2_COV)            0.081781   \n1644  (DESC_RESP, FATOR_RISC)   (SATURACAO, OUT_MORBI)            0.147660   \n1641   (SATURACAO, OUT_MORBI)  (DESC_RESP, FATOR_RISC)            0.063153   \n1627   (SATURACAO, OUT_MORBI)   (DISPNEIA, FATOR_RISC)            0.063153   \n1630   (DISPNEIA, FATOR_RISC)   (SATURACAO, OUT_MORBI)            0.157656   \n1615    (DISPNEIA, OUT_MORBI)  (DESC_RESP, FATOR_RISC)            0.076783   \n1614  (DESC_RESP, FATOR_RISC)    (DISPNEIA, OUT_MORBI)            0.147660   \n1616   (DISPNEIA, FATOR_RISC)   (DESC_RESP, OUT_MORBI)            0.157656   \n1613   (DESC_RESP, OUT_MORBI)   (DISPNEIA, FATOR_RISC)            0.072694   \n1643   (DESC_RESP, OUT_MORBI)  (SATURACAO, FATOR_RISC)            0.072694   \n1642  (SATURACAO, FATOR_RISC)   (DESC_RESP, OUT_MORBI)            0.145388   \n\n      consequent support   support  confidence       lift  leverage  \\\n655             0.075420  0.052249    0.782313  10.372715  0.047212   \n658             0.066788  0.052249    0.692771  10.372715  0.047212   \n563             0.060427  0.060427    0.604545  10.004545  0.054387   \n558             0.099955  0.060427    1.000000  10.004545  0.054387   \n654             0.099955  0.052249    1.000000  10.004545  0.047026   \n659             0.052249  0.052249    0.522727  10.004545  0.047026   \n130             0.099955  0.075420    1.000000  10.004545  0.067882   \n131             0.075420  0.075420    0.754545  10.004545  0.067882   \n562             0.081781  0.060427    0.801205   9.796954  0.054259   \n559             0.075420  0.060427    0.738889   9.796954  0.054259   \n1644            0.063153  0.050432    0.341538   5.408102  0.041106   \n1641            0.147660  0.050432    0.798561   5.408102  0.041106   \n1627            0.157656  0.052703    0.834532   5.293388  0.042747   \n1630            0.063153  0.052703    0.334294   5.293388  0.042747   \n1615            0.147660  0.057701    0.751479   5.089249  0.046363   \n1614            0.076783  0.057701    0.390769   5.089249  0.046363   \n1616            0.072694  0.057701    0.365994   5.034708  0.046240   \n1613            0.157656  0.057701    0.793750   5.034708  0.046240   \n1643            0.145388  0.050432    0.693750   4.771699  0.039863   \n1642            0.072694  0.050432    0.346875   4.771699  0.039863   \n\n      conviction  \n655     4.247288  \n658     3.037514  \n563     2.375932  \n558          inf  \n654          inf  \n659     1.985764  \n130          inf  \n131     3.766806  \n562     4.618920  \n559     3.540944  \n1644    1.422781  \n1641    4.231259  \n1627    5.090690  \n1630    1.407298  \n1615    3.429653  \n1614    1.515381  \n1616    1.462614  \n1613    4.084094  \n1643    2.790568  \n1642    1.419798  ",
      "text/html": "<div>\n<style scoped>\n    .dataframe tbody tr th:only-of-type {\n        vertical-align: middle;\n    }\n\n    .dataframe tbody tr th {\n        vertical-align: top;\n    }\n\n    .dataframe thead th {\n        text-align: right;\n    }\n</style>\n<table border=\"1\" class=\"dataframe\">\n  <thead>\n    <tr style=\"text-align: right;\">\n      <th></th>\n      <th>antecedents</th>\n      <th>consequents</th>\n      <th>antecedent support</th>\n      <th>consequent support</th>\n      <th>support</th>\n      <th>confidence</th>\n      <th>lift</th>\n      <th>leverage</th>\n      <th>conviction</th>\n    </tr>\n  </thead>\n  <tbody>\n    <tr>\n      <th>655</th>\n      <td>(DISPNEIA, VACINA_COV)</td>\n      <td>(DOSE_2_COV)</td>\n      <td>0.066788</td>\n      <td>0.075420</td>\n      <td>0.052249</td>\n      <td>0.782313</td>\n      <td>10.372715</td>\n      <td>0.047212</td>\n      <td>4.247288</td>\n    </tr>\n    <tr>\n      <th>658</th>\n      <td>(DOSE_2_COV)</td>\n      <td>(DISPNEIA, VACINA_COV)</td>\n      <td>0.075420</td>\n      <td>0.066788</td>\n      <td>0.052249</td>\n      <td>0.692771</td>\n      <td>10.372715</td>\n      <td>0.047212</td>\n      <td>3.037514</td>\n    </tr>\n    <tr>\n      <th>563</th>\n      <td>(VACINA_COV)</td>\n      <td>(TOSSE, DOSE_2_COV)</td>\n      <td>0.099955</td>\n      <td>0.060427</td>\n      <td>0.060427</td>\n      <td>0.604545</td>\n      <td>10.004545</td>\n      <td>0.054387</td>\n      <td>2.375932</td>\n    </tr>\n    <tr>\n      <th>558</th>\n      <td>(TOSSE, DOSE_2_COV)</td>\n      <td>(VACINA_COV)</td>\n      <td>0.060427</td>\n      <td>0.099955</td>\n      <td>0.060427</td>\n      <td>1.000000</td>\n      <td>10.004545</td>\n      <td>0.054387</td>\n      <td>inf</td>\n    </tr>\n    <tr>\n      <th>654</th>\n      <td>(DISPNEIA, DOSE_2_COV)</td>\n      <td>(VACINA_COV)</td>\n      <td>0.052249</td>\n      <td>0.099955</td>\n      <td>0.052249</td>\n      <td>1.000000</td>\n      <td>10.004545</td>\n      <td>0.047026</td>\n      <td>inf</td>\n    </tr>\n    <tr>\n      <th>659</th>\n      <td>(VACINA_COV)</td>\n      <td>(DISPNEIA, DOSE_2_COV)</td>\n      <td>0.099955</td>\n      <td>0.052249</td>\n      <td>0.052249</td>\n      <td>0.522727</td>\n      <td>10.004545</td>\n      <td>0.047026</td>\n      <td>1.985764</td>\n    </tr>\n    <tr>\n      <th>130</th>\n      <td>(DOSE_2_COV)</td>\n      <td>(VACINA_COV)</td>\n      <td>0.075420</td>\n      <td>0.099955</td>\n      <td>0.075420</td>\n      <td>1.000000</td>\n      <td>10.004545</td>\n      <td>0.067882</td>\n      <td>inf</td>\n    </tr>\n    <tr>\n      <th>131</th>\n      <td>(VACINA_COV)</td>\n      <td>(DOSE_2_COV)</td>\n      <td>0.099955</td>\n      <td>0.075420</td>\n      <td>0.075420</td>\n      <td>0.754545</td>\n      <td>10.004545</td>\n      <td>0.067882</td>\n      <td>3.766806</td>\n    </tr>\n    <tr>\n      <th>562</th>\n      <td>(DOSE_2_COV)</td>\n      <td>(TOSSE, VACINA_COV)</td>\n      <td>0.075420</td>\n      <td>0.081781</td>\n      <td>0.060427</td>\n      <td>0.801205</td>\n      <td>9.796954</td>\n      <td>0.054259</td>\n      <td>4.618920</td>\n    </tr>\n    <tr>\n      <th>559</th>\n      <td>(TOSSE, VACINA_COV)</td>\n      <td>(DOSE_2_COV)</td>\n      <td>0.081781</td>\n      <td>0.075420</td>\n      <td>0.060427</td>\n      <td>0.738889</td>\n      <td>9.796954</td>\n      <td>0.054259</td>\n      <td>3.540944</td>\n    </tr>\n    <tr>\n      <th>1644</th>\n      <td>(DESC_RESP, FATOR_RISC)</td>\n      <td>(SATURACAO, OUT_MORBI)</td>\n      <td>0.147660</td>\n      <td>0.063153</td>\n      <td>0.050432</td>\n      <td>0.341538</td>\n      <td>5.408102</td>\n      <td>0.041106</td>\n      <td>1.422781</td>\n    </tr>\n    <tr>\n      <th>1641</th>\n      <td>(SATURACAO, OUT_MORBI)</td>\n      <td>(DESC_RESP, FATOR_RISC)</td>\n      <td>0.063153</td>\n      <td>0.147660</td>\n      <td>0.050432</td>\n      <td>0.798561</td>\n      <td>5.408102</td>\n      <td>0.041106</td>\n      <td>4.231259</td>\n    </tr>\n    <tr>\n      <th>1627</th>\n      <td>(SATURACAO, OUT_MORBI)</td>\n      <td>(DISPNEIA, FATOR_RISC)</td>\n      <td>0.063153</td>\n      <td>0.157656</td>\n      <td>0.052703</td>\n      <td>0.834532</td>\n      <td>5.293388</td>\n      <td>0.042747</td>\n      <td>5.090690</td>\n    </tr>\n    <tr>\n      <th>1630</th>\n      <td>(DISPNEIA, FATOR_RISC)</td>\n      <td>(SATURACAO, OUT_MORBI)</td>\n      <td>0.157656</td>\n      <td>0.063153</td>\n      <td>0.052703</td>\n      <td>0.334294</td>\n      <td>5.293388</td>\n      <td>0.042747</td>\n      <td>1.407298</td>\n    </tr>\n    <tr>\n      <th>1615</th>\n      <td>(DISPNEIA, OUT_MORBI)</td>\n      <td>(DESC_RESP, FATOR_RISC)</td>\n      <td>0.076783</td>\n      <td>0.147660</td>\n      <td>0.057701</td>\n      <td>0.751479</td>\n      <td>5.089249</td>\n      <td>0.046363</td>\n      <td>3.429653</td>\n    </tr>\n    <tr>\n      <th>1614</th>\n      <td>(DESC_RESP, FATOR_RISC)</td>\n      <td>(DISPNEIA, OUT_MORBI)</td>\n      <td>0.147660</td>\n      <td>0.076783</td>\n      <td>0.057701</td>\n      <td>0.390769</td>\n      <td>5.089249</td>\n      <td>0.046363</td>\n      <td>1.515381</td>\n    </tr>\n    <tr>\n      <th>1616</th>\n      <td>(DISPNEIA, FATOR_RISC)</td>\n      <td>(DESC_RESP, OUT_MORBI)</td>\n      <td>0.157656</td>\n      <td>0.072694</td>\n      <td>0.057701</td>\n      <td>0.365994</td>\n      <td>5.034708</td>\n      <td>0.046240</td>\n      <td>1.462614</td>\n    </tr>\n    <tr>\n      <th>1613</th>\n      <td>(DESC_RESP, OUT_MORBI)</td>\n      <td>(DISPNEIA, FATOR_RISC)</td>\n      <td>0.072694</td>\n      <td>0.157656</td>\n      <td>0.057701</td>\n      <td>0.793750</td>\n      <td>5.034708</td>\n      <td>0.046240</td>\n      <td>4.084094</td>\n    </tr>\n    <tr>\n      <th>1643</th>\n      <td>(DESC_RESP, OUT_MORBI)</td>\n      <td>(SATURACAO, FATOR_RISC)</td>\n      <td>0.072694</td>\n      <td>0.145388</td>\n      <td>0.050432</td>\n      <td>0.693750</td>\n      <td>4.771699</td>\n      <td>0.039863</td>\n      <td>2.790568</td>\n    </tr>\n    <tr>\n      <th>1642</th>\n      <td>(SATURACAO, FATOR_RISC)</td>\n      <td>(DESC_RESP, OUT_MORBI)</td>\n      <td>0.145388</td>\n      <td>0.072694</td>\n      <td>0.050432</td>\n      <td>0.346875</td>\n      <td>4.771699</td>\n      <td>0.039863</td>\n      <td>1.419798</td>\n    </tr>\n  </tbody>\n</table>\n</div>"
     },
     "execution_count": 130,
     "metadata": {},
     "output_type": "execute_result"
    }
   ],
   "source": [
    "# Calculating Support\n",
    "prods_sup=mlxtend.frequent_patterns.apriori(other_virus,\n",
    "                                            min_support=0.05,\n",
    "                                            max_len=5,\n",
    "                                            use_colnames=True)\n",
    "\n",
    "sup_other_vir = prods_sup.sort_values(by='support', ascending=False).head(10).reset_index(drop=True)\n",
    "# Create association Rules\n",
    "rules = association_rules(prods_sup, metric=\"lift\", min_threshold=0.05)\n",
    "# Sort association Rules\n",
    "rules = rules.sort_values(by='lift', ascending=False).head(20)\n",
    "# Print\n",
    "rules.head(20)"
   ],
   "metadata": {
    "collapsed": false
   }
  },
  {
   "cell_type": "markdown",
   "source": [
    "For SRAG *Other Virus*, the top associated symptoms are: DISPNEIA, VACINA_COV, DOSE_2_COV, TOSSE."
   ],
   "metadata": {
    "collapsed": false
   }
  },
  {
   "cell_type": "code",
   "execution_count": 131,
   "outputs": [
    {
     "name": "stderr",
     "output_type": "stream",
     "text": [
      "C:\\Users\\1770858\\AppData\\Roaming\\Python\\Python38\\site-packages\\mlxtend\\frequent_patterns\\fpcommon.py:111: DeprecationWarning: DataFrames with non-bool types result in worse computationalperformance and their support might be discontinued in the future.Please use a DataFrame with bool type\n",
      "  warnings.warn(\n"
     ]
    },
    {
     "data": {
      "text/plain": "                         antecedents                    consequents  \\\n7442               (UTI, DOSE_2_COV)       (SUPORT_VEN, VACINA_COV)   \n7447        (SUPORT_VEN, VACINA_COV)              (UTI, DOSE_2_COV)   \n7444               (UTI, VACINA_COV)       (SUPORT_VEN, DOSE_2_COV)   \n7445        (SUPORT_VEN, DOSE_2_COV)              (UTI, VACINA_COV)   \n13050       (SUPORT_VEN, VACINA_COV)   (UTI, DESC_RESP, FATOR_RISC)   \n13043   (UTI, DESC_RESP, FATOR_RISC)       (SUPORT_VEN, VACINA_COV)   \n13015    (UTI, DESC_RESP, OUT_MORBI)       (SUPORT_VEN, FATOR_RISC)   \n13018       (SUPORT_VEN, FATOR_RISC)    (UTI, DESC_RESP, OUT_MORBI)   \n13013   (UTI, DESC_RESP, FATOR_RISC)        (SUPORT_VEN, OUT_MORBI)   \n13020        (SUPORT_VEN, OUT_MORBI)   (UTI, DESC_RESP, FATOR_RISC)   \n12506     (UTI, DISPNEIA, OUT_MORBI)       (SUPORT_VEN, FATOR_RISC)   \n12507       (SUPORT_VEN, FATOR_RISC)     (UTI, DISPNEIA, OUT_MORBI)   \n13233       (SUPORT_VEN, VACINA_COV)   (SATURACAO, UTI, FATOR_RISC)   \n13220   (SATURACAO, UTI, FATOR_RISC)       (SUPORT_VEN, VACINA_COV)   \n13047        (SUPORT_VEN, DESC_RESP)  (UTI, VACINA_COV, FATOR_RISC)   \n13046  (UTI, VACINA_COV, FATOR_RISC)        (SUPORT_VEN, DESC_RESP)   \n13171       (SUPORT_VEN, FATOR_RISC)    (SATURACAO, UTI, OUT_MORBI)   \n13162    (SATURACAO, UTI, OUT_MORBI)       (SUPORT_VEN, FATOR_RISC)   \n11909         (SUPORT_VEN, DISPNEIA)   (UTI, DESC_RESP, VACINA_COV)   \n11904   (UTI, DESC_RESP, VACINA_COV)         (SUPORT_VEN, DISPNEIA)   \n\n       antecedent support  consequent support   support  confidence      lift  \\\n7442             0.079518            0.084337  0.053012    0.666667  7.904762   \n7447             0.084337            0.079518  0.053012    0.628571  7.904762   \n7444             0.108434            0.067470  0.053012    0.488889  7.246032   \n7445             0.067470            0.108434  0.053012    0.785714  7.246032   \n13050            0.084337            0.113253  0.055422    0.657143  5.802432   \n13043            0.113253            0.084337  0.055422    0.489362  5.802432   \n13015            0.067470            0.149398  0.057831    0.857143  5.737327   \n13018            0.149398            0.067470  0.057831    0.387097  5.737327   \n13013            0.113253            0.091566  0.057831    0.510638  5.576708   \n13020            0.091566            0.113253  0.057831    0.631579  5.576708   \n12506            0.067470            0.149398  0.055422    0.821429  5.498272   \n12507            0.149398            0.067470  0.055422    0.370968  5.498272   \n13233            0.084337            0.120482  0.055422    0.657143  5.454286   \n13220            0.120482            0.084337  0.055422    0.460000  5.454286   \n13047            0.118072            0.086747  0.055422    0.469388  5.410998   \n13046            0.086747            0.118072  0.055422    0.638889  5.410998   \n13171            0.149398            0.065060  0.050602    0.338710  5.206093   \n13162            0.065060            0.149398  0.050602    0.777778  5.206093   \n11909            0.132530            0.077108  0.053012    0.400000  5.187500   \n11904            0.077108            0.132530  0.053012    0.687500  5.187500   \n\n       leverage  conviction  \n7442   0.046306    2.746988  \n7447   0.046306    2.478221  \n7444   0.045696    1.824515  \n7445   0.045696    4.160643  \n13050  0.045870    2.586345  \n13043  0.045870    1.793173  \n13015  0.047751    5.954217  \n13018  0.047751    1.521497  \n13013  0.047461    1.856365  \n13020  0.047461    2.406885  \n12506  0.045342    4.763373  \n12507  0.045342    1.482484  \n13233  0.045261    2.565261  \n13220  0.045261    1.695672  \n13047  0.045179    1.721131  \n13046  0.045179    2.442261  \n13171  0.040883    1.413811  \n13162  0.040883    3.827711  \n11909  0.042793    1.538153  \n11904  0.042793    2.775904  ",
      "text/html": "<div>\n<style scoped>\n    .dataframe tbody tr th:only-of-type {\n        vertical-align: middle;\n    }\n\n    .dataframe tbody tr th {\n        vertical-align: top;\n    }\n\n    .dataframe thead th {\n        text-align: right;\n    }\n</style>\n<table border=\"1\" class=\"dataframe\">\n  <thead>\n    <tr style=\"text-align: right;\">\n      <th></th>\n      <th>antecedents</th>\n      <th>consequents</th>\n      <th>antecedent support</th>\n      <th>consequent support</th>\n      <th>support</th>\n      <th>confidence</th>\n      <th>lift</th>\n      <th>leverage</th>\n      <th>conviction</th>\n    </tr>\n  </thead>\n  <tbody>\n    <tr>\n      <th>7442</th>\n      <td>(UTI, DOSE_2_COV)</td>\n      <td>(SUPORT_VEN, VACINA_COV)</td>\n      <td>0.079518</td>\n      <td>0.084337</td>\n      <td>0.053012</td>\n      <td>0.666667</td>\n      <td>7.904762</td>\n      <td>0.046306</td>\n      <td>2.746988</td>\n    </tr>\n    <tr>\n      <th>7447</th>\n      <td>(SUPORT_VEN, VACINA_COV)</td>\n      <td>(UTI, DOSE_2_COV)</td>\n      <td>0.084337</td>\n      <td>0.079518</td>\n      <td>0.053012</td>\n      <td>0.628571</td>\n      <td>7.904762</td>\n      <td>0.046306</td>\n      <td>2.478221</td>\n    </tr>\n    <tr>\n      <th>7444</th>\n      <td>(UTI, VACINA_COV)</td>\n      <td>(SUPORT_VEN, DOSE_2_COV)</td>\n      <td>0.108434</td>\n      <td>0.067470</td>\n      <td>0.053012</td>\n      <td>0.488889</td>\n      <td>7.246032</td>\n      <td>0.045696</td>\n      <td>1.824515</td>\n    </tr>\n    <tr>\n      <th>7445</th>\n      <td>(SUPORT_VEN, DOSE_2_COV)</td>\n      <td>(UTI, VACINA_COV)</td>\n      <td>0.067470</td>\n      <td>0.108434</td>\n      <td>0.053012</td>\n      <td>0.785714</td>\n      <td>7.246032</td>\n      <td>0.045696</td>\n      <td>4.160643</td>\n    </tr>\n    <tr>\n      <th>13050</th>\n      <td>(SUPORT_VEN, VACINA_COV)</td>\n      <td>(UTI, DESC_RESP, FATOR_RISC)</td>\n      <td>0.084337</td>\n      <td>0.113253</td>\n      <td>0.055422</td>\n      <td>0.657143</td>\n      <td>5.802432</td>\n      <td>0.045870</td>\n      <td>2.586345</td>\n    </tr>\n    <tr>\n      <th>13043</th>\n      <td>(UTI, DESC_RESP, FATOR_RISC)</td>\n      <td>(SUPORT_VEN, VACINA_COV)</td>\n      <td>0.113253</td>\n      <td>0.084337</td>\n      <td>0.055422</td>\n      <td>0.489362</td>\n      <td>5.802432</td>\n      <td>0.045870</td>\n      <td>1.793173</td>\n    </tr>\n    <tr>\n      <th>13015</th>\n      <td>(UTI, DESC_RESP, OUT_MORBI)</td>\n      <td>(SUPORT_VEN, FATOR_RISC)</td>\n      <td>0.067470</td>\n      <td>0.149398</td>\n      <td>0.057831</td>\n      <td>0.857143</td>\n      <td>5.737327</td>\n      <td>0.047751</td>\n      <td>5.954217</td>\n    </tr>\n    <tr>\n      <th>13018</th>\n      <td>(SUPORT_VEN, FATOR_RISC)</td>\n      <td>(UTI, DESC_RESP, OUT_MORBI)</td>\n      <td>0.149398</td>\n      <td>0.067470</td>\n      <td>0.057831</td>\n      <td>0.387097</td>\n      <td>5.737327</td>\n      <td>0.047751</td>\n      <td>1.521497</td>\n    </tr>\n    <tr>\n      <th>13013</th>\n      <td>(UTI, DESC_RESP, FATOR_RISC)</td>\n      <td>(SUPORT_VEN, OUT_MORBI)</td>\n      <td>0.113253</td>\n      <td>0.091566</td>\n      <td>0.057831</td>\n      <td>0.510638</td>\n      <td>5.576708</td>\n      <td>0.047461</td>\n      <td>1.856365</td>\n    </tr>\n    <tr>\n      <th>13020</th>\n      <td>(SUPORT_VEN, OUT_MORBI)</td>\n      <td>(UTI, DESC_RESP, FATOR_RISC)</td>\n      <td>0.091566</td>\n      <td>0.113253</td>\n      <td>0.057831</td>\n      <td>0.631579</td>\n      <td>5.576708</td>\n      <td>0.047461</td>\n      <td>2.406885</td>\n    </tr>\n    <tr>\n      <th>12506</th>\n      <td>(UTI, DISPNEIA, OUT_MORBI)</td>\n      <td>(SUPORT_VEN, FATOR_RISC)</td>\n      <td>0.067470</td>\n      <td>0.149398</td>\n      <td>0.055422</td>\n      <td>0.821429</td>\n      <td>5.498272</td>\n      <td>0.045342</td>\n      <td>4.763373</td>\n    </tr>\n    <tr>\n      <th>12507</th>\n      <td>(SUPORT_VEN, FATOR_RISC)</td>\n      <td>(UTI, DISPNEIA, OUT_MORBI)</td>\n      <td>0.149398</td>\n      <td>0.067470</td>\n      <td>0.055422</td>\n      <td>0.370968</td>\n      <td>5.498272</td>\n      <td>0.045342</td>\n      <td>1.482484</td>\n    </tr>\n    <tr>\n      <th>13233</th>\n      <td>(SUPORT_VEN, VACINA_COV)</td>\n      <td>(SATURACAO, UTI, FATOR_RISC)</td>\n      <td>0.084337</td>\n      <td>0.120482</td>\n      <td>0.055422</td>\n      <td>0.657143</td>\n      <td>5.454286</td>\n      <td>0.045261</td>\n      <td>2.565261</td>\n    </tr>\n    <tr>\n      <th>13220</th>\n      <td>(SATURACAO, UTI, FATOR_RISC)</td>\n      <td>(SUPORT_VEN, VACINA_COV)</td>\n      <td>0.120482</td>\n      <td>0.084337</td>\n      <td>0.055422</td>\n      <td>0.460000</td>\n      <td>5.454286</td>\n      <td>0.045261</td>\n      <td>1.695672</td>\n    </tr>\n    <tr>\n      <th>13047</th>\n      <td>(SUPORT_VEN, DESC_RESP)</td>\n      <td>(UTI, VACINA_COV, FATOR_RISC)</td>\n      <td>0.118072</td>\n      <td>0.086747</td>\n      <td>0.055422</td>\n      <td>0.469388</td>\n      <td>5.410998</td>\n      <td>0.045179</td>\n      <td>1.721131</td>\n    </tr>\n    <tr>\n      <th>13046</th>\n      <td>(UTI, VACINA_COV, FATOR_RISC)</td>\n      <td>(SUPORT_VEN, DESC_RESP)</td>\n      <td>0.086747</td>\n      <td>0.118072</td>\n      <td>0.055422</td>\n      <td>0.638889</td>\n      <td>5.410998</td>\n      <td>0.045179</td>\n      <td>2.442261</td>\n    </tr>\n    <tr>\n      <th>13171</th>\n      <td>(SUPORT_VEN, FATOR_RISC)</td>\n      <td>(SATURACAO, UTI, OUT_MORBI)</td>\n      <td>0.149398</td>\n      <td>0.065060</td>\n      <td>0.050602</td>\n      <td>0.338710</td>\n      <td>5.206093</td>\n      <td>0.040883</td>\n      <td>1.413811</td>\n    </tr>\n    <tr>\n      <th>13162</th>\n      <td>(SATURACAO, UTI, OUT_MORBI)</td>\n      <td>(SUPORT_VEN, FATOR_RISC)</td>\n      <td>0.065060</td>\n      <td>0.149398</td>\n      <td>0.050602</td>\n      <td>0.777778</td>\n      <td>5.206093</td>\n      <td>0.040883</td>\n      <td>3.827711</td>\n    </tr>\n    <tr>\n      <th>11909</th>\n      <td>(SUPORT_VEN, DISPNEIA)</td>\n      <td>(UTI, DESC_RESP, VACINA_COV)</td>\n      <td>0.132530</td>\n      <td>0.077108</td>\n      <td>0.053012</td>\n      <td>0.400000</td>\n      <td>5.187500</td>\n      <td>0.042793</td>\n      <td>1.538153</td>\n    </tr>\n    <tr>\n      <th>11904</th>\n      <td>(UTI, DESC_RESP, VACINA_COV)</td>\n      <td>(SUPORT_VEN, DISPNEIA)</td>\n      <td>0.077108</td>\n      <td>0.132530</td>\n      <td>0.053012</td>\n      <td>0.687500</td>\n      <td>5.187500</td>\n      <td>0.042793</td>\n      <td>2.775904</td>\n    </tr>\n  </tbody>\n</table>\n</div>"
     },
     "execution_count": 131,
     "metadata": {},
     "output_type": "execute_result"
    }
   ],
   "source": [
    "# Calculating Support\n",
    "prods_sup=mlxtend.frequent_patterns.apriori(other_agent,\n",
    "                                            min_support=0.05,\n",
    "                                            max_len=5,\n",
    "                                            use_colnames=True)\n",
    "sup_other_agent = prods_sup.sort_values(by='support', ascending=False).head(10).reset_index(drop=True)\n",
    "# Create association Rules\n",
    "rules = association_rules(prods_sup, metric=\"lift\", min_threshold=0.05)\n",
    "# Sort association Rules\n",
    "rules = rules.sort_values(by='lift', ascending=False).head(20)\n",
    "# Print\n",
    "rules.head(20)"
   ],
   "metadata": {
    "collapsed": false
   }
  },
  {
   "cell_type": "markdown",
   "source": [
    "For SRAG *Other Agent*, the top associated symptoms are: UTI, SUPORT_VEN, DOSE_2_COV, DESC_RESP."
   ],
   "metadata": {
    "collapsed": false
   }
  },
  {
   "cell_type": "code",
   "execution_count": 132,
   "outputs": [
    {
     "name": "stderr",
     "output_type": "stream",
     "text": [
      "C:\\Users\\1770858\\AppData\\Roaming\\Python\\Python38\\site-packages\\mlxtend\\frequent_patterns\\fpcommon.py:111: DeprecationWarning: DataFrames with non-bool types result in worse computationalperformance and their support might be discontinued in the future.Please use a DataFrame with bool type\n",
      "  warnings.warn(\n"
     ]
    },
    {
     "data": {
      "text/plain": "                              antecedents  \\\n8472  (SATURACAO, DOSE_2_COV, FATOR_RISC)   \n8489             (CARDIOPATI, VACINA_COV)   \n8234   (DISPNEIA, DOSE_2_COV, FATOR_RISC)   \n8247             (CARDIOPATI, VACINA_COV)   \n8442  (DESC_RESP, DOSE_2_COV, FATOR_RISC)   \n8459             (CARDIOPATI, VACINA_COV)   \n8456             (DOSE_2_COV, FATOR_RISC)   \n8445  (CARDIOPATI, DESC_RESP, VACINA_COV)   \n8473  (SATURACAO, VACINA_COV, FATOR_RISC)   \n8488             (CARDIOPATI, DOSE_2_COV)   \n5224             (DOSE_2_COV, FATOR_RISC)   \n5221             (CARDIOPATI, VACINA_COV)   \n8486             (DOSE_2_COV, FATOR_RISC)   \n8475  (CARDIOPATI, SATURACAO, VACINA_COV)   \n7549      (CARDIOPATI, TOSSE, VACINA_COV)   \n7552             (DOSE_2_COV, FATOR_RISC)   \n8243             (DOSE_2_COV, FATOR_RISC)   \n8238   (CARDIOPATI, DISPNEIA, VACINA_COV)   \n8520              (OUT_MORBI, VACINA_COV)   \n8501  (SATURACAO, DOSE_2_COV, FATOR_RISC)   \n\n                              consequents  antecedent support  \\\n8472             (CARDIOPATI, VACINA_COV)            0.134928   \n8489  (SATURACAO, DOSE_2_COV, FATOR_RISC)            0.132975   \n8234             (CARDIOPATI, VACINA_COV)            0.149386   \n8247   (DISPNEIA, DOSE_2_COV, FATOR_RISC)            0.132975   \n8442             (CARDIOPATI, VACINA_COV)            0.114574   \n8459  (DESC_RESP, DOSE_2_COV, FATOR_RISC)            0.132975   \n8456  (CARDIOPATI, DESC_RESP, VACINA_COV)            0.209621   \n8445             (DOSE_2_COV, FATOR_RISC)            0.073942   \n8473             (CARDIOPATI, DOSE_2_COV)            0.168125   \n8488  (SATURACAO, VACINA_COV, FATOR_RISC)            0.109692   \n5224             (CARDIOPATI, VACINA_COV)            0.209621   \n5221             (DOSE_2_COV, FATOR_RISC)            0.132975   \n8486  (CARDIOPATI, SATURACAO, VACINA_COV)            0.209621   \n8475             (DOSE_2_COV, FATOR_RISC)            0.088362   \n7549             (DOSE_2_COV, FATOR_RISC)            0.077810   \n7552      (CARDIOPATI, TOSSE, VACINA_COV)            0.209621   \n8243   (CARDIOPATI, DISPNEIA, VACINA_COV)            0.209621   \n8238             (DOSE_2_COV, FATOR_RISC)            0.097450   \n8520  (SATURACAO, DOSE_2_COV, FATOR_RISC)            0.114424   \n8501              (OUT_MORBI, VACINA_COV)            0.134928   \n\n      consequent support   support  confidence      lift  leverage  conviction  \n8472            0.132975  0.072402    0.536599  4.035327  0.054460    1.871003  \n8489            0.134928  0.072402    0.544479  4.035327  0.054460    1.899082  \n8234            0.132975  0.079763    0.533937  4.015306  0.059898    1.860315  \n8247            0.149386  0.079763    0.599831  4.015306  0.059898    2.125635  \n8442            0.132975  0.060949    0.531957  4.000417  0.045713    1.852446  \n8459            0.114574  0.060949    0.458345  4.000417  0.045713    1.634668  \n8456            0.073942  0.060949    0.290756  3.932220  0.045449    1.305697  \n8445            0.209621  0.060949    0.824276  3.932220  0.045449    4.497850  \n8473            0.109692  0.072402    0.430646  3.925936  0.053960    1.563714  \n8488            0.168125  0.072402    0.660048  3.925936  0.053960    2.447036  \n5224            0.132975  0.109392    0.521856  3.924457  0.081518    1.813313  \n5221            0.209621  0.109392    0.822649  3.924457  0.081518    4.456579  \n8486            0.088362  0.072402    0.345396  3.908860  0.053880    1.392655  \n8475            0.209621  0.072402    0.819380  3.908860  0.053880    4.375910  \n7549            0.209621  0.063690    0.818533  3.904821  0.047379    4.355492  \n7552            0.077810  0.063690    0.303834  3.904821  0.047379    1.324669  \n8243            0.097450  0.079763    0.380509  3.904651  0.059335    1.456921  \n8238            0.209621  0.079763    0.818497  3.904651  0.059335    4.354635  \n8520            0.134928  0.060235    0.526419  3.901481  0.044796    1.826663  \n8501            0.114424  0.060235    0.446424  3.901481  0.044796    1.599736  ",
      "text/html": "<div>\n<style scoped>\n    .dataframe tbody tr th:only-of-type {\n        vertical-align: middle;\n    }\n\n    .dataframe tbody tr th {\n        vertical-align: top;\n    }\n\n    .dataframe thead th {\n        text-align: right;\n    }\n</style>\n<table border=\"1\" class=\"dataframe\">\n  <thead>\n    <tr style=\"text-align: right;\">\n      <th></th>\n      <th>antecedents</th>\n      <th>consequents</th>\n      <th>antecedent support</th>\n      <th>consequent support</th>\n      <th>support</th>\n      <th>confidence</th>\n      <th>lift</th>\n      <th>leverage</th>\n      <th>conviction</th>\n    </tr>\n  </thead>\n  <tbody>\n    <tr>\n      <th>8472</th>\n      <td>(SATURACAO, DOSE_2_COV, FATOR_RISC)</td>\n      <td>(CARDIOPATI, VACINA_COV)</td>\n      <td>0.134928</td>\n      <td>0.132975</td>\n      <td>0.072402</td>\n      <td>0.536599</td>\n      <td>4.035327</td>\n      <td>0.054460</td>\n      <td>1.871003</td>\n    </tr>\n    <tr>\n      <th>8489</th>\n      <td>(CARDIOPATI, VACINA_COV)</td>\n      <td>(SATURACAO, DOSE_2_COV, FATOR_RISC)</td>\n      <td>0.132975</td>\n      <td>0.134928</td>\n      <td>0.072402</td>\n      <td>0.544479</td>\n      <td>4.035327</td>\n      <td>0.054460</td>\n      <td>1.899082</td>\n    </tr>\n    <tr>\n      <th>8234</th>\n      <td>(DISPNEIA, DOSE_2_COV, FATOR_RISC)</td>\n      <td>(CARDIOPATI, VACINA_COV)</td>\n      <td>0.149386</td>\n      <td>0.132975</td>\n      <td>0.079763</td>\n      <td>0.533937</td>\n      <td>4.015306</td>\n      <td>0.059898</td>\n      <td>1.860315</td>\n    </tr>\n    <tr>\n      <th>8247</th>\n      <td>(CARDIOPATI, VACINA_COV)</td>\n      <td>(DISPNEIA, DOSE_2_COV, FATOR_RISC)</td>\n      <td>0.132975</td>\n      <td>0.149386</td>\n      <td>0.079763</td>\n      <td>0.599831</td>\n      <td>4.015306</td>\n      <td>0.059898</td>\n      <td>2.125635</td>\n    </tr>\n    <tr>\n      <th>8442</th>\n      <td>(DESC_RESP, DOSE_2_COV, FATOR_RISC)</td>\n      <td>(CARDIOPATI, VACINA_COV)</td>\n      <td>0.114574</td>\n      <td>0.132975</td>\n      <td>0.060949</td>\n      <td>0.531957</td>\n      <td>4.000417</td>\n      <td>0.045713</td>\n      <td>1.852446</td>\n    </tr>\n    <tr>\n      <th>8459</th>\n      <td>(CARDIOPATI, VACINA_COV)</td>\n      <td>(DESC_RESP, DOSE_2_COV, FATOR_RISC)</td>\n      <td>0.132975</td>\n      <td>0.114574</td>\n      <td>0.060949</td>\n      <td>0.458345</td>\n      <td>4.000417</td>\n      <td>0.045713</td>\n      <td>1.634668</td>\n    </tr>\n    <tr>\n      <th>8456</th>\n      <td>(DOSE_2_COV, FATOR_RISC)</td>\n      <td>(CARDIOPATI, DESC_RESP, VACINA_COV)</td>\n      <td>0.209621</td>\n      <td>0.073942</td>\n      <td>0.060949</td>\n      <td>0.290756</td>\n      <td>3.932220</td>\n      <td>0.045449</td>\n      <td>1.305697</td>\n    </tr>\n    <tr>\n      <th>8445</th>\n      <td>(CARDIOPATI, DESC_RESP, VACINA_COV)</td>\n      <td>(DOSE_2_COV, FATOR_RISC)</td>\n      <td>0.073942</td>\n      <td>0.209621</td>\n      <td>0.060949</td>\n      <td>0.824276</td>\n      <td>3.932220</td>\n      <td>0.045449</td>\n      <td>4.497850</td>\n    </tr>\n    <tr>\n      <th>8473</th>\n      <td>(SATURACAO, VACINA_COV, FATOR_RISC)</td>\n      <td>(CARDIOPATI, DOSE_2_COV)</td>\n      <td>0.168125</td>\n      <td>0.109692</td>\n      <td>0.072402</td>\n      <td>0.430646</td>\n      <td>3.925936</td>\n      <td>0.053960</td>\n      <td>1.563714</td>\n    </tr>\n    <tr>\n      <th>8488</th>\n      <td>(CARDIOPATI, DOSE_2_COV)</td>\n      <td>(SATURACAO, VACINA_COV, FATOR_RISC)</td>\n      <td>0.109692</td>\n      <td>0.168125</td>\n      <td>0.072402</td>\n      <td>0.660048</td>\n      <td>3.925936</td>\n      <td>0.053960</td>\n      <td>2.447036</td>\n    </tr>\n    <tr>\n      <th>5224</th>\n      <td>(DOSE_2_COV, FATOR_RISC)</td>\n      <td>(CARDIOPATI, VACINA_COV)</td>\n      <td>0.209621</td>\n      <td>0.132975</td>\n      <td>0.109392</td>\n      <td>0.521856</td>\n      <td>3.924457</td>\n      <td>0.081518</td>\n      <td>1.813313</td>\n    </tr>\n    <tr>\n      <th>5221</th>\n      <td>(CARDIOPATI, VACINA_COV)</td>\n      <td>(DOSE_2_COV, FATOR_RISC)</td>\n      <td>0.132975</td>\n      <td>0.209621</td>\n      <td>0.109392</td>\n      <td>0.822649</td>\n      <td>3.924457</td>\n      <td>0.081518</td>\n      <td>4.456579</td>\n    </tr>\n    <tr>\n      <th>8486</th>\n      <td>(DOSE_2_COV, FATOR_RISC)</td>\n      <td>(CARDIOPATI, SATURACAO, VACINA_COV)</td>\n      <td>0.209621</td>\n      <td>0.088362</td>\n      <td>0.072402</td>\n      <td>0.345396</td>\n      <td>3.908860</td>\n      <td>0.053880</td>\n      <td>1.392655</td>\n    </tr>\n    <tr>\n      <th>8475</th>\n      <td>(CARDIOPATI, SATURACAO, VACINA_COV)</td>\n      <td>(DOSE_2_COV, FATOR_RISC)</td>\n      <td>0.088362</td>\n      <td>0.209621</td>\n      <td>0.072402</td>\n      <td>0.819380</td>\n      <td>3.908860</td>\n      <td>0.053880</td>\n      <td>4.375910</td>\n    </tr>\n    <tr>\n      <th>7549</th>\n      <td>(CARDIOPATI, TOSSE, VACINA_COV)</td>\n      <td>(DOSE_2_COV, FATOR_RISC)</td>\n      <td>0.077810</td>\n      <td>0.209621</td>\n      <td>0.063690</td>\n      <td>0.818533</td>\n      <td>3.904821</td>\n      <td>0.047379</td>\n      <td>4.355492</td>\n    </tr>\n    <tr>\n      <th>7552</th>\n      <td>(DOSE_2_COV, FATOR_RISC)</td>\n      <td>(CARDIOPATI, TOSSE, VACINA_COV)</td>\n      <td>0.209621</td>\n      <td>0.077810</td>\n      <td>0.063690</td>\n      <td>0.303834</td>\n      <td>3.904821</td>\n      <td>0.047379</td>\n      <td>1.324669</td>\n    </tr>\n    <tr>\n      <th>8243</th>\n      <td>(DOSE_2_COV, FATOR_RISC)</td>\n      <td>(CARDIOPATI, DISPNEIA, VACINA_COV)</td>\n      <td>0.209621</td>\n      <td>0.097450</td>\n      <td>0.079763</td>\n      <td>0.380509</td>\n      <td>3.904651</td>\n      <td>0.059335</td>\n      <td>1.456921</td>\n    </tr>\n    <tr>\n      <th>8238</th>\n      <td>(CARDIOPATI, DISPNEIA, VACINA_COV)</td>\n      <td>(DOSE_2_COV, FATOR_RISC)</td>\n      <td>0.097450</td>\n      <td>0.209621</td>\n      <td>0.079763</td>\n      <td>0.818497</td>\n      <td>3.904651</td>\n      <td>0.059335</td>\n      <td>4.354635</td>\n    </tr>\n    <tr>\n      <th>8520</th>\n      <td>(OUT_MORBI, VACINA_COV)</td>\n      <td>(SATURACAO, DOSE_2_COV, FATOR_RISC)</td>\n      <td>0.114424</td>\n      <td>0.134928</td>\n      <td>0.060235</td>\n      <td>0.526419</td>\n      <td>3.901481</td>\n      <td>0.044796</td>\n      <td>1.826663</td>\n    </tr>\n    <tr>\n      <th>8501</th>\n      <td>(SATURACAO, DOSE_2_COV, FATOR_RISC)</td>\n      <td>(OUT_MORBI, VACINA_COV)</td>\n      <td>0.134928</td>\n      <td>0.114424</td>\n      <td>0.060235</td>\n      <td>0.446424</td>\n      <td>3.901481</td>\n      <td>0.044796</td>\n      <td>1.599736</td>\n    </tr>\n  </tbody>\n</table>\n</div>"
     },
     "execution_count": 132,
     "metadata": {},
     "output_type": "execute_result"
    }
   ],
   "source": [
    "# Calculating Support\n",
    "prods_sup=mlxtend.frequent_patterns.apriori(not_specific,\n",
    "                                            min_support=0.05,\n",
    "                                            max_len=5,\n",
    "                                            use_colnames=True)\n",
    "sup_not_spec = prods_sup.sort_values(by='support', ascending=False).head(10).reset_index(drop=True)\n",
    "# Create association Rules\n",
    "rules = association_rules(prods_sup, metric=\"lift\", min_threshold=0.05)\n",
    "# Sort association Rules\n",
    "rules = rules.sort_values(by='lift', ascending=False).head(20)\n",
    "# Print\n",
    "rules.head(20)"
   ],
   "metadata": {
    "collapsed": false
   }
  },
  {
   "cell_type": "markdown",
   "source": [
    "For SRAG *Not Specific*, the top associated symptoms are: SATURACAO, FATOR_RISC, CARDIOPATI, VACINA_COV, DOSE_2_COV."
   ],
   "metadata": {
    "collapsed": false
   }
  },
  {
   "cell_type": "code",
   "execution_count": 133,
   "outputs": [
    {
     "data": {
      "text/plain": "    support                  itemsets   support               itemsets  \\\n0  0.796161                   (TOSSE)  0.694841             (DISPNEIA)   \n1  0.624314                   (FEBRE)  0.675213                (TOSSE)   \n2  0.566728                (DISPNEIA)  0.645985            (SATURACAO)   \n3  0.544790              (VACINA_COV)  0.586376           (FATOR_RISC)   \n4  0.538391            (TOSSE, FEBRE)  0.546115              (CS_SEXO)   \n5  0.522852              (FATOR_RISC)  0.543464            (DESC_RESP)   \n6  0.476234               (DESC_RESP)  0.531180  (SATURACAO, DISPNEIA)   \n7  0.463437               (SATURACAO)  0.529912                (FEBRE)   \n8  0.460695         (DISPNEIA, TOSSE)  0.499531      (DISPNEIA, TOSSE)   \n9  0.455210  (DOSE_2_COV, VACINA_COV)  0.461328  (DESC_RESP, DISPNEIA)   \n\n    support               itemsets   support               itemsets   support  \\\n0  0.860064                (TOSSE)  0.607229                (TOSSE)  0.636487   \n1  0.637438            (DESC_RESP)  0.585542           (FATOR_RISC)  0.634308   \n2  0.631531             (DISPNEIA)  0.575904             (DISPNEIA)  0.535018   \n3  0.623353                (FEBRE)  0.515663            (SATURACAO)  0.534342   \n4  0.558837     (DESC_RESP, TOSSE)  0.510843              (CS_SEXO)  0.516016   \n5  0.555202      (DISPNEIA, TOSSE)  0.503614            (DESC_RESP)  0.513876   \n6  0.547933         (TOSSE, FEBRE)  0.448193                (FEBRE)  0.455744   \n7  0.544298            (SATURACAO)  0.395181      (DISPNEIA, TOSSE)  0.435803   \n8  0.543389              (CS_SEXO)  0.390361           (VACINA_COV)  0.432236   \n9  0.480691  (DESC_RESP, DISPNEIA)  0.380723  (SATURACAO, DISPNEIA)  0.419505   \n\n                itemsets  \n0                (TOSSE)  \n1             (DISPNEIA)  \n2           (FATOR_RISC)  \n3            (SATURACAO)  \n4            (DESC_RESP)  \n5              (CS_SEXO)  \n6                (FEBRE)  \n7      (DISPNEIA, TOSSE)  \n8  (SATURACAO, DISPNEIA)  \n9  (DESC_RESP, DISPNEIA)  ",
      "text/html": "<div>\n<style scoped>\n    .dataframe tbody tr th:only-of-type {\n        vertical-align: middle;\n    }\n\n    .dataframe tbody tr th {\n        vertical-align: top;\n    }\n\n    .dataframe thead th {\n        text-align: right;\n    }\n</style>\n<table border=\"1\" class=\"dataframe\">\n  <thead>\n    <tr style=\"text-align: right;\">\n      <th></th>\n      <th>support</th>\n      <th>itemsets</th>\n      <th>support</th>\n      <th>itemsets</th>\n      <th>support</th>\n      <th>itemsets</th>\n      <th>support</th>\n      <th>itemsets</th>\n      <th>support</th>\n      <th>itemsets</th>\n    </tr>\n  </thead>\n  <tbody>\n    <tr>\n      <th>0</th>\n      <td>0.796161</td>\n      <td>(TOSSE)</td>\n      <td>0.694841</td>\n      <td>(DISPNEIA)</td>\n      <td>0.860064</td>\n      <td>(TOSSE)</td>\n      <td>0.607229</td>\n      <td>(TOSSE)</td>\n      <td>0.636487</td>\n      <td>(TOSSE)</td>\n    </tr>\n    <tr>\n      <th>1</th>\n      <td>0.624314</td>\n      <td>(FEBRE)</td>\n      <td>0.675213</td>\n      <td>(TOSSE)</td>\n      <td>0.637438</td>\n      <td>(DESC_RESP)</td>\n      <td>0.585542</td>\n      <td>(FATOR_RISC)</td>\n      <td>0.634308</td>\n      <td>(DISPNEIA)</td>\n    </tr>\n    <tr>\n      <th>2</th>\n      <td>0.566728</td>\n      <td>(DISPNEIA)</td>\n      <td>0.645985</td>\n      <td>(SATURACAO)</td>\n      <td>0.631531</td>\n      <td>(DISPNEIA)</td>\n      <td>0.575904</td>\n      <td>(DISPNEIA)</td>\n      <td>0.535018</td>\n      <td>(FATOR_RISC)</td>\n    </tr>\n    <tr>\n      <th>3</th>\n      <td>0.544790</td>\n      <td>(VACINA_COV)</td>\n      <td>0.586376</td>\n      <td>(FATOR_RISC)</td>\n      <td>0.623353</td>\n      <td>(FEBRE)</td>\n      <td>0.515663</td>\n      <td>(SATURACAO)</td>\n      <td>0.534342</td>\n      <td>(SATURACAO)</td>\n    </tr>\n    <tr>\n      <th>4</th>\n      <td>0.538391</td>\n      <td>(TOSSE, FEBRE)</td>\n      <td>0.546115</td>\n      <td>(CS_SEXO)</td>\n      <td>0.558837</td>\n      <td>(DESC_RESP, TOSSE)</td>\n      <td>0.510843</td>\n      <td>(CS_SEXO)</td>\n      <td>0.516016</td>\n      <td>(DESC_RESP)</td>\n    </tr>\n    <tr>\n      <th>5</th>\n      <td>0.522852</td>\n      <td>(FATOR_RISC)</td>\n      <td>0.543464</td>\n      <td>(DESC_RESP)</td>\n      <td>0.555202</td>\n      <td>(DISPNEIA, TOSSE)</td>\n      <td>0.503614</td>\n      <td>(DESC_RESP)</td>\n      <td>0.513876</td>\n      <td>(CS_SEXO)</td>\n    </tr>\n    <tr>\n      <th>6</th>\n      <td>0.476234</td>\n      <td>(DESC_RESP)</td>\n      <td>0.531180</td>\n      <td>(SATURACAO, DISPNEIA)</td>\n      <td>0.547933</td>\n      <td>(TOSSE, FEBRE)</td>\n      <td>0.448193</td>\n      <td>(FEBRE)</td>\n      <td>0.455744</td>\n      <td>(FEBRE)</td>\n    </tr>\n    <tr>\n      <th>7</th>\n      <td>0.463437</td>\n      <td>(SATURACAO)</td>\n      <td>0.529912</td>\n      <td>(FEBRE)</td>\n      <td>0.544298</td>\n      <td>(SATURACAO)</td>\n      <td>0.395181</td>\n      <td>(DISPNEIA, TOSSE)</td>\n      <td>0.435803</td>\n      <td>(DISPNEIA, TOSSE)</td>\n    </tr>\n    <tr>\n      <th>8</th>\n      <td>0.460695</td>\n      <td>(DISPNEIA, TOSSE)</td>\n      <td>0.499531</td>\n      <td>(DISPNEIA, TOSSE)</td>\n      <td>0.543389</td>\n      <td>(CS_SEXO)</td>\n      <td>0.390361</td>\n      <td>(VACINA_COV)</td>\n      <td>0.432236</td>\n      <td>(SATURACAO, DISPNEIA)</td>\n    </tr>\n    <tr>\n      <th>9</th>\n      <td>0.455210</td>\n      <td>(DOSE_2_COV, VACINA_COV)</td>\n      <td>0.461328</td>\n      <td>(DESC_RESP, DISPNEIA)</td>\n      <td>0.480691</td>\n      <td>(DESC_RESP, DISPNEIA)</td>\n      <td>0.380723</td>\n      <td>(SATURACAO, DISPNEIA)</td>\n      <td>0.419505</td>\n      <td>(DESC_RESP, DISPNEIA)</td>\n    </tr>\n  </tbody>\n</table>\n</div>"
     },
     "execution_count": 133,
     "metadata": {},
     "output_type": "execute_result"
    }
   ],
   "source": [
    "pd.concat([sup_influenza, sup_covid, sup_other_vir, sup_other_agent, sup_not_spec], axis=1)"
   ],
   "metadata": {
    "collapsed": false
   }
  },
  {
   "cell_type": "code",
   "execution_count": 71,
   "outputs": [],
   "source": [
    "def symptoms(dtf, srag):\n",
    "    \"Input a dataset with the symptoms and the respiratory virus to be checked and the functions will calculate the percentage of the symptoms are associated with each disease\"\n",
    "    if srag == 'influenza':\n",
    "        # columns associated with the virus \"influenza\"\n",
    "        cols_d = ['UTI', 'SUPORT_VEN', 'DESC_RESP', 'FADIGA', 'DISPNEIA', 'DIABETES', 'CARDIOPATI']\n",
    "        # slice the dataset\n",
    "        dtf2 = dtf[cols_d].copy()\n",
    "        #For SRAG Not Specific, the top associated symptoms are: SATURACAO, FATOR_RISC, CARDIOPATI, VACINA_COV.\n",
    "        symps = (dtf2 == 1).sum(axis=1)/7\n",
    "\n",
    "    # columns associated with the virus \"other_virus\"\n",
    "    elif srag == 'other_virus':\n",
    "        cols_d = ['DISPNEIA', 'VACINA_COV', 'DOSE_2_COV', 'TOSSE']\n",
    "        # slice the dataset\n",
    "        dtf2 = dtf[cols_d].copy()\n",
    "        #For SRAG Not Specific, the top associated symptoms are: SATURACAO, FATOR_RISC, CARDIOPATI, VACINA_COV.\n",
    "        symps = (dtf2 == 1).sum(axis=1)/4\n",
    "\n",
    "    # columns associated with the virus \"other_agent\"\n",
    "    elif srag == 'other_agent':\n",
    "        cols_d = ['UTI', 'SUPORT_VEN', 'DOSE_2_COV', 'DESC_RESP']\n",
    "        # slice the dataset\n",
    "        dtf2 = dtf[cols_d].copy()\n",
    "        #For SRAG Not Specific, the top associated symptoms are: SATURACAO, FATOR_RISC, CARDIOPATI, VACINA_COV.\n",
    "        symps = (dtf2 == 1).sum(axis=1)/4\n",
    "\n",
    "    # columns associated with the virus \"Not Specific\"\n",
    "    elif srag == 'not_specific':\n",
    "        cols_d = ['SATURACAO', 'FATOR_RISC', 'CARDIOPATI', 'VACINA_COV', 'DOSE_2_COV']\n",
    "        # slice the dataset\n",
    "        dtf2 = dtf[cols_d].copy()\n",
    "        #For SRAG Not Specific, the top associated symptoms are: SATURACAO, FATOR_RISC, CARDIOPATI, VACINA_COV.\n",
    "        symps = (dtf2 == 1).sum(axis=1)/5\n",
    "\n",
    "    # columns associated with the virus \"COVID\"\n",
    "    elif srag == 'covid':\n",
    "        cols_d = ['PERD_OLFT', 'PERD_PALA', 'FEBRE', 'DISPNEIA']\n",
    "        # slice the dataset\n",
    "        dtf2 = dtf[cols_d].copy()\n",
    "        #For SRAG Not Specific, the top associated symptoms are: SATURACAO, FATOR_RISC, CARDIOPATI, VACINA_COV.\n",
    "        symps = (dtf2 == 1).sum(axis=1)/4\n",
    "\n",
    "    return symps"
   ],
   "metadata": {
    "collapsed": false
   }
  },
  {
   "cell_type": "code",
   "execution_count": 109,
   "outputs": [],
   "source": [
    "df_apriori['influenza_symp'] = symptoms(df_apriori, srag='influenza')\n",
    "df_apriori['other_agent_symp'] = symptoms(df_apriori, srag='other_agent')\n",
    "df_apriori['other_virus_symp'] = symptoms(df_apriori, srag='other_virus')\n",
    "df_apriori['not_spec_symp'] = symptoms(df_apriori, srag='not_specific')\n",
    "df_apriori['covid_symp'] = symptoms(df_apriori, srag='covid')"
   ],
   "metadata": {
    "collapsed": false
   }
  },
  {
   "cell_type": "code",
   "execution_count": 135,
   "outputs": [
    {
     "data": {
      "text/plain": "         CS_SEXO  NOSOCOMIAL  FEBRE  TOSSE  GARGANTA  DISPNEIA  DESC_RESP  \\\n1271089        0         0.0    1.0    1.0       0.0       1.0        1.0   \n1264232        1         0.0    0.0    1.0       0.0       1.0        1.0   \n1278071        0         0.0    0.0    0.0       0.0       1.0        1.0   \n1282299        1         0.0    0.0    1.0       0.0       0.0        1.0   \n1271776        1         0.0    1.0    1.0       0.0       1.0        0.0   \n...          ...         ...    ...    ...       ...       ...        ...   \n1275839        1         0.0    1.0    1.0       0.0       1.0        0.0   \n1282642        1         0.0    0.0    1.0       0.0       1.0        1.0   \n1280965        1         0.0    1.0    0.0       0.0       0.0        1.0   \n1275318        1         0.0    0.0    1.0       1.0       1.0        1.0   \n1273595        1         0.0    0.0    1.0       0.0       0.0        1.0   \n\n         SATURACAO  DIARREIA  VOMITO  ...  PERD_PALA  VACINA_COV  DOSE_2_COV  \\\n1271089        1.0       0.0     0.0  ...        0.0         0.0           0   \n1264232        1.0       0.0     0.0  ...        0.0         0.0           0   \n1278071        0.0       0.0     0.0  ...        0.0         0.0           0   \n1282299        0.0       0.0     0.0  ...        0.0         0.0           0   \n1271776        0.0       1.0     0.0  ...        0.0         0.0           0   \n...            ...       ...     ...  ...        ...         ...         ...   \n1275839        0.0       0.0     0.0  ...        0.0         0.0           0   \n1282642        1.0       0.0     0.0  ...        0.0         0.0           0   \n1280965        1.0       0.0     0.0  ...        0.0         0.0           0   \n1275318        1.0       0.0     0.0  ...        0.0         0.0           0   \n1273595        1.0       1.0     0.0  ...        0.0         0.0           0   \n\n         DOSE_REF  y_  influenza_symp  other_agent_symp  other_virus_symp  \\\n1271089         0   2        0.285714              0.25              0.50   \n1264232         0   2        0.428571              0.50              0.50   \n1278071         0   2        0.285714              0.25              0.25   \n1282299         0   2        0.142857              0.25              0.25   \n1271776         0   2        0.142857              0.00              0.50   \n...           ...  ..             ...               ...               ...   \n1275839         0   2        0.142857              0.00              0.50   \n1282642         0   2        0.428571              0.50              0.50   \n1280965         0   2        0.285714              0.50              0.00   \n1275318         0   2        0.428571              0.50              0.50   \n1273595         0   2        0.142857              0.25              0.25   \n\n         not_spec_symp  covid_symp  \n1271089            0.2        0.50  \n1264232            0.2        0.25  \n1278071            0.0        0.25  \n1282299            0.2        0.00  \n1271776            0.2        0.50  \n...                ...         ...  \n1275839            0.0        0.50  \n1282642            0.2        0.25  \n1280965            0.4        0.25  \n1275318            0.2        0.25  \n1273595            0.2        0.00  \n\n[2201 rows x 41 columns]",
      "text/html": "<div>\n<style scoped>\n    .dataframe tbody tr th:only-of-type {\n        vertical-align: middle;\n    }\n\n    .dataframe tbody tr th {\n        vertical-align: top;\n    }\n\n    .dataframe thead th {\n        text-align: right;\n    }\n</style>\n<table border=\"1\" class=\"dataframe\">\n  <thead>\n    <tr style=\"text-align: right;\">\n      <th></th>\n      <th>CS_SEXO</th>\n      <th>NOSOCOMIAL</th>\n      <th>FEBRE</th>\n      <th>TOSSE</th>\n      <th>GARGANTA</th>\n      <th>DISPNEIA</th>\n      <th>DESC_RESP</th>\n      <th>SATURACAO</th>\n      <th>DIARREIA</th>\n      <th>VOMITO</th>\n      <th>...</th>\n      <th>PERD_PALA</th>\n      <th>VACINA_COV</th>\n      <th>DOSE_2_COV</th>\n      <th>DOSE_REF</th>\n      <th>y_</th>\n      <th>influenza_symp</th>\n      <th>other_agent_symp</th>\n      <th>other_virus_symp</th>\n      <th>not_spec_symp</th>\n      <th>covid_symp</th>\n    </tr>\n  </thead>\n  <tbody>\n    <tr>\n      <th>1271089</th>\n      <td>0</td>\n      <td>0.0</td>\n      <td>1.0</td>\n      <td>1.0</td>\n      <td>0.0</td>\n      <td>1.0</td>\n      <td>1.0</td>\n      <td>1.0</td>\n      <td>0.0</td>\n      <td>0.0</td>\n      <td>...</td>\n      <td>0.0</td>\n      <td>0.0</td>\n      <td>0</td>\n      <td>0</td>\n      <td>2</td>\n      <td>0.285714</td>\n      <td>0.25</td>\n      <td>0.50</td>\n      <td>0.2</td>\n      <td>0.50</td>\n    </tr>\n    <tr>\n      <th>1264232</th>\n      <td>1</td>\n      <td>0.0</td>\n      <td>0.0</td>\n      <td>1.0</td>\n      <td>0.0</td>\n      <td>1.0</td>\n      <td>1.0</td>\n      <td>1.0</td>\n      <td>0.0</td>\n      <td>0.0</td>\n      <td>...</td>\n      <td>0.0</td>\n      <td>0.0</td>\n      <td>0</td>\n      <td>0</td>\n      <td>2</td>\n      <td>0.428571</td>\n      <td>0.50</td>\n      <td>0.50</td>\n      <td>0.2</td>\n      <td>0.25</td>\n    </tr>\n    <tr>\n      <th>1278071</th>\n      <td>0</td>\n      <td>0.0</td>\n      <td>0.0</td>\n      <td>0.0</td>\n      <td>0.0</td>\n      <td>1.0</td>\n      <td>1.0</td>\n      <td>0.0</td>\n      <td>0.0</td>\n      <td>0.0</td>\n      <td>...</td>\n      <td>0.0</td>\n      <td>0.0</td>\n      <td>0</td>\n      <td>0</td>\n      <td>2</td>\n      <td>0.285714</td>\n      <td>0.25</td>\n      <td>0.25</td>\n      <td>0.0</td>\n      <td>0.25</td>\n    </tr>\n    <tr>\n      <th>1282299</th>\n      <td>1</td>\n      <td>0.0</td>\n      <td>0.0</td>\n      <td>1.0</td>\n      <td>0.0</td>\n      <td>0.0</td>\n      <td>1.0</td>\n      <td>0.0</td>\n      <td>0.0</td>\n      <td>0.0</td>\n      <td>...</td>\n      <td>0.0</td>\n      <td>0.0</td>\n      <td>0</td>\n      <td>0</td>\n      <td>2</td>\n      <td>0.142857</td>\n      <td>0.25</td>\n      <td>0.25</td>\n      <td>0.2</td>\n      <td>0.00</td>\n    </tr>\n    <tr>\n      <th>1271776</th>\n      <td>1</td>\n      <td>0.0</td>\n      <td>1.0</td>\n      <td>1.0</td>\n      <td>0.0</td>\n      <td>1.0</td>\n      <td>0.0</td>\n      <td>0.0</td>\n      <td>1.0</td>\n      <td>0.0</td>\n      <td>...</td>\n      <td>0.0</td>\n      <td>0.0</td>\n      <td>0</td>\n      <td>0</td>\n      <td>2</td>\n      <td>0.142857</td>\n      <td>0.00</td>\n      <td>0.50</td>\n      <td>0.2</td>\n      <td>0.50</td>\n    </tr>\n    <tr>\n      <th>...</th>\n      <td>...</td>\n      <td>...</td>\n      <td>...</td>\n      <td>...</td>\n      <td>...</td>\n      <td>...</td>\n      <td>...</td>\n      <td>...</td>\n      <td>...</td>\n      <td>...</td>\n      <td>...</td>\n      <td>...</td>\n      <td>...</td>\n      <td>...</td>\n      <td>...</td>\n      <td>...</td>\n      <td>...</td>\n      <td>...</td>\n      <td>...</td>\n      <td>...</td>\n      <td>...</td>\n    </tr>\n    <tr>\n      <th>1275839</th>\n      <td>1</td>\n      <td>0.0</td>\n      <td>1.0</td>\n      <td>1.0</td>\n      <td>0.0</td>\n      <td>1.0</td>\n      <td>0.0</td>\n      <td>0.0</td>\n      <td>0.0</td>\n      <td>0.0</td>\n      <td>...</td>\n      <td>0.0</td>\n      <td>0.0</td>\n      <td>0</td>\n      <td>0</td>\n      <td>2</td>\n      <td>0.142857</td>\n      <td>0.00</td>\n      <td>0.50</td>\n      <td>0.0</td>\n      <td>0.50</td>\n    </tr>\n    <tr>\n      <th>1282642</th>\n      <td>1</td>\n      <td>0.0</td>\n      <td>0.0</td>\n      <td>1.0</td>\n      <td>0.0</td>\n      <td>1.0</td>\n      <td>1.0</td>\n      <td>1.0</td>\n      <td>0.0</td>\n      <td>0.0</td>\n      <td>...</td>\n      <td>0.0</td>\n      <td>0.0</td>\n      <td>0</td>\n      <td>0</td>\n      <td>2</td>\n      <td>0.428571</td>\n      <td>0.50</td>\n      <td>0.50</td>\n      <td>0.2</td>\n      <td>0.25</td>\n    </tr>\n    <tr>\n      <th>1280965</th>\n      <td>1</td>\n      <td>0.0</td>\n      <td>1.0</td>\n      <td>0.0</td>\n      <td>0.0</td>\n      <td>0.0</td>\n      <td>1.0</td>\n      <td>1.0</td>\n      <td>0.0</td>\n      <td>0.0</td>\n      <td>...</td>\n      <td>0.0</td>\n      <td>0.0</td>\n      <td>0</td>\n      <td>0</td>\n      <td>2</td>\n      <td>0.285714</td>\n      <td>0.50</td>\n      <td>0.00</td>\n      <td>0.4</td>\n      <td>0.25</td>\n    </tr>\n    <tr>\n      <th>1275318</th>\n      <td>1</td>\n      <td>0.0</td>\n      <td>0.0</td>\n      <td>1.0</td>\n      <td>1.0</td>\n      <td>1.0</td>\n      <td>1.0</td>\n      <td>1.0</td>\n      <td>0.0</td>\n      <td>0.0</td>\n      <td>...</td>\n      <td>0.0</td>\n      <td>0.0</td>\n      <td>0</td>\n      <td>0</td>\n      <td>2</td>\n      <td>0.428571</td>\n      <td>0.50</td>\n      <td>0.50</td>\n      <td>0.2</td>\n      <td>0.25</td>\n    </tr>\n    <tr>\n      <th>1273595</th>\n      <td>1</td>\n      <td>0.0</td>\n      <td>0.0</td>\n      <td>1.0</td>\n      <td>0.0</td>\n      <td>0.0</td>\n      <td>1.0</td>\n      <td>1.0</td>\n      <td>1.0</td>\n      <td>0.0</td>\n      <td>...</td>\n      <td>0.0</td>\n      <td>0.0</td>\n      <td>0</td>\n      <td>0</td>\n      <td>2</td>\n      <td>0.142857</td>\n      <td>0.25</td>\n      <td>0.25</td>\n      <td>0.2</td>\n      <td>0.00</td>\n    </tr>\n  </tbody>\n</table>\n<p>2201 rows × 41 columns</p>\n</div>"
     },
     "execution_count": 135,
     "metadata": {},
     "output_type": "execute_result"
    }
   ],
   "source": [
    "df_apriori.query('y_ == 2')"
   ],
   "metadata": {
    "collapsed": false
   }
  },
  {
   "cell_type": "markdown",
   "source": [
    "# Feature Selection"
   ],
   "metadata": {
    "collapsed": false
   }
  },
  {
   "cell_type": "code",
   "execution_count": 179,
   "outputs": [
    {
     "data": {
      "text/plain": "            variable     chi2_stat        p_value\n28  other_agent_symp  7.284256e+02  2.437442e-156\n6           GARGANTA  7.469664e+02  2.353671e-160\n29  other_virus_symp  9.035257e+02  2.869152e-194\n13         OUTRO_SIN  1.137069e+03  6.985317e-245\n11          DIARREIA  1.403901e+03  9.857717e-303\n0            SEM_NOT  4.805140e+05   0.000000e+00\n20        SUPORT_VEN  2.422383e+04   0.000000e+00\n21           DOR_ABD  1.581335e+03   0.000000e+00\n22            FADIGA  3.071832e+03   0.000000e+00\n23          TOMO_RES  1.775052e+05   0.000000e+00\n25        DOSE_2_COV  1.843296e+04   0.000000e+00\n24        VACINA_COV  9.355656e+04   0.000000e+00\n18            VACINA  1.204645e+04   0.000000e+00\n26          DOSE_REF  6.843020e+03   0.000000e+00\n27    influenza_symp  4.445968e+03   0.000000e+00\n30     not_spec_symp  2.890199e+03   0.000000e+00\n31        covid_symp  3.790500e+03   0.000000e+00\n19               UTI  2.403640e+04   0.000000e+00\n16         OBESIDADE  1.428941e+04   0.000000e+00\n17         MORB_DESC  6.963438e+07   0.000000e+00\n1            SEM_PRI  8.412865e+05   0.000000e+00\n15              ASMA  6.851707e+03   0.000000e+00\n14         OUTRO_DES  4.063333e+07   0.000000e+00\n12            VOMITO  3.889238e+03   0.000000e+00\n10         SATURACAO  1.531012e+04   0.000000e+00\n9          DESC_RESP  5.628502e+03   0.000000e+00\n8           DISPNEIA  5.988522e+03   0.000000e+00\n7         TP_ANTIVIR  4.126372e+03   0.000000e+00\n5              TOSSE  8.792035e+03   0.000000e+00\n4              FEBRE  5.815711e+03   0.000000e+00\n3         NOSOCOMIAL  3.080771e+03   0.000000e+00\n2          SG_UF_NOT  1.925188e+03   0.000000e+00\n32           OLF_PLD  1.831523e+04   0.000000e+00",
      "text/html": "<div>\n<style scoped>\n    .dataframe tbody tr th:only-of-type {\n        vertical-align: middle;\n    }\n\n    .dataframe tbody tr th {\n        vertical-align: top;\n    }\n\n    .dataframe thead th {\n        text-align: right;\n    }\n</style>\n<table border=\"1\" class=\"dataframe\">\n  <thead>\n    <tr style=\"text-align: right;\">\n      <th></th>\n      <th>variable</th>\n      <th>chi2_stat</th>\n      <th>p_value</th>\n    </tr>\n  </thead>\n  <tbody>\n    <tr>\n      <th>28</th>\n      <td>other_agent_symp</td>\n      <td>7.284256e+02</td>\n      <td>2.437442e-156</td>\n    </tr>\n    <tr>\n      <th>6</th>\n      <td>GARGANTA</td>\n      <td>7.469664e+02</td>\n      <td>2.353671e-160</td>\n    </tr>\n    <tr>\n      <th>29</th>\n      <td>other_virus_symp</td>\n      <td>9.035257e+02</td>\n      <td>2.869152e-194</td>\n    </tr>\n    <tr>\n      <th>13</th>\n      <td>OUTRO_SIN</td>\n      <td>1.137069e+03</td>\n      <td>6.985317e-245</td>\n    </tr>\n    <tr>\n      <th>11</th>\n      <td>DIARREIA</td>\n      <td>1.403901e+03</td>\n      <td>9.857717e-303</td>\n    </tr>\n    <tr>\n      <th>0</th>\n      <td>SEM_NOT</td>\n      <td>4.805140e+05</td>\n      <td>0.000000e+00</td>\n    </tr>\n    <tr>\n      <th>20</th>\n      <td>SUPORT_VEN</td>\n      <td>2.422383e+04</td>\n      <td>0.000000e+00</td>\n    </tr>\n    <tr>\n      <th>21</th>\n      <td>DOR_ABD</td>\n      <td>1.581335e+03</td>\n      <td>0.000000e+00</td>\n    </tr>\n    <tr>\n      <th>22</th>\n      <td>FADIGA</td>\n      <td>3.071832e+03</td>\n      <td>0.000000e+00</td>\n    </tr>\n    <tr>\n      <th>23</th>\n      <td>TOMO_RES</td>\n      <td>1.775052e+05</td>\n      <td>0.000000e+00</td>\n    </tr>\n    <tr>\n      <th>25</th>\n      <td>DOSE_2_COV</td>\n      <td>1.843296e+04</td>\n      <td>0.000000e+00</td>\n    </tr>\n    <tr>\n      <th>24</th>\n      <td>VACINA_COV</td>\n      <td>9.355656e+04</td>\n      <td>0.000000e+00</td>\n    </tr>\n    <tr>\n      <th>18</th>\n      <td>VACINA</td>\n      <td>1.204645e+04</td>\n      <td>0.000000e+00</td>\n    </tr>\n    <tr>\n      <th>26</th>\n      <td>DOSE_REF</td>\n      <td>6.843020e+03</td>\n      <td>0.000000e+00</td>\n    </tr>\n    <tr>\n      <th>27</th>\n      <td>influenza_symp</td>\n      <td>4.445968e+03</td>\n      <td>0.000000e+00</td>\n    </tr>\n    <tr>\n      <th>30</th>\n      <td>not_spec_symp</td>\n      <td>2.890199e+03</td>\n      <td>0.000000e+00</td>\n    </tr>\n    <tr>\n      <th>31</th>\n      <td>covid_symp</td>\n      <td>3.790500e+03</td>\n      <td>0.000000e+00</td>\n    </tr>\n    <tr>\n      <th>19</th>\n      <td>UTI</td>\n      <td>2.403640e+04</td>\n      <td>0.000000e+00</td>\n    </tr>\n    <tr>\n      <th>16</th>\n      <td>OBESIDADE</td>\n      <td>1.428941e+04</td>\n      <td>0.000000e+00</td>\n    </tr>\n    <tr>\n      <th>17</th>\n      <td>MORB_DESC</td>\n      <td>6.963438e+07</td>\n      <td>0.000000e+00</td>\n    </tr>\n    <tr>\n      <th>1</th>\n      <td>SEM_PRI</td>\n      <td>8.412865e+05</td>\n      <td>0.000000e+00</td>\n    </tr>\n    <tr>\n      <th>15</th>\n      <td>ASMA</td>\n      <td>6.851707e+03</td>\n      <td>0.000000e+00</td>\n    </tr>\n    <tr>\n      <th>14</th>\n      <td>OUTRO_DES</td>\n      <td>4.063333e+07</td>\n      <td>0.000000e+00</td>\n    </tr>\n    <tr>\n      <th>12</th>\n      <td>VOMITO</td>\n      <td>3.889238e+03</td>\n      <td>0.000000e+00</td>\n    </tr>\n    <tr>\n      <th>10</th>\n      <td>SATURACAO</td>\n      <td>1.531012e+04</td>\n      <td>0.000000e+00</td>\n    </tr>\n    <tr>\n      <th>9</th>\n      <td>DESC_RESP</td>\n      <td>5.628502e+03</td>\n      <td>0.000000e+00</td>\n    </tr>\n    <tr>\n      <th>8</th>\n      <td>DISPNEIA</td>\n      <td>5.988522e+03</td>\n      <td>0.000000e+00</td>\n    </tr>\n    <tr>\n      <th>7</th>\n      <td>TP_ANTIVIR</td>\n      <td>4.126372e+03</td>\n      <td>0.000000e+00</td>\n    </tr>\n    <tr>\n      <th>5</th>\n      <td>TOSSE</td>\n      <td>8.792035e+03</td>\n      <td>0.000000e+00</td>\n    </tr>\n    <tr>\n      <th>4</th>\n      <td>FEBRE</td>\n      <td>5.815711e+03</td>\n      <td>0.000000e+00</td>\n    </tr>\n    <tr>\n      <th>3</th>\n      <td>NOSOCOMIAL</td>\n      <td>3.080771e+03</td>\n      <td>0.000000e+00</td>\n    </tr>\n    <tr>\n      <th>2</th>\n      <td>SG_UF_NOT</td>\n      <td>1.925188e+03</td>\n      <td>0.000000e+00</td>\n    </tr>\n    <tr>\n      <th>32</th>\n      <td>OLF_PLD</td>\n      <td>1.831523e+04</td>\n      <td>0.000000e+00</td>\n    </tr>\n  </tbody>\n</table>\n</div>"
     },
     "execution_count": 179,
     "metadata": {},
     "output_type": "execute_result"
    }
   ],
   "source": [
    "from sklearn.feature_selection import SelectKBest\n",
    "from sklearn.feature_selection import chi2\n",
    "\n",
    "XX = X.drop(['time_to_sick', 'NU_IDADE_N'], axis=1).copy()\n",
    "\n",
    "XX['SG_UF_NOT'] = XX.SG_UF_NOT.cat.codes\n",
    "XX['OUTRO_DES'] = XX.OUTRO_DES.cat.codes\n",
    "XX['MORB_DESC'] = XX.MORB_DESC.cat.codes\n",
    "# Instance of SelectKBest\n",
    "fsel = SelectKBest(score_func=chi2, k=20)\n",
    "\n",
    "# Fit\n",
    "fsel.fit(XX, y)\n",
    "\n",
    "# Show a dataframe of the results\n",
    "(\n",
    "    pd.DataFrame({\n",
    "        'variable': XX.columns,\n",
    "        'chi2_stat': fsel.scores_,\n",
    "        'p_value': fsel.pvalues_})\n",
    "    .sort_values(by='p_value', ascending=False)\n",
    ")"
   ],
   "metadata": {
    "collapsed": false
   }
  },
  {
   "cell_type": "markdown",
   "source": [
    "### Cramers'V"
   ],
   "metadata": {
    "collapsed": false
   }
  },
  {
   "cell_type": "code",
   "execution_count": 218,
   "outputs": [],
   "source": [
    "def cramers_v(x, y):\n",
    "    import scipy.stats as scs\n",
    "    # Creating a contingency table\n",
    "    cont_table = pd.crosstab(index= df[x], columns= y)\n",
    "\n",
    "    # Chi-square value\n",
    "    X2 = scs.chi2_contingency(cont_table)\n",
    "    chi_stat = X2[0]\n",
    "    # Size of the sample\n",
    "    N = len(df)\n",
    "\n",
    "    # Minimum between Number of categories in rows-1, # categs columns-1\n",
    "    minimum_dimension = (min(cont_table.shape)-1)\n",
    "\n",
    "    # Calculate Cramer's V\n",
    "    result = np.sqrt((chi_stat/N) / minimum_dimension)\n",
    "    #return\n",
    "    return result"
   ],
   "metadata": {
    "collapsed": false
   }
  },
  {
   "cell_type": "code",
   "execution_count": null,
   "outputs": [],
   "source": [
    "results = {}\n",
    "for var in X.select_dtypes(include='category').columns:\n",
    "    r = cramers_v(var, y)\n",
    "    results[var] = r"
   ],
   "metadata": {
    "collapsed": false,
    "pycharm": {
     "is_executing": true
    }
   }
  },
  {
   "cell_type": "code",
   "execution_count": 233,
   "outputs": [
    {
     "data": {
      "text/plain": "                   V\nSG_UF_NOT   0.093685\nNOSOCOMIAL  0.015611\nFEBRE       0.055525\nTOSSE       0.050471\nGARGANTA    0.059912\nTP_ANTIVIR  0.031399\nDISPNEIA    0.049690\nDESC_RESP   0.034409\nSATURACAO   0.072926\nDIARREIA    0.045116\nVOMITO      0.030042\nOUTRO_SIN   0.033710\nOUTRO_DES   0.294923\nASMA        0.071539\nOBESIDADE   0.063278\nMORB_DESC   0.288929\nVACINA      0.027456\nUTI         0.065548\nSUPORT_VEN  0.085844\nDOR_ABD     0.013908\nFADIGA      0.076749\nTOMO_RES    0.188552\nVACINA_COV  0.104249\nDOSE_2_COV  0.135916\nDOSE_REF    0.075641",
      "text/html": "<div>\n<style scoped>\n    .dataframe tbody tr th:only-of-type {\n        vertical-align: middle;\n    }\n\n    .dataframe tbody tr th {\n        vertical-align: top;\n    }\n\n    .dataframe thead th {\n        text-align: right;\n    }\n</style>\n<table border=\"1\" class=\"dataframe\">\n  <thead>\n    <tr style=\"text-align: right;\">\n      <th></th>\n      <th>V</th>\n    </tr>\n  </thead>\n  <tbody>\n    <tr>\n      <th>SG_UF_NOT</th>\n      <td>0.093685</td>\n    </tr>\n    <tr>\n      <th>NOSOCOMIAL</th>\n      <td>0.015611</td>\n    </tr>\n    <tr>\n      <th>FEBRE</th>\n      <td>0.055525</td>\n    </tr>\n    <tr>\n      <th>TOSSE</th>\n      <td>0.050471</td>\n    </tr>\n    <tr>\n      <th>GARGANTA</th>\n      <td>0.059912</td>\n    </tr>\n    <tr>\n      <th>TP_ANTIVIR</th>\n      <td>0.031399</td>\n    </tr>\n    <tr>\n      <th>DISPNEIA</th>\n      <td>0.049690</td>\n    </tr>\n    <tr>\n      <th>DESC_RESP</th>\n      <td>0.034409</td>\n    </tr>\n    <tr>\n      <th>SATURACAO</th>\n      <td>0.072926</td>\n    </tr>\n    <tr>\n      <th>DIARREIA</th>\n      <td>0.045116</td>\n    </tr>\n    <tr>\n      <th>VOMITO</th>\n      <td>0.030042</td>\n    </tr>\n    <tr>\n      <th>OUTRO_SIN</th>\n      <td>0.033710</td>\n    </tr>\n    <tr>\n      <th>OUTRO_DES</th>\n      <td>0.294923</td>\n    </tr>\n    <tr>\n      <th>ASMA</th>\n      <td>0.071539</td>\n    </tr>\n    <tr>\n      <th>OBESIDADE</th>\n      <td>0.063278</td>\n    </tr>\n    <tr>\n      <th>MORB_DESC</th>\n      <td>0.288929</td>\n    </tr>\n    <tr>\n      <th>VACINA</th>\n      <td>0.027456</td>\n    </tr>\n    <tr>\n      <th>UTI</th>\n      <td>0.065548</td>\n    </tr>\n    <tr>\n      <th>SUPORT_VEN</th>\n      <td>0.085844</td>\n    </tr>\n    <tr>\n      <th>DOR_ABD</th>\n      <td>0.013908</td>\n    </tr>\n    <tr>\n      <th>FADIGA</th>\n      <td>0.076749</td>\n    </tr>\n    <tr>\n      <th>TOMO_RES</th>\n      <td>0.188552</td>\n    </tr>\n    <tr>\n      <th>VACINA_COV</th>\n      <td>0.104249</td>\n    </tr>\n    <tr>\n      <th>DOSE_2_COV</th>\n      <td>0.135916</td>\n    </tr>\n    <tr>\n      <th>DOSE_REF</th>\n      <td>0.075641</td>\n    </tr>\n  </tbody>\n</table>\n</div>"
     },
     "execution_count": 233,
     "metadata": {},
     "output_type": "execute_result"
    }
   ],
   "source": [
    "pd.DataFrame([results], index=['V']).T"
   ],
   "metadata": {
    "collapsed": false
   }
  },
  {
   "cell_type": "markdown",
   "source": [
    "## Voting Classifier"
   ],
   "metadata": {
    "collapsed": false
   }
  },
  {
   "cell_type": "code",
   "execution_count": 110,
   "outputs": [],
   "source": [
    "from sklearn.ensemble import VotingClassifier\n",
    "from sklearn.linear_model import LogisticRegressionCV\n",
    "from sklearn.ensemble import RandomForestClassifier\n",
    "from sklearn.ensemble import GradientBoostingClassifier\n",
    "from sklearn.pipeline import Pipeline"
   ],
   "metadata": {
    "collapsed": false
   }
  },
  {
   "cell_type": "code",
   "execution_count": 122,
   "outputs": [],
   "source": [
    "# Copy\n",
    "dfv = df_model.copy()\n",
    "\n",
    "dfv['OUTRO_DES'] = dfv.OUTRO_DES.cat.codes\n",
    "dfv['SG_UF_NOT'] = dfv.SG_UF_NOT.cat.codes\n",
    "dfv['MORB_DESC'] = dfv.MORB_DESC.cat.codes\n",
    "to_num = {k:'int' for k in cat_features}\n",
    "\n",
    "dfv = dfv.astype(to_num)"
   ],
   "metadata": {
    "collapsed": false
   }
  },
  {
   "cell_type": "code",
   "execution_count": 141,
   "outputs": [
    {
     "name": "stdout",
     "output_type": "stream",
     "text": [
      "Train shapes: (845419, 34) | (845419,)\n",
      "Test shapes: (455226, 34) | (455226,)\n"
     ]
    }
   ],
   "source": [
    "drop_cols = str.split('ID, CLASSI_FIN, SIND_DOWN, FATOR_RISC, CARDIOPATI, HEPATICA, HEMATOLOGI, RENAL, PERD_OLFT, '\n",
    "                      'PERD_PALA, HISTO_VGM, NEUROLOGIC, IMUNODEPRE, CS_SEXO, PUERPERA, DIABETES, PNEUMOPATI, OUT_MORBI', sep=', ')\n",
    "# X and y\n",
    "X = dfv.drop(drop_cols, axis=1)\n",
    "y= dfv.CLASSI_FIN\n",
    "\n",
    "# Train test split\n",
    "X_train, X_test, y_train, y_test = train_test_split(X, y, test_size=0.35, stratify=y, random_state=12)\n",
    "\n",
    "print(f'Train shapes: {X_train.shape} | {y_train.shape}')\n",
    "print(f'Test shapes: {X_test.shape} | {y_test.shape}')"
   ],
   "metadata": {
    "collapsed": false
   }
  },
  {
   "cell_type": "code",
   "execution_count": 142,
   "outputs": [],
   "source": [
    "# Instance of the algos\n",
    "rf = RandomForestClassifier(n_estimators=500)\n",
    "gb = GradientBoostingClassifier(n_estimators=200, learning_rate=0.5)\n",
    "logit = LogisticRegressionCV(max_iter=1000)\n",
    "\n",
    "voting = VotingClassifier(\n",
    "    [('logit', logit),\n",
    "     ('XGB', gb),\n",
    "     ('RandomForest', rf)]\n",
    ")"
   ],
   "metadata": {
    "collapsed": false
   }
  },
  {
   "cell_type": "code",
   "execution_count": 143,
   "outputs": [
    {
     "name": "stderr",
     "output_type": "stream",
     "text": [
      "lbfgs failed to converge (status=1):\n",
      "STOP: TOTAL NO. of ITERATIONS REACHED LIMIT.\n",
      "\n",
      "Increase the number of iterations (max_iter) or scale the data as shown in:\n",
      "    https://scikit-learn.org/stable/modules/preprocessing.html\n",
      "Please also refer to the documentation for alternative solver options:\n",
      "    https://scikit-learn.org/stable/modules/linear_model.html#logistic-regression\n",
      "lbfgs failed to converge (status=1):\n",
      "STOP: TOTAL NO. of ITERATIONS REACHED LIMIT.\n",
      "\n",
      "Increase the number of iterations (max_iter) or scale the data as shown in:\n",
      "    https://scikit-learn.org/stable/modules/preprocessing.html\n",
      "Please also refer to the documentation for alternative solver options:\n",
      "    https://scikit-learn.org/stable/modules/linear_model.html#logistic-regression\n",
      "lbfgs failed to converge (status=1):\n",
      "STOP: TOTAL NO. of ITERATIONS REACHED LIMIT.\n",
      "\n",
      "Increase the number of iterations (max_iter) or scale the data as shown in:\n",
      "    https://scikit-learn.org/stable/modules/preprocessing.html\n",
      "Please also refer to the documentation for alternative solver options:\n",
      "    https://scikit-learn.org/stable/modules/linear_model.html#logistic-regression\n",
      "lbfgs failed to converge (status=1):\n",
      "STOP: TOTAL NO. of ITERATIONS REACHED LIMIT.\n",
      "\n",
      "Increase the number of iterations (max_iter) or scale the data as shown in:\n",
      "    https://scikit-learn.org/stable/modules/preprocessing.html\n",
      "Please also refer to the documentation for alternative solver options:\n",
      "    https://scikit-learn.org/stable/modules/linear_model.html#logistic-regression\n",
      "lbfgs failed to converge (status=1):\n",
      "STOP: TOTAL NO. of ITERATIONS REACHED LIMIT.\n",
      "\n",
      "Increase the number of iterations (max_iter) or scale the data as shown in:\n",
      "    https://scikit-learn.org/stable/modules/preprocessing.html\n",
      "Please also refer to the documentation for alternative solver options:\n",
      "    https://scikit-learn.org/stable/modules/linear_model.html#logistic-regression\n",
      "lbfgs failed to converge (status=1):\n",
      "STOP: TOTAL NO. of ITERATIONS REACHED LIMIT.\n",
      "\n",
      "Increase the number of iterations (max_iter) or scale the data as shown in:\n",
      "    https://scikit-learn.org/stable/modules/preprocessing.html\n",
      "Please also refer to the documentation for alternative solver options:\n",
      "    https://scikit-learn.org/stable/modules/linear_model.html#logistic-regression\n"
     ]
    },
    {
     "data": {
      "text/plain": "VotingClassifier(estimators=[('logit', LogisticRegressionCV(max_iter=1000)),\n                             ('XGB',\n                              GradientBoostingClassifier(learning_rate=0.5,\n                                                         n_estimators=200)),\n                             ('RandomForest',\n                              RandomForestClassifier(n_estimators=500))])",
      "text/html": "<style>#sk-container-id-2 {color: black;background-color: white;}#sk-container-id-2 pre{padding: 0;}#sk-container-id-2 div.sk-toggleable {background-color: white;}#sk-container-id-2 label.sk-toggleable__label {cursor: pointer;display: block;width: 100%;margin-bottom: 0;padding: 0.3em;box-sizing: border-box;text-align: center;}#sk-container-id-2 label.sk-toggleable__label-arrow:before {content: \"▸\";float: left;margin-right: 0.25em;color: #696969;}#sk-container-id-2 label.sk-toggleable__label-arrow:hover:before {color: black;}#sk-container-id-2 div.sk-estimator:hover label.sk-toggleable__label-arrow:before {color: black;}#sk-container-id-2 div.sk-toggleable__content {max-height: 0;max-width: 0;overflow: hidden;text-align: left;background-color: #f0f8ff;}#sk-container-id-2 div.sk-toggleable__content pre {margin: 0.2em;color: black;border-radius: 0.25em;background-color: #f0f8ff;}#sk-container-id-2 input.sk-toggleable__control:checked~div.sk-toggleable__content {max-height: 200px;max-width: 100%;overflow: auto;}#sk-container-id-2 input.sk-toggleable__control:checked~label.sk-toggleable__label-arrow:before {content: \"▾\";}#sk-container-id-2 div.sk-estimator input.sk-toggleable__control:checked~label.sk-toggleable__label {background-color: #d4ebff;}#sk-container-id-2 div.sk-label input.sk-toggleable__control:checked~label.sk-toggleable__label {background-color: #d4ebff;}#sk-container-id-2 input.sk-hidden--visually {border: 0;clip: rect(1px 1px 1px 1px);clip: rect(1px, 1px, 1px, 1px);height: 1px;margin: -1px;overflow: hidden;padding: 0;position: absolute;width: 1px;}#sk-container-id-2 div.sk-estimator {font-family: monospace;background-color: #f0f8ff;border: 1px dotted black;border-radius: 0.25em;box-sizing: border-box;margin-bottom: 0.5em;}#sk-container-id-2 div.sk-estimator:hover {background-color: #d4ebff;}#sk-container-id-2 div.sk-parallel-item::after {content: \"\";width: 100%;border-bottom: 1px solid gray;flex-grow: 1;}#sk-container-id-2 div.sk-label:hover label.sk-toggleable__label {background-color: #d4ebff;}#sk-container-id-2 div.sk-serial::before {content: \"\";position: absolute;border-left: 1px solid gray;box-sizing: border-box;top: 0;bottom: 0;left: 50%;z-index: 0;}#sk-container-id-2 div.sk-serial {display: flex;flex-direction: column;align-items: center;background-color: white;padding-right: 0.2em;padding-left: 0.2em;position: relative;}#sk-container-id-2 div.sk-item {position: relative;z-index: 1;}#sk-container-id-2 div.sk-parallel {display: flex;align-items: stretch;justify-content: center;background-color: white;position: relative;}#sk-container-id-2 div.sk-item::before, #sk-container-id-2 div.sk-parallel-item::before {content: \"\";position: absolute;border-left: 1px solid gray;box-sizing: border-box;top: 0;bottom: 0;left: 50%;z-index: -1;}#sk-container-id-2 div.sk-parallel-item {display: flex;flex-direction: column;z-index: 1;position: relative;background-color: white;}#sk-container-id-2 div.sk-parallel-item:first-child::after {align-self: flex-end;width: 50%;}#sk-container-id-2 div.sk-parallel-item:last-child::after {align-self: flex-start;width: 50%;}#sk-container-id-2 div.sk-parallel-item:only-child::after {width: 0;}#sk-container-id-2 div.sk-dashed-wrapped {border: 1px dashed gray;margin: 0 0.4em 0.5em 0.4em;box-sizing: border-box;padding-bottom: 0.4em;background-color: white;}#sk-container-id-2 div.sk-label label {font-family: monospace;font-weight: bold;display: inline-block;line-height: 1.2em;}#sk-container-id-2 div.sk-label-container {text-align: center;}#sk-container-id-2 div.sk-container {/* jupyter's `normalize.less` sets `[hidden] { display: none; }` but bootstrap.min.css set `[hidden] { display: none !important; }` so we also need the `!important` here to be able to override the default hidden behavior on the sphinx rendered scikit-learn.org. See: https://github.com/scikit-learn/scikit-learn/issues/21755 */display: inline-block !important;position: relative;}#sk-container-id-2 div.sk-text-repr-fallback {display: none;}</style><div id=\"sk-container-id-2\" class=\"sk-top-container\"><div class=\"sk-text-repr-fallback\"><pre>VotingClassifier(estimators=[(&#x27;logit&#x27;, LogisticRegressionCV(max_iter=1000)),\n                             (&#x27;XGB&#x27;,\n                              GradientBoostingClassifier(learning_rate=0.5,\n                                                         n_estimators=200)),\n                             (&#x27;RandomForest&#x27;,\n                              RandomForestClassifier(n_estimators=500))])</pre><b>In a Jupyter environment, please rerun this cell to show the HTML representation or trust the notebook. <br />On GitHub, the HTML representation is unable to render, please try loading this page with nbviewer.org.</b></div><div class=\"sk-container\" hidden><div class=\"sk-item sk-dashed-wrapped\"><div class=\"sk-label-container\"><div class=\"sk-label sk-toggleable\"><input class=\"sk-toggleable__control sk-hidden--visually\" id=\"sk-estimator-id-5\" type=\"checkbox\" ><label for=\"sk-estimator-id-5\" class=\"sk-toggleable__label sk-toggleable__label-arrow\">VotingClassifier</label><div class=\"sk-toggleable__content\"><pre>VotingClassifier(estimators=[(&#x27;logit&#x27;, LogisticRegressionCV(max_iter=1000)),\n                             (&#x27;XGB&#x27;,\n                              GradientBoostingClassifier(learning_rate=0.5,\n                                                         n_estimators=200)),\n                             (&#x27;RandomForest&#x27;,\n                              RandomForestClassifier(n_estimators=500))])</pre></div></div></div><div class=\"sk-parallel\"><div class=\"sk-parallel-item\"><div class=\"sk-item\"><div class=\"sk-label-container\"><div class=\"sk-label sk-toggleable\"><label>logit</label></div></div><div class=\"sk-serial\"><div class=\"sk-item\"><div class=\"sk-estimator sk-toggleable\"><input class=\"sk-toggleable__control sk-hidden--visually\" id=\"sk-estimator-id-6\" type=\"checkbox\" ><label for=\"sk-estimator-id-6\" class=\"sk-toggleable__label sk-toggleable__label-arrow\">LogisticRegressionCV</label><div class=\"sk-toggleable__content\"><pre>LogisticRegressionCV(max_iter=1000)</pre></div></div></div></div></div></div><div class=\"sk-parallel-item\"><div class=\"sk-item\"><div class=\"sk-label-container\"><div class=\"sk-label sk-toggleable\"><label>XGB</label></div></div><div class=\"sk-serial\"><div class=\"sk-item\"><div class=\"sk-estimator sk-toggleable\"><input class=\"sk-toggleable__control sk-hidden--visually\" id=\"sk-estimator-id-7\" type=\"checkbox\" ><label for=\"sk-estimator-id-7\" class=\"sk-toggleable__label sk-toggleable__label-arrow\">GradientBoostingClassifier</label><div class=\"sk-toggleable__content\"><pre>GradientBoostingClassifier(learning_rate=0.5, n_estimators=200)</pre></div></div></div></div></div></div><div class=\"sk-parallel-item\"><div class=\"sk-item\"><div class=\"sk-label-container\"><div class=\"sk-label sk-toggleable\"><label>RandomForest</label></div></div><div class=\"sk-serial\"><div class=\"sk-item\"><div class=\"sk-estimator sk-toggleable\"><input class=\"sk-toggleable__control sk-hidden--visually\" id=\"sk-estimator-id-8\" type=\"checkbox\" ><label for=\"sk-estimator-id-8\" class=\"sk-toggleable__label sk-toggleable__label-arrow\">RandomForestClassifier</label><div class=\"sk-toggleable__content\"><pre>RandomForestClassifier(n_estimators=500)</pre></div></div></div></div></div></div></div></div></div></div>"
     },
     "execution_count": 143,
     "metadata": {},
     "output_type": "execute_result"
    }
   ],
   "source": [
    "# Fit the model\n",
    "voting.fit(X_train, y_train)"
   ],
   "metadata": {
    "collapsed": false
   }
  },
  {
   "cell_type": "code",
   "execution_count": 144,
   "outputs": [
    {
     "data": {
      "text/plain": "0.7769305795363183"
     },
     "execution_count": 144,
     "metadata": {},
     "output_type": "execute_result"
    }
   ],
   "source": [
    "voting.score(X_test, y_test)"
   ],
   "metadata": {
    "collapsed": false
   }
  },
  {
   "cell_type": "code",
   "execution_count": 145,
   "outputs": [],
   "source": [
    "# Select columns to keep\n",
    "cols_to_keep = ['SEM_NOT', 'SEM_PRI', 'SG_UF_NOT', 'CS_SEXO', 'NU_IDADE_N', 'TP_IDADE', 'NOSOCOMIAL', 'FEBRE', 'TOSSE', 'GARGANTA', 'TP_ANTIVIR',\n",
    "       'DISPNEIA', 'DESC_RESP', 'SATURACAO', 'DIARREIA', 'VOMITO', 'OUTRO_SIN', 'OUTRO_DES', 'PUERPERA', 'FATOR_RISC', 'CARDIOPATI', 'HEMATOLOGI',\n",
    "       'SIND_DOWN', 'HEPATICA', 'ASMA', 'DIABETES', 'NEUROLOGIC', 'PNEUMOPATI', 'IMUNODEPRE', 'RENAL', 'OBESIDADE', 'OUT_MORBI', 'MORB_DESC',\n",
    "       'VACINA', 'UTI', 'SUPORT_VEN', 'HISTO_VGM','DOR_ABD', 'FADIGA', 'PERD_OLFT', 'PERD_PALA', 'TOMO_RES', 'VACINA_COV','DOSE_2_COV', 'DOSE_REF']\n",
    "\n",
    "# Slice dataset\n",
    "test = df_test[cols_to_keep].copy()\n",
    "\n",
    "# Correcting IDADE\n",
    "# Tipo 1 = dia, tipo 2 = Mês, 3= Ano\n",
    "test['NU_IDADE_N'] = np.select( [test.TP_IDADE == 1, test.TP_IDADE == 2, test.TP_IDADE == 3],\n",
    "                                [round(test.NU_IDADE_N/365), round(test.NU_IDADE_N/12), test.NU_IDADE_N] )\n",
    "test.drop('TP_IDADE', axis=1, inplace=True)\n",
    "\n",
    "test['influenza_symp'] = symptoms(test, srag='influenza')\n",
    "test['other_agent_symp'] = symptoms(test, srag='other_agent')\n",
    "test['other_virus_symp'] = symptoms(test, srag='other_virus')\n",
    "test['not_spec_symp'] = symptoms(test, srag='not_specific')\n",
    "test['covid_symp'] = symptoms(test, srag='covid')\n",
    "\n",
    "# Olfato e Paladar\n",
    "test['OLF_PLD'] = np.where(test.PERD_OLFT == 1, np.where(test.PERD_PALA == 1, 1, 0),0)\n",
    "\n",
    "# Replacing the NAs with 9\n",
    "test = test.fillna('9')\n",
    "\n",
    "# Columns to Categories for modeling\n",
    "\n",
    "num_col = ['NOSOCOMIAL', 'FEBRE', 'TOSSE', 'GARGANTA',\n",
    "       'DISPNEIA', 'DESC_RESP', 'SATURACAO', 'DIARREIA', 'VOMITO', 'OUTRO_SIN', 'PUERPERA', 'FATOR_RISC', 'CARDIOPATI', 'HEMATOLOGI',\n",
    "       'SIND_DOWN', 'HEPATICA', 'ASMA', 'DIABETES', 'NEUROLOGIC', 'PNEUMOPATI', 'IMUNODEPRE', 'RENAL', 'OBESIDADE', 'OUT_MORBI', 'TP_ANTIVIR',\n",
    "       'VACINA', 'UTI', 'SUPORT_VEN', 'HISTO_VGM','DOR_ABD', 'FADIGA', 'PERD_OLFT', 'PERD_PALA', 'TOMO_RES', 'VACINA_COV','DOSE_2_COV', 'DOSE_REF']\n",
    "\n",
    "col_types = ['SG_UF_NOT', 'NOSOCOMIAL', 'FEBRE', 'TOSSE', 'GARGANTA', 'OUTRO_DES', 'MORB_DESC', 'TP_ANTIVIR',\n",
    "       'DISPNEIA', 'DESC_RESP', 'SATURACAO', 'DIARREIA', 'VOMITO', 'OUTRO_SIN', 'PUERPERA', 'FATOR_RISC', 'CARDIOPATI', 'HEMATOLOGI',\n",
    "       'SIND_DOWN', 'HEPATICA', 'ASMA', 'DIABETES', 'NEUROLOGIC', 'PNEUMOPATI', 'IMUNODEPRE', 'RENAL', 'OBESIDADE', 'OUT_MORBI',\n",
    "       'VACINA', 'UTI', 'SUPORT_VEN', 'HISTO_VGM','DOR_ABD', 'FADIGA', 'PERD_OLFT', 'PERD_PALA', 'TOMO_RES', 'VACINA_COV','DOSE_2_COV', 'DOSE_REF']\n",
    "\n",
    "# Assign as categorical\n",
    "test[num_col] = test[num_col].astype('int')\n",
    "test[col_types] = test[col_types].astype('category')\n",
    "test['OUTRO_DES'] = test.OUTRO_DES.cat.codes\n",
    "test['SG_UF_NOT'] = test.SG_UF_NOT.cat.codes\n",
    "test['MORB_DESC'] = test.MORB_DESC.cat.codes\n",
    "test[col_types] = test[col_types].astype('int')\n",
    "drop_cols = str.split('SIND_DOWN, FATOR_RISC, CARDIOPATI, HEPATICA, HEMATOLOGI, RENAL, PERD_OLFT, '\n",
    "                      'PERD_PALA, HISTO_VGM, NEUROLOGIC, IMUNODEPRE, CS_SEXO, PUERPERA, DIABETES, PNEUMOPATI, OUT_MORBI', sep=', ')\n",
    "test.drop(drop_cols, axis=1, inplace=True)"
   ],
   "metadata": {
    "collapsed": false
   }
  },
  {
   "cell_type": "code",
   "execution_count": 146,
   "outputs": [],
   "source": [
    "# Prediction\n",
    "preds_submission = voting.predict(test)\n",
    "\n",
    "# Submission file\n",
    "pd.DataFrame({\n",
    "    'ID': df_test.ID,\n",
    "    'CLASSI_FIN': preds_submission.flatten()\n",
    "}).to_csv('submission_grs_v7.csv', index=False)"
   ],
   "metadata": {
    "collapsed": false
   }
  },
  {
   "cell_type": "code",
   "execution_count": null,
   "outputs": [],
   "source": [],
   "metadata": {
    "collapsed": false
   }
  }
 ]
}
