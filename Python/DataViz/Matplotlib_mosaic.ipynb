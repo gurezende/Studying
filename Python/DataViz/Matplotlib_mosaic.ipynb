{
 "cells": [
  {
   "cell_type": "markdown",
   "source": [
    "# Matplotlib mosaic function"
   ],
   "metadata": {
    "collapsed": false
   }
  },
  {
   "cell_type": "code",
   "execution_count": null,
   "outputs": [],
   "source": [
    "# Imports\n",
    "import numpy as np\n",
    "import matplotlib.pyplot as plt\n",
    "import pandas as pd\n",
    "import seaborn as sns\n",
    "\n",
    "# Data\n",
    "df = sns.load_dataset('tips')"
   ],
   "metadata": {
    "collapsed": false
   }
  },
  {
   "cell_type": "code",
   "execution_count": null,
   "outputs": [],
   "source": [
    "# Vectors to plot\n",
    "a = [1,2,3,4,5,6]\n",
    "b = [2,3,4,5,6,7]\n",
    "c = [1,3.9,3.4,5,5.2,6.7,5,6,4.5,1,2.3,3.1,3.7,4.9,2.9,5,2]\n",
    "d = [0,2,2,5,5,6]\n",
    "\n",
    "# Option with Mosaic\n",
    "fig = plt.figure(layout= 'constrained')\n",
    "mosaic = fig.subplot_mosaic('''\n",
    "                            aab\n",
    "                            cdb\n",
    "                            ''')\n",
    "\n",
    "plt.suptitle('Graphics [A , B] | [C , D]')\n",
    "\n",
    "# Plot A\n",
    "mosaic['a'].plot(a, b, c='red')\n",
    "\n",
    "# Plot B\n",
    "mosaic['b'].boxplot(c)\n",
    "\n",
    "# Plot C\n",
    "mosaic['c'].scatter(a, d, c='green')\n",
    "\n",
    "# Plot D\n",
    "mosaic['d'].plot(d, b, c='black');"
   ],
   "metadata": {
    "collapsed": false
   }
  },
  {
   "cell_type": "code",
   "execution_count": null,
   "outputs": [],
   "source": [
    "# Plot with Mosaic\n",
    "fig = plt.figure(layout= 'constrained', figsize=(12,6))\n",
    "mosaic = fig.subplot_mosaic('''\n",
    "                            aaa\n",
    "                            bcc\n",
    "                            ''')\n",
    "\n",
    "# Plot A\n",
    "mosaic['a'].bar(df.day, df.tip, color='coral')\n",
    "\n",
    "# Plot B\n",
    "mosaic['b'].boxplot(df.total_bill, patch_artist=True)\n",
    "\n",
    "# Plot C\n",
    "mosaic['c'].scatter(df.total_bill, df.tip, color='forestgreen');"
   ],
   "metadata": {
    "collapsed": false
   }
  },
  {
   "cell_type": "code",
   "execution_count": null,
   "outputs": [],
   "source": [
    "# Plot with Mosaic\n",
    "fig = plt.figure(layout= 'constrained', figsize=(10,6))\n",
    "mosaic = fig.subplot_mosaic('''\n",
    "                            ab\n",
    "                            ac\n",
    "                            de\n",
    "                            ''')\n",
    "\n",
    "# Plot A\n",
    "mosaic['a'].bar(df.day, df.tip, color='coral')\n",
    "\n",
    "# Plot B\n",
    "mosaic['b'].boxplot(df.total_bill, patch_artist=True)\n",
    "\n",
    "# Plot C\n",
    "mosaic['c'].scatter(df.total_bill, df.tip, color='forestgreen')\n",
    "\n",
    "# Plot D\n",
    "mosaic['d'].scatter(df.tip, df.total_bill, color='purple')\n",
    "\n",
    "# Plot E\n",
    "mosaic['e'].scatter(df['size'], df.tip, color='gold');"
   ],
   "metadata": {
    "collapsed": false
   }
  },
  {
   "cell_type": "code",
   "execution_count": null,
   "outputs": [],
   "source": [
    "# Plot with Mosaic\n",
    "fig = plt.figure(layout= 'constrained', figsize=(14,6))\n",
    "mosaic = fig.subplot_mosaic('''\n",
    "                            ac\n",
    "                            bc\n",
    "                            ''')\n",
    "\n",
    "# Single Title\n",
    "#plt.suptitle('''        -- P L O T S --\n",
    "#                - Top Left: Sum of tips by Sex -\n",
    "#                - Bottom Left: Tip by Total Bill -\n",
    "#                - Right: Boxplot of Tips -''')\n",
    "\n",
    "# Plot A\n",
    "mosaic['a'].bar(df.sex, df.tip, color='coral')\n",
    "\n",
    "# Plot B\n",
    "mosaic['b'].scatter(df.total_bill, df.tip, color='forestgreen')\n",
    "\n",
    "# Plot C\n",
    "mosaic['c'].boxplot(df.tip, patch_artist=True)\n",
    "\n",
    "# Define Titles\n",
    "titles = ['Sum of tips by Sex', 'Tip by Total Bill', 'Boxplot of Tips']\n",
    "\n",
    "# One title per plot\n",
    "for ax, g_title in zip(mosaic.items(), titles):\n",
    "    ax[1].set_title(g_title, fontstyle='italic')"
   ],
   "metadata": {
    "collapsed": false
   }
  },
  {
   "cell_type": "code",
   "execution_count": null,
   "outputs": [],
   "source": [],
   "metadata": {
    "collapsed": false
   }
  }
 ],
 "metadata": {
  "kernelspec": {
   "display_name": "Python 3",
   "language": "python",
   "name": "python3"
  },
  "language_info": {
   "codemirror_mode": {
    "name": "ipython",
    "version": 2
   },
   "file_extension": ".py",
   "mimetype": "text/x-python",
   "name": "python",
   "nbconvert_exporter": "python",
   "pygments_lexer": "ipython2",
   "version": "2.7.6"
  }
 },
 "nbformat": 4,
 "nbformat_minor": 0
}
