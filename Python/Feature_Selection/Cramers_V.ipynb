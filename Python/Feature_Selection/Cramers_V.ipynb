{
 "nbformat": 4,
 "nbformat_minor": 0,
 "metadata": {
  "colab": {
   "provenance": []
  },
  "kernelspec": {
   "name": "python3",
   "display_name": "Python 3"
  },
  "language_info": {
   "name": "python"
  }
 },
 "cells": [
  {
   "cell_type": "code",
   "execution_count": 2,
   "metadata": {
    "id": "w5dkllb2DspF"
   },
   "outputs": [],
   "source": [
    "import pandas as pd\n",
    "import numpy as np\n",
    "import seaborn as sns\n",
    "import matplotlib.pyplot as plt\n",
    "sns.set()\n",
    "\n",
    "import scipy as sp\n",
    "import scipy.stats as scs"
   ]
  },
  {
   "cell_type": "markdown",
   "source": [
    "## Cramer's V"
   ],
   "metadata": {
    "id": "TudWUad7NP21"
   }
  },
  {
   "cell_type": "code",
   "source": [
    "# Load the dataset\n",
    "df = sns.load_dataset('diamonds')"
   ],
   "metadata": {
    "id": "l7bOqmqYgTdp"
   },
   "execution_count": 79,
   "outputs": []
  },
  {
   "cell_type": "code",
   "source": [
    "# Create a price bin variable\n",
    "df['price_bins'] = pd.cut(\n",
    "    df['price'],\n",
    "    bins= [0, df.price.mean()*0.8, df.price.mean(), df.price.mean()*1.2, np.inf],\n",
    "    labels= ['cheaper', 'on_average', 'high_price', 'expensive']\n",
    "    )"
   ],
   "metadata": {
    "id": "Pq4bzSSpo2F6"
   },
   "execution_count": 261,
   "outputs": []
  },
  {
   "cell_type": "code",
   "source": [
    "df.sample(10)"
   ],
   "metadata": {
    "colab": {
     "base_uri": "https://localhost:8080/",
     "height": 363
    },
    "id": "2gMJBIqObzoO",
    "outputId": "093922ca-c0bc-4620-9b1a-e8ec501d85b3"
   },
   "execution_count": 273,
   "outputs": [
    {
     "output_type": "execute_result",
     "data": {
      "text/plain": [
       "       carat        cut color clarity  depth  table  price     x     y     z  \\\n",
       "41286   0.42      Ideal     D    VVS2   61.7   57.0   1210  4.82  4.80  2.97   \n",
       "2298    0.90       Good     I     VS2   62.4   65.0   3162  6.09  6.12  3.81   \n",
       "38307   0.37       Good     G     SI2   63.3   55.0    487  4.58  4.61  2.91   \n",
       "51261   0.56      Ideal     G    VVS2   62.1   56.0   2357  5.31  5.29  3.29   \n",
       "5922    1.00       Good     G     SI2   64.0   55.0   3941  6.30  6.26  4.02   \n",
       "51834   0.76  Very Good     G     SI2   62.0   57.0   2422  5.82  5.86  3.62   \n",
       "41157   0.52       Good     E     SI2   60.5   62.0   1199  5.15  5.20  3.13   \n",
       "6365    0.32    Premium     H     SI1   61.9   59.0    576  4.41  4.38  2.72   \n",
       "5830    0.77  Very Good     F    VVS2   60.6   60.0   3917  5.89  5.92  3.58   \n",
       "50467   0.61  Very Good     D     VS2   61.5   57.0   2266  5.45  5.48  3.36   \n",
       "\n",
       "       price_bins  \n",
       "41286     cheaper  \n",
       "2298   on_average  \n",
       "38307     cheaper  \n",
       "51261     cheaper  \n",
       "5922   high_price  \n",
       "51834     cheaper  \n",
       "41157     cheaper  \n",
       "6365      cheaper  \n",
       "5830   on_average  \n",
       "50467     cheaper  "
      ],
      "text/html": [
       "\n",
       "  <div id=\"df-706b04e4-f868-40bf-8cba-4e21c8880435\">\n",
       "    <div class=\"colab-df-container\">\n",
       "      <div>\n",
       "<style scoped>\n",
       "    .dataframe tbody tr th:only-of-type {\n",
       "        vertical-align: middle;\n",
       "    }\n",
       "\n",
       "    .dataframe tbody tr th {\n",
       "        vertical-align: top;\n",
       "    }\n",
       "\n",
       "    .dataframe thead th {\n",
       "        text-align: right;\n",
       "    }\n",
       "</style>\n",
       "<table border=\"1\" class=\"dataframe\">\n",
       "  <thead>\n",
       "    <tr style=\"text-align: right;\">\n",
       "      <th></th>\n",
       "      <th>carat</th>\n",
       "      <th>cut</th>\n",
       "      <th>color</th>\n",
       "      <th>clarity</th>\n",
       "      <th>depth</th>\n",
       "      <th>table</th>\n",
       "      <th>price</th>\n",
       "      <th>x</th>\n",
       "      <th>y</th>\n",
       "      <th>z</th>\n",
       "      <th>price_bins</th>\n",
       "    </tr>\n",
       "  </thead>\n",
       "  <tbody>\n",
       "    <tr>\n",
       "      <th>41286</th>\n",
       "      <td>0.42</td>\n",
       "      <td>Ideal</td>\n",
       "      <td>D</td>\n",
       "      <td>VVS2</td>\n",
       "      <td>61.7</td>\n",
       "      <td>57.0</td>\n",
       "      <td>1210</td>\n",
       "      <td>4.82</td>\n",
       "      <td>4.80</td>\n",
       "      <td>2.97</td>\n",
       "      <td>cheaper</td>\n",
       "    </tr>\n",
       "    <tr>\n",
       "      <th>2298</th>\n",
       "      <td>0.90</td>\n",
       "      <td>Good</td>\n",
       "      <td>I</td>\n",
       "      <td>VS2</td>\n",
       "      <td>62.4</td>\n",
       "      <td>65.0</td>\n",
       "      <td>3162</td>\n",
       "      <td>6.09</td>\n",
       "      <td>6.12</td>\n",
       "      <td>3.81</td>\n",
       "      <td>on_average</td>\n",
       "    </tr>\n",
       "    <tr>\n",
       "      <th>38307</th>\n",
       "      <td>0.37</td>\n",
       "      <td>Good</td>\n",
       "      <td>G</td>\n",
       "      <td>SI2</td>\n",
       "      <td>63.3</td>\n",
       "      <td>55.0</td>\n",
       "      <td>487</td>\n",
       "      <td>4.58</td>\n",
       "      <td>4.61</td>\n",
       "      <td>2.91</td>\n",
       "      <td>cheaper</td>\n",
       "    </tr>\n",
       "    <tr>\n",
       "      <th>51261</th>\n",
       "      <td>0.56</td>\n",
       "      <td>Ideal</td>\n",
       "      <td>G</td>\n",
       "      <td>VVS2</td>\n",
       "      <td>62.1</td>\n",
       "      <td>56.0</td>\n",
       "      <td>2357</td>\n",
       "      <td>5.31</td>\n",
       "      <td>5.29</td>\n",
       "      <td>3.29</td>\n",
       "      <td>cheaper</td>\n",
       "    </tr>\n",
       "    <tr>\n",
       "      <th>5922</th>\n",
       "      <td>1.00</td>\n",
       "      <td>Good</td>\n",
       "      <td>G</td>\n",
       "      <td>SI2</td>\n",
       "      <td>64.0</td>\n",
       "      <td>55.0</td>\n",
       "      <td>3941</td>\n",
       "      <td>6.30</td>\n",
       "      <td>6.26</td>\n",
       "      <td>4.02</td>\n",
       "      <td>high_price</td>\n",
       "    </tr>\n",
       "    <tr>\n",
       "      <th>51834</th>\n",
       "      <td>0.76</td>\n",
       "      <td>Very Good</td>\n",
       "      <td>G</td>\n",
       "      <td>SI2</td>\n",
       "      <td>62.0</td>\n",
       "      <td>57.0</td>\n",
       "      <td>2422</td>\n",
       "      <td>5.82</td>\n",
       "      <td>5.86</td>\n",
       "      <td>3.62</td>\n",
       "      <td>cheaper</td>\n",
       "    </tr>\n",
       "    <tr>\n",
       "      <th>41157</th>\n",
       "      <td>0.52</td>\n",
       "      <td>Good</td>\n",
       "      <td>E</td>\n",
       "      <td>SI2</td>\n",
       "      <td>60.5</td>\n",
       "      <td>62.0</td>\n",
       "      <td>1199</td>\n",
       "      <td>5.15</td>\n",
       "      <td>5.20</td>\n",
       "      <td>3.13</td>\n",
       "      <td>cheaper</td>\n",
       "    </tr>\n",
       "    <tr>\n",
       "      <th>6365</th>\n",
       "      <td>0.32</td>\n",
       "      <td>Premium</td>\n",
       "      <td>H</td>\n",
       "      <td>SI1</td>\n",
       "      <td>61.9</td>\n",
       "      <td>59.0</td>\n",
       "      <td>576</td>\n",
       "      <td>4.41</td>\n",
       "      <td>4.38</td>\n",
       "      <td>2.72</td>\n",
       "      <td>cheaper</td>\n",
       "    </tr>\n",
       "    <tr>\n",
       "      <th>5830</th>\n",
       "      <td>0.77</td>\n",
       "      <td>Very Good</td>\n",
       "      <td>F</td>\n",
       "      <td>VVS2</td>\n",
       "      <td>60.6</td>\n",
       "      <td>60.0</td>\n",
       "      <td>3917</td>\n",
       "      <td>5.89</td>\n",
       "      <td>5.92</td>\n",
       "      <td>3.58</td>\n",
       "      <td>on_average</td>\n",
       "    </tr>\n",
       "    <tr>\n",
       "      <th>50467</th>\n",
       "      <td>0.61</td>\n",
       "      <td>Very Good</td>\n",
       "      <td>D</td>\n",
       "      <td>VS2</td>\n",
       "      <td>61.5</td>\n",
       "      <td>57.0</td>\n",
       "      <td>2266</td>\n",
       "      <td>5.45</td>\n",
       "      <td>5.48</td>\n",
       "      <td>3.36</td>\n",
       "      <td>cheaper</td>\n",
       "    </tr>\n",
       "  </tbody>\n",
       "</table>\n",
       "</div>\n",
       "      <button class=\"colab-df-convert\" onclick=\"convertToInteractive('df-706b04e4-f868-40bf-8cba-4e21c8880435')\"\n",
       "              title=\"Convert this dataframe to an interactive table.\"\n",
       "              style=\"display:none;\">\n",
       "        \n",
       "  <svg xmlns=\"http://www.w3.org/2000/svg\" height=\"24px\"viewBox=\"0 0 24 24\"\n",
       "       width=\"24px\">\n",
       "    <path d=\"M0 0h24v24H0V0z\" fill=\"none\"/>\n",
       "    <path d=\"M18.56 5.44l.94 2.06.94-2.06 2.06-.94-2.06-.94-.94-2.06-.94 2.06-2.06.94zm-11 1L8.5 8.5l.94-2.06 2.06-.94-2.06-.94L8.5 2.5l-.94 2.06-2.06.94zm10 10l.94 2.06.94-2.06 2.06-.94-2.06-.94-.94-2.06-.94 2.06-2.06.94z\"/><path d=\"M17.41 7.96l-1.37-1.37c-.4-.4-.92-.59-1.43-.59-.52 0-1.04.2-1.43.59L10.3 9.45l-7.72 7.72c-.78.78-.78 2.05 0 2.83L4 21.41c.39.39.9.59 1.41.59.51 0 1.02-.2 1.41-.59l7.78-7.78 2.81-2.81c.8-.78.8-2.07 0-2.86zM5.41 20L4 18.59l7.72-7.72 1.47 1.35L5.41 20z\"/>\n",
       "  </svg>\n",
       "      </button>\n",
       "      \n",
       "  <style>\n",
       "    .colab-df-container {\n",
       "      display:flex;\n",
       "      flex-wrap:wrap;\n",
       "      gap: 12px;\n",
       "    }\n",
       "\n",
       "    .colab-df-convert {\n",
       "      background-color: #E8F0FE;\n",
       "      border: none;\n",
       "      border-radius: 50%;\n",
       "      cursor: pointer;\n",
       "      display: none;\n",
       "      fill: #1967D2;\n",
       "      height: 32px;\n",
       "      padding: 0 0 0 0;\n",
       "      width: 32px;\n",
       "    }\n",
       "\n",
       "    .colab-df-convert:hover {\n",
       "      background-color: #E2EBFA;\n",
       "      box-shadow: 0px 1px 2px rgba(60, 64, 67, 0.3), 0px 1px 3px 1px rgba(60, 64, 67, 0.15);\n",
       "      fill: #174EA6;\n",
       "    }\n",
       "\n",
       "    [theme=dark] .colab-df-convert {\n",
       "      background-color: #3B4455;\n",
       "      fill: #D2E3FC;\n",
       "    }\n",
       "\n",
       "    [theme=dark] .colab-df-convert:hover {\n",
       "      background-color: #434B5C;\n",
       "      box-shadow: 0px 1px 3px 1px rgba(0, 0, 0, 0.15);\n",
       "      filter: drop-shadow(0px 1px 2px rgba(0, 0, 0, 0.3));\n",
       "      fill: #FFFFFF;\n",
       "    }\n",
       "  </style>\n",
       "\n",
       "      <script>\n",
       "        const buttonEl =\n",
       "          document.querySelector('#df-706b04e4-f868-40bf-8cba-4e21c8880435 button.colab-df-convert');\n",
       "        buttonEl.style.display =\n",
       "          google.colab.kernel.accessAllowed ? 'block' : 'none';\n",
       "\n",
       "        async function convertToInteractive(key) {\n",
       "          const element = document.querySelector('#df-706b04e4-f868-40bf-8cba-4e21c8880435');\n",
       "          const dataTable =\n",
       "            await google.colab.kernel.invokeFunction('convertToInteractive',\n",
       "                                                     [key], {});\n",
       "          if (!dataTable) return;\n",
       "\n",
       "          const docLinkHtml = 'Like what you see? Visit the ' +\n",
       "            '<a target=\"_blank\" href=https://colab.research.google.com/notebooks/data_table.ipynb>data table notebook</a>'\n",
       "            + ' to learn more about interactive tables.';\n",
       "          element.innerHTML = '';\n",
       "          dataTable['output_type'] = 'display_data';\n",
       "          await google.colab.output.renderOutput(dataTable, element);\n",
       "          const docLink = document.createElement('div');\n",
       "          docLink.innerHTML = docLinkHtml;\n",
       "          element.appendChild(docLink);\n",
       "        }\n",
       "      </script>\n",
       "    </div>\n",
       "  </div>\n",
       "  "
      ]
     },
     "metadata": {},
     "execution_count": 273
    }
   ]
  },
  {
   "cell_type": "markdown",
   "source": [
    "### Using SelectKBest from Scikit-Learn"
   ],
   "metadata": {
    "id": "zXJIoqihupAy"
   }
  },
  {
   "cell_type": "code",
   "source": [
    "from sklearn.feature_selection import SelectKBest\n",
    "from sklearn.feature_selection import chi2"
   ],
   "metadata": {
    "id": "avExU8KmR90O"
   },
   "execution_count": 96,
   "outputs": []
  },
  {
   "cell_type": "code",
   "source": [
    "# Split X and y\n",
    "X = df.drop(['price', 'x', 'y', 'z', 'depth', \n",
    "             'table', 'carat', 'price_bins'], axis=1)\n",
    "y= df.price_bins"
   ],
   "metadata": {
    "id": "sKp7tGcYeoEz"
   },
   "execution_count": 274,
   "outputs": []
  },
  {
   "cell_type": "code",
   "source": [
    "# Select categorial variables\n",
    "categorical_vars = df.select_dtypes(include='category').columns.to_list()\n",
    "\n",
    "# Encode the categorial variables\n",
    "X[categorical_vars] = X[categorical_vars].apply(lambda x: x.cat.codes)"
   ],
   "metadata": {
    "id": "9m9PKQXTnHjT"
   },
   "execution_count": 229,
   "outputs": []
  },
  {
   "cell_type": "code",
   "source": [
    "# Instance of SelectKBest\n",
    "fsel= SelectKBest(score_func=chi2, k=3)\n",
    "\n",
    "# Fit\n",
    "fsel.fit(X, y)"
   ],
   "metadata": {
    "colab": {
     "base_uri": "https://localhost:8080/"
    },
    "id": "TjMnoNNxhQp5",
    "outputId": "73f9129f-e973-4b1f-bf3a-3234557868be"
   },
   "execution_count": 232,
   "outputs": [
    {
     "output_type": "execute_result",
     "data": {
      "text/plain": [
       "SelectKBest(k=3, score_func=<function chi2 at 0x7f4dd003b790>)"
      ]
     },
     "metadata": {},
     "execution_count": 232
    }
   ]
  },
  {
   "cell_type": "code",
   "source": [
    "# Show a dataframe of the results\n",
    "(\n",
    "    pd.DataFrame({\n",
    "    'variable': X.columns,\n",
    "    'chi2_stat': fsel.scores_,\n",
    "    'p_value': fsel.pvalues_})\n",
    "    .sort_values(by='p_value', ascending=False)\n",
    ")"
   ],
   "metadata": {
    "colab": {
     "base_uri": "https://localhost:8080/",
     "height": 0
    },
    "id": "xuprgnhtlQ82",
    "outputId": "2126c444-8853-4548-f90b-def324e6c0a6"
   },
   "execution_count": 275,
   "outputs": [
    {
     "output_type": "execute_result",
     "data": {
      "text/plain": [
       "  variable    chi2_stat       p_value\n",
       "0      cut   382.290236  3.947706e-85\n",
       "1    color  1914.338101  0.000000e+00\n",
       "2  clarity  1632.632736  0.000000e+00"
      ],
      "text/html": [
       "\n",
       "  <div id=\"df-1648ac52-e4ab-4429-ae0a-a3d3d4774ef4\">\n",
       "    <div class=\"colab-df-container\">\n",
       "      <div>\n",
       "<style scoped>\n",
       "    .dataframe tbody tr th:only-of-type {\n",
       "        vertical-align: middle;\n",
       "    }\n",
       "\n",
       "    .dataframe tbody tr th {\n",
       "        vertical-align: top;\n",
       "    }\n",
       "\n",
       "    .dataframe thead th {\n",
       "        text-align: right;\n",
       "    }\n",
       "</style>\n",
       "<table border=\"1\" class=\"dataframe\">\n",
       "  <thead>\n",
       "    <tr style=\"text-align: right;\">\n",
       "      <th></th>\n",
       "      <th>variable</th>\n",
       "      <th>chi2_stat</th>\n",
       "      <th>p_value</th>\n",
       "    </tr>\n",
       "  </thead>\n",
       "  <tbody>\n",
       "    <tr>\n",
       "      <th>0</th>\n",
       "      <td>cut</td>\n",
       "      <td>382.290236</td>\n",
       "      <td>3.947706e-85</td>\n",
       "    </tr>\n",
       "    <tr>\n",
       "      <th>1</th>\n",
       "      <td>color</td>\n",
       "      <td>1914.338101</td>\n",
       "      <td>0.000000e+00</td>\n",
       "    </tr>\n",
       "    <tr>\n",
       "      <th>2</th>\n",
       "      <td>clarity</td>\n",
       "      <td>1632.632736</td>\n",
       "      <td>0.000000e+00</td>\n",
       "    </tr>\n",
       "  </tbody>\n",
       "</table>\n",
       "</div>\n",
       "      <button class=\"colab-df-convert\" onclick=\"convertToInteractive('df-1648ac52-e4ab-4429-ae0a-a3d3d4774ef4')\"\n",
       "              title=\"Convert this dataframe to an interactive table.\"\n",
       "              style=\"display:none;\">\n",
       "        \n",
       "  <svg xmlns=\"http://www.w3.org/2000/svg\" height=\"24px\"viewBox=\"0 0 24 24\"\n",
       "       width=\"24px\">\n",
       "    <path d=\"M0 0h24v24H0V0z\" fill=\"none\"/>\n",
       "    <path d=\"M18.56 5.44l.94 2.06.94-2.06 2.06-.94-2.06-.94-.94-2.06-.94 2.06-2.06.94zm-11 1L8.5 8.5l.94-2.06 2.06-.94-2.06-.94L8.5 2.5l-.94 2.06-2.06.94zm10 10l.94 2.06.94-2.06 2.06-.94-2.06-.94-.94-2.06-.94 2.06-2.06.94z\"/><path d=\"M17.41 7.96l-1.37-1.37c-.4-.4-.92-.59-1.43-.59-.52 0-1.04.2-1.43.59L10.3 9.45l-7.72 7.72c-.78.78-.78 2.05 0 2.83L4 21.41c.39.39.9.59 1.41.59.51 0 1.02-.2 1.41-.59l7.78-7.78 2.81-2.81c.8-.78.8-2.07 0-2.86zM5.41 20L4 18.59l7.72-7.72 1.47 1.35L5.41 20z\"/>\n",
       "  </svg>\n",
       "      </button>\n",
       "      \n",
       "  <style>\n",
       "    .colab-df-container {\n",
       "      display:flex;\n",
       "      flex-wrap:wrap;\n",
       "      gap: 12px;\n",
       "    }\n",
       "\n",
       "    .colab-df-convert {\n",
       "      background-color: #E8F0FE;\n",
       "      border: none;\n",
       "      border-radius: 50%;\n",
       "      cursor: pointer;\n",
       "      display: none;\n",
       "      fill: #1967D2;\n",
       "      height: 32px;\n",
       "      padding: 0 0 0 0;\n",
       "      width: 32px;\n",
       "    }\n",
       "\n",
       "    .colab-df-convert:hover {\n",
       "      background-color: #E2EBFA;\n",
       "      box-shadow: 0px 1px 2px rgba(60, 64, 67, 0.3), 0px 1px 3px 1px rgba(60, 64, 67, 0.15);\n",
       "      fill: #174EA6;\n",
       "    }\n",
       "\n",
       "    [theme=dark] .colab-df-convert {\n",
       "      background-color: #3B4455;\n",
       "      fill: #D2E3FC;\n",
       "    }\n",
       "\n",
       "    [theme=dark] .colab-df-convert:hover {\n",
       "      background-color: #434B5C;\n",
       "      box-shadow: 0px 1px 3px 1px rgba(0, 0, 0, 0.15);\n",
       "      filter: drop-shadow(0px 1px 2px rgba(0, 0, 0, 0.3));\n",
       "      fill: #FFFFFF;\n",
       "    }\n",
       "  </style>\n",
       "\n",
       "      <script>\n",
       "        const buttonEl =\n",
       "          document.querySelector('#df-1648ac52-e4ab-4429-ae0a-a3d3d4774ef4 button.colab-df-convert');\n",
       "        buttonEl.style.display =\n",
       "          google.colab.kernel.accessAllowed ? 'block' : 'none';\n",
       "\n",
       "        async function convertToInteractive(key) {\n",
       "          const element = document.querySelector('#df-1648ac52-e4ab-4429-ae0a-a3d3d4774ef4');\n",
       "          const dataTable =\n",
       "            await google.colab.kernel.invokeFunction('convertToInteractive',\n",
       "                                                     [key], {});\n",
       "          if (!dataTable) return;\n",
       "\n",
       "          const docLinkHtml = 'Like what you see? Visit the ' +\n",
       "            '<a target=\"_blank\" href=https://colab.research.google.com/notebooks/data_table.ipynb>data table notebook</a>'\n",
       "            + ' to learn more about interactive tables.';\n",
       "          element.innerHTML = '';\n",
       "          dataTable['output_type'] = 'display_data';\n",
       "          await google.colab.output.renderOutput(dataTable, element);\n",
       "          const docLink = document.createElement('div');\n",
       "          docLink.innerHTML = docLinkHtml;\n",
       "          element.appendChild(docLink);\n",
       "        }\n",
       "      </script>\n",
       "    </div>\n",
       "  </div>\n",
       "  "
      ]
     },
     "metadata": {},
     "execution_count": 275
    }
   ]
  },
  {
   "cell_type": "code",
   "source": [],
   "metadata": {
    "id": "Kprw1MoCslpM"
   },
   "execution_count": null,
   "outputs": []
  },
  {
   "cell_type": "markdown",
   "source": [
    "### Cramer's V"
   ],
   "metadata": {
    "id": "3ZAtt3tQJ84n"
   }
  },
  {
   "cell_type": "code",
   "source": [
    "# Creating a contingency table\n",
    "cont_table = pd.crosstab(index= df.cut, \n",
    "                         columns= df['price_bins'])\n",
    "\n",
    "# Chi-square value\n",
    "X2 = scs.chi2_contingency(cont_table)\n",
    "chi_stat = X2[0]"
   ],
   "metadata": {
    "id": "VOlFmfnQNYXr"
   },
   "execution_count": 267,
   "outputs": []
  },
  {
   "cell_type": "code",
   "source": [
    "# whats returned in the test : \n",
    "# (1) Chi² stat; (2) p-value; (3) Degrees of freedom; and(4) expected values.\n",
    "X2"
   ],
   "metadata": {
    "colab": {
     "base_uri": "https://localhost:8080/"
    },
    "id": "_dgSnIYcDcPG",
    "outputId": "7f89087d-1cf9-47a1-dbb8-42697f34fe38"
   },
   "execution_count": 277,
   "outputs": [
    {
     "output_type": "execute_result",
     "data": {
      "text/plain": [
       "(1603.5199669055353,\n",
       " 0.0,\n",
       " 12,\n",
       " array([[12378.84006303,  1318.4705228 ,  1509.44898035,  6344.24043382],\n",
       "        [ 7921.51562848,   843.72080089,   965.93248053,  4059.8310901 ],\n",
       "        [ 6939.87033741,   739.16573971,   846.23277716,  3556.73114572],\n",
       "        [ 2817.9940304 ,   300.14460512,   343.6200964 ,  1444.24126808],\n",
       "        [  924.77994067,    98.49833148,   112.76566555,   473.95606229]]))"
      ]
     },
     "metadata": {},
     "execution_count": 277
    }
   ]
  },
  {
   "cell_type": "code",
   "source": [
    "# Contingency table\n",
    "cont_table"
   ],
   "metadata": {
    "colab": {
     "base_uri": "https://localhost:8080/",
     "height": 332
    },
    "id": "f9MeVocwNbVk",
    "outputId": "7ff285c4-6d9c-49e2-a841-c956025bb565"
   },
   "execution_count": 284,
   "outputs": [
    {
     "output_type": "execute_result",
     "data": {
      "text/plain": [
       "price_bins  cheaper  on_average  high_price  expensive\n",
       "clarity                                               \n",
       "IF             1427          61          26        276\n",
       "VVS1           2958         140          72        485\n",
       "VVS2           3667         189          91       1119\n",
       "VS1            5040         470         229       2432\n",
       "VS2            7347         546         456       3909\n",
       "SI1            6934         678        1215       4238\n",
       "SI2            3268        1078        1633       3215\n",
       "I1              342         138          56        205"
      ],
      "text/html": [
       "\n",
       "  <div id=\"df-c0d72c1f-3a11-482b-882d-58991e7a9b73\">\n",
       "    <div class=\"colab-df-container\">\n",
       "      <div>\n",
       "<style scoped>\n",
       "    .dataframe tbody tr th:only-of-type {\n",
       "        vertical-align: middle;\n",
       "    }\n",
       "\n",
       "    .dataframe tbody tr th {\n",
       "        vertical-align: top;\n",
       "    }\n",
       "\n",
       "    .dataframe thead th {\n",
       "        text-align: right;\n",
       "    }\n",
       "</style>\n",
       "<table border=\"1\" class=\"dataframe\">\n",
       "  <thead>\n",
       "    <tr style=\"text-align: right;\">\n",
       "      <th>price_bins</th>\n",
       "      <th>cheaper</th>\n",
       "      <th>on_average</th>\n",
       "      <th>high_price</th>\n",
       "      <th>expensive</th>\n",
       "    </tr>\n",
       "    <tr>\n",
       "      <th>clarity</th>\n",
       "      <th></th>\n",
       "      <th></th>\n",
       "      <th></th>\n",
       "      <th></th>\n",
       "    </tr>\n",
       "  </thead>\n",
       "  <tbody>\n",
       "    <tr>\n",
       "      <th>IF</th>\n",
       "      <td>1427</td>\n",
       "      <td>61</td>\n",
       "      <td>26</td>\n",
       "      <td>276</td>\n",
       "    </tr>\n",
       "    <tr>\n",
       "      <th>VVS1</th>\n",
       "      <td>2958</td>\n",
       "      <td>140</td>\n",
       "      <td>72</td>\n",
       "      <td>485</td>\n",
       "    </tr>\n",
       "    <tr>\n",
       "      <th>VVS2</th>\n",
       "      <td>3667</td>\n",
       "      <td>189</td>\n",
       "      <td>91</td>\n",
       "      <td>1119</td>\n",
       "    </tr>\n",
       "    <tr>\n",
       "      <th>VS1</th>\n",
       "      <td>5040</td>\n",
       "      <td>470</td>\n",
       "      <td>229</td>\n",
       "      <td>2432</td>\n",
       "    </tr>\n",
       "    <tr>\n",
       "      <th>VS2</th>\n",
       "      <td>7347</td>\n",
       "      <td>546</td>\n",
       "      <td>456</td>\n",
       "      <td>3909</td>\n",
       "    </tr>\n",
       "    <tr>\n",
       "      <th>SI1</th>\n",
       "      <td>6934</td>\n",
       "      <td>678</td>\n",
       "      <td>1215</td>\n",
       "      <td>4238</td>\n",
       "    </tr>\n",
       "    <tr>\n",
       "      <th>SI2</th>\n",
       "      <td>3268</td>\n",
       "      <td>1078</td>\n",
       "      <td>1633</td>\n",
       "      <td>3215</td>\n",
       "    </tr>\n",
       "    <tr>\n",
       "      <th>I1</th>\n",
       "      <td>342</td>\n",
       "      <td>138</td>\n",
       "      <td>56</td>\n",
       "      <td>205</td>\n",
       "    </tr>\n",
       "  </tbody>\n",
       "</table>\n",
       "</div>\n",
       "      <button class=\"colab-df-convert\" onclick=\"convertToInteractive('df-c0d72c1f-3a11-482b-882d-58991e7a9b73')\"\n",
       "              title=\"Convert this dataframe to an interactive table.\"\n",
       "              style=\"display:none;\">\n",
       "        \n",
       "  <svg xmlns=\"http://www.w3.org/2000/svg\" height=\"24px\"viewBox=\"0 0 24 24\"\n",
       "       width=\"24px\">\n",
       "    <path d=\"M0 0h24v24H0V0z\" fill=\"none\"/>\n",
       "    <path d=\"M18.56 5.44l.94 2.06.94-2.06 2.06-.94-2.06-.94-.94-2.06-.94 2.06-2.06.94zm-11 1L8.5 8.5l.94-2.06 2.06-.94-2.06-.94L8.5 2.5l-.94 2.06-2.06.94zm10 10l.94 2.06.94-2.06 2.06-.94-2.06-.94-.94-2.06-.94 2.06-2.06.94z\"/><path d=\"M17.41 7.96l-1.37-1.37c-.4-.4-.92-.59-1.43-.59-.52 0-1.04.2-1.43.59L10.3 9.45l-7.72 7.72c-.78.78-.78 2.05 0 2.83L4 21.41c.39.39.9.59 1.41.59.51 0 1.02-.2 1.41-.59l7.78-7.78 2.81-2.81c.8-.78.8-2.07 0-2.86zM5.41 20L4 18.59l7.72-7.72 1.47 1.35L5.41 20z\"/>\n",
       "  </svg>\n",
       "      </button>\n",
       "      \n",
       "  <style>\n",
       "    .colab-df-container {\n",
       "      display:flex;\n",
       "      flex-wrap:wrap;\n",
       "      gap: 12px;\n",
       "    }\n",
       "\n",
       "    .colab-df-convert {\n",
       "      background-color: #E8F0FE;\n",
       "      border: none;\n",
       "      border-radius: 50%;\n",
       "      cursor: pointer;\n",
       "      display: none;\n",
       "      fill: #1967D2;\n",
       "      height: 32px;\n",
       "      padding: 0 0 0 0;\n",
       "      width: 32px;\n",
       "    }\n",
       "\n",
       "    .colab-df-convert:hover {\n",
       "      background-color: #E2EBFA;\n",
       "      box-shadow: 0px 1px 2px rgba(60, 64, 67, 0.3), 0px 1px 3px 1px rgba(60, 64, 67, 0.15);\n",
       "      fill: #174EA6;\n",
       "    }\n",
       "\n",
       "    [theme=dark] .colab-df-convert {\n",
       "      background-color: #3B4455;\n",
       "      fill: #D2E3FC;\n",
       "    }\n",
       "\n",
       "    [theme=dark] .colab-df-convert:hover {\n",
       "      background-color: #434B5C;\n",
       "      box-shadow: 0px 1px 3px 1px rgba(0, 0, 0, 0.15);\n",
       "      filter: drop-shadow(0px 1px 2px rgba(0, 0, 0, 0.3));\n",
       "      fill: #FFFFFF;\n",
       "    }\n",
       "  </style>\n",
       "\n",
       "      <script>\n",
       "        const buttonEl =\n",
       "          document.querySelector('#df-c0d72c1f-3a11-482b-882d-58991e7a9b73 button.colab-df-convert');\n",
       "        buttonEl.style.display =\n",
       "          google.colab.kernel.accessAllowed ? 'block' : 'none';\n",
       "\n",
       "        async function convertToInteractive(key) {\n",
       "          const element = document.querySelector('#df-c0d72c1f-3a11-482b-882d-58991e7a9b73');\n",
       "          const dataTable =\n",
       "            await google.colab.kernel.invokeFunction('convertToInteractive',\n",
       "                                                     [key], {});\n",
       "          if (!dataTable) return;\n",
       "\n",
       "          const docLinkHtml = 'Like what you see? Visit the ' +\n",
       "            '<a target=\"_blank\" href=https://colab.research.google.com/notebooks/data_table.ipynb>data table notebook</a>'\n",
       "            + ' to learn more about interactive tables.';\n",
       "          element.innerHTML = '';\n",
       "          dataTable['output_type'] = 'display_data';\n",
       "          await google.colab.output.renderOutput(dataTable, element);\n",
       "          const docLink = document.createElement('div');\n",
       "          docLink.innerHTML = docLinkHtml;\n",
       "          element.appendChild(docLink);\n",
       "        }\n",
       "      </script>\n",
       "    </div>\n",
       "  </div>\n",
       "  "
      ]
     },
     "metadata": {},
     "execution_count": 284
    }
   ]
  },
  {
   "cell_type": "code",
   "source": [
    "# Performing Cramer's V calculation\n",
    "\n",
    "# Size of the sample\n",
    "N = len(df)\n",
    "# Minimum dimension:\n",
    "# Minimum between Number of categories in rows-1, # categs columns-1\n",
    "minimum_dimension = (min(cont_table.shape)-1)\n",
    "  \n",
    "# Calculate Cramer's V\n",
    "result = np.sqrt((chi_stat/N) / minimum_dimension)\n",
    "  \n",
    "# Print the result\n",
    "print(result)"
   ],
   "metadata": {
    "colab": {
     "base_uri": "https://localhost:8080/"
    },
    "id": "kX61cnlWNd_7",
    "outputId": "31e0f24a-3dc6-4d53-8da6-404b3170d036"
   },
   "execution_count": 280,
   "outputs": [
    {
     "output_type": "stream",
     "name": "stdout",
     "text": [
      "0.09954537514956\n"
     ]
    }
   ]
  },
  {
   "cell_type": "code",
   "source": [
    "# Creating a contingency table\n",
    "cont_table = pd.crosstab(index= df.clarity, \n",
    "                         columns= df['price_bins'])\n",
    "\n",
    "# Chi-square value\n",
    "X2 = scs.chi2_contingency(cont_table)\n",
    "chi_stat = X2[0]\n",
    "\n",
    "# Performing Cramer's V calculation\n",
    "\n",
    "# Size of the sample\n",
    "N = len(df)\n",
    "# Minimum dimension\n",
    "minimum_dimension = (min(cont_table.shape)-1)\n",
    "  \n",
    "# Calculate Cramer's V\n",
    "result = np.sqrt((chi_stat/N) / minimum_dimension)\n",
    "  \n",
    "# Print the result\n",
    "print(result)"
   ],
   "metadata": {
    "colab": {
     "base_uri": "https://localhost:8080/"
    },
    "id": "c9U30VoHGh9I",
    "outputId": "4a23ca05-38eb-48c2-b34b-83a528ff5563"
   },
   "execution_count": 283,
   "outputs": [
    {
     "output_type": "stream",
     "name": "stdout",
     "text": [
      "0.18476912508901078\n"
     ]
    }
   ]
  },
  {
   "cell_type": "code",
   "source": [
    "# Creating a contingency table\n",
    "cont_table = pd.crosstab(index= df.color, \n",
    "                         columns= df['price_bins'])\n",
    "\n",
    "# Chi-square value\n",
    "X2 = scs.chi2_contingency(cont_table)\n",
    "chi_stat = X2[0]\n",
    "\n",
    "# Performing Cramer's V calculation\n",
    "\n",
    "# Size of the sample\n",
    "N = len(df)\n",
    "# Minimum dimension\n",
    "minimum_dimension = (min(cont_table.shape)-1)\n",
    "  \n",
    "# Calculate Cramer's V\n",
    "result = np.sqrt((chi_stat/N) / minimum_dimension)\n",
    "  \n",
    "# Print the result\n",
    "print(result)"
   ],
   "metadata": {
    "colab": {
     "base_uri": "https://localhost:8080/"
    },
    "id": "Ge2yw199GnbQ",
    "outputId": "21885a67-cb9c-43ce-e33d-578ed85e7635"
   },
   "execution_count": 282,
   "outputs": [
    {
     "output_type": "stream",
     "name": "stdout",
     "text": [
      "0.11533210649576157\n"
     ]
    }
   ]
  }
 ]
}
