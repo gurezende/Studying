{
  "cells": [
    {
      "cell_type": "code",
      "source": [
        "# Open a file in Python\n",
        "with open('/content/test_file.txt', 'r') as f:\n",
        "  # Split the lines\n",
        "  lines = f.read().splitlines()\n",
        "  # number of lines\n",
        "  line_ct = len(lines)\n",
        "  # count empty lines\n",
        "  empty_ct = sum([1 for l in lines if l == '' or l.isspace()])\n"
      ],
      "metadata": {
        "id": "9s-9UxwSJH5q"
      },
      "execution_count": 165,
      "outputs": []
    },
    {
      "cell_type": "code",
      "source": [
        "# Open fill file\n",
        "fill_file = open('/content/fill_file.txt', \"r\")\n",
        "fill_text = fill_file.read()\n",
        "\n",
        "# Open remove file\n",
        "rm_file = open('/content/remove_file.txt', \"r\")\n",
        "rm_text = rm_file.read()\n",
        "\n",
        "# Fill File\n",
        "with open('/content/test_file.txt', \"r\") as f:\n",
        "  data = f.read()\n",
        "  #Fill\n",
        "  data = data.replace(' ', fill_text)\n",
        "  #Remove\n",
        "  data = data.replace(rm_text, '')\n",
        "\n",
        "# Write\n",
        "with open('output_file', \"w\") as f:\n",
        "  # Insert\n",
        "  f.write(f'There are {line_ct} lines in the file\\n')\n",
        "  f.write(f'There are {empty_ct} empty lines in the file\\n')\n",
        "  f.write(data)\n"
      ],
      "metadata": {
        "id": "EKul28wFgpjH"
      },
      "execution_count": 166,
      "outputs": []
    },
    {
      "cell_type": "code",
      "source": [
        "output_file = open('/content/output_file', \"r\")\n",
        "output_file.readlines()"
      ],
      "metadata": {
        "id": "nLJE2oylov1V",
        "outputId": "0409fccc-ee2d-4626-a4b3-f78361c10b11",
        "colab": {
          "base_uri": "https://localhost:8080/"
        }
      },
      "execution_count": 167,
      "outputs": [
        {
          "output_type": "execute_result",
          "data": {
            "text/plain": [
              "['There are 5 lines in the file\\n',\n",
              " 'There are 1 empty lines in the file\\n',\n",
              " 'Hello\\n',\n",
              " 'World\\n',\n",
              " 'from\\n',\n",
              " '!\\n',\n",
              " '\\n']"
            ]
          },
          "metadata": {},
          "execution_count": 167
        }
      ]
    },
    {
      "cell_type": "code",
      "source": [],
      "metadata": {
        "id": "TsYLyXMepouI"
      },
      "execution_count": null,
      "outputs": []
    }
  ],
  "metadata": {
    "colab": {
      "name": "Welcome To Colaboratory",
      "provenance": []
    },
    "kernelspec": {
      "display_name": "Python 3",
      "name": "python3"
    }
  },
  "nbformat": 4,
  "nbformat_minor": 0
}