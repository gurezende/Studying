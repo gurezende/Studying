{
  "cells": [
    {
      "cell_type": "markdown",
      "source": [
        "KNN tweaked.\n",
        "Sometimes, when the classes are unbalanced, it won't find the best classification"
      ],
      "metadata": {
        "id": "GN3TyRXAN723"
      }
    },
    {
      "cell_type": "code",
      "source": [
        "import pandas as pd\n",
        "from sklearn.neighbors import KNeighborsClassifier\n",
        "import matplotlib.pyplot as plt\n"
      ],
      "metadata": {
        "id": "QGO1-IyhN6Ru"
      },
      "execution_count": 3,
      "outputs": []
    },
    {
      "cell_type": "code",
      "source": [
        "# Create a dataset\n",
        "df = pd.DataFrame(\n",
        "    {'group': ['gold', 'gold', 'gold',\n",
        "               'blue', 'blue', 'blue', 'blue', 'blue', 'blue', 'blue', 'blue', 'blue', 'blue'],\n",
        "     'x':[1, 1.2, 1.3,\n",
        "          5, 5.6, 5.5, 5.44, 5.89, 5.1, 5.22, 5.4, 5, 5.77],\n",
        "     'y': [3, 3.2, 3.3,\n",
        "          7, 7.6, 7.5, 7.44, 7.9, 7.16, 7.2, 7.44, 7.5, 7.7]}\n",
        ")"
      ],
      "metadata": {
        "id": "A4Nu3ORHOTvw"
      },
      "execution_count": 33,
      "outputs": []
    },
    {
      "cell_type": "code",
      "source": [
        "# Plot x, y, by color group\n",
        "df.plot.scatter(x='x', y='y', c='group');"
      ],
      "metadata": {
        "id": "5cy5Tt5FPFMa",
        "outputId": "99a4e0f4-23d6-4103-dd09-9d0749a01c5a",
        "colab": {
          "base_uri": "https://localhost:8080/",
          "height": 449
        }
      },
      "execution_count": 32,
      "outputs": [
        {
          "output_type": "display_data",
          "data": {
            "text/plain": [
              "<Figure size 640x480 with 1 Axes>"
            ],
            "image/png": "[encoded data removed]"
          },
          "metadata": {}
        }
      ]
    },
    {
      "cell_type": "markdown",
      "source": [
        "In this first case, we are using the KNN classifier with the default for agument weights as *uniform*. Notice that if we use up to 5 nieghbors, the classification will be as expected = **gold**, since it's closer to the yellow points. In this case, the KNN algorithm is finding all the 3 yellow dots and only 2 blue dots as the nearest neighbors.\n",
        "\n",
        "Once it goes to 7 or more neighbors, the algorithm will always find more blue dots, since the classes are unbalanced, thus biasing the classification."
      ],
      "metadata": {
        "id": "jIJHzsH5R_-O"
      }
    },
    {
      "cell_type": "code",
      "source": [
        "\n",
        "# X and Y\n",
        "X = df[['x', 'y']]\n",
        "y = df['group']\n",
        "\n",
        "# Instantiate KNN\n",
        "knn = KNeighborsClassifier(n_neighbors=5)\n",
        "\n",
        "# Fit\n",
        "knn.fit(X,y)\n",
        "\n",
        "# NEW Observation\n",
        "new = pd.DataFrame({'x':2, 'y':3.4}, index=[0])\n",
        "\n",
        "# predict\n",
        "knn.predict(new)"
      ],
      "metadata": {
        "id": "eBpwP595PZfH",
        "outputId": "175e081f-239b-4f0b-ab62-0b6777b951bd",
        "colab": {
          "base_uri": "https://localhost:8080/"
        }
      },
      "execution_count": 41,
      "outputs": [
        {
          "output_type": "execute_result",
          "data": {
            "text/plain": [
              "array(['gold'], dtype=object)"
            ]
          },
          "metadata": {},
          "execution_count": 41
        }
      ]
    },
    {
      "cell_type": "markdown",
      "source": [
        "To correct that, just use the argument **weights** as *'distance'*, so the distance will also be taken in consideration before the final classification.\n",
        "Here, the classification is *gold* even if we use 10 nearest neighbors."
      ],
      "metadata": {
        "id": "WOZ_qZeGTFwY"
      }
    },
    {
      "cell_type": "code",
      "source": [
        "# Instantiate KNN using the weights argument\n",
        "knn = KNeighborsClassifier(n_neighbors=10, weights='distance')\n",
        "\n",
        "# Fit\n",
        "knn.fit(X,y)\n",
        "\n",
        "# NEW Observation\n",
        "new = pd.DataFrame({'x':2, 'y':3.4}, index=[0])\n",
        "\n",
        "# predict\n",
        "knn.predict(new)"
      ],
      "metadata": {
        "id": "dW7yAPxnQ9J7",
        "outputId": "9398ef0a-3a70-4759-d914-15cb9c6765cc",
        "colab": {
          "base_uri": "https://localhost:8080/"
        }
      },
      "execution_count": 42,
      "outputs": [
        {
          "output_type": "execute_result",
          "data": {
            "text/plain": [
              "array(['gold'], dtype=object)"
            ]
          },
          "metadata": {},
          "execution_count": 42
        }
      ]
    },
    {
      "cell_type": "code",
      "source": [],
      "metadata": {
        "id": "xwHKigFQR3RO"
      },
      "execution_count": null,
      "outputs": []
    }
  ],
  "metadata": {
    "colab": {
      "name": "Welcome To Colaboratory",
      "provenance": []
    },
    "kernelspec": {
      "display_name": "Python 3",
      "name": "python3"
    }
  },
  "nbformat": 4,
  "nbformat_minor": 0
}