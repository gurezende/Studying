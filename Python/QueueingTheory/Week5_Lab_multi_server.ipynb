{
 "cells": [
  {
   "cell_type": "markdown",
   "metadata": {},
   "source": [
    "<p><font size=\"4\">  MOOC: Understanding queues</font></p>\n",
    "<p><font size=\"4\">  Python lab\n",
    "</p></br>\n",
    "<p><font size=\"4\">  Week V: Multi server systems </p></br>\n",
    "\n",
    "----------------------------"
   ]
  },
  {
   "cell_type": "markdown",
   "metadata": {},
   "source": [
    "This lab focusses on multiserver queues. Numerical computations are peformed that illustrate the results obtained in the problems that we just studied.\n",
    "\n",
    "---------"
   ]
  },
  {
   "cell_type": "markdown",
   "metadata": {},
   "source": [
    "**1)** Let us consider an M/M/C/C queue with offered load $\\rho$. Complete the code of function **p(rho,C)** that returns the vector of length $C+1$ that represents the stationary distribution of an M/M/C/C queue with $C$ servers "
   ]
  },
  {
   "cell_type": "code",
   "execution_count": 1,
   "metadata": {
    "collapsed": true
   },
   "outputs": [],
   "source": [
    "%matplotlib inline              \n",
    "from pylab import *          "
   ]
  },
  {
   "cell_type": "code",
   "execution_count": 27,
   "metadata": {
    "collapsed": false
   },
   "outputs": [
    {
     "data": {
      "text/plain": "0.36923076923076925"
     },
     "execution_count": 27,
     "metadata": {},
     "output_type": "execute_result"
    }
   ],
   "source": [
    "# Calculation of the stationary distribution of an M/M/C/C\n",
    "def p(rho,C):\n",
    "    pi_   = ones(C+1)\n",
    "    for k in range(C):\n",
    "        #####################\n",
    "        # supply the expression of pi_[k+1]\n",
    "        # in terms of pi_[k]\n",
    "        pi_[k+1] = (1/(k+1)) * pi_[k]\n",
    "        #####################\n",
    "    pi_ = pi_/sum(pi_)\n",
    "    return pi_\n",
    "\n",
    "#----------\n",
    "V1 = p(1,4)[0]\n",
    "V1"
   ]
  },
  {
   "cell_type": "markdown",
   "metadata": {},
   "source": [
    "**2)** Complete the code of the function **Eb(rho,C)** that implements \n",
    "the computation of the loss probability (Erlang B formula). Check that for the problem of the videoconference server where $\\lambda=1$, $\\mu=1$ and $C=4$ you find the same result as in the problem. "
   ]
  },
  {
   "cell_type": "code",
   "execution_count": 30,
   "metadata": {
    "collapsed": false
   },
   "outputs": [],
   "source": [
    "from math import factorial\n",
    "#############\n",
    "# Complete the code of Erlang B formula \n",
    "def Eb(rho,C):\n",
    "    return round( (( rho**C) / factorial(C) ) / sum([(rho**i)/factorial(i) for i in range(C)]), 5)\n",
    "#############\n",
    "lambda_, mu, C = 1., 1., 4\n",
    "V2 = Eb(lambda_/mu,C)"
   ]
  },
  {
   "cell_type": "markdown",
   "metadata": {},
   "source": [
    "**3)** Using the curves below that represent the loss probability $E_b$ vs the offered load, give the minimum values of $C$ for which the loss probability is lower than 3% and .5% respectively for $\\rho=1$Erlang. Note that you can change the value of $C$ in the figure below by moving around the slider on top of it."
   ]
  },
  {
   "cell_type": "code",
   "execution_count": 31,
   "metadata": {
    "collapsed": false
   },
   "outputs": [],
   "source": [
    "# Importing ipywidgets for interactive plotting\n",
    "from ipywidgets import *"
   ]
  },
  {
   "cell_type": "code",
   "execution_count": 33,
   "metadata": {
    "collapsed": false
   },
   "outputs": [
    {
     "data": {
      "text/plain": "interactive(children=(IntSlider(value=5, description='C', max=10, min=1), Output()), _dom_classes=('widget-int…",
      "application/vnd.jupyter.widget-view+json": {
       "version_major": 2,
       "version_minor": 0,
       "model_id": "82b6b8f5d4fd4b29b3783ac8f1e8bfbf"
      }
     },
     "metadata": {},
     "output_type": "display_data"
    }
   ],
   "source": [
    "rcParams['figure.figsize'] = 10,7\n",
    "def plt_Eb(C):\n",
    "    # plot of rho -->Eb(rho,c)\n",
    "    C_max   = 20\n",
    "    rho_max = 4\n",
    "    ymin    = 1.0e-7\n",
    "    ymax    = 60\n",
    "    rho     = linspace(0,rho_max,100)\n",
    "\n",
    "    plot(rho, [100*Eb(r,C) for r in rho])\n",
    "    grid('on')\n",
    "    xlabel(r\"Offered Load $\\rho$\", fontsize=20)\n",
    "    ylabel(r\"$E_B (\\%)$\", fontsize=20)\n",
    "    title(\"Loss probability\", fontsize=20)\n",
    "    def point_loss(x,y,color,label):\n",
    "        # point rho=x and loss_probability=y%\n",
    "        semilogy(x,y,'o',color=color,label=label)\n",
    "        semilogy((0,rho_max),(y,y),'r',linewidth=.4)\n",
    "    semilogy((1,1),(ymin,ymax),'r',linewidth=.4)     \n",
    "    # point of loss probability 1%\n",
    "    point_loss(1,3,color='b',label=r'$E_B=3\\%$')\n",
    "    point_loss(1,.5,color='g',label=r'$E_B=0.5\\%$')\n",
    "    legend(fontsize=20)\n",
    "    axis(xmin=0,xmax=rho_max,ymin=ymin,ymax=ymax)\n",
    "    show()\n",
    "\n",
    "# interactive plot of rho -->Eb(rho,c) for varying c\n",
    "interact(plt_Eb, C=(1,10,1))\n",
    "\n",
    "#######################\n",
    "# supply the minimum values of C such that Eb<3% and Eb<.5%\n",
    "V3 = 4   # min value of C such that Eb(1,C)<3%\n",
    "V4 = 5   # min value of C such that Eb(1,C)<.5%\n",
    "#######################"
   ]
  },
  {
   "cell_type": "markdown",
   "metadata": {},
   "source": [
    "**4)** Now, we are going to extend the results of the video conferencing system problem to the case where there can be subscribers and occasional clients and $C\\geq 1$.\n",
    "\n",
    "For instance, in the case $C=3$ states of the system are in the form $(a,b)$ with $0\\leq a,b\\leq 3$.\n",
    "\n",
    "<img src=\"video_conf_C=3.png\" height=500, width=700>\n",
    "\n",
    "In this case, putting balance equations in the form $\\pi {\\bf Q}=0$ yields a generator matrix ${\\bf Q}$ in the form\n",
    "\n",
    "$$\n",
    "{\\bf Q} =\\\\\n",
    "\\begin{pmatrix}\n",
    "-(\\lambda+\\lambda') &\\lambda'&0&0&\\lambda&0&0&0&0&0\\\\\n",
    "\\mu&-(\\lambda+\\lambda'+\\mu)&\\lambda'&0&0&\\lambda&0&0&0&0\\\\\n",
    "0&2\\mu&-(\\lambda+\\lambda'+2\\mu)&\\lambda'&0&0&\\lambda&0&0&0\\\\\n",
    "0&0&3\\mu&-(\\lambda+3\\mu)&0&0&\\lambda&0&0&0\\\\\n",
    "\\mu&0&0&0&-(\\lambda+\\lambda'+\\mu)&\\lambda'&0&\\lambda&0&0\\\\\n",
    "0&\\mu&0&0&\\mu&-(\\lambda+\\lambda'+2\\mu)&\\lambda'&0&\\lambda&0\\\\\n",
    "0&0&\\mu&0&0&2\\mu&-(\\lambda+3\\mu)&0&\\lambda&0\\\\\n",
    "0&0&0&0&2\\mu&0&0&-(\\lambda+\\lambda'+2\\mu)&\\lambda'&\\lambda\\\\\n",
    "0&0&0&0&0&2\\mu&0&\\mu&-(\\lambda+3\\mu)&\\lambda\\\\\n",
    "0&0&0&0&0&0&0&3\\mu&0&-3\\mu\\\\\n",
    "\\end{pmatrix}\n",
    "$$\n",
    "\n",
    "where $[{\\bf Q}]_{ij}$ is the entry $(i,j)$ of ${\\bf Q}$ that denotes transition intensity from state $(a,b)$ to state $(c,d)$ with $i=(a(C+1)-a(a-1)/2+b$ and $j=c(C+1)-c(c-1)/2+d$ for $i\\neq j$ and $[{\\bf Q}]_{ii}=-\\sum_{j\\neq i}[{\\bf Q}]_{ij}$. The general implementation of matrix ${\\bf Q}$ is given in function **matQ(lambda_s,mu,lambda_o,C)** below where **lambda_s** and **lambda_o** stand for the intensity of arrivals  of subscribers ($\\lambda$) and occasional customers ($\\lambda'$). Complete the code of the function and check that for $C=3$ we find the expression given above here for ${\\bf Q}$. "
   ]
  },
  {
   "cell_type": "code",
   "execution_count": 34,
   "metadata": {
    "collapsed": false
   },
   "outputs": [
    {
     "ename": "TypeError",
     "evalue": "float() argument must be a string or a number, not 'ellipsis'",
     "output_type": "error",
     "traceback": [
      "\u001B[1;31m---------------------------------------------------------------------------\u001B[0m",
      "\u001B[1;31mTypeError\u001B[0m                                 Traceback (most recent call last)",
      "\u001B[1;32m<ipython-input-34-403cc2b78a56>\u001B[0m in \u001B[0;36m<module>\u001B[1;34m\u001B[0m\n\u001B[0;32m     30\u001B[0m \u001B[1;33m\u001B[0m\u001B[0m\n\u001B[0;32m     31\u001B[0m \u001B[0mlambda_s\u001B[0m\u001B[1;33m,\u001B[0m\u001B[0mmu\u001B[0m\u001B[1;33m,\u001B[0m\u001B[0mlambda_o\u001B[0m\u001B[1;33m,\u001B[0m\u001B[0mC\u001B[0m \u001B[1;33m=\u001B[0m \u001B[1;36m1\u001B[0m\u001B[1;33m,\u001B[0m\u001B[1;36m1\u001B[0m\u001B[1;33m,\u001B[0m\u001B[1;36m2\u001B[0m\u001B[1;33m,\u001B[0m\u001B[1;36m3\u001B[0m\u001B[1;33m\u001B[0m\u001B[1;33m\u001B[0m\u001B[0m\n\u001B[1;32m---> 32\u001B[1;33m \u001B[0mmatQ\u001B[0m\u001B[1;33m(\u001B[0m\u001B[0mlambda_s\u001B[0m\u001B[1;33m,\u001B[0m\u001B[0mmu\u001B[0m\u001B[1;33m,\u001B[0m\u001B[0mlambda_o\u001B[0m\u001B[1;33m,\u001B[0m\u001B[0mC\u001B[0m\u001B[1;33m)\u001B[0m\u001B[1;33m\u001B[0m\u001B[1;33m\u001B[0m\u001B[0m\n\u001B[0m\u001B[0;32m     33\u001B[0m \u001B[1;33m\u001B[0m\u001B[0m\n",
      "\u001B[1;32m<ipython-input-34-403cc2b78a56>\u001B[0m in \u001B[0;36mmatQ\u001B[1;34m(lambda_s, mu, lambda_o, C)\u001B[0m\n\u001B[0;32m     25\u001B[0m             \u001B[1;31m############################\u001B[0m\u001B[1;33m\u001B[0m\u001B[1;33m\u001B[0m\u001B[1;33m\u001B[0m\u001B[0m\n\u001B[0;32m     26\u001B[0m             \u001B[1;31m# Supply the value of Q[i,i]\u001B[0m\u001B[1;33m\u001B[0m\u001B[1;33m\u001B[0m\u001B[1;33m\u001B[0m\u001B[0m\n\u001B[1;32m---> 27\u001B[1;33m             \u001B[0mQ\u001B[0m\u001B[1;33m[\u001B[0m\u001B[0mi\u001B[0m\u001B[1;33m,\u001B[0m\u001B[0mi\u001B[0m\u001B[1;33m]\u001B[0m \u001B[1;33m=\u001B[0m \u001B[1;33m...\u001B[0m  \u001B[1;31m# setting constraint sum(Q[i,:])=0\u001B[0m\u001B[1;33m\u001B[0m\u001B[1;33m\u001B[0m\u001B[0m\n\u001B[0m\u001B[0;32m     28\u001B[0m             \u001B[1;31m############################\u001B[0m\u001B[1;33m\u001B[0m\u001B[1;33m\u001B[0m\u001B[1;33m\u001B[0m\u001B[0m\n\u001B[0;32m     29\u001B[0m     \u001B[1;32mreturn\u001B[0m \u001B[0mQ\u001B[0m\u001B[1;33m\u001B[0m\u001B[1;33m\u001B[0m\u001B[0m\n",
      "\u001B[1;31mTypeError\u001B[0m: float() argument must be a string or a number, not 'ellipsis'"
     ]
    }
   ],
   "source": [
    "def ab_to_i(a,b):\n",
    "    # index conversion (a,b)-->i\n",
    "    # (a,b) stands for the state (N,N') \n",
    "    # and i for the corresponding line or column index of Q\n",
    "    # note that matrix and state pairs indexing begin at 0\n",
    "    return int(a*(C+1)-a*(a-1)/2 + b)\n",
    "\n",
    "def matQ(lambda_s,mu,lambda_o,C):\n",
    "    # building Q\n",
    "    s = int((C+1)**2-C*(C+1)/2)\n",
    "    Q = zeros(shape=(s,s))\n",
    "    for a in range(C+1):       # loop over N\n",
    "        for b in range(C+1-a): # loop over N'\n",
    "            i = ab_to_i(a,b)   # corresponding index in the matrix Q\n",
    "            if b>0: # transition (a,b)-->(a,b-1)\n",
    "                Q[i,ab_to_i(a,b-1)]     = b*mu \n",
    "            if a>0: # transition (a,b)-->(a-1,b)\n",
    "                Q[i,ab_to_i(a-1,b)]     = a*mu \n",
    "            if b<C-a: # transition (a,b)-->(a,b+1)\n",
    "                Q[i,ab_to_i(a,b+1)]     = lambda_o \n",
    "                if i<s-1: # transition (a,b)-->(a+1,b)\n",
    "                    Q[i,ab_to_i(a+1,b)] = lambda_s \n",
    "            elif i<s-1: # transition (a,C-a)-->(a+1,C-a-1)\n",
    "                Q[i,ab_to_i(a+1,b-1)]   = lambda_s      \n",
    "            ############################\n",
    "            # Supply the value of Q[i,i]\n",
    "            Q[i,i] = ...  # setting constraint sum(Q[i,:])=0\n",
    "            ############################\n",
    "    return Q\n",
    "\n",
    "lambda_s,mu,lambda_o,C = 1,1,2,3\n",
    "matQ(lambda_s,mu,lambda_o,C)"
   ]
  },
  {
   "cell_type": "markdown",
   "metadata": {},
   "source": [
    "**5)** For $C=4$, let us compute the stationary distribution $\\pi_Q$ of the system from equations $\\pi_Q{\\bf Q}=0$ and $\\sum_i \\pi_Q[i]=1$ (two techniques are provided below). From $\\pi_Q$, compute the blocking probability for $N$ and for $N'$."
   ]
  },
  {
   "cell_type": "code",
   "execution_count": null,
   "metadata": {
    "collapsed": true
   },
   "outputs": [],
   "source": [
    "# to solve overdetermined systems of equations Ax=b\n",
    "# https://docs.scipy.org/doc/numpy/reference/generated/numpy.linalg.lstsq.html#numpy.linalg.lstsq\n",
    "from scipy.linalg import lstsq"
   ]
  },
  {
   "cell_type": "code",
   "execution_count": null,
   "metadata": {
    "collapsed": false
   },
   "outputs": [],
   "source": [
    "set_printoptions(precision=4)\n",
    "lambda_s,mu,lambda_o,C = 1,1,2,4\n",
    "A     = matQ(lambda_s,mu,lambda_o,C).T\n",
    "m,n   = A.shape\n",
    "A     = vstack((A,ones(n))) # adding constraint sum(pi[i])=1\n",
    "b     = zeros(m+1)\n",
    "b[-1] = 1\n",
    "# solves equations pi.Q=0 and normalization condition\n",
    "pi_Q  = lstsq(A,b)[0] \n",
    "##########################\n",
    "# supply the blocking probability for for suscribers \n",
    "# and occasional users\n",
    "def blocking(pi_Q,C):\n",
    "    #returns blocking probability for suscribers (P_s)\n",
    "    # and occasional users (P_o)\n",
    "    P_s = ...\n",
    "    P_o = ...\n",
    "    return P_s, P_o\n",
    "##########################\n",
    "V5,V6 = blocking(pi_Q,C)\n",
    "print(\"The blocking probability for N  is %.3f\" %V5)\n",
    "print('Erlang B formula yields Eb(',lambda_s/mu,',',C,\n",
    "                          ') = %.3f' %Eb(lambda_s/mu,C))\n",
    "print(\"The blocking probability for N' is %.3f\" %V6)"
   ]
  },
  {
   "cell_type": "markdown",
   "metadata": {},
   "source": [
    "Until now, we have considered the case $C=4$. Le t us show the influence of $C$ on blocking probabilities for subscribers and occasional customers. As expected blocking probabilities for subscribers remains lower than that of  occasional customers and both blocking probabilities decrease to 0 as $C$ increases. "
   ]
  },
  {
   "cell_type": "code",
   "execution_count": null,
   "metadata": {
    "collapsed": false
   },
   "outputs": [],
   "source": [
    "Cmax = 10\n",
    "rcParams[\"figure.figsize\"] = 12,9\n",
    "for C in range(1,Cmax+1):\n",
    "    A     = matQ(lambda_s,mu,lambda_o,C).T\n",
    "    m,n   = A.shape\n",
    "    A     = vstack((A,ones(n))) # adding constraint sum(pi[i])=1\n",
    "    b     = zeros(m+1)\n",
    "    b[-1] = 1\n",
    "    # solves equations pi.Q=0 and normalization condition\n",
    "    pi_Q  = lstsq(A,b)[0] \n",
    "    P_s,P_o = blocking(pi_Q,C)\n",
    "    semilogy(C,P_s,'or')\n",
    "    semilogy(C,P_o,'og')\n",
    "semilogy(C,P_s,'or',label='subscribers')\n",
    "semilogy(C,P_o,'og',label='occasional')\n",
    "grid('on')\n",
    "legend(fontsize=20)\n",
    "xlabel('C',fontsize=20)\n",
    "ylabel('Blocking probability',fontsize=20)"
   ]
  },
  {
   "cell_type": "markdown",
   "metadata": {},
   "source": [
    "# Conclusion\n",
    "\n",
    "In this lab, we have confirmed the interest of using several servers in queuing systems. At the end of this week you probably have become quite familiar with tweaking the code to deal with a few standard or more advanced queuing systems. \n",
    "\n",
    "Here we are! We hope that you found these labs helpful for understanding queues and possibly set up your own simulation experiments of queueing systems."
   ]
  },
  {
   "cell_type": "markdown",
   "metadata": {},
   "source": [
    "# Your answers for the exercise"
   ]
  },
  {
   "cell_type": "code",
   "execution_count": 35,
   "metadata": {
    "collapsed": false
   },
   "outputs": [
    {
     "name": "stdout",
     "output_type": "stream",
     "text": [
      "---------------------------\n",
      "RESULTS SUPPLIED FOR LAB 5:\n",
      "---------------------------\n",
      "V1 = 0.369\n",
      "V2 = 0.016\n",
      "V3 = 4.000\n",
      "V4 = 5.000\n",
      "V5: variable is undefined\n",
      "V6: variable is undefined\n"
     ]
    }
   ],
   "source": [
    "print(\"---------------------------\\n\"\n",
    "      +\"RESULTS SUPPLIED FOR LAB 5:\\n\"\n",
    "      +\"---------------------------\")\n",
    "results = (\"V\"+str(k) for k in range(1,7))\n",
    "for x in results:\n",
    "    try:\n",
    "        print(x+\" = {0:.3f}\".format(eval(x)))\n",
    "    except:\n",
    "        print(x+\": variable is undefined\")"
   ]
  },
  {
   "cell_type": "code",
   "execution_count": 2,
   "outputs": [],
   "source": [
    "import pandas as pd"
   ],
   "metadata": {
    "collapsed": false,
    "pycharm": {
     "name": "#%%\n"
    }
   }
  },
  {
   "cell_type": "code",
   "execution_count": 3,
   "outputs": [
    {
     "ename": "SyntaxError",
     "evalue": "EOL while scanning string literal (<ipython-input-3-c0b417fd4c11>, line 1)",
     "output_type": "error",
     "traceback": [
      "\u001B[1;36m  File \u001B[1;32m\"<ipython-input-3-c0b417fd4c11>\"\u001B[1;36m, line \u001B[1;32m1\u001B[0m\n\u001B[1;33m    xml = '<Ticket>\u001B[0m\n\u001B[1;37m                   ^\u001B[0m\n\u001B[1;31mSyntaxError\u001B[0m\u001B[1;31m:\u001B[0m EOL while scanning string literal\n"
     ]
    }
   ],
   "source": [
    "xml = '<Ticket>\n",
    "<TicketStart Opcode=\"33\" TicketStart=\"1\" NoSale=\"0\" RecalledTicket=\"0\" VoidTicket=\"0\" TenderPurchase=\"0\" opt_wic_ticket=\"0\" opt_freq_shop=\"0\" return_type=\"0\" recall_ticket_no=\"0\" wic_issue_day=\"0\" wic_issue_year=\"0\" wic_exp_day=\"0\" wic_exp_year=\"0\" wic_issue_month=\"0\" wic_exp_month=\"0\" wic_amount=\"0\" recall_pos_no=\"0\" SelfScanningTicket=\"0\" TailDoNotProcess=\"0\" TailBadRecord=\"0\" TailTrainingMode=\"0\" TailPosOffline=\"0\" TailVoidTicket=\"0\" TailReturnTicket=\"0\" TailTV=\"15\" Unique=\"1266\" TailStoreNumber=\"8166\" TailDate=\"2020-09-20\" TailTime=\"07:08:03\" TailCashierNo=\"217\" TailPcNo=\"1\" TailPosNo=\"1\" TailTicketNumber=\"1536\" TailSequenceNumber=\"49029\" />\n",
    "<Location Opcode=\"96\" Function=\"49\" TenderCorrection=\"0\" FuelMergeRecall=\"0\" Invoice=\"0\" Frgn_cust=\"0\" Express_pos=\"0\" Rdh_sale=\"0\" DepositPrevTicket=\"0\" Rdh_return=\"0\" StoreID=\"008166\" POSTermType=\"0\" CheckoutBankNo=\"11\" EFTLocation=\"00000\" POSTermProfile=\"0\" DocType=\"0\" POSTermNo=\"1\" CashierNo=\"217\" wholesale_trs_type=\"0\" InvoiceNo=\"\" InvoiceDate=\"1900-01-01\" InvoiceTime=\"00:00:00\" TailDoNotProcess=\"0\" TailBadRecord=\"0\" TailTrainingMode=\"0\" TailPosOffline=\"0\" TailVoidTicket=\"0\" TailReturnTicket=\"0\" TailTV=\"15\" Unique=\"1266\" TailStoreNumber=\"8166\" TailDate=\"2020-09-20\" TailTime=\"07:08:03\" TailCashierNo=\"217\" TailPcNo=\"1\" TailPosNo=\"1\" TailTicketNumber=\"1536\" TailSequenceNumber=\"49030\" />\n",
    "<PluSale Opcode=\"1\" PluNo=\"00007225002075\" Subtract=\"0\" Cancel=\"0\" Negative=\"0\" opt_was_cancelled=\"0\" opt_supplier_promotion=\"0\" opt_staff_discountable=\"1\" opt_accept_price_override=\"0\" PriceOverride=\"0\" ManualPrice=\"0\" WeightFromScale=\"0\" QtyIsWeight=\"0\" ChainedPrevItem=\"0\" NonMerchandise=\"0\" StoreCoupon=\"0\" VendorCoupon=\"0\" ItemDiscountable=\"1\" ScannedItem=\"1\" Non-RXItem=\"0\" opt_WIC_CVV=\"0\" opt_manual_tare_weight=\"0\" opt_freq_shop_disc=\"0\" FSPayment=\"1\" DepartmentNo=\"1000\" MultipleSellUnits=\"1\" ReturnType=\"0\" TaxPointer=\"0\" Qty=\"1\" Price=\"299\" Amount=\"299\" nt_amount=\"299\" opt_rss_item_sale=\"0\" BottleDeposit=\"0\" BottleRefund=\"0\" opt_Rx=\"0\" opt_qty_case=\"0\" TailDoNotProcess=\"0\" TailBadRecord=\"0\" TailTrainingMode=\"0\" TailPosOffline=\"0\" TailVoidTicket=\"0\" TailReturnTicket=\"0\" TailTV=\"15\" Unique=\"1266\" TailStoreNumber=\"8166\" TailDate=\"2020-09-20\" TailTime=\"07:08:03\" TailCashierNo=\"217\" TailPcNo=\"1\" TailPosNo=\"1\" TailTicketNumber=\"1536\" TailSequenceNumber=\"49031\" />\n",
    "<PluSale Opcode=\"1\" PluNo=\"00004410010201\" Subtract=\"0\" Cancel=\"0\" Negative=\"0\" opt_was_cancelled=\"0\" opt_supplier_promotion=\"0\" opt_staff_discountable=\"1\" opt_accept_price_override=\"0\" PriceOverride=\"0\" ManualPrice=\"0\" WeightFromScale=\"0\" QtyIsWeight=\"0\" ChainedPrevItem=\"0\" NonMerchandise=\"0\" StoreCoupon=\"0\" VendorCoupon=\"0\" ItemDiscountable=\"1\" ScannedItem=\"1\" Non-RXItem=\"0\" opt_WIC_CVV=\"0\" opt_manual_tare_weight=\"0\" opt_freq_shop_disc=\"0\" FSPayment=\"1\" DepartmentNo=\"1004\" MultipleSellUnits=\"1\" ReturnType=\"0\" TaxPointer=\"0\" Qty=\"1\" Price=\"279\" Amount=\"279\" nt_amount=\"279\" opt_rss_item_sale=\"0\" BottleDeposit=\"0\" BottleRefund=\"0\" opt_Rx=\"0\" opt_qty_case=\"0\" TailDoNotProcess=\"0\" TailBadRecord=\"0\" TailTrainingMode=\"0\" TailPosOffline=\"0\" TailVoidTicket=\"0\" TailReturnTicket=\"0\" TailTV=\"15\" Unique=\"1266\" TailStoreNumber=\"8166\" TailDate=\"2020-09-20\" TailTime=\"07:08:05\" TailCashierNo=\"217\" TailPcNo=\"1\" TailPosNo=\"1\" TailTicketNumber=\"1536\" TailSequenceNumber=\"49035\" />\n",
    "<PluSale Opcode=\"1\" PluNo=\"00071514150349\" Subtract=\"0\" Cancel=\"0\" Negative=\"0\" opt_was_cancelled=\"0\" opt_supplier_promotion=\"0\" opt_staff_discountable=\"1\" opt_accept_price_override=\"0\" PriceOverride=\"0\" ManualPrice=\"0\" WeightFromScale=\"0\" QtyIsWeight=\"0\" ChainedPrevItem=\"0\" NonMerchandise=\"0\" StoreCoupon=\"0\" VendorCoupon=\"0\" ItemDiscountable=\"1\" ScannedItem=\"1\" Non-RXItem=\"0\" opt_WIC_CVV=\"0\" opt_manual_tare_weight=\"0\" opt_freq_shop_disc=\"0\" FSPayment=\"1\" DepartmentNo=\"1004\" MultipleSellUnits=\"1\" ReturnType=\"0\" TaxPointer=\"0\" Qty=\"1\" Price=\"299\" Amount=\"299\" nt_amount=\"299\" opt_rss_item_sale=\"0\" BottleDeposit=\"0\" BottleRefund=\"0\" opt_Rx=\"0\" opt_qty_case=\"0\" TailDoNotProcess=\"0\" TailBadRecord=\"0\" TailTrainingMode=\"0\" TailPosOffline=\"0\" TailVoidTicket=\"0\" TailReturnTicket=\"0\" TailTV=\"15\" Unique=\"1266\" TailStoreNumber=\"8166\" TailDate=\"2020-09-20\" TailTime=\"07:08:11\" TailCashierNo=\"217\" TailPcNo=\"1\" TailPosNo=\"1\" TailTicketNumber=\"1536\" TailSequenceNumber=\"49039\" />\n",
    "<PluSale Opcode=\"1\" PluNo=\"00000000004011\" Subtract=\"0\" Cancel=\"0\" Negative=\"0\" opt_was_cancelled=\"0\" opt_supplier_promotion=\"0\" opt_staff_discountable=\"1\" opt_accept_price_override=\"0\" PriceOverride=\"0\" ManualPrice=\"0\" WeightFromScale=\"1\" QtyIsWeight=\"1\" ChainedPrevItem=\"0\" NonMerchandise=\"0\" StoreCoupon=\"0\" VendorCoupon=\"0\" ItemDiscountable=\"1\" ScannedItem=\"0\" Non-RXItem=\"0\" opt_WIC_CVV=\"1\" opt_manual_tare_weight=\"0\" opt_freq_shop_disc=\"0\" FSPayment=\"1\" DepartmentNo=\"4000\" MultipleSellUnits=\"1\" ReturnType=\"0\" TaxPointer=\"0\" Qty=\"1150\" Price=\"49\" Amount=\"56\" nt_amount=\"56\" opt_rss_item_sale=\"0\" BottleDeposit=\"0\" BottleRefund=\"0\" opt_Rx=\"0\" opt_qty_case=\"0\" TailDoNotProcess=\"0\" TailBadRecord=\"0\" TailTrainingMode=\"0\" TailPosOffline=\"0\" TailVoidTicket=\"0\" TailReturnTicket=\"0\" TailTV=\"15\" Unique=\"1266\" TailStoreNumber=\"8166\" TailDate=\"2020-09-20\" TailTime=\"07:08:23\" TailCashierNo=\"217\" TailPcNo=\"1\" TailPosNo=\"1\" TailTicketNumber=\"1536\" TailSequenceNumber=\"49040\" />\n",
    "<PluSale Opcode=\"1\" PluNo=\"00000000004727\" Subtract=\"0\" Cancel=\"0\" Negative=\"0\" opt_was_cancelled=\"0\" opt_supplier_promotion=\"0\" opt_staff_discountable=\"1\" opt_accept_price_override=\"0\" PriceOverride=\"0\" ManualPrice=\"0\" WeightFromScale=\"1\" QtyIsWeight=\"1\" ChainedPrevItem=\"0\" NonMerchandise=\"0\" StoreCoupon=\"0\" VendorCoupon=\"0\" ItemDiscountable=\"1\" ScannedItem=\"0\" Non-RXItem=\"0\" opt_WIC_CVV=\"1\" opt_manual_tare_weight=\"0\" opt_freq_shop_disc=\"0\" FSPayment=\"1\" DepartmentNo=\"4000\" MultipleSellUnits=\"1\" ReturnType=\"0\" TaxPointer=\"0\" Qty=\"1060\" Price=\"129\" Amount=\"137\" nt_amount=\"137\" opt_rss_item_sale=\"0\" BottleDeposit=\"0\" BottleRefund=\"0\" opt_Rx=\"0\" opt_qty_case=\"0\" TailDoNotProcess=\"0\" TailBadRecord=\"0\" TailTrainingMode=\"0\" TailPosOffline=\"0\" TailVoidTicket=\"0\" TailReturnTicket=\"0\" TailTV=\"15\" Unique=\"1266\" TailStoreNumber=\"8166\" TailDate=\"2020-09-20\" TailTime=\"07:08:28\" TailCashierNo=\"217\" TailPcNo=\"1\" TailPosNo=\"1\" TailTicketNumber=\"1536\" TailSequenceNumber=\"49041\" />\n",
    "<PluSale Opcode=\"1\" PluNo=\"00000000004727\" Subtract=\"0\" Cancel=\"0\" Negative=\"0\" opt_was_cancelled=\"0\" opt_supplier_promotion=\"0\" opt_staff_discountable=\"1\" opt_accept_price_override=\"0\" PriceOverride=\"0\" ManualPrice=\"0\" WeightFromScale=\"1\" QtyIsWeight=\"1\" ChainedPrevItem=\"0\" NonMerchandise=\"0\" StoreCoupon=\"0\" VendorCoupon=\"0\" ItemDiscountable=\"1\" ScannedItem=\"0\" Non-RXItem=\"0\" opt_WIC_CVV=\"1\" opt_manual_tare_weight=\"0\" opt_freq_shop_disc=\"0\" FSPayment=\"1\" DepartmentNo=\"4000\" MultipleSellUnits=\"1\" ReturnType=\"0\" TaxPointer=\"0\" Qty=\"380\" Price=\"129\" Amount=\"49\" nt_amount=\"49\" opt_rss_item_sale=\"0\" BottleDeposit=\"0\" BottleRefund=\"0\" opt_Rx=\"0\" opt_qty_case=\"0\" TailDoNotProcess=\"0\" TailBadRecord=\"0\" TailTrainingMode=\"0\" TailPosOffline=\"0\" TailVoidTicket=\"0\" TailReturnTicket=\"0\" TailTV=\"15\" Unique=\"1266\" TailStoreNumber=\"8166\" TailDate=\"2020-09-20\" TailTime=\"07:08:32\" TailCashierNo=\"217\" TailPcNo=\"1\" TailPosNo=\"1\" TailTicketNumber=\"1536\" TailSequenceNumber=\"49043\" />\n",
    "<PluSale Opcode=\"1\" PluNo=\"00004126876433\" Subtract=\"0\" Cancel=\"0\" Negative=\"0\" opt_was_cancelled=\"0\" opt_supplier_promotion=\"0\" opt_staff_discountable=\"1\" opt_accept_price_override=\"0\" PriceOverride=\"0\" ManualPrice=\"0\" WeightFromScale=\"0\" QtyIsWeight=\"0\" ChainedPrevItem=\"0\" NonMerchandise=\"0\" StoreCoupon=\"0\" VendorCoupon=\"0\" ItemDiscountable=\"1\" ScannedItem=\"1\" Non-RXItem=\"0\" opt_WIC_CVV=\"0\" opt_manual_tare_weight=\"0\" opt_freq_shop_disc=\"0\" FSPayment=\"1\" DepartmentNo=\"7000\" MultipleSellUnits=\"1\" ReturnType=\"0\" TaxPointer=\"0\" Qty=\"1\" Price=\"249\" Amount=\"249\" nt_amount=\"249\" opt_rss_item_sale=\"0\" BottleDeposit=\"0\" BottleRefund=\"0\" opt_Rx=\"0\" opt_qty_case=\"0\" TailDoNotProcess=\"0\" TailBadRecord=\"0\" TailTrainingMode=\"0\" TailPosOffline=\"0\" TailVoidTicket=\"0\" TailReturnTicket=\"0\" TailTV=\"15\" Unique=\"1266\" TailStoreNumber=\"8166\" TailDate=\"2020-09-20\" TailTime=\"07:08:40\" TailCashierNo=\"217\" TailPcNo=\"1\" TailPosNo=\"1\" TailTicketNumber=\"1536\" TailSequenceNumber=\"49045\" />\n",
    "<PluSale Opcode=\"1\" PluNo=\"00002550000376\" Subtract=\"0\" Cancel=\"0\" Negative=\"0\" opt_was_cancelled=\"0\" opt_supplier_promotion=\"0\" opt_staff_discountable=\"1\" opt_accept_price_override=\"0\" PriceOverride=\"0\" ManualPrice=\"0\" WeightFromScale=\"0\" QtyIsWeight=\"0\" ChainedPrevItem=\"0\" NonMerchandise=\"0\" StoreCoupon=\"0\" VendorCoupon=\"0\" ItemDiscountable=\"1\" ScannedItem=\"1\" Non-RXItem=\"0\" opt_WIC_CVV=\"0\" opt_manual_tare_weight=\"0\" opt_freq_shop_disc=\"0\" FSPayment=\"1\" DepartmentNo=\"1000\" MultipleSellUnits=\"1\" ReturnType=\"0\" TaxPointer=\"0\" Qty=\"1\" Price=\"439\" Amount=\"439\" nt_amount=\"439\" opt_rss_item_sale=\"0\" BottleDeposit=\"0\" BottleRefund=\"0\" opt_Rx=\"0\" opt_qty_case=\"0\" TailDoNotProcess=\"0\" TailBadRecord=\"0\" TailTrainingMode=\"0\" TailPosOffline=\"0\" TailVoidTicket=\"0\" TailReturnTicket=\"0\" TailTV=\"15\" Unique=\"1266\" TailStoreNumber=\"8166\" TailDate=\"2020-09-20\" TailTime=\"07:08:41\" TailCashierNo=\"217\" TailPcNo=\"1\" TailPosNo=\"1\" TailTicketNumber=\"1536\" TailSequenceNumber=\"49046\" />\n",
    "<PluSale Opcode=\"1\" PluNo=\"00003400000245\" Subtract=\"0\" Cancel=\"0\" Negative=\"0\" opt_was_cancelled=\"0\" opt_supplier_promotion=\"0\" opt_staff_discountable=\"1\" opt_accept_price_override=\"0\" PriceOverride=\"0\" ManualPrice=\"0\" WeightFromScale=\"0\" QtyIsWeight=\"0\" ChainedPrevItem=\"0\" NonMerchandise=\"0\" StoreCoupon=\"0\" VendorCoupon=\"0\" ItemDiscountable=\"1\" ScannedItem=\"1\" Non-RXItem=\"0\" opt_WIC_CVV=\"0\" opt_manual_tare_weight=\"0\" opt_freq_shop_disc=\"0\" FSPayment=\"1\" DepartmentNo=\"8004\" MultipleSellUnits=\"1\" ReturnType=\"0\" TaxPointer=\"1\" Qty=\"1\" Price=\"99\" Amount=\"99\" nt_amount=\"99\" opt_rss_item_sale=\"0\" BottleDeposit=\"0\" BottleRefund=\"0\" opt_Rx=\"0\" opt_qty_case=\"0\" TailDoNotProcess=\"0\" TailBadRecord=\"0\" TailTrainingMode=\"0\" TailPosOffline=\"0\" TailVoidTicket=\"0\" TailReturnTicket=\"0\" TailTV=\"15\" Unique=\"1266\" TailStoreNumber=\"8166\" TailDate=\"2020-09-20\" TailTime=\"07:08:46\" TailCashierNo=\"217\" TailPcNo=\"1\" TailPosNo=\"1\" TailTicketNumber=\"1536\" TailSequenceNumber=\"49047\" />\n",
    "<PluSale Opcode=\"1\" PluNo=\"00003400000245\" Subtract=\"0\" Cancel=\"0\" Negative=\"0\" opt_was_cancelled=\"0\" opt_supplier_promotion=\"0\" opt_staff_discountable=\"1\" opt_accept_price_override=\"0\" PriceOverride=\"0\" ManualPrice=\"0\" WeightFromScale=\"0\" QtyIsWeight=\"0\" ChainedPrevItem=\"0\" NonMerchandise=\"0\" StoreCoupon=\"0\" VendorCoupon=\"0\" ItemDiscountable=\"1\" ScannedItem=\"1\" Non-RXItem=\"0\" opt_WIC_CVV=\"0\" opt_manual_tare_weight=\"0\" opt_freq_shop_disc=\"0\" FSPayment=\"1\" DepartmentNo=\"8004\" MultipleSellUnits=\"1\" ReturnType=\"0\" TaxPointer=\"1\" Qty=\"1\" Price=\"99\" Amount=\"99\" nt_amount=\"99\" opt_rss_item_sale=\"0\" BottleDeposit=\"0\" BottleRefund=\"0\" opt_Rx=\"0\" opt_qty_case=\"0\" TailDoNotProcess=\"0\" TailBadRecord=\"0\" TailTrainingMode=\"0\" TailPosOffline=\"0\" TailVoidTicket=\"0\" TailReturnTicket=\"0\" TailTV=\"15\" Unique=\"1266\" TailStoreNumber=\"8166\" TailDate=\"2020-09-20\" TailTime=\"07:08:47\" TailCashierNo=\"217\" TailPcNo=\"1\" TailPosNo=\"1\" TailTicketNumber=\"1536\" TailSequenceNumber=\"49048\" />\n",
    "<Media Opcode=\"4\" MediaNo=\"1\" Change=\"0\" Subtract=\"0\" Cancel=\"0\" opt_was_cancelled=\"0\" Return=\"0\" opt_MCR_used=\"0\" CouponSale=\"0\" CashBack=\"0\" Type=\"1\" Amount=\"2025\" AccountNumber=\"00000000000000000000\" exp_date=\"0000\" auth_no=\"00000000\" count=\"1\" TailDoNotProcess=\"0\" TailBadRecord=\"0\" TailTrainingMode=\"0\" TailPosOffline=\"0\" TailVoidTicket=\"0\" TailReturnTicket=\"0\" TailTV=\"15\" Unique=\"1266\" TailStoreNumber=\"8166\" TailDate=\"2020-09-20\" TailTime=\"07:09:12\" TailCashierNo=\"217\" TailPcNo=\"1\" TailPosNo=\"1\" TailTicketNumber=\"1536\" TailSequenceNumber=\"49050\" />\n",
    "<Media Opcode=\"4\" MediaNo=\"1\" Change=\"1\" Subtract=\"0\" Cancel=\"0\" opt_was_cancelled=\"0\" Return=\"0\" opt_MCR_used=\"0\" CouponSale=\"0\" CashBack=\"0\" Type=\"1\" Amount=\"-4\" AccountNumber=\"00000000000000000000\" exp_date=\"0000\" auth_no=\"00000000\" count=\"1\" TailDoNotProcess=\"0\" TailBadRecord=\"0\" TailTrainingMode=\"0\" TailPosOffline=\"0\" TailVoidTicket=\"0\" TailReturnTicket=\"0\" TailTV=\"15\" Unique=\"1266\" TailStoreNumber=\"8166\" TailDate=\"2020-09-20\" TailTime=\"07:09:13\" TailCashierNo=\"217\" TailPcNo=\"1\" TailPosNo=\"1\" TailTicketNumber=\"1536\" TailSequenceNumber=\"49055\" />\n",
    "<Tax Opcode=\"6\" taxnumber=\"1\" taxable_amt=\"198\" tax_amt=\"16\" exempt=\"0\" TaxIncl=\"0\" TaxExemptNo=\"00000000000000000000\" FdStmpFrgvTxbl=\"0\" FdStmpFrgvTx=\"0\" NoTaxAmunt=\"0\" TaxRefundAmount=\"0\" TailDoNotProcess=\"0\" TailBadRecord=\"0\" TailTrainingMode=\"0\" TailPosOffline=\"0\" TailVoidTicket=\"0\" TailReturnTicket=\"0\" TailTV=\"15\" Unique=\"1266\" TailStoreNumber=\"8166\" TailDate=\"2020-09-20\" TailTime=\"07:09:13\" TailCashierNo=\"217\" TailPcNo=\"1\" TailPosNo=\"1\" TailTicketNumber=\"1536\" TailSequenceNumber=\"49056\" />\n",
    "<TicketEnd Opcode=\"5\" TicketTotal=\"1\" VoidTicket=\"0\" SaveTicket=\"0\" RecallTicket=\"0\" SendToQbuster=\"0\" TaxValue=\"16\" ItemsNo=\"10\" Amount=\"2021\" Discount=\"0\" NetAmount=\"0\" nt_discount=\"0\" GrandTotal=\"615511829\" FoodStampSales=\"0\" TailDoNotProcess=\"0\" TailBadRecord=\"0\" TailTrainingMode=\"0\" TailPosOffline=\"0\" TailVoidTicket=\"0\" TailReturnTicket=\"0\" TailTV=\"15\" Unique=\"1266\" TailStoreNumber=\"8166\" TailDate=\"2020-09-20\" TailTime=\"07:09:16\" TailCashierNo=\"217\" TailPcNo=\"1\" TailPosNo=\"1\" TailTicketNumber=\"1536\" TailSequenceNumber=\"49096\" />\n",
    "</Ticket>'"
   ],
   "metadata": {
    "collapsed": false,
    "pycharm": {
     "name": "#%%\n"
    }
   }
  },
  {
   "cell_type": "code",
   "execution_count": 4,
   "outputs": [
    {
     "ename": "AttributeError",
     "evalue": "module 'pandas' has no attribute 'read_xml'",
     "output_type": "error",
     "traceback": [
      "\u001B[1;31m---------------------------------------------------------------------------\u001B[0m",
      "\u001B[1;31mAttributeError\u001B[0m                            Traceback (most recent call last)",
      "\u001B[1;32m<ipython-input-4-3beb1649346e>\u001B[0m in \u001B[0;36m<module>\u001B[1;34m\u001B[0m\n\u001B[0;32m      1\u001B[0m \u001B[0mpath\u001B[0m \u001B[1;33m=\u001B[0m \u001B[1;34m'C:/Users/1770858/Desktop/test.xml'\u001B[0m\u001B[1;33m\u001B[0m\u001B[1;33m\u001B[0m\u001B[0m\n\u001B[1;32m----> 2\u001B[1;33m \u001B[0mpd\u001B[0m\u001B[1;33m.\u001B[0m\u001B[0mread_xml\u001B[0m\u001B[1;33m(\u001B[0m\u001B[0mpath\u001B[0m\u001B[1;33m)\u001B[0m\u001B[1;33m\u001B[0m\u001B[1;33m\u001B[0m\u001B[0m\n\u001B[0m\u001B[0;32m      3\u001B[0m \u001B[1;33m\u001B[0m\u001B[0m\n",
      "\u001B[1;32m~\\Anaconda3\\lib\\site-packages\\pandas\\__init__.py\u001B[0m in \u001B[0;36m__getattr__\u001B[1;34m(name)\u001B[0m\n\u001B[0;32m    242\u001B[0m         \u001B[1;32mreturn\u001B[0m \u001B[0m_SparseArray\u001B[0m\u001B[1;33m\u001B[0m\u001B[1;33m\u001B[0m\u001B[0m\n\u001B[0;32m    243\u001B[0m \u001B[1;33m\u001B[0m\u001B[0m\n\u001B[1;32m--> 244\u001B[1;33m     \u001B[1;32mraise\u001B[0m \u001B[0mAttributeError\u001B[0m\u001B[1;33m(\u001B[0m\u001B[1;34mf\"module 'pandas' has no attribute '{name}'\"\u001B[0m\u001B[1;33m)\u001B[0m\u001B[1;33m\u001B[0m\u001B[1;33m\u001B[0m\u001B[0m\n\u001B[0m\u001B[0;32m    245\u001B[0m \u001B[1;33m\u001B[0m\u001B[0m\n\u001B[0;32m    246\u001B[0m \u001B[1;33m\u001B[0m\u001B[0m\n",
      "\u001B[1;31mAttributeError\u001B[0m: module 'pandas' has no attribute 'read_xml'"
     ]
    }
   ],
   "source": [
    "path = 'C:/Users/1770858/Desktop/test.xml'\n",
    "pd.read_xml(path)\n"
   ],
   "metadata": {
    "collapsed": false,
    "pycharm": {
     "name": "#%%\n"
    }
   }
  },
  {
   "cell_type": "code",
   "execution_count": null,
   "outputs": [],
   "source": [
    "pd.read_x"
   ],
   "metadata": {
    "collapsed": false,
    "pycharm": {
     "name": "#%%\n"
    }
   }
  }
 ],
 "metadata": {
  "kernelspec": {
   "display_name": "Python 3",
   "language": "python",
   "name": "python3"
  },
  "language_info": {
   "codemirror_mode": {
    "name": "ipython",
    "version": 3
   },
   "file_extension": ".py",
   "mimetype": "text/x-python",
   "name": "python",
   "nbconvert_exporter": "python",
   "pygments_lexer": "ipython3",
   "version": "3.6.0"
  }
 },
 "nbformat": 4,
 "nbformat_minor": 0
}