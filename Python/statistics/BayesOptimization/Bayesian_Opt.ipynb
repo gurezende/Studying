{
  "cells": [
    {
      "cell_type": "code",
      "source": [
        "!pip install scikit-optimize --quiet"
      ],
      "metadata": {
        "id": "l1iRDB9sce3_"
      },
      "execution_count": null,
      "outputs": []
    },
    {
      "cell_type": "code",
      "source": [
        "# Import necessary libraries\n",
        "from sklearn.datasets import load_iris\n",
        "from sklearn.model_selection import train_test_split\n",
        "from sklearn.ensemble import RandomForestClassifier\n",
        "from sklearn.metrics import accuracy_score, f1_score\n",
        "\n",
        "from skopt import BayesSearchCV\n",
        "from skopt.space import Real, Integer, Categorical"
      ],
      "metadata": {
        "id": "rlth3pdkcXuX"
      },
      "execution_count": 8,
      "outputs": []
    },
    {
      "cell_type": "code",
      "source": [
        "# Load a sample dataset (the Iris dataset for simplicity)\n",
        "iris = load_iris()\n",
        "X, y = iris.data, iris.target\n",
        "X_train, X_test, y_train, y_test = train_test_split(X, y, test_size=0.2, random_state=42)"
      ],
      "metadata": {
        "id": "HwLdhPLlcaHP"
      },
      "execution_count": 4,
      "outputs": []
    },
    {
      "cell_type": "code",
      "source": [
        "# 1. Define the model you want to tune\n",
        "model = RandomForestClassifier(random_state=42)"
      ],
      "metadata": {
        "id": "l7howx3-ccBd"
      },
      "execution_count": 5,
      "outputs": []
    },
    {
      "cell_type": "code",
      "source": [
        "# 2. Define the hyperparameter search space\n",
        "#    Each key in this dictionary is a hyperparameter name (must match the model's parameters)\n",
        "#    Each value is a search space defined using skopt.space functions:\n",
        "#    - Real: for continuous hyperparameters (e.g., learning rate)\n",
        "#    - Integer: for integer hyperparameters (e.g., number of trees)\n",
        "#    - Categorical: for discrete hyperparameters (e.g., the criterion to split nodes)\n",
        "param_space = {\n",
        "    'n_estimators': Integer(50, 200),        # Number of trees in the forest (between 50 and 200)\n",
        "    'max_depth': Integer(5, 15),             # Maximum depth of the tree (between 5 and 15)\n",
        "    'min_samples_split': Integer(2, 10),     # Minimum number of samples required to split an internal node (between 2 and 10)\n",
        "    'min_samples_leaf': Integer(1, 5),      # Minimum number of samples required to be at a leaf node (between 1 and 5)\n",
        "    'criterion': Categorical(['gini', 'entropy']) # The function to measure the quality of a split (either 'gini' or 'entropy')\n",
        "}"
      ],
      "metadata": {
        "id": "jEqABXpRcoJv"
      },
      "execution_count": 6,
      "outputs": []
    },
    {
      "cell_type": "code",
      "source": [
        "# 3. Initialize the BayesSearchCV object\n",
        "#    - estimator: The model to tune (our RandomForestClassifier)\n",
        "#    - search_spaces: The hyperparameter search space we defined\n",
        "#    - n_iter: The number of iterations to perform (how many different hyperparameter combinations to try)\n",
        "#    - scoring: The metric to optimize (here, we want to maximize accuracy)\n",
        "#    - cv: The number of cross-validation folds to use for evaluating each hyperparameter combination\n",
        "#    - n_jobs: Number of jobs to run in parallel (-1 means use all available cores)\n",
        "#    - random_state: For reproducibility\n",
        "bayes_search = BayesSearchCV(\n",
        "    estimator=model,\n",
        "    search_spaces=param_space,\n",
        "    n_iter=50,\n",
        "    scoring='accuracy',\n",
        "    cv=3,\n",
        "    n_jobs=-1,\n",
        "    random_state=42\n",
        ")"
      ],
      "metadata": {
        "id": "Ab4Z4Xl2cqfM"
      },
      "execution_count": 15,
      "outputs": []
    },
    {
      "cell_type": "code",
      "source": [
        "# 4. Run the Bayesian Optimization\n",
        "print(\"Starting Bayesian Optimization...\")\n",
        "bayes_search.fit(X_train, y_train)\n",
        "print(\"Bayesian Optimization finished!\")"
      ],
      "metadata": {
        "id": "WK8k9RyFcqcT",
        "outputId": "7af99c78-afa1-49ec-bdcc-888a9b3b8965",
        "colab": {
          "base_uri": "https://localhost:8080/"
        }
      },
      "execution_count": 16,
      "outputs": [
        {
          "output_type": "stream",
          "name": "stdout",
          "text": [
            "Starting Bayesian Optimization...\n",
            "Bayesian Optimization finished!\n"
          ]
        }
      ]
    },
    {
      "cell_type": "code",
      "source": [
        "# 5. Get the best hyperparameters and the best score\n",
        "print(\"\\nBest hyperparameters found:\")\n",
        "print(bayes_search.best_params_)\n",
        "print(\"\\nBest accuracy score (on cross-validation):\")\n",
        "print(bayes_search.best_score_)"
      ],
      "metadata": {
        "id": "6BgXlPhkcsWz",
        "outputId": "3390a013-3764-4a13-9037-dbab3f50957d",
        "colab": {
          "base_uri": "https://localhost:8080/"
        }
      },
      "execution_count": 17,
      "outputs": [
        {
          "output_type": "stream",
          "name": "stdout",
          "text": [
            "\n",
            "Best hyperparameters found:\n",
            "OrderedDict([('criterion', 'gini'), ('max_depth', 12), ('min_samples_leaf', 5), ('min_samples_split', 5), ('n_estimators', 151)])\n",
            "\n",
            "Best accuracy score (on cross-validation):\n",
            "0.9583333333333334\n"
          ]
        }
      ]
    },
    {
      "cell_type": "code",
      "source": [
        "# 6. Evaluate the model with the best hyperparameters on the test set\n",
        "best_model = bayes_search.best_estimator_\n",
        "y_pred = best_model.predict(X_test)\n",
        "test_accuracy = accuracy_score(y_test, y_pred)\n",
        "print(\"\\nTest accuracy with the best hyperparameters:\")\n",
        "print(test_accuracy)"
      ],
      "metadata": {
        "id": "sGSZdW6zcU_G",
        "outputId": "27685645-4b06-4f1a-b588-e4ba76ce199d",
        "colab": {
          "base_uri": "https://localhost:8080/"
        }
      },
      "execution_count": 18,
      "outputs": [
        {
          "output_type": "stream",
          "name": "stdout",
          "text": [
            "\n",
            "Test accuracy with the best hyperparameters:\n",
            "1.0\n"
          ]
        }
      ]
    }
  ],
  "metadata": {
    "colab": {
      "name": "Welcome To Colab",
      "toc_visible": true,
      "provenance": []
    },
    "kernelspec": {
      "display_name": "Python 3",
      "name": "python3"
    }
  },
  "nbformat": 4,
  "nbformat_minor": 0
}