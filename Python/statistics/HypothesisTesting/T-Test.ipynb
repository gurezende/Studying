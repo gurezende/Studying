{
  "cells": [
    {
      "cell_type": "code",
      "source": [
        "import pandas as pd\n",
        "import numpy as np\n",
        "import scipy.stats as scs\n",
        "import seaborn as sns"
      ],
      "metadata": {
        "id": "C5y64oAp7BzL"
      },
      "execution_count": 29,
      "outputs": []
    },
    {
      "cell_type": "code",
      "source": [
        "# Load Data\n",
        "df = sns.load_dataset('planets')"
      ],
      "metadata": {
        "id": "XXagm8BW7F5O"
      },
      "execution_count": 19,
      "outputs": []
    },
    {
      "cell_type": "code",
      "source": [
        "# Calculating the mass of each group of planets\n",
        "df.dropna().groupby('number').mass.mean()"
      ],
      "metadata": {
        "id": "YlztVEPz7OGv",
        "outputId": "973379b9-d4e2-4f01-c7b3-d94f90d26178",
        "colab": {
          "base_uri": "https://localhost:8080/"
        }
      },
      "execution_count": 61,
      "outputs": [
        {
          "output_type": "execute_result",
          "data": {
            "text/plain": [
              "number\n",
              "1    3.239294\n",
              "2    1.978001\n",
              "3    0.916872\n",
              "4    0.986492\n",
              "5    1.166750\n",
              "6    0.038556\n",
              "Name: mass, dtype: float64"
            ]
          },
          "metadata": {},
          "execution_count": 61
        }
      ]
    },
    {
      "cell_type": "markdown",
      "source": [
        "### Difference between Groups 1 vs 6."
      ],
      "metadata": {
        "id": "ogxkgEfH-JC2"
      }
    },
    {
      "cell_type": "code",
      "source": [
        "# Groups 1 vs 6\n",
        "group1 = df.query('number == 1')['mass'].dropna()\n",
        "group6 = df.query('number == 6')['mass'].dropna()"
      ],
      "metadata": {
        "id": "PYP06Dcw7ylW"
      },
      "execution_count": 62,
      "outputs": []
    },
    {
      "cell_type": "code",
      "source": [
        "# Check if equal variance\n",
        "# Before conducting the two-sample T-Test we need to find if the given data groups have the same variance.\n",
        "# If the ratio of the larger data groups to the small data group is less than 4:1 then we can consider that the given data groups have equal variance.\n",
        "\n",
        "# The variances are higher than 4:1\n",
        "print(np.var(group1))\n",
        "print(np.var(group6))"
      ],
      "metadata": {
        "id": "6JRwzwgh_PXD",
        "outputId": "0db16218-8227-4ba2-ea7e-af4bc7b9a1f2",
        "colab": {
          "base_uri": "https://localhost:8080/"
        }
      },
      "execution_count": 63,
      "outputs": [
        {
          "output_type": "stream",
          "name": "stdout",
          "text": [
            "16.75160592262317\n",
            "0.002121005802469136\n"
          ]
        }
      ]
    },
    {
      "cell_type": "code",
      "source": [
        "# Comparing distributions\n",
        "scs.ttest_ind(group1, group6, equal_var=False)"
      ],
      "metadata": {
        "id": "XIUx8_xu-awa",
        "outputId": "07c7b1e6-31e5-4e7f-db7f-4ca033799edc",
        "colab": {
          "base_uri": "https://localhost:8080/"
        }
      },
      "execution_count": 64,
      "outputs": [
        {
          "output_type": "execute_result",
          "data": {
            "text/plain": [
              "TtestResult(statistic=14.050000704229284, pvalue=5.630068695479265e-35, df=307.3676437218068)"
            ]
          },
          "metadata": {},
          "execution_count": 64
        }
      ]
    },
    {
      "cell_type": "markdown",
      "source": [
        "### Groups 1 and 6 are really different, but what about 3 and 4?"
      ],
      "metadata": {
        "id": "6CtmWq0yAGec"
      }
    },
    {
      "cell_type": "code",
      "source": [
        "# Groups 1 vs 6\n",
        "group3 = df.query('number == 2')['mass'].dropna()\n",
        "group4 = df.query('number == 5')['mass'].dropna()\n",
        "\n",
        "# The variances are lower than 4:1\n",
        "print(np.var(group3))\n",
        "print(np.var(group4))"
      ],
      "metadata": {
        "id": "h2hZEcK8_yyX",
        "outputId": "35106911-ced8-4607-d7d2-2897e5ae809a",
        "colab": {
          "base_uri": "https://localhost:8080/"
        }
      },
      "execution_count": 67,
      "outputs": [
        {
          "output_type": "stream",
          "name": "stdout",
          "text": [
            "13.874315545451015\n",
            "1.9281216874999998\n"
          ]
        }
      ]
    },
    {
      "cell_type": "code",
      "source": [
        "# Comparing distributions\n",
        "scs.ttest_ind(group3, group4, equal_var=False)"
      ],
      "metadata": {
        "id": "0ODfsAajAOKp",
        "outputId": "4e85741c-2a68-4c5c-a078-6000744bd19c",
        "colab": {
          "base_uri": "https://localhost:8080/"
        }
      },
      "execution_count": 69,
      "outputs": [
        {
          "output_type": "execute_result",
          "data": {
            "text/plain": [
              "TtestResult(statistic=1.2188823753797207, pvalue=0.2869673487454712, df=4.19449511170575)"
            ]
          },
          "metadata": {},
          "execution_count": 69
        }
      ]
    },
    {
      "cell_type": "code",
      "source": [
        "to_plot = df.dropna().groupby('number').mass.mean().reset_index()"
      ],
      "metadata": {
        "id": "-g57R7Z4Ak0Q"
      },
      "execution_count": 85,
      "outputs": []
    },
    {
      "cell_type": "code",
      "source": [
        "sns.boxplot(x='number', y='mass', data=df.dropna())"
      ],
      "metadata": {
        "id": "erFpDfv-GvaD",
        "outputId": "a97be996-67e3-45fa-8e47-3e78b3ac07a4",
        "colab": {
          "base_uri": "https://localhost:8080/",
          "height": 466
        }
      },
      "execution_count": 89,
      "outputs": [
        {
          "output_type": "execute_result",
          "data": {
            "text/plain": [
              "<Axes: xlabel='number', ylabel='mass'>"
            ]
          },
          "metadata": {},
          "execution_count": 89
        },
        {
          "output_type": "display_data",
          "data": {
            "text/plain": [
              "<Figure size 640x480 with 1 Axes>"
            ],
            "image/png": "[encoded data removed]"
          },
          "metadata": {}
        }
      ]
    },
    {
      "cell_type": "code",
      "source": [],
      "metadata": {
        "id": "i07cM7ISHtAI"
      },
      "execution_count": null,
      "outputs": []
    }
  ],
  "metadata": {
    "colab": {
      "name": "Welcome To Colaboratory",
      "provenance": []
    },
    "kernelspec": {
      "display_name": "Python 3",
      "name": "python3"
    }
  },
  "nbformat": 4,
  "nbformat_minor": 0
}