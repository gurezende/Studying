{
  "cells": [
    {
      "cell_type": "code",
      "source": [
        "import pandas as pd\n",
        "from scipy.stats import chi2_contingency\n",
        "import numpy as np"
      ],
      "metadata": {
        "id": "51V2VPGKIIg9"
      },
      "execution_count": 1,
      "outputs": []
    },
    {
      "cell_type": "code",
      "source": [
        "def check_srm(group_counts, expected_ratio=0.5):\n",
        "    \"\"\"\n",
        "    Checks for Sample Ratio Mismatch (SRM) using a chi-squared test.\n",
        "    Args:\n",
        "        group_counts (dict): A dictionary with group names as keys and user counts as values.\n",
        "                             Example: {'control': 10000, 'treatment': 9500}\n",
        "        expected_ratio (float): The expected ratio for the treatment group.\n",
        "                                Assumes a two-group test. Defaults to 0.5 (50/50 split).\n",
        "    Returns:\n",
        "        tuple: A tuple containing the chi-squared statistic, p-value, and\n",
        "               a boolean indicating if SRM is detected.\n",
        "    \"\"\"\n",
        "    # Convert dictionary to a list of counts\n",
        "    observed_counts = list(group_counts.values())\n",
        "    total_users = sum(observed_counts)\n",
        "    # Calculate expected counts based on the total and the expected ratio\n",
        "    expected_counts = [total_users * (1 - expected_ratio), total_users * expected_ratio]\n",
        "    # Perform the chi-squared test\n",
        "    # The chi2_contingency function works on a contingency table.\n",
        "    # For a two-group test, the table is a 1x2 array of observed counts.\n",
        "    # The expected counts are provided as a separate argument.\n",
        "    chi2, p_value, _, _ = chi2_contingency([observed_counts, expected_counts])\n",
        "    # Check for SRM based on p-value\n",
        "    srm_detected = p_value < 0.05\n",
        "    return chi2, p_value, srm_detected"
      ],
      "metadata": {
        "id": "OJeYUItVIIeV"
      },
      "execution_count": 8,
      "outputs": []
    },
    {
      "cell_type": "code",
      "source": [
        "# Example Usage:\n",
        "# Scenario 1: No SRM (counts are close to 50/50)\n",
        "counts_good = {'control': 100000, 'treatment': 100150}\n",
        "chi2, p_value, srm_detected = check_srm(counts_good)\n",
        "print(f\"Scenario 1 - No SRM: p-value = {p_value:.4f}, SRM Detected: {srm_detected}\")"
      ],
      "metadata": {
        "id": "Tgt84JU2IIb5",
        "outputId": "41aa172a-6e7d-4f66-edf7-55de6892ba4c",
        "colab": {
          "base_uri": "https://localhost:8080/"
        }
      },
      "execution_count": 9,
      "outputs": [
        {
          "output_type": "stream",
          "name": "stdout",
          "text": [
            "Scenario 1 - No SRM: p-value = 0.8150, SRM Detected: False\n"
          ]
        }
      ]
    },
    {
      "cell_type": "code",
      "source": [
        "# Scenario 2: SRM detected (counts are mismatched)\n",
        "counts_bad = {'control': 100000, 'treatment': 95000}\n",
        "chi2, p_value, srm_detected = check_srm(counts_bad)\n",
        "print(f\"Scenario 2 - SRM detected: p-value = {p_value:.4f}, SRM Detected: {srm_detected}\")"
      ],
      "metadata": {
        "id": "ZeRXsEwMIIZZ",
        "outputId": "3f69e2e8-ecdd-47e1-95b0-db78a44dfca6",
        "colab": {
          "base_uri": "https://localhost:8080/"
        }
      },
      "execution_count": 4,
      "outputs": [
        {
          "output_type": "stream",
          "name": "stdout",
          "text": [
            "Scenario 2 - SRM detected: p-value = 0.0000, SRM Detected: True\n"
          ]
        }
      ]
    },
    {
      "cell_type": "code",
      "source": [
        "chi2_contingency([[100000, 100150], [100075.0, 100075.0]])"
      ],
      "metadata": {
        "id": "R85QseyGIIW8",
        "outputId": "a39dea31-f18b-4925-c64b-33d7859776d6",
        "colab": {
          "base_uri": "https://localhost:8080/"
        }
      },
      "execution_count": 7,
      "outputs": [
        {
          "output_type": "execute_result",
          "data": {
            "text/plain": [
              "Chi2ContingencyResult(statistic=np.float64(0.054718968462741074), pvalue=np.float64(0.8150464189596773), dof=1, expected_freq=array([[100037.5, 100112.5],\n",
              "       [100037.5, 100112.5]]))"
            ]
          },
          "metadata": {},
          "execution_count": 7
        }
      ]
    },
    {
      "cell_type": "code",
      "source": [],
      "metadata": {
        "id": "UG6ydQzNIIUn"
      },
      "execution_count": null,
      "outputs": []
    }
  ],
  "metadata": {
    "colab": {
      "name": "Welcome To Colab",
      "provenance": []
    },
    "kernelspec": {
      "display_name": "Python 3",
      "name": "python3"
    }
  },
  "nbformat": 4,
  "nbformat_minor": 0
}